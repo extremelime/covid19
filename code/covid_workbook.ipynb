{
 "cells": [
  {
   "cell_type": "markdown",
   "metadata": {},
   "source": [
    "# COVID-19 Analysis and Visualization"
   ]
  },
  {
   "cell_type": "code",
   "execution_count": 1,
   "metadata": {},
   "outputs": [],
   "source": [
    "import json\n",
    "import urllib\n",
    "import calendar\n",
    "import numpy as np\n",
    "import pandas as pd\n",
    "import folium\n",
    "from folium.plugins import Search\n",
    "import branca\n",
    "import geopandas as gpd\n",
    "import matplotlib.pyplot as plt\n",
    "import matplotlib.style\n",
    "import plotly.express as px\n",
    "import plotly.graph_objs as go\n",
    "from scipy.stats import pearsonr\n",
    "from IPython.core.display import HTML"
   ]
  },
  {
   "cell_type": "code",
   "execution_count": 32,
   "metadata": {},
   "outputs": [],
   "source": [
    "# options (date range, export figure)\n",
    "end=9\n",
    "export=True"
   ]
  },
  {
   "cell_type": "code",
   "execution_count": 33,
   "metadata": {},
   "outputs": [],
   "source": [
    "period = list(range(3,end+1))\n",
    "period_m=list()\n",
    "for i in period:\n",
    "    period_m.append(list(calendar.month_name)[i])"
   ]
  },
  {
   "cell_type": "markdown",
   "metadata": {},
   "source": [
    "## Geospatial data"
   ]
  },
  {
   "cell_type": "code",
   "execution_count": 34,
   "metadata": {},
   "outputs": [
    {
     "data": {
      "text/html": [
       "<div>\n",
       "<style scoped>\n",
       "    .dataframe tbody tr th:only-of-type {\n",
       "        vertical-align: middle;\n",
       "    }\n",
       "\n",
       "    .dataframe tbody tr th {\n",
       "        vertical-align: top;\n",
       "    }\n",
       "\n",
       "    .dataframe thead th {\n",
       "        text-align: right;\n",
       "    }\n",
       "</style>\n",
       "<table border=\"1\" class=\"dataframe\">\n",
       "  <thead>\n",
       "    <tr style=\"text-align: right;\">\n",
       "      <th></th>\n",
       "      <th>ALAND</th>\n",
       "      <th>AWATER</th>\n",
       "      <th>INTPTLAT</th>\n",
       "      <th>INTPTLON</th>\n",
       "      <th>geometry</th>\n",
       "    </tr>\n",
       "    <tr>\n",
       "      <th>NAME</th>\n",
       "      <th></th>\n",
       "      <th></th>\n",
       "      <th></th>\n",
       "      <th></th>\n",
       "      <th></th>\n",
       "    </tr>\n",
       "  </thead>\n",
       "  <tbody>\n",
       "    <tr>\n",
       "      <th>Alameda</th>\n",
       "      <td>1914242789</td>\n",
       "      <td>212979931</td>\n",
       "      <td>37.6471385</td>\n",
       "      <td>-121.9124880</td>\n",
       "      <td>POLYGON ((-122.28179 37.70823, -122.10959 37.4...</td>\n",
       "    </tr>\n",
       "    <tr>\n",
       "      <th>Alpine</th>\n",
       "      <td>1912292633</td>\n",
       "      <td>12557304</td>\n",
       "      <td>38.6217831</td>\n",
       "      <td>-119.7983522</td>\n",
       "      <td>POLYGON ((-120.07240 38.70277, -120.07250 38.5...</td>\n",
       "    </tr>\n",
       "    <tr>\n",
       "      <th>Amador</th>\n",
       "      <td>1539933576</td>\n",
       "      <td>29470568</td>\n",
       "      <td>38.4435501</td>\n",
       "      <td>-120.6538563</td>\n",
       "      <td>POLYGON ((-121.02752 38.50830, -121.02710 38.3...</td>\n",
       "    </tr>\n",
       "    <tr>\n",
       "      <th>Butte</th>\n",
       "      <td>4238423343</td>\n",
       "      <td>105325812</td>\n",
       "      <td>39.6659588</td>\n",
       "      <td>-121.6019188</td>\n",
       "      <td>POLYGON ((-122.04648 39.79765, -122.02457 39.7...</td>\n",
       "    </tr>\n",
       "    <tr>\n",
       "      <th>Calaveras</th>\n",
       "      <td>2641820834</td>\n",
       "      <td>43806026</td>\n",
       "      <td>38.1838996</td>\n",
       "      <td>-120.5614415</td>\n",
       "      <td>POLYGON ((-120.07250 38.50987, -120.12520 38.4...</td>\n",
       "    </tr>\n",
       "  </tbody>\n",
       "</table>\n",
       "</div>"
      ],
      "text/plain": [
       "                ALAND     AWATER    INTPTLAT      INTPTLON  \\\n",
       "NAME                                                         \n",
       "Alameda    1914242789  212979931  37.6471385  -121.9124880   \n",
       "Alpine     1912292633   12557304  38.6217831  -119.7983522   \n",
       "Amador     1539933576   29470568  38.4435501  -120.6538563   \n",
       "Butte      4238423343  105325812  39.6659588  -121.6019188   \n",
       "Calaveras  2641820834   43806026  38.1838996  -120.5614415   \n",
       "\n",
       "                                                    geometry  \n",
       "NAME                                                          \n",
       "Alameda    POLYGON ((-122.28179 37.70823, -122.10959 37.4...  \n",
       "Alpine     POLYGON ((-120.07240 38.70277, -120.07250 38.5...  \n",
       "Amador     POLYGON ((-121.02752 38.50830, -121.02710 38.3...  \n",
       "Butte      POLYGON ((-122.04648 39.79765, -122.02457 39.7...  \n",
       "Calaveras  POLYGON ((-120.07250 38.50987, -120.12520 38.4...  "
      ]
     },
     "execution_count": 34,
     "metadata": {},
     "output_type": "execute_result"
    }
   ],
   "source": [
    "counties_gdf=gpd.read_file('../datasets/ca_counties_simplified.geojson').set_index('NAME').sort_index()\n",
    "counties_gdf.head()"
   ]
  },
  {
   "cell_type": "markdown",
   "metadata": {},
   "source": [
    "## Employment data"
   ]
  },
  {
   "cell_type": "code",
   "execution_count": 35,
   "metadata": {},
   "outputs": [
    {
     "data": {
      "text/html": [
       "<div>\n",
       "<style scoped>\n",
       "    .dataframe tbody tr th:only-of-type {\n",
       "        vertical-align: middle;\n",
       "    }\n",
       "\n",
       "    .dataframe tbody tr th {\n",
       "        vertical-align: top;\n",
       "    }\n",
       "\n",
       "    .dataframe thead th {\n",
       "        text-align: right;\n",
       "    }\n",
       "</style>\n",
       "<table border=\"1\" class=\"dataframe\">\n",
       "  <thead>\n",
       "    <tr style=\"text-align: right;\">\n",
       "      <th></th>\n",
       "      <th>Industry Title</th>\n",
       "      <th>Construction</th>\n",
       "      <th>Durable Goods</th>\n",
       "      <th>Educational and Health Services</th>\n",
       "      <th>Financial Activities</th>\n",
       "      <th>Government</th>\n",
       "      <th>Information</th>\n",
       "      <th>Leisure and Hospitality</th>\n",
       "      <th>Manufacturing</th>\n",
       "      <th>Natural Resources, Mining and Constructi</th>\n",
       "      <th>Nondurable Goods</th>\n",
       "      <th>Other Services</th>\n",
       "      <th>Professional and Business Services</th>\n",
       "      <th>Retail Trade</th>\n",
       "      <th>Total Farm</th>\n",
       "      <th>Trade, Transportation and Utilities</th>\n",
       "      <th>Transportation, Warehousing and Utilitie</th>\n",
       "      <th>Wholesale Trade</th>\n",
       "    </tr>\n",
       "    <tr>\n",
       "      <th>Area Name</th>\n",
       "      <th>Month</th>\n",
       "      <th></th>\n",
       "      <th></th>\n",
       "      <th></th>\n",
       "      <th></th>\n",
       "      <th></th>\n",
       "      <th></th>\n",
       "      <th></th>\n",
       "      <th></th>\n",
       "      <th></th>\n",
       "      <th></th>\n",
       "      <th></th>\n",
       "      <th></th>\n",
       "      <th></th>\n",
       "      <th></th>\n",
       "      <th></th>\n",
       "      <th></th>\n",
       "      <th></th>\n",
       "    </tr>\n",
       "  </thead>\n",
       "  <tbody>\n",
       "    <tr>\n",
       "      <th rowspan=\"5\" valign=\"top\">Ventura</th>\n",
       "      <th>July</th>\n",
       "      <td>16800.0</td>\n",
       "      <td>18100.0</td>\n",
       "      <td>47200.0</td>\n",
       "      <td>15600.0</td>\n",
       "      <td>40400.0</td>\n",
       "      <td>3600.0</td>\n",
       "      <td>28900.0</td>\n",
       "      <td>25400.0</td>\n",
       "      <td>17700.0</td>\n",
       "      <td>7300.0</td>\n",
       "      <td>8200.0</td>\n",
       "      <td>41800.0</td>\n",
       "      <td>34100.0</td>\n",
       "      <td>24600.0</td>\n",
       "      <td>52800.0</td>\n",
       "      <td>6000.0</td>\n",
       "      <td>12700.0</td>\n",
       "    </tr>\n",
       "    <tr>\n",
       "      <th>June</th>\n",
       "      <td>17200.0</td>\n",
       "      <td>18200.0</td>\n",
       "      <td>47000.0</td>\n",
       "      <td>15600.0</td>\n",
       "      <td>43700.0</td>\n",
       "      <td>3600.0</td>\n",
       "      <td>28600.0</td>\n",
       "      <td>25500.0</td>\n",
       "      <td>18100.0</td>\n",
       "      <td>7300.0</td>\n",
       "      <td>7900.0</td>\n",
       "      <td>41600.0</td>\n",
       "      <td>33000.0</td>\n",
       "      <td>29100.0</td>\n",
       "      <td>51500.0</td>\n",
       "      <td>6000.0</td>\n",
       "      <td>12500.0</td>\n",
       "    </tr>\n",
       "    <tr>\n",
       "      <th>March</th>\n",
       "      <td>16800.0</td>\n",
       "      <td>19300.0</td>\n",
       "      <td>51500.0</td>\n",
       "      <td>15900.0</td>\n",
       "      <td>48000.0</td>\n",
       "      <td>4900.0</td>\n",
       "      <td>37400.0</td>\n",
       "      <td>26500.0</td>\n",
       "      <td>17800.0</td>\n",
       "      <td>7200.0</td>\n",
       "      <td>9900.0</td>\n",
       "      <td>44100.0</td>\n",
       "      <td>36900.0</td>\n",
       "      <td>25700.0</td>\n",
       "      <td>56100.0</td>\n",
       "      <td>6100.0</td>\n",
       "      <td>13100.0</td>\n",
       "    </tr>\n",
       "    <tr>\n",
       "      <th>May</th>\n",
       "      <td>16900.0</td>\n",
       "      <td>18000.0</td>\n",
       "      <td>46000.0</td>\n",
       "      <td>15500.0</td>\n",
       "      <td>44800.0</td>\n",
       "      <td>3600.0</td>\n",
       "      <td>23300.0</td>\n",
       "      <td>24500.0</td>\n",
       "      <td>17800.0</td>\n",
       "      <td>6500.0</td>\n",
       "      <td>7000.0</td>\n",
       "      <td>41100.0</td>\n",
       "      <td>29500.0</td>\n",
       "      <td>30000.0</td>\n",
       "      <td>47800.0</td>\n",
       "      <td>5900.0</td>\n",
       "      <td>12400.0</td>\n",
       "    </tr>\n",
       "    <tr>\n",
       "      <th>September</th>\n",
       "      <td>16500.0</td>\n",
       "      <td>18000.0</td>\n",
       "      <td>48300.0</td>\n",
       "      <td>15600.0</td>\n",
       "      <td>43800.0</td>\n",
       "      <td>3500.0</td>\n",
       "      <td>29100.0</td>\n",
       "      <td>25500.0</td>\n",
       "      <td>17400.0</td>\n",
       "      <td>7500.0</td>\n",
       "      <td>7800.0</td>\n",
       "      <td>41800.0</td>\n",
       "      <td>34600.0</td>\n",
       "      <td>24100.0</td>\n",
       "      <td>53400.0</td>\n",
       "      <td>6100.0</td>\n",
       "      <td>12700.0</td>\n",
       "    </tr>\n",
       "  </tbody>\n",
       "</table>\n",
       "</div>"
      ],
      "text/plain": [
       "Industry Title       Construction  Durable Goods  \\\n",
       "Area Name Month                                    \n",
       "Ventura   July            16800.0        18100.0   \n",
       "          June            17200.0        18200.0   \n",
       "          March           16800.0        19300.0   \n",
       "          May             16900.0        18000.0   \n",
       "          September       16500.0        18000.0   \n",
       "\n",
       "Industry Title       Educational and Health Services  Financial Activities  \\\n",
       "Area Name Month                                                              \n",
       "Ventura   July                               47200.0               15600.0   \n",
       "          June                               47000.0               15600.0   \n",
       "          March                              51500.0               15900.0   \n",
       "          May                                46000.0               15500.0   \n",
       "          September                          48300.0               15600.0   \n",
       "\n",
       "Industry Title       Government  Information  Leisure and Hospitality  \\\n",
       "Area Name Month                                                         \n",
       "Ventura   July          40400.0       3600.0                  28900.0   \n",
       "          June          43700.0       3600.0                  28600.0   \n",
       "          March         48000.0       4900.0                  37400.0   \n",
       "          May           44800.0       3600.0                  23300.0   \n",
       "          September     43800.0       3500.0                  29100.0   \n",
       "\n",
       "Industry Title       Manufacturing  Natural Resources, Mining and Constructi  \\\n",
       "Area Name Month                                                                \n",
       "Ventura   July             25400.0                                   17700.0   \n",
       "          June             25500.0                                   18100.0   \n",
       "          March            26500.0                                   17800.0   \n",
       "          May              24500.0                                   17800.0   \n",
       "          September        25500.0                                   17400.0   \n",
       "\n",
       "Industry Title       Nondurable Goods  Other Services  \\\n",
       "Area Name Month                                         \n",
       "Ventura   July                 7300.0          8200.0   \n",
       "          June                 7300.0          7900.0   \n",
       "          March                7200.0          9900.0   \n",
       "          May                  6500.0          7000.0   \n",
       "          September            7500.0          7800.0   \n",
       "\n",
       "Industry Title       Professional and Business Services  Retail Trade  \\\n",
       "Area Name Month                                                         \n",
       "Ventura   July                                  41800.0       34100.0   \n",
       "          June                                  41600.0       33000.0   \n",
       "          March                                 44100.0       36900.0   \n",
       "          May                                   41100.0       29500.0   \n",
       "          September                             41800.0       34600.0   \n",
       "\n",
       "Industry Title       Total Farm  Trade, Transportation and Utilities  \\\n",
       "Area Name Month                                                        \n",
       "Ventura   July          24600.0                              52800.0   \n",
       "          June          29100.0                              51500.0   \n",
       "          March         25700.0                              56100.0   \n",
       "          May           30000.0                              47800.0   \n",
       "          September     24100.0                              53400.0   \n",
       "\n",
       "Industry Title       Transportation, Warehousing and Utilitie  Wholesale Trade  \n",
       "Area Name Month                                                                 \n",
       "Ventura   July                                         6000.0          12700.0  \n",
       "          June                                         6000.0          12500.0  \n",
       "          March                                        6100.0          13100.0  \n",
       "          May                                          5900.0          12400.0  \n",
       "          September                                    6100.0          12700.0  "
      ]
     },
     "execution_count": 35,
     "metadata": {},
     "output_type": "execute_result"
    }
   ],
   "source": [
    "# Employment data https://data.edd.ca.gov/Industry-Information-/Industry-Employment-in-California-Counties/nt76-4rha\n",
    "# get latest employment data on file for each county\n",
    "# updated May 9, 2021\n",
    "\n",
    "# read in csv\n",
    "employment_df=pd.read_csv('../datasets/industry_employment_in_california_counties.csv')\n",
    "employment_df['Area Name']=employment_df['Area Name'].str.replace(' County','')\n",
    "# filter main industry data\n",
    "employment_df = employment_df.loc[(employment_df['Series Code']%100000 == 0) & (employment_df['Series Code']>=11000000) ,:].reset_index(drop=True)\n",
    "# limit to 2020\n",
    "employment_df=employment_df[(employment_df.Year == 2020)& (employment_df['Month'].isin(period_m))].reset_index(drop=True)\n",
    "\n",
    "# make date column to sort dataframe chronologically\n",
    "employment_df['Date'] = employment_df['Month'].astype(str) + employment_df['Year'].astype(str)\n",
    "employment_df['Date'] = pd.to_datetime(employment_df['Date'], format='%B%Y')\n",
    "employment_df.sort_values(['Date','Area Name'],ascending=[False,True], inplace=True)\n",
    "\n",
    "# make a list of counties with July data to later use as index\n",
    "recent_df=employment_df.drop_duplicates(subset=['Area Name'], keep='first').set_index('Area Name',drop=True).sort_index()\n",
    "county_index=list(recent_df.index)\n",
    "\n",
    "# employment by industry,county for each month\n",
    "monthlyemployment_df=employment_df.pivot_table(\n",
    "        values='Current Employment', \n",
    "        index=['Area Name','Month'], \n",
    "        columns='Industry Title', \n",
    "        aggfunc=sum).fillna(0)\n",
    "\n",
    "monthlyemployment_df.tail()"
   ]
  },
  {
   "cell_type": "markdown",
   "metadata": {},
   "source": [
    "## Unemployment data"
   ]
  },
  {
   "cell_type": "code",
   "execution_count": 36,
   "metadata": {},
   "outputs": [
    {
     "data": {
      "text/html": [
       "<div>\n",
       "<style scoped>\n",
       "    .dataframe tbody tr th:only-of-type {\n",
       "        vertical-align: middle;\n",
       "    }\n",
       "\n",
       "    .dataframe tbody tr th {\n",
       "        vertical-align: top;\n",
       "    }\n",
       "\n",
       "    .dataframe thead th {\n",
       "        text-align: right;\n",
       "    }\n",
       "</style>\n",
       "<table border=\"1\" class=\"dataframe\">\n",
       "  <thead>\n",
       "    <tr style=\"text-align: right;\">\n",
       "      <th></th>\n",
       "      <th>geometry</th>\n",
       "      <th>period</th>\n",
       "      <th>laborforce</th>\n",
       "      <th>emplab</th>\n",
       "      <th>unemp</th>\n",
       "      <th>unemprate</th>\n",
       "    </tr>\n",
       "  </thead>\n",
       "  <tbody>\n",
       "    <tr>\n",
       "      <th>Alameda</th>\n",
       "      <td>POLYGON ((-122.28179 37.70823, -122.10959 37.4...</td>\n",
       "      <td>3</td>\n",
       "      <td>836800</td>\n",
       "      <td>807500</td>\n",
       "      <td>29300</td>\n",
       "      <td>3.5</td>\n",
       "    </tr>\n",
       "    <tr>\n",
       "      <th>Alameda</th>\n",
       "      <td>POLYGON ((-122.28179 37.70823, -122.10959 37.4...</td>\n",
       "      <td>4</td>\n",
       "      <td>799000</td>\n",
       "      <td>682000</td>\n",
       "      <td>117000</td>\n",
       "      <td>14.6</td>\n",
       "    </tr>\n",
       "    <tr>\n",
       "      <th>Alameda</th>\n",
       "      <td>POLYGON ((-122.28179 37.70823, -122.10959 37.4...</td>\n",
       "      <td>5</td>\n",
       "      <td>800600</td>\n",
       "      <td>689800</td>\n",
       "      <td>110900</td>\n",
       "      <td>13.8</td>\n",
       "    </tr>\n",
       "    <tr>\n",
       "      <th>Alameda</th>\n",
       "      <td>POLYGON ((-122.28179 37.70823, -122.10959 37.4...</td>\n",
       "      <td>6</td>\n",
       "      <td>813700</td>\n",
       "      <td>708200</td>\n",
       "      <td>105400</td>\n",
       "      <td>13.0</td>\n",
       "    </tr>\n",
       "    <tr>\n",
       "      <th>Alameda</th>\n",
       "      <td>POLYGON ((-122.28179 37.70823, -122.10959 37.4...</td>\n",
       "      <td>7</td>\n",
       "      <td>811500</td>\n",
       "      <td>714400</td>\n",
       "      <td>97100</td>\n",
       "      <td>12.0</td>\n",
       "    </tr>\n",
       "  </tbody>\n",
       "</table>\n",
       "</div>"
      ],
      "text/plain": [
       "                                                  geometry  period  \\\n",
       "Alameda  POLYGON ((-122.28179 37.70823, -122.10959 37.4...       3   \n",
       "Alameda  POLYGON ((-122.28179 37.70823, -122.10959 37.4...       4   \n",
       "Alameda  POLYGON ((-122.28179 37.70823, -122.10959 37.4...       5   \n",
       "Alameda  POLYGON ((-122.28179 37.70823, -122.10959 37.4...       6   \n",
       "Alameda  POLYGON ((-122.28179 37.70823, -122.10959 37.4...       7   \n",
       "\n",
       "         laborforce  emplab   unemp  unemprate  \n",
       "Alameda      836800  807500   29300        3.5  \n",
       "Alameda      799000  682000  117000       14.6  \n",
       "Alameda      800600  689800  110900       13.8  \n",
       "Alameda      813700  708200  105400       13.0  \n",
       "Alameda      811500  714400   97100       12.0  "
      ]
     },
     "execution_count": 36,
     "metadata": {},
     "output_type": "execute_result"
    }
   ],
   "source": [
    "# https://www.labormarketinfo.edd.ca.gov/data/monthly-data-release.html\n",
    "unemployment_df = pd.read_csv('../datasets/unemployment_edd.csv')\n",
    "# limit to 2020\n",
    "unemployment_df = unemployment_df[(unemployment_df['areatype']==4) & (unemployment_df['periodyear']==2020) & (unemployment_df['Adjusted']=='Not adj')& (unemployment_df['period'].isin(period))]\n",
    "unemployment_df['areaname'] = unemployment_df['areaname'].str.replace(' County','')\n",
    "unemployment_df = unemployment_df.set_index('areaname',drop=True).sort_index().drop(columns=['stfips','areatype','area', 'periodyear', 'periodtype', 'Adjusted', 'Preliminary', 'benchmark'])\n",
    "unemployment_gdf = counties_gdf.join(unemployment_df).drop(columns=['ALAND','AWATER','INTPTLAT','INTPTLON'])\n",
    "unemployment_gdf.head()"
   ]
  },
  {
   "cell_type": "markdown",
   "metadata": {},
   "source": [
    "## COVID-19 data"
   ]
  },
  {
   "cell_type": "code",
   "execution_count": 37,
   "metadata": {},
   "outputs": [],
   "source": [
    "# Cases https://data.chhs.ca.gov/dataset/covid-19-time-series-metrics-by-county-and-state\n",
    "\n",
    "coviddata = pd.read_csv('../datasets/covid19cases_test.csv')\n",
    "coviddata[\"month\"] = pd.to_datetime(coviddata[\"date\"]).dt.month\n",
    "coviddata[\"year\"] = pd.to_datetime(coviddata[\"date\"]).dt.year\n",
    "coviddata.rename(columns={'area':'county'},inplace=True)\n",
    "\n",
    "# limit to 2020\n",
    "coviddata=coviddata[(coviddata.year==2020) & (coviddata['month'].isin(period))]"
   ]
  },
  {
   "cell_type": "markdown",
   "metadata": {},
   "source": [
    "## Population data"
   ]
  },
  {
   "cell_type": "code",
   "execution_count": 38,
   "metadata": {},
   "outputs": [
    {
     "data": {
      "text/html": [
       "<div>\n",
       "<style scoped>\n",
       "    .dataframe tbody tr th:only-of-type {\n",
       "        vertical-align: middle;\n",
       "    }\n",
       "\n",
       "    .dataframe tbody tr th {\n",
       "        vertical-align: top;\n",
       "    }\n",
       "\n",
       "    .dataframe thead th {\n",
       "        text-align: right;\n",
       "    }\n",
       "</style>\n",
       "<table border=\"1\" class=\"dataframe\">\n",
       "  <thead>\n",
       "    <tr style=\"text-align: right;\">\n",
       "      <th></th>\n",
       "      <th>County</th>\n",
       "      <th>Population</th>\n",
       "    </tr>\n",
       "  </thead>\n",
       "  <tbody>\n",
       "    <tr>\n",
       "      <th>0</th>\n",
       "      <td>Alameda</td>\n",
       "      <td>1,671,329</td>\n",
       "    </tr>\n",
       "    <tr>\n",
       "      <th>1</th>\n",
       "      <td>Alpine</td>\n",
       "      <td>1,129</td>\n",
       "    </tr>\n",
       "    <tr>\n",
       "      <th>2</th>\n",
       "      <td>Amador</td>\n",
       "      <td>39,752</td>\n",
       "    </tr>\n",
       "    <tr>\n",
       "      <th>3</th>\n",
       "      <td>Butte</td>\n",
       "      <td>219,186</td>\n",
       "    </tr>\n",
       "    <tr>\n",
       "      <th>4</th>\n",
       "      <td>Calaveras</td>\n",
       "      <td>45,905</td>\n",
       "    </tr>\n",
       "  </tbody>\n",
       "</table>\n",
       "</div>"
      ],
      "text/plain": [
       "      County Population\n",
       "0    Alameda  1,671,329\n",
       "1     Alpine      1,129\n",
       "2     Amador     39,752\n",
       "3      Butte    219,186\n",
       "4  Calaveras     45,905"
      ]
     },
     "execution_count": 38,
     "metadata": {},
     "output_type": "execute_result"
    }
   ],
   "source": [
    "# California Census 2019 population estimates https://www.census.gov/content/census/en/search-results.html?stateGeo=none&q=california%20population%20ca&searchtype=web&page=1\n",
    "pop_df = pd.read_csv('../datasets/population_estimates_by_county_2019.csv',header=1)\n",
    "pop_df['County']=pop_df['County'].str.replace(' County','')\n",
    "pop_df.head()"
   ]
  },
  {
   "cell_type": "code",
   "execution_count": 39,
   "metadata": {},
   "outputs": [
    {
     "data": {
      "text/html": [
       "<div>\n",
       "<style scoped>\n",
       "    .dataframe tbody tr th:only-of-type {\n",
       "        vertical-align: middle;\n",
       "    }\n",
       "\n",
       "    .dataframe tbody tr th {\n",
       "        vertical-align: top;\n",
       "    }\n",
       "\n",
       "    .dataframe thead th {\n",
       "        text-align: right;\n",
       "    }\n",
       "</style>\n",
       "<table border=\"1\" class=\"dataframe\">\n",
       "  <thead>\n",
       "    <tr style=\"text-align: right;\">\n",
       "      <th></th>\n",
       "      <th>March</th>\n",
       "      <th>April</th>\n",
       "      <th>May</th>\n",
       "      <th>June</th>\n",
       "      <th>July</th>\n",
       "      <th>August</th>\n",
       "      <th>September</th>\n",
       "      <th>pop</th>\n",
       "    </tr>\n",
       "    <tr>\n",
       "      <th>County</th>\n",
       "      <th></th>\n",
       "      <th></th>\n",
       "      <th></th>\n",
       "      <th></th>\n",
       "      <th></th>\n",
       "      <th></th>\n",
       "      <th></th>\n",
       "      <th></th>\n",
       "    </tr>\n",
       "  </thead>\n",
       "  <tbody>\n",
       "    <tr>\n",
       "      <th>Alameda</th>\n",
       "      <td>679.0</td>\n",
       "      <td>1265.0</td>\n",
       "      <td>1867.0</td>\n",
       "      <td>3474.0</td>\n",
       "      <td>6563.0</td>\n",
       "      <td>5404.0</td>\n",
       "      <td>2601.0</td>\n",
       "      <td>1671329</td>\n",
       "    </tr>\n",
       "    <tr>\n",
       "      <th>Alpine</th>\n",
       "      <td>1.0</td>\n",
       "      <td>0.0</td>\n",
       "      <td>1.0</td>\n",
       "      <td>0.0</td>\n",
       "      <td>1.0</td>\n",
       "      <td>0.0</td>\n",
       "      <td>1.0</td>\n",
       "      <td>1129</td>\n",
       "    </tr>\n",
       "    <tr>\n",
       "      <th>Amador</th>\n",
       "      <td>5.0</td>\n",
       "      <td>3.0</td>\n",
       "      <td>2.0</td>\n",
       "      <td>24.0</td>\n",
       "      <td>155.0</td>\n",
       "      <td>86.0</td>\n",
       "      <td>25.0</td>\n",
       "      <td>39752</td>\n",
       "    </tr>\n",
       "    <tr>\n",
       "      <th>Butte</th>\n",
       "      <td>14.0</td>\n",
       "      <td>6.0</td>\n",
       "      <td>45.0</td>\n",
       "      <td>219.0</td>\n",
       "      <td>857.0</td>\n",
       "      <td>1235.0</td>\n",
       "      <td>552.0</td>\n",
       "      <td>219186</td>\n",
       "    </tr>\n",
       "    <tr>\n",
       "      <th>Calaveras</th>\n",
       "      <td>6.0</td>\n",
       "      <td>7.0</td>\n",
       "      <td>5.0</td>\n",
       "      <td>40.0</td>\n",
       "      <td>89.0</td>\n",
       "      <td>125.0</td>\n",
       "      <td>43.0</td>\n",
       "      <td>45905</td>\n",
       "    </tr>\n",
       "  </tbody>\n",
       "</table>\n",
       "</div>"
      ],
      "text/plain": [
       "           March   April     May    June    July  August  September      pop\n",
       "County                                                                      \n",
       "Alameda    679.0  1265.0  1867.0  3474.0  6563.0  5404.0     2601.0  1671329\n",
       "Alpine       1.0     0.0     1.0     0.0     1.0     0.0        1.0     1129\n",
       "Amador       5.0     3.0     2.0    24.0   155.0    86.0       25.0    39752\n",
       "Butte       14.0     6.0    45.0   219.0   857.0  1235.0      552.0   219186\n",
       "Calaveras    6.0     7.0     5.0    40.0    89.0   125.0       43.0    45905"
      ]
     },
     "execution_count": 39,
     "metadata": {},
     "output_type": "execute_result"
    }
   ],
   "source": [
    "# create dataframe of new cases by month\n",
    "monthlycases_df=coviddata.groupby([\"county\",\"month\"]).sum()[\"cases\"].unstack()\n",
    "for column in monthlycases_df.columns:\n",
    "    monthlycases_df.rename(columns={column:calendar.month_name[column]},inplace=True)\n",
    "\n",
    "monthlycases_df=monthlycases_df.merge(pop_df, left_on='county', right_on='County').set_index('County',drop=True)\n",
    "monthlycases_df.rename(columns={'Population':'pop'},inplace=True)\n",
    "monthlycases_df['pop']=monthlycases_df['pop'].str.replace(',','').astype(int)\n",
    "\n",
    "monthlycases_df.head()"
   ]
  },
  {
   "cell_type": "code",
   "execution_count": 40,
   "metadata": {},
   "outputs": [
    {
     "data": {
      "application/vnd.plotly.v1+json": {
       "config": {
        "plotlyServerURL": "https://plot.ly"
       },
       "data": [
        {
         "hovertemplate": "<b>%{hovertext}</b><br><br>County=Alameda<br>2020=%{x}<br>COVID-19 Cases per 100k=%{y}<extra></extra>",
         "hovertext": [
          "Alameda",
          "Alameda",
          "Alameda",
          "Alameda",
          "Alameda",
          "Alameda",
          "Alameda"
         ],
         "legendgroup": "Alameda",
         "line": {
          "color": "#636efa",
          "dash": "solid"
         },
         "mode": "lines",
         "name": "Alameda",
         "orientation": "v",
         "showlegend": true,
         "type": "scatter",
         "x": [
          "March",
          "April",
          "May",
          "June",
          "July",
          "August",
          "September"
         ],
         "xaxis": "x",
         "y": [
          40.626351843353405,
          75.68826963452437,
          111.70750941316761,
          207.85853652991122,
          392.68151273627154,
          323.3355012687508,
          155.62465558845685
         ],
         "yaxis": "y"
        },
        {
         "hovertemplate": "<b>%{hovertext}</b><br><br>County=Alpine<br>2020=%{x}<br>COVID-19 Cases per 100k=%{y}<extra></extra>",
         "hovertext": [
          "Alpine",
          "Alpine",
          "Alpine",
          "Alpine",
          "Alpine",
          "Alpine",
          "Alpine"
         ],
         "legendgroup": "Alpine",
         "line": {
          "color": "#EF553B",
          "dash": "solid"
         },
         "mode": "lines",
         "name": "Alpine",
         "orientation": "v",
         "showlegend": true,
         "type": "scatter",
         "x": [
          "March",
          "April",
          "May",
          "June",
          "July",
          "August",
          "September"
         ],
         "xaxis": "x",
         "y": [
          88.57395925597875,
          0,
          88.57395925597875,
          0,
          88.57395925597875,
          0,
          88.57395925597875
         ],
         "yaxis": "y"
        },
        {
         "hovertemplate": "<b>%{hovertext}</b><br><br>County=Amador<br>2020=%{x}<br>COVID-19 Cases per 100k=%{y}<extra></extra>",
         "hovertext": [
          "Amador",
          "Amador",
          "Amador",
          "Amador",
          "Amador",
          "Amador",
          "Amador"
         ],
         "legendgroup": "Amador",
         "line": {
          "color": "#00cc96",
          "dash": "solid"
         },
         "mode": "lines",
         "name": "Amador",
         "orientation": "v",
         "showlegend": true,
         "type": "scatter",
         "x": [
          "March",
          "April",
          "May",
          "June",
          "July",
          "August",
          "September"
         ],
         "xaxis": "x",
         "y": [
          12.57798349768565,
          7.546790098611391,
          5.03119339907426,
          60.374320788891126,
          389.9174884282552,
          216.34131616019317,
          62.88991748842825
         ],
         "yaxis": "y"
        },
        {
         "hovertemplate": "<b>%{hovertext}</b><br><br>County=Butte<br>2020=%{x}<br>COVID-19 Cases per 100k=%{y}<extra></extra>",
         "hovertext": [
          "Butte",
          "Butte",
          "Butte",
          "Butte",
          "Butte",
          "Butte",
          "Butte"
         ],
         "legendgroup": "Butte",
         "line": {
          "color": "#ab63fa",
          "dash": "solid"
         },
         "mode": "lines",
         "name": "Butte",
         "orientation": "v",
         "showlegend": true,
         "type": "scatter",
         "x": [
          "March",
          "April",
          "May",
          "June",
          "July",
          "August",
          "September"
         ],
         "xaxis": "x",
         "y": [
          6.3872692598979866,
          2.7374011113848513,
          20.530508335386386,
          99.91514056554708,
          390.9921254094696,
          563.4483954267153,
          251.84090224740632
         ],
         "yaxis": "y"
        },
        {
         "hovertemplate": "<b>%{hovertext}</b><br><br>County=Calaveras<br>2020=%{x}<br>COVID-19 Cases per 100k=%{y}<extra></extra>",
         "hovertext": [
          "Calaveras",
          "Calaveras",
          "Calaveras",
          "Calaveras",
          "Calaveras",
          "Calaveras",
          "Calaveras"
         ],
         "legendgroup": "Calaveras",
         "line": {
          "color": "#FFA15A",
          "dash": "solid"
         },
         "mode": "lines",
         "name": "Calaveras",
         "orientation": "v",
         "showlegend": true,
         "type": "scatter",
         "x": [
          "March",
          "April",
          "May",
          "June",
          "July",
          "August",
          "September"
         ],
         "xaxis": "x",
         "y": [
          13.070471626184512,
          15.24888356388193,
          10.892059688487093,
          87.13647750789674,
          193.87866245507024,
          272.3014922121773,
          93.671713320989
         ],
         "yaxis": "y"
        },
        {
         "hovertemplate": "<b>%{hovertext}</b><br><br>County=Colusa<br>2020=%{x}<br>COVID-19 Cases per 100k=%{y}<extra></extra>",
         "hovertext": [
          "Colusa",
          "Colusa",
          "Colusa",
          "Colusa",
          "Colusa",
          "Colusa",
          "Colusa"
         ],
         "legendgroup": "Colusa",
         "line": {
          "color": "#19d3f3",
          "dash": "solid"
         },
         "mode": "lines",
         "name": "Colusa",
         "orientation": "v",
         "showlegend": true,
         "type": "scatter",
         "x": [
          "March",
          "April",
          "May",
          "June",
          "July",
          "August",
          "September"
         ],
         "xaxis": "x",
         "y": [
          13.923051932983709,
          0,
          27.846103865967418,
          399.127488745533,
          1313.4078990114633,
          459.46071378846244,
          278.4610386596742
         ],
         "yaxis": "y"
        },
        {
         "hovertemplate": "<b>%{hovertext}</b><br><br>County=Contra Costa<br>2020=%{x}<br>COVID-19 Cases per 100k=%{y}<extra></extra>",
         "hovertext": [
          "Contra Costa",
          "Contra Costa",
          "Contra Costa",
          "Contra Costa",
          "Contra Costa",
          "Contra Costa",
          "Contra Costa"
         ],
         "legendgroup": "Contra Costa",
         "line": {
          "color": "#FF6692",
          "dash": "solid"
         },
         "mode": "lines",
         "name": "Contra Costa",
         "orientation": "v",
         "showlegend": true,
         "type": "scatter",
         "x": [
          "March",
          "April",
          "May",
          "June",
          "July",
          "August",
          "September"
         ],
         "xaxis": "x",
         "y": [
          40.831329332845556,
          45.07917463498872,
          59.98997855271576,
          209.87823421405324,
          552.913415042227,
          378.40499477254957,
          226.52285254081832
         ],
         "yaxis": "y"
        },
        {
         "hovertemplate": "<b>%{hovertext}</b><br><br>County=Del Norte<br>2020=%{x}<br>COVID-19 Cases per 100k=%{y}<extra></extra>",
         "hovertext": [
          "Del Norte",
          "Del Norte",
          "Del Norte",
          "Del Norte",
          "Del Norte",
          "Del Norte",
          "Del Norte"
         ],
         "legendgroup": "Del Norte",
         "line": {
          "color": "#B6E880",
          "dash": "solid"
         },
         "mode": "lines",
         "name": "Del Norte",
         "orientation": "v",
         "showlegend": true,
         "type": "scatter",
         "x": [
          "March",
          "April",
          "May",
          "June",
          "July",
          "August",
          "September"
         ],
         "xaxis": "x",
         "y": [
          3.5955702574428305,
          10.78671077232849,
          147.41838055515606,
          50.33798360419962,
          107.8671077232849,
          100.67596720839924,
          107.8671077232849
         ],
         "yaxis": "y"
        },
        {
         "hovertemplate": "<b>%{hovertext}</b><br><br>County=El Dorado<br>2020=%{x}<br>COVID-19 Cases per 100k=%{y}<extra></extra>",
         "hovertext": [
          "El Dorado",
          "El Dorado",
          "El Dorado",
          "El Dorado",
          "El Dorado",
          "El Dorado",
          "El Dorado"
         ],
         "legendgroup": "El Dorado",
         "line": {
          "color": "#FF97FF",
          "dash": "solid"
         },
         "mode": "lines",
         "name": "El Dorado",
         "orientation": "v",
         "showlegend": true,
         "type": "scatter",
         "x": [
          "March",
          "April",
          "May",
          "June",
          "July",
          "August",
          "September"
         ],
         "xaxis": "x",
         "y": [
          15.556696379956753,
          14.001026741961077,
          28.002053483922154,
          90.74739554974772,
          262.9081688212691,
          116.67522284967565,
          110.45254429769295
         ],
         "yaxis": "y"
        },
        {
         "hovertemplate": "<b>%{hovertext}</b><br><br>County=Fresno<br>2020=%{x}<br>COVID-19 Cases per 100k=%{y}<extra></extra>",
         "hovertext": [
          "Fresno",
          "Fresno",
          "Fresno",
          "Fresno",
          "Fresno",
          "Fresno",
          "Fresno"
         ],
         "legendgroup": "Fresno",
         "line": {
          "color": "#FECB52",
          "dash": "solid"
         },
         "mode": "lines",
         "name": "Fresno",
         "orientation": "v",
         "showlegend": true,
         "type": "scatter",
         "x": [
          "March",
          "April",
          "May",
          "June",
          "July",
          "August",
          "September"
         ],
         "xaxis": "x",
         "y": [
          23.220875567134854,
          85.77711362514901,
          204.1835610213582,
          664.2972031856639,
          1193.1726622233389,
          615.0529325863952,
          300.77039258293206
         ],
         "yaxis": "y"
        },
        {
         "hovertemplate": "<b>%{hovertext}</b><br><br>County=Glenn<br>2020=%{x}<br>COVID-19 Cases per 100k=%{y}<extra></extra>",
         "hovertext": [
          "Glenn",
          "Glenn",
          "Glenn",
          "Glenn",
          "Glenn",
          "Glenn",
          "Glenn"
         ],
         "legendgroup": "Glenn",
         "line": {
          "color": "#636efa",
          "dash": "solid"
         },
         "mode": "lines",
         "name": "Glenn",
         "orientation": "v",
         "showlegend": true,
         "type": "scatter",
         "x": [
          "March",
          "April",
          "May",
          "June",
          "July",
          "August",
          "September"
         ],
         "xaxis": "x",
         "y": [
          10.565984573662522,
          14.087979431550028,
          45.785933152537595,
          510.6892543936886,
          760.7508893037017,
          348.67749093086326,
          447.29334695171343
         ],
         "yaxis": "y"
        },
        {
         "hovertemplate": "<b>%{hovertext}</b><br><br>County=Humboldt<br>2020=%{x}<br>COVID-19 Cases per 100k=%{y}<extra></extra>",
         "hovertext": [
          "Humboldt",
          "Humboldt",
          "Humboldt",
          "Humboldt",
          "Humboldt",
          "Humboldt",
          "Humboldt"
         ],
         "legendgroup": "Humboldt",
         "line": {
          "color": "#EF553B",
          "dash": "solid"
         },
         "mode": "lines",
         "name": "Humboldt",
         "orientation": "v",
         "showlegend": true,
         "type": "scatter",
         "x": [
          "March",
          "April",
          "May",
          "June",
          "July",
          "August",
          "September"
         ],
         "xaxis": "x",
         "y": [
          36.146889154457874,
          6.639224538573894,
          38.35996400064917,
          35.40919753906077,
          78.93300284748963,
          118.76835007893301,
          66.39224538573895
         ],
         "yaxis": "y"
        },
        {
         "hovertemplate": "<b>%{hovertext}</b><br><br>County=Imperial<br>2020=%{x}<br>COVID-19 Cases per 100k=%{y}<extra></extra>",
         "hovertext": [
          "Imperial",
          "Imperial",
          "Imperial",
          "Imperial",
          "Imperial",
          "Imperial",
          "Imperial"
         ],
         "legendgroup": "Imperial",
         "line": {
          "color": "#00cc96",
          "dash": "solid"
         },
         "mode": "lines",
         "name": "Imperial",
         "orientation": "v",
         "showlegend": true,
         "type": "scatter",
         "x": [
          "March",
          "April",
          "May",
          "June",
          "July",
          "August",
          "September"
         ],
         "xaxis": "x",
         "y": [
          51.32025494578264,
          268.1897193940899,
          1774.1356951687221,
          2411.5001517534424,
          1193.6098005132026,
          529.205639709737,
          373.58938277736394
         ],
         "yaxis": "y"
        },
        {
         "hovertemplate": "<b>%{hovertext}</b><br><br>County=Inyo<br>2020=%{x}<br>COVID-19 Cases per 100k=%{y}<extra></extra>",
         "hovertext": [
          "Inyo",
          "Inyo",
          "Inyo",
          "Inyo",
          "Inyo",
          "Inyo",
          "Inyo"
         ],
         "legendgroup": "Inyo",
         "line": {
          "color": "#ab63fa",
          "dash": "solid"
         },
         "mode": "lines",
         "name": "Inyo",
         "orientation": "v",
         "showlegend": true,
         "type": "scatter",
         "x": [
          "March",
          "April",
          "May",
          "June",
          "July",
          "August",
          "September"
         ],
         "xaxis": "x",
         "y": [
          55.43544542380398,
          49.89190088142358,
          5.543544542380398,
          77.60962359332557,
          210.6546926104551,
          609.7898996618438,
          83.15316813570597
         ],
         "yaxis": "y"
        },
        {
         "hovertemplate": "<b>%{hovertext}</b><br><br>County=Kern<br>2020=%{x}<br>COVID-19 Cases per 100k=%{y}<extra></extra>",
         "hovertext": [
          "Kern",
          "Kern",
          "Kern",
          "Kern",
          "Kern",
          "Kern",
          "Kern"
         ],
         "legendgroup": "Kern",
         "line": {
          "color": "#FFA15A",
          "dash": "solid"
         },
         "mode": "lines",
         "name": "Kern",
         "orientation": "v",
         "showlegend": true,
         "type": "scatter",
         "x": [
          "March",
          "April",
          "May",
          "June",
          "July",
          "August",
          "September"
         ],
         "xaxis": "x",
         "y": [
          30.770871426635356,
          105.9762142274734,
          183.40328059702156,
          739.8339483804746,
          1706.728045483125,
          548.09920440079,
          246.9445746621314
         ],
         "yaxis": "y"
        },
        {
         "hovertemplate": "<b>%{hovertext}</b><br><br>County=Kings<br>2020=%{x}<br>COVID-19 Cases per 100k=%{y}<extra></extra>",
         "hovertext": [
          "Kings",
          "Kings",
          "Kings",
          "Kings",
          "Kings",
          "Kings",
          "Kings"
         ],
         "legendgroup": "Kings",
         "line": {
          "color": "#19d3f3",
          "dash": "solid"
         },
         "mode": "lines",
         "name": "Kings",
         "orientation": "v",
         "showlegend": true,
         "type": "scatter",
         "x": [
          "March",
          "April",
          "May",
          "June",
          "July",
          "August",
          "September"
         ],
         "xaxis": "x",
         "y": [
          11.769321302471557,
          146.4626650974238,
          647.3126716359357,
          1001.7000130770236,
          1309.663920491696,
          1042.2387864522036,
          1049.4311494703804
         ],
         "yaxis": "y"
        },
        {
         "hovertemplate": "<b>%{hovertext}</b><br><br>County=Lake<br>2020=%{x}<br>COVID-19 Cases per 100k=%{y}<extra></extra>",
         "hovertext": [
          "Lake",
          "Lake",
          "Lake",
          "Lake",
          "Lake",
          "Lake",
          "Lake"
         ],
         "legendgroup": "Lake",
         "line": {
          "color": "#FF6692",
          "dash": "solid"
         },
         "mode": "lines",
         "name": "Lake",
         "orientation": "v",
         "showlegend": true,
         "type": "scatter",
         "x": [
          "March",
          "April",
          "May",
          "June",
          "July",
          "August",
          "September"
         ],
         "xaxis": "x",
         "y": [
          1.553132668592551,
          12.425061348740408,
          34.16891870903613,
          97.84735812133071,
          218.99170627154973,
          198.80098157984654,
          358.7736464448793
         ],
         "yaxis": "y"
        },
        {
         "hovertemplate": "<b>%{hovertext}</b><br><br>County=Lassen<br>2020=%{x}<br>COVID-19 Cases per 100k=%{y}<extra></extra>",
         "hovertext": [
          "Lassen",
          "Lassen",
          "Lassen",
          "Lassen",
          "Lassen",
          "Lassen",
          "Lassen"
         ],
         "legendgroup": "Lassen",
         "line": {
          "color": "#B6E880",
          "dash": "solid"
         },
         "mode": "lines",
         "name": "Lassen",
         "orientation": "v",
         "showlegend": true,
         "type": "scatter",
         "x": [
          "March",
          "April",
          "May",
          "June",
          "July",
          "August",
          "September"
         ],
         "xaxis": "x",
         "y": [
          0,
          0,
          19.625159454420565,
          771.9229385405423,
          1269.0936447191968,
          278.02309227095805,
          85.04235763582246
         ],
         "yaxis": "y"
        },
        {
         "hovertemplate": "<b>%{hovertext}</b><br><br>County=Los Angeles<br>2020=%{x}<br>COVID-19 Cases per 100k=%{y}<extra></extra>",
         "hovertext": [
          "Los Angeles",
          "Los Angeles",
          "Los Angeles",
          "Los Angeles",
          "Los Angeles",
          "Los Angeles",
          "Los Angeles"
         ],
         "legendgroup": "Los Angeles",
         "line": {
          "color": "#FF97FF",
          "dash": "solid"
         },
         "mode": "lines",
         "name": "Los Angeles",
         "orientation": "v",
         "showlegend": true,
         "type": "scatter",
         "x": [
          "March",
          "April",
          "May",
          "June",
          "July",
          "August",
          "September"
         ],
         "xaxis": "x",
         "y": [
          68.44234253106377,
          232.27165523786127,
          317.20948885194673,
          568.4569354624869,
          834.7355994910703,
          420.1170482593721,
          278.33152888997
         ],
         "yaxis": "y"
        },
        {
         "hovertemplate": "<b>%{hovertext}</b><br><br>County=Madera<br>2020=%{x}<br>COVID-19 Cases per 100k=%{y}<extra></extra>",
         "hovertext": [
          "Madera",
          "Madera",
          "Madera",
          "Madera",
          "Madera",
          "Madera",
          "Madera"
         ],
         "legendgroup": "Madera",
         "line": {
          "color": "#FECB52",
          "dash": "solid"
         },
         "mode": "lines",
         "name": "Madera",
         "orientation": "v",
         "showlegend": true,
         "type": "scatter",
         "x": [
          "March",
          "April",
          "May",
          "June",
          "July",
          "August",
          "September"
         ],
         "xaxis": "x",
         "y": [
          25.424752267570092,
          20.97542062074533,
          108.05519713717291,
          470.3579169500467,
          1191.7852625423482,
          706.1724942317593,
          436.67012019551635
         ],
         "yaxis": "y"
        },
        {
         "hovertemplate": "<b>%{hovertext}</b><br><br>County=Marin<br>2020=%{x}<br>COVID-19 Cases per 100k=%{y}<extra></extra>",
         "hovertext": [
          "Marin",
          "Marin",
          "Marin",
          "Marin",
          "Marin",
          "Marin",
          "Marin"
         ],
         "legendgroup": "Marin",
         "line": {
          "color": "#636efa",
          "dash": "solid"
         },
         "mode": "lines",
         "name": "Marin",
         "orientation": "v",
         "showlegend": true,
         "type": "scatter",
         "x": [
          "March",
          "April",
          "May",
          "June",
          "July",
          "August",
          "September"
         ],
         "xaxis": "x",
         "y": [
          50.99951318646504,
          44.431394063965755,
          107.02170570190012,
          982.1269887878343,
          911.4231182338714,
          329.5650359701112,
          203.22533284909554
         ],
         "yaxis": "y"
        },
        {
         "hovertemplate": "<b>%{hovertext}</b><br><br>County=Mariposa<br>2020=%{x}<br>COVID-19 Cases per 100k=%{y}<extra></extra>",
         "hovertext": [
          "Mariposa",
          "Mariposa",
          "Mariposa",
          "Mariposa",
          "Mariposa",
          "Mariposa",
          "Mariposa"
         ],
         "legendgroup": "Mariposa",
         "line": {
          "color": "#EF553B",
          "dash": "solid"
         },
         "mode": "lines",
         "name": "Mariposa",
         "orientation": "v",
         "showlegend": true,
         "type": "scatter",
         "x": [
          "March",
          "April",
          "May",
          "June",
          "July",
          "August",
          "September"
         ],
         "xaxis": "x",
         "y": [
          0,
          87.19409405336279,
          5.812939603557519,
          104.63291286403535,
          156.949369296053,
          69.75527524269023,
          23.251758414230075
         ],
         "yaxis": "y"
        },
        {
         "hovertemplate": "<b>%{hovertext}</b><br><br>County=Mendocino<br>2020=%{x}<br>COVID-19 Cases per 100k=%{y}<extra></extra>",
         "hovertext": [
          "Mendocino",
          "Mendocino",
          "Mendocino",
          "Mendocino",
          "Mendocino",
          "Mendocino",
          "Mendocino"
         ],
         "legendgroup": "Mendocino",
         "line": {
          "color": "#00cc96",
          "dash": "solid"
         },
         "mode": "lines",
         "name": "Mendocino",
         "orientation": "v",
         "showlegend": true,
         "type": "scatter",
         "x": [
          "March",
          "April",
          "May",
          "June",
          "July",
          "August",
          "September"
         ],
         "xaxis": "x",
         "y": [
          4.611004161431256,
          8.069257282504697,
          23.05502080715628,
          66.8595603407532,
          261.67448616122374,
          376.94959019700514,
          289.3405111298113
         ],
         "yaxis": "y"
        },
        {
         "hovertemplate": "<b>%{hovertext}</b><br><br>County=Merced<br>2020=%{x}<br>COVID-19 Cases per 100k=%{y}<extra></extra>",
         "hovertext": [
          "Merced",
          "Merced",
          "Merced",
          "Merced",
          "Merced",
          "Merced",
          "Merced"
         ],
         "legendgroup": "Merced",
         "line": {
          "color": "#ab63fa",
          "dash": "solid"
         },
         "mode": "lines",
         "name": "Merced",
         "orientation": "v",
         "showlegend": true,
         "type": "scatter",
         "x": [
          "March",
          "April",
          "May",
          "June",
          "July",
          "August",
          "September"
         ],
         "xaxis": "x",
         "y": [
          11.524056467876692,
          59.06078939786805,
          70.2247191011236,
          523.2641889945261,
          1482.6418899452608,
          813.1662345145492,
          289.902045520023
         ],
         "yaxis": "y"
        },
        {
         "hovertemplate": "<b>%{hovertext}</b><br><br>County=Modoc<br>2020=%{x}<br>COVID-19 Cases per 100k=%{y}<extra></extra>",
         "hovertext": [
          "Modoc",
          "Modoc",
          "Modoc",
          "Modoc",
          "Modoc",
          "Modoc",
          "Modoc"
         ],
         "legendgroup": "Modoc",
         "line": {
          "color": "#FFA15A",
          "dash": "solid"
         },
         "mode": "lines",
         "name": "Modoc",
         "orientation": "v",
         "showlegend": true,
         "type": "scatter",
         "x": [
          "March",
          "April",
          "May",
          "June",
          "July",
          "August",
          "September"
         ],
         "xaxis": "x",
         "y": [
          0,
          0,
          0,
          11.310937676733401,
          56.554688383667006,
          135.73125212080083,
          124.42031444406742
         ],
         "yaxis": "y"
        },
        {
         "hovertemplate": "<b>%{hovertext}</b><br><br>County=Mono<br>2020=%{x}<br>COVID-19 Cases per 100k=%{y}<extra></extra>",
         "hovertext": [
          "Mono",
          "Mono",
          "Mono",
          "Mono",
          "Mono",
          "Mono",
          "Mono"
         ],
         "legendgroup": "Mono",
         "line": {
          "color": "#19d3f3",
          "dash": "solid"
         },
         "mode": "lines",
         "name": "Mono",
         "orientation": "v",
         "showlegend": true,
         "type": "scatter",
         "x": [
          "March",
          "April",
          "May",
          "June",
          "July",
          "August",
          "September"
         ],
         "xaxis": "x",
         "y": [
          173.08224868457492,
          34.61644973691498,
          55.38631957906397,
          69.23289947382996,
          692.3289947382997,
          96.92605926336195,
          41.53973968429798
         ],
         "yaxis": "y"
        },
        {
         "hovertemplate": "<b>%{hovertext}</b><br><br>County=Monterey<br>2020=%{x}<br>COVID-19 Cases per 100k=%{y}<extra></extra>",
         "hovertext": [
          "Monterey",
          "Monterey",
          "Monterey",
          "Monterey",
          "Monterey",
          "Monterey",
          "Monterey"
         ],
         "legendgroup": "Monterey",
         "line": {
          "color": "#FF6692",
          "dash": "solid"
         },
         "mode": "lines",
         "name": "Monterey",
         "orientation": "v",
         "showlegend": true,
         "type": "scatter",
         "x": [
          "March",
          "April",
          "May",
          "June",
          "July",
          "August",
          "September"
         ],
         "xaxis": "x",
         "y": [
          17.278677420915493,
          43.08150236948263,
          103.44168215988074,
          360.7787845487155,
          768.7859540479333,
          636.5464761865268,
          421.83011143595024
         ],
         "yaxis": "y"
        },
        {
         "hovertemplate": "<b>%{hovertext}</b><br><br>County=Napa<br>2020=%{x}<br>COVID-19 Cases per 100k=%{y}<extra></extra>",
         "hovertext": [
          "Napa",
          "Napa",
          "Napa",
          "Napa",
          "Napa",
          "Napa",
          "Napa"
         ],
         "legendgroup": "Napa",
         "line": {
          "color": "#B6E880",
          "dash": "solid"
         },
         "mode": "lines",
         "name": "Napa",
         "orientation": "v",
         "showlegend": true,
         "type": "scatter",
         "x": [
          "March",
          "April",
          "May",
          "June",
          "July",
          "August",
          "September"
         ],
         "xaxis": "x",
         "y": [
          24.68347078638634,
          34.12126844000465,
          46.46300383319782,
          247.56069229875715,
          501.65524451155767,
          242.47880125450112,
          194.56382855151585
         ],
         "yaxis": "y"
        },
        {
         "hovertemplate": "<b>%{hovertext}</b><br><br>County=Nevada<br>2020=%{x}<br>COVID-19 Cases per 100k=%{y}<extra></extra>",
         "hovertext": [
          "Nevada",
          "Nevada",
          "Nevada",
          "Nevada",
          "Nevada",
          "Nevada",
          "Nevada"
         ],
         "legendgroup": "Nevada",
         "line": {
          "color": "#FF97FF",
          "dash": "solid"
         },
         "mode": "lines",
         "name": "Nevada",
         "orientation": "v",
         "showlegend": true,
         "type": "scatter",
         "x": [
          "March",
          "April",
          "May",
          "June",
          "July",
          "August",
          "September"
         ],
         "xaxis": "x",
         "y": [
          35.08596060347852,
          6.014736103453461,
          9.022104155180191,
          108.2652498621623,
          186.4568192070573,
          122.29963410355371,
          93.22840960352865
         ],
         "yaxis": "y"
        },
        {
         "hovertemplate": "<b>%{hovertext}</b><br><br>County=Orange<br>2020=%{x}<br>COVID-19 Cases per 100k=%{y}<extra></extra>",
         "hovertext": [
          "Orange",
          "Orange",
          "Orange",
          "Orange",
          "Orange",
          "Orange",
          "Orange"
         ],
         "legendgroup": "Orange",
         "line": {
          "color": "#FECB52",
          "dash": "solid"
         },
         "mode": "lines",
         "name": "Orange",
         "orientation": "v",
         "showlegend": true,
         "type": "scatter",
         "x": [
          "March",
          "April",
          "May",
          "June",
          "July",
          "August",
          "September"
         ],
         "xaxis": "x",
         "y": [
          39.9283053898174,
          80.48639477631963,
          166.54637792329987,
          466.57547394394675,
          617.3142735504576,
          217.68483845410702,
          165.19234233042752
         ],
         "yaxis": "y"
        },
        {
         "hovertemplate": "<b>%{hovertext}</b><br><br>County=Placer<br>2020=%{x}<br>COVID-19 Cases per 100k=%{y}<extra></extra>",
         "hovertext": [
          "Placer",
          "Placer",
          "Placer",
          "Placer",
          "Placer",
          "Placer",
          "Placer"
         ],
         "legendgroup": "Placer",
         "line": {
          "color": "#636efa",
          "dash": "solid"
         },
         "mode": "lines",
         "name": "Placer",
         "orientation": "v",
         "showlegend": true,
         "type": "scatter",
         "x": [
          "March",
          "April",
          "May",
          "June",
          "July",
          "August",
          "September"
         ],
         "xaxis": "x",
         "y": [
          28.36850944821994,
          13.305584077483688,
          22.845436812283314,
          175.23203181289838,
          337.409528304492,
          213.64249150827584,
          136.82157211752096
         ],
         "yaxis": "y"
        },
        {
         "hovertemplate": "<b>%{hovertext}</b><br><br>County=Plumas<br>2020=%{x}<br>COVID-19 Cases per 100k=%{y}<extra></extra>",
         "hovertext": [
          "Plumas",
          "Plumas",
          "Plumas",
          "Plumas",
          "Plumas",
          "Plumas",
          "Plumas"
         ],
         "legendgroup": "Plumas",
         "line": {
          "color": "#EF553B",
          "dash": "solid"
         },
         "mode": "lines",
         "name": "Plumas",
         "orientation": "v",
         "showlegend": true,
         "type": "scatter",
         "x": [
          "March",
          "April",
          "May",
          "June",
          "July",
          "August",
          "September"
         ],
         "xaxis": "x",
         "y": [
          5.317169139150316,
          15.95150741745095,
          0,
          42.53735311320253,
          116.97772106130697,
          47.85452225235285,
          42.53735311320253
         ],
         "yaxis": "y"
        },
        {
         "hovertemplate": "<b>%{hovertext}</b><br><br>County=Riverside<br>2020=%{x}<br>COVID-19 Cases per 100k=%{y}<extra></extra>",
         "hovertext": [
          "Riverside",
          "Riverside",
          "Riverside",
          "Riverside",
          "Riverside",
          "Riverside",
          "Riverside"
         ],
         "legendgroup": "Riverside",
         "line": {
          "color": "#00cc96",
          "dash": "solid"
         },
         "mode": "lines",
         "name": "Riverside",
         "orientation": "v",
         "showlegend": true,
         "type": "scatter",
         "x": [
          "March",
          "April",
          "May",
          "June",
          "July",
          "August",
          "September"
         ],
         "xaxis": "x",
         "y": [
          46.75079921604374,
          147.7001440167477,
          198.25577018197598,
          609.096126929027,
          832.5689948699599,
          353.0798455078351,
          268.4426843296988
         ],
         "yaxis": "y"
        },
        {
         "hovertemplate": "<b>%{hovertext}</b><br><br>County=Sacramento<br>2020=%{x}<br>COVID-19 Cases per 100k=%{y}<extra></extra>",
         "hovertext": [
          "Sacramento",
          "Sacramento",
          "Sacramento",
          "Sacramento",
          "Sacramento",
          "Sacramento",
          "Sacramento"
         ],
         "legendgroup": "Sacramento",
         "line": {
          "color": "#ab63fa",
          "dash": "solid"
         },
         "mode": "lines",
         "name": "Sacramento",
         "orientation": "v",
         "showlegend": true,
         "type": "scatter",
         "x": [
          "March",
          "April",
          "May",
          "June",
          "July",
          "August",
          "September"
         ],
         "xaxis": "x",
         "y": [
          38.40062678070021,
          34.59922245173827,
          25.25678808395047,
          196.89985812385876,
          548.6908350074547,
          385.61703235317236,
          276.2139043772849
         ],
         "yaxis": "y"
        },
        {
         "hovertemplate": "<b>%{hovertext}</b><br><br>County=San Benito<br>2020=%{x}<br>COVID-19 Cases per 100k=%{y}<extra></extra>",
         "hovertext": [
          "San Benito",
          "San Benito",
          "San Benito",
          "San Benito",
          "San Benito",
          "San Benito",
          "San Benito"
         ],
         "legendgroup": "San Benito",
         "line": {
          "color": "#FFA15A",
          "dash": "solid"
         },
         "mode": "lines",
         "name": "San Benito",
         "orientation": "v",
         "showlegend": true,
         "type": "scatter",
         "x": [
          "March",
          "April",
          "May",
          "June",
          "July",
          "August",
          "September"
         ],
         "xaxis": "x",
         "y": [
          47.76461597248758,
          39.80384664373965,
          70.05477009298178,
          321.61508088141636,
          670.2967774805758,
          711.692777990065,
          304.10138835817094
         ],
         "yaxis": "y"
        },
        {
         "hovertemplate": "<b>%{hovertext}</b><br><br>County=San Bernardino<br>2020=%{x}<br>COVID-19 Cases per 100k=%{y}<extra></extra>",
         "hovertext": [
          "San Bernardino",
          "San Bernardino",
          "San Bernardino",
          "San Bernardino",
          "San Bernardino",
          "San Bernardino",
          "San Bernardino"
         ],
         "legendgroup": "San Bernardino",
         "line": {
          "color": "#19d3f3",
          "dash": "solid"
         },
         "mode": "lines",
         "name": "San Bernardino",
         "orientation": "v",
         "showlegend": true,
         "type": "scatter",
         "x": [
          "March",
          "April",
          "May",
          "June",
          "July",
          "August",
          "September"
         ],
         "xaxis": "x",
         "y": [
          33.25558407126328,
          88.43691874399393,
          173.25012556849848,
          614.7008029503437,
          936.7065963024378,
          428.19431352447265,
          290.4932605838763
         ],
         "yaxis": "y"
        },
        {
         "hovertemplate": "<b>%{hovertext}</b><br><br>County=San Diego<br>2020=%{x}<br>COVID-19 Cases per 100k=%{y}<extra></extra>",
         "hovertext": [
          "San Diego",
          "San Diego",
          "San Diego",
          "San Diego",
          "San Diego",
          "San Diego",
          "San Diego"
         ],
         "legendgroup": "San Diego",
         "line": {
          "color": "#FF6692",
          "dash": "solid"
         },
         "mode": "lines",
         "name": "San Diego",
         "orientation": "v",
         "showlegend": true,
         "type": "scatter",
         "x": [
          "March",
          "April",
          "May",
          "June",
          "July",
          "August",
          "September"
         ],
         "xaxis": "x",
         "y": [
          46.8797272887941,
          90.37452858165611,
          120.41949118271711,
          279.570923186144,
          438.75231028687995,
          238.08311341299392,
          255.90639631192843
         ],
         "yaxis": "y"
        },
        {
         "hovertemplate": "<b>%{hovertext}</b><br><br>County=San Francisco<br>2020=%{x}<br>COVID-19 Cases per 100k=%{y}<extra></extra>",
         "hovertext": [
          "San Francisco",
          "San Francisco",
          "San Francisco",
          "San Francisco",
          "San Francisco",
          "San Francisco",
          "San Francisco"
         ],
         "legendgroup": "San Francisco",
         "line": {
          "color": "#B6E880",
          "dash": "solid"
         },
         "mode": "lines",
         "name": "San Francisco",
         "orientation": "v",
         "showlegend": true,
         "type": "scatter",
         "x": [
          "March",
          "April",
          "May",
          "June",
          "July",
          "August",
          "September"
         ],
         "xaxis": "x",
         "y": [
          83.26252993310639,
          125.46097834607039,
          98.91679305404463,
          159.03823837359013,
          373.5470178061571,
          281.54986279832434,
          184.10774670494777
         ],
         "yaxis": "y"
        },
        {
         "hovertemplate": "<b>%{hovertext}</b><br><br>County=San Joaquin<br>2020=%{x}<br>COVID-19 Cases per 100k=%{y}<extra></extra>",
         "hovertext": [
          "San Joaquin",
          "San Joaquin",
          "San Joaquin",
          "San Joaquin",
          "San Joaquin",
          "San Joaquin",
          "San Joaquin"
         ],
         "legendgroup": "San Joaquin",
         "line": {
          "color": "#FF97FF",
          "dash": "solid"
         },
         "mode": "lines",
         "name": "San Joaquin",
         "orientation": "v",
         "showlegend": true,
         "type": "scatter",
         "x": [
          "March",
          "April",
          "May",
          "June",
          "July",
          "August",
          "September"
         ],
         "xaxis": "x",
         "y": [
          29.91544949274944,
          47.62854458714055,
          77.28157785626938,
          581.3831434314595,
          1211.3132882327318,
          517.0911686444102,
          230.92627678613604
         ],
         "yaxis": "y"
        },
        {
         "hovertemplate": "<b>%{hovertext}</b><br><br>County=San Luis Obispo<br>2020=%{x}<br>COVID-19 Cases per 100k=%{y}<extra></extra>",
         "hovertext": [
          "San Luis Obispo",
          "San Luis Obispo",
          "San Luis Obispo",
          "San Luis Obispo",
          "San Luis Obispo",
          "San Luis Obispo",
          "San Luis Obispo"
         ],
         "legendgroup": "San Luis Obispo",
         "line": {
          "color": "#FECB52",
          "dash": "solid"
         },
         "mode": "lines",
         "name": "San Luis Obispo",
         "orientation": "v",
         "showlegend": true,
         "type": "scatter",
         "x": [
          "March",
          "April",
          "May",
          "June",
          "July",
          "August",
          "September"
         ],
         "xaxis": "x",
         "y": [
          39.56045508652083,
          40.973328482468006,
          32.496088106784974,
          179.43492128529093,
          436.57787934767634,
          368.4067379932253,
          222.5275598616797
         ],
         "yaxis": "y"
        },
        {
         "hovertemplate": "<b>%{hovertext}</b><br><br>County=San Mateo<br>2020=%{x}<br>COVID-19 Cases per 100k=%{y}<extra></extra>",
         "hovertext": [
          "San Mateo",
          "San Mateo",
          "San Mateo",
          "San Mateo",
          "San Mateo",
          "San Mateo",
          "San Mateo"
         ],
         "legendgroup": "San Mateo",
         "line": {
          "color": "#636efa",
          "dash": "solid"
         },
         "mode": "lines",
         "name": "San Mateo",
         "orientation": "v",
         "showlegend": true,
         "type": "scatter",
         "x": [
          "March",
          "April",
          "May",
          "June",
          "July",
          "August",
          "September"
         ],
         "xaxis": "x",
         "y": [
          83.09710882068634,
          95.4899272476333,
          121.71052202464736,
          184.7182199216513,
          352.6082969267115,
          285.55662670091436,
          222.80983024447772
         ],
         "yaxis": "y"
        },
        {
         "hovertemplate": "<b>%{hovertext}</b><br><br>County=Santa Barbara<br>2020=%{x}<br>COVID-19 Cases per 100k=%{y}<extra></extra>",
         "hovertext": [
          "Santa Barbara",
          "Santa Barbara",
          "Santa Barbara",
          "Santa Barbara",
          "Santa Barbara",
          "Santa Barbara",
          "Santa Barbara"
         ],
         "legendgroup": "Santa Barbara",
         "line": {
          "color": "#EF553B",
          "dash": "solid"
         },
         "mode": "lines",
         "name": "Santa Barbara",
         "orientation": "v",
         "showlegend": true,
         "type": "scatter",
         "x": [
          "March",
          "April",
          "May",
          "June",
          "July",
          "August",
          "September"
         ],
         "xaxis": "x",
         "y": [
          58.9027075088634,
          84.43467958494867,
          312.8786402657117,
          477.0447414215933,
          668.3105673248989,
          340.87422368247184,
          206.27145861468895
         ],
         "yaxis": "y"
        },
        {
         "hovertemplate": "<b>%{hovertext}</b><br><br>County=Santa Clara<br>2020=%{x}<br>COVID-19 Cases per 100k=%{y}<extra></extra>",
         "hovertext": [
          "Santa Clara",
          "Santa Clara",
          "Santa Clara",
          "Santa Clara",
          "Santa Clara",
          "Santa Clara",
          "Santa Clara"
         ],
         "legendgroup": "Santa Clara",
         "line": {
          "color": "#00cc96",
          "dash": "solid"
         },
         "mode": "lines",
         "name": "Santa Clara",
         "orientation": "v",
         "showlegend": true,
         "type": "scatter",
         "x": [
          "March",
          "April",
          "May",
          "June",
          "July",
          "August",
          "September"
         ],
         "xaxis": "x",
         "y": [
          69.24805431122306,
          55.76154186109722,
          38.644045289783655,
          131.1822691783394,
          366.31442662611033,
          306.1957038195878,
          189.79672713465555
         ],
         "yaxis": "y"
        },
        {
         "hovertemplate": "<b>%{hovertext}</b><br><br>County=Santa Cruz<br>2020=%{x}<br>COVID-19 Cases per 100k=%{y}<extra></extra>",
         "hovertext": [
          "Santa Cruz",
          "Santa Cruz",
          "Santa Cruz",
          "Santa Cruz",
          "Santa Cruz",
          "Santa Cruz",
          "Santa Cruz"
         ],
         "legendgroup": "Santa Cruz",
         "line": {
          "color": "#ab63fa",
          "dash": "solid"
         },
         "mode": "lines",
         "name": "Santa Cruz",
         "orientation": "v",
         "showlegend": true,
         "type": "scatter",
         "x": [
          "March",
          "April",
          "May",
          "June",
          "July",
          "August",
          "September"
         ],
         "xaxis": "x",
         "y": [
          27.08509477953099,
          21.228858070443206,
          32.57531669430078,
          92.96775775676852,
          308.91648640438046,
          225.4651132998796,
          218.14481741351983
         ],
         "yaxis": "y"
        },
        {
         "hovertemplate": "<b>%{hovertext}</b><br><br>County=Shasta<br>2020=%{x}<br>COVID-19 Cases per 100k=%{y}<extra></extra>",
         "hovertext": [
          "Shasta",
          "Shasta",
          "Shasta",
          "Shasta",
          "Shasta",
          "Shasta",
          "Shasta"
         ],
         "legendgroup": "Shasta",
         "line": {
          "color": "#FFA15A",
          "dash": "solid"
         },
         "mode": "lines",
         "name": "Shasta",
         "orientation": "v",
         "showlegend": true,
         "type": "scatter",
         "x": [
          "March",
          "April",
          "May",
          "June",
          "July",
          "August",
          "September"
         ],
         "xaxis": "x",
         "y": [
          11.106175033318525,
          8.329631274988895,
          11.106175033318525,
          88.8494002665482,
          152.70990670812972,
          79.96446023989337,
          388.7161261661484
         ],
         "yaxis": "y"
        },
        {
         "hovertemplate": "<b>%{hovertext}</b><br><br>County=Sierra<br>2020=%{x}<br>COVID-19 Cases per 100k=%{y}<extra></extra>",
         "hovertext": [
          "Sierra",
          "Sierra",
          "Sierra",
          "Sierra",
          "Sierra",
          "Sierra",
          "Sierra"
         ],
         "legendgroup": "Sierra",
         "line": {
          "color": "#19d3f3",
          "dash": "solid"
         },
         "mode": "lines",
         "name": "Sierra",
         "orientation": "v",
         "showlegend": true,
         "type": "scatter",
         "x": [
          "March",
          "April",
          "May",
          "June",
          "July",
          "August",
          "September"
         ],
         "xaxis": "x",
         "y": [
          0,
          0,
          33.277870216306155,
          0,
          66.55574043261231,
          99.83361064891847,
          0
         ],
         "yaxis": "y"
        },
        {
         "hovertemplate": "<b>%{hovertext}</b><br><br>County=Siskiyou<br>2020=%{x}<br>COVID-19 Cases per 100k=%{y}<extra></extra>",
         "hovertext": [
          "Siskiyou",
          "Siskiyou",
          "Siskiyou",
          "Siskiyou",
          "Siskiyou",
          "Siskiyou",
          "Siskiyou"
         ],
         "legendgroup": "Siskiyou",
         "line": {
          "color": "#FF6692",
          "dash": "solid"
         },
         "mode": "lines",
         "name": "Siskiyou",
         "orientation": "v",
         "showlegend": true,
         "type": "scatter",
         "x": [
          "March",
          "April",
          "May",
          "June",
          "July",
          "August",
          "September"
         ],
         "xaxis": "x",
         "y": [
          9.187165529754932,
          2.296791382438733,
          13.780748294632398,
          52.826201796090864,
          142.40106571120145,
          96.46523806242679,
          52.826201796090864
         ],
         "yaxis": "y"
        },
        {
         "hovertemplate": "<b>%{hovertext}</b><br><br>County=Solano<br>2020=%{x}<br>COVID-19 Cases per 100k=%{y}<extra></extra>",
         "hovertext": [
          "Solano",
          "Solano",
          "Solano",
          "Solano",
          "Solano",
          "Solano",
          "Solano"
         ],
         "legendgroup": "Solano",
         "line": {
          "color": "#B6E880",
          "dash": "solid"
         },
         "mode": "lines",
         "name": "Solano",
         "orientation": "v",
         "showlegend": true,
         "type": "scatter",
         "x": [
          "March",
          "April",
          "May",
          "June",
          "July",
          "August",
          "September"
         ],
         "xaxis": "x",
         "y": [
          22.562622446905234,
          49.1463063199916,
          66.57090583344316,
          292.42052260395,
          539.0456234097261,
          295.1012302214041,
          195.24487147123935
         ],
         "yaxis": "y"
        },
        {
         "hovertemplate": "<b>%{hovertext}</b><br><br>County=Sonoma<br>2020=%{x}<br>COVID-19 Cases per 100k=%{y}<extra></extra>",
         "hovertext": [
          "Sonoma",
          "Sonoma",
          "Sonoma",
          "Sonoma",
          "Sonoma",
          "Sonoma",
          "Sonoma"
         ],
         "legendgroup": "Sonoma",
         "line": {
          "color": "#FF97FF",
          "dash": "solid"
         },
         "mode": "lines",
         "name": "Sonoma",
         "orientation": "v",
         "showlegend": true,
         "type": "scatter",
         "x": [
          "March",
          "April",
          "May",
          "June",
          "July",
          "August",
          "September"
         ],
         "xaxis": "x",
         "y": [
          29.736859140341792,
          28.118526670119113,
          71.20662868979804,
          183.68073537027445,
          454.549132573796,
          479.8355774210254,
          368.37292853443813
         ],
         "yaxis": "y"
        },
        {
         "hovertemplate": "<b>%{hovertext}</b><br><br>County=Stanislaus<br>2020=%{x}<br>COVID-19 Cases per 100k=%{y}<extra></extra>",
         "hovertext": [
          "Stanislaus",
          "Stanislaus",
          "Stanislaus",
          "Stanislaus",
          "Stanislaus",
          "Stanislaus",
          "Stanislaus"
         ],
         "legendgroup": "Stanislaus",
         "line": {
          "color": "#FECB52",
          "dash": "solid"
         },
         "mode": "lines",
         "name": "Stanislaus",
         "orientation": "v",
         "showlegend": true,
         "type": "scatter",
         "x": [
          "March",
          "April",
          "May",
          "June",
          "July",
          "August",
          "September"
         ],
         "xaxis": "x",
         "y": [
          18.52322667344641,
          66.28409544909745,
          80.6305161079432,
          608.9056768241746,
          1380.3435876947663,
          653.94254167726,
          238.25954309374205
         ],
         "yaxis": "y"
        },
        {
         "hovertemplate": "<b>%{hovertext}</b><br><br>County=Sutter<br>2020=%{x}<br>COVID-19 Cases per 100k=%{y}<extra></extra>",
         "hovertext": [
          "Sutter",
          "Sutter",
          "Sutter",
          "Sutter",
          "Sutter",
          "Sutter",
          "Sutter"
         ],
         "legendgroup": "Sutter",
         "line": {
          "color": "#636efa",
          "dash": "solid"
         },
         "mode": "lines",
         "name": "Sutter",
         "orientation": "v",
         "showlegend": true,
         "type": "scatter",
         "x": [
          "March",
          "April",
          "May",
          "June",
          "July",
          "August",
          "September"
         ],
         "xaxis": "x",
         "y": [
          21.655958998050963,
          9.281125284878984,
          17.53101442699364,
          202.122283981809,
          670.3034927968156,
          566.148642377618,
          279.46499468913385
         ],
         "yaxis": "y"
        },
        {
         "hovertemplate": "<b>%{hovertext}</b><br><br>County=Tehama<br>2020=%{x}<br>COVID-19 Cases per 100k=%{y}<extra></extra>",
         "hovertext": [
          "Tehama",
          "Tehama",
          "Tehama",
          "Tehama",
          "Tehama",
          "Tehama",
          "Tehama"
         ],
         "legendgroup": "Tehama",
         "line": {
          "color": "#EF553B",
          "dash": "solid"
         },
         "mode": "lines",
         "name": "Tehama",
         "orientation": "v",
         "showlegend": true,
         "type": "scatter",
         "x": [
          "March",
          "April",
          "May",
          "June",
          "July",
          "August",
          "September"
         ],
         "xaxis": "x",
         "y": [
          1.5364759387867983,
          0,
          13.828283449081185,
          145.9652141847459,
          271.95624116526335,
          245.83615020588775,
          316.5140433900805
         ],
         "yaxis": "y"
        },
        {
         "hovertemplate": "<b>%{hovertext}</b><br><br>County=Trinity<br>2020=%{x}<br>COVID-19 Cases per 100k=%{y}<extra></extra>",
         "hovertext": [
          "Trinity",
          "Trinity",
          "Trinity",
          "Trinity",
          "Trinity",
          "Trinity",
          "Trinity"
         ],
         "legendgroup": "Trinity",
         "line": {
          "color": "#00cc96",
          "dash": "solid"
         },
         "mode": "lines",
         "name": "Trinity",
         "orientation": "v",
         "showlegend": true,
         "type": "scatter",
         "x": [
          "March",
          "April",
          "May",
          "June",
          "July",
          "August",
          "September"
         ],
         "xaxis": "x",
         "y": [
          0,
          0,
          8.14000814000814,
          8.14000814000814,
          32.56003256003256,
          73.26007326007326,
          32.56003256003256
         ],
         "yaxis": "y"
        },
        {
         "hovertemplate": "<b>%{hovertext}</b><br><br>County=Tulare<br>2020=%{x}<br>COVID-19 Cases per 100k=%{y}<extra></extra>",
         "hovertext": [
          "Tulare",
          "Tulare",
          "Tulare",
          "Tulare",
          "Tulare",
          "Tulare",
          "Tulare"
         ],
         "legendgroup": "Tulare",
         "line": {
          "color": "#ab63fa",
          "dash": "solid"
         },
         "mode": "lines",
         "name": "Tulare",
         "orientation": "v",
         "showlegend": true,
         "type": "scatter",
         "x": [
          "March",
          "April",
          "May",
          "June",
          "July",
          "August",
          "September"
         ],
         "xaxis": "x",
         "y": [
          25.311296774954684,
          198.2003238987977,
          309.52712920559,
          648.2266004568904,
          1207.4346571713552,
          745.6107422859533,
          383.7449994101181
         ],
         "yaxis": "y"
        },
        {
         "hovertemplate": "<b>%{hovertext}</b><br><br>County=Tuolumne<br>2020=%{x}<br>COVID-19 Cases per 100k=%{y}<extra></extra>",
         "hovertext": [
          "Tuolumne",
          "Tuolumne",
          "Tuolumne",
          "Tuolumne",
          "Tuolumne",
          "Tuolumne",
          "Tuolumne"
         ],
         "legendgroup": "Tuolumne",
         "line": {
          "color": "#FFA15A",
          "dash": "solid"
         },
         "mode": "lines",
         "name": "Tuolumne",
         "orientation": "v",
         "showlegend": true,
         "type": "scatter",
         "x": [
          "March",
          "April",
          "May",
          "June",
          "July",
          "August",
          "September"
         ],
         "xaxis": "x",
         "y": [
          3.671206725650721,
          0,
          3.671206725650721,
          82.60215132714123,
          192.73835309666288,
          102.7937883182202,
          40.38327398215793
         ],
         "yaxis": "y"
        },
        {
         "hovertemplate": "<b>%{hovertext}</b><br><br>County=Ventura<br>2020=%{x}<br>COVID-19 Cases per 100k=%{y}<extra></extra>",
         "hovertext": [
          "Ventura",
          "Ventura",
          "Ventura",
          "Ventura",
          "Ventura",
          "Ventura",
          "Ventura"
         ],
         "legendgroup": "Ventura",
         "line": {
          "color": "#19d3f3",
          "dash": "solid"
         },
         "mode": "lines",
         "name": "Ventura",
         "orientation": "v",
         "showlegend": true,
         "type": "scatter",
         "x": [
          "March",
          "April",
          "May",
          "June",
          "July",
          "August",
          "September"
         ],
         "xaxis": "x",
         "y": [
          35.57894388455874,
          46.21716630851318,
          96.68962158660814,
          339.8321052096557,
          515.4809776762813,
          308.62665276605605,
          241.72405396652033
         ],
         "yaxis": "y"
        },
        {
         "hovertemplate": "<b>%{hovertext}</b><br><br>County=Yolo<br>2020=%{x}<br>COVID-19 Cases per 100k=%{y}<extra></extra>",
         "hovertext": [
          "Yolo",
          "Yolo",
          "Yolo",
          "Yolo",
          "Yolo",
          "Yolo",
          "Yolo"
         ],
         "legendgroup": "Yolo",
         "line": {
          "color": "#FF6692",
          "dash": "solid"
         },
         "mode": "lines",
         "name": "Yolo",
         "orientation": "v",
         "showlegend": true,
         "type": "scatter",
         "x": [
          "March",
          "April",
          "May",
          "June",
          "July",
          "August",
          "September"
         ],
         "xaxis": "x",
         "y": [
          25.396825396825395,
          55.78231292517006,
          24.03628117913832,
          234.9206349206349,
          512.9251700680272,
          311.5646258503402,
          150.11337868480726
         ],
         "yaxis": "y"
        },
        {
         "hovertemplate": "<b>%{hovertext}</b><br><br>County=Yuba<br>2020=%{x}<br>COVID-19 Cases per 100k=%{y}<extra></extra>",
         "hovertext": [
          "Yuba",
          "Yuba",
          "Yuba",
          "Yuba",
          "Yuba",
          "Yuba",
          "Yuba"
         ],
         "legendgroup": "Yuba",
         "line": {
          "color": "#B6E880",
          "dash": "solid"
         },
         "mode": "lines",
         "name": "Yuba",
         "orientation": "v",
         "showlegend": true,
         "type": "scatter",
         "x": [
          "March",
          "April",
          "May",
          "June",
          "July",
          "August",
          "September"
         ],
         "xaxis": "x",
         "y": [
          11.44048405959221,
          12.711648955102456,
          13.982813850612702,
          95.33736716326842,
          522.448772054711,
          507.194793308588,
          246.60598972898765
         ],
         "yaxis": "y"
        }
       ],
       "layout": {
        "height": 500,
        "legend": {
         "title": {
          "text": "County"
         },
         "tracegroupgap": 0
        },
        "template": {
         "data": {
          "bar": [
           {
            "error_x": {
             "color": "#2a3f5f"
            },
            "error_y": {
             "color": "#2a3f5f"
            },
            "marker": {
             "line": {
              "color": "#E5ECF6",
              "width": 0.5
             }
            },
            "type": "bar"
           }
          ],
          "barpolar": [
           {
            "marker": {
             "line": {
              "color": "#E5ECF6",
              "width": 0.5
             }
            },
            "type": "barpolar"
           }
          ],
          "carpet": [
           {
            "aaxis": {
             "endlinecolor": "#2a3f5f",
             "gridcolor": "white",
             "linecolor": "white",
             "minorgridcolor": "white",
             "startlinecolor": "#2a3f5f"
            },
            "baxis": {
             "endlinecolor": "#2a3f5f",
             "gridcolor": "white",
             "linecolor": "white",
             "minorgridcolor": "white",
             "startlinecolor": "#2a3f5f"
            },
            "type": "carpet"
           }
          ],
          "choropleth": [
           {
            "colorbar": {
             "outlinewidth": 0,
             "ticks": ""
            },
            "type": "choropleth"
           }
          ],
          "contour": [
           {
            "colorbar": {
             "outlinewidth": 0,
             "ticks": ""
            },
            "colorscale": [
             [
              0,
              "#0d0887"
             ],
             [
              0.1111111111111111,
              "#46039f"
             ],
             [
              0.2222222222222222,
              "#7201a8"
             ],
             [
              0.3333333333333333,
              "#9c179e"
             ],
             [
              0.4444444444444444,
              "#bd3786"
             ],
             [
              0.5555555555555556,
              "#d8576b"
             ],
             [
              0.6666666666666666,
              "#ed7953"
             ],
             [
              0.7777777777777778,
              "#fb9f3a"
             ],
             [
              0.8888888888888888,
              "#fdca26"
             ],
             [
              1,
              "#f0f921"
             ]
            ],
            "type": "contour"
           }
          ],
          "contourcarpet": [
           {
            "colorbar": {
             "outlinewidth": 0,
             "ticks": ""
            },
            "type": "contourcarpet"
           }
          ],
          "heatmap": [
           {
            "colorbar": {
             "outlinewidth": 0,
             "ticks": ""
            },
            "colorscale": [
             [
              0,
              "#0d0887"
             ],
             [
              0.1111111111111111,
              "#46039f"
             ],
             [
              0.2222222222222222,
              "#7201a8"
             ],
             [
              0.3333333333333333,
              "#9c179e"
             ],
             [
              0.4444444444444444,
              "#bd3786"
             ],
             [
              0.5555555555555556,
              "#d8576b"
             ],
             [
              0.6666666666666666,
              "#ed7953"
             ],
             [
              0.7777777777777778,
              "#fb9f3a"
             ],
             [
              0.8888888888888888,
              "#fdca26"
             ],
             [
              1,
              "#f0f921"
             ]
            ],
            "type": "heatmap"
           }
          ],
          "heatmapgl": [
           {
            "colorbar": {
             "outlinewidth": 0,
             "ticks": ""
            },
            "colorscale": [
             [
              0,
              "#0d0887"
             ],
             [
              0.1111111111111111,
              "#46039f"
             ],
             [
              0.2222222222222222,
              "#7201a8"
             ],
             [
              0.3333333333333333,
              "#9c179e"
             ],
             [
              0.4444444444444444,
              "#bd3786"
             ],
             [
              0.5555555555555556,
              "#d8576b"
             ],
             [
              0.6666666666666666,
              "#ed7953"
             ],
             [
              0.7777777777777778,
              "#fb9f3a"
             ],
             [
              0.8888888888888888,
              "#fdca26"
             ],
             [
              1,
              "#f0f921"
             ]
            ],
            "type": "heatmapgl"
           }
          ],
          "histogram": [
           {
            "marker": {
             "colorbar": {
              "outlinewidth": 0,
              "ticks": ""
             }
            },
            "type": "histogram"
           }
          ],
          "histogram2d": [
           {
            "colorbar": {
             "outlinewidth": 0,
             "ticks": ""
            },
            "colorscale": [
             [
              0,
              "#0d0887"
             ],
             [
              0.1111111111111111,
              "#46039f"
             ],
             [
              0.2222222222222222,
              "#7201a8"
             ],
             [
              0.3333333333333333,
              "#9c179e"
             ],
             [
              0.4444444444444444,
              "#bd3786"
             ],
             [
              0.5555555555555556,
              "#d8576b"
             ],
             [
              0.6666666666666666,
              "#ed7953"
             ],
             [
              0.7777777777777778,
              "#fb9f3a"
             ],
             [
              0.8888888888888888,
              "#fdca26"
             ],
             [
              1,
              "#f0f921"
             ]
            ],
            "type": "histogram2d"
           }
          ],
          "histogram2dcontour": [
           {
            "colorbar": {
             "outlinewidth": 0,
             "ticks": ""
            },
            "colorscale": [
             [
              0,
              "#0d0887"
             ],
             [
              0.1111111111111111,
              "#46039f"
             ],
             [
              0.2222222222222222,
              "#7201a8"
             ],
             [
              0.3333333333333333,
              "#9c179e"
             ],
             [
              0.4444444444444444,
              "#bd3786"
             ],
             [
              0.5555555555555556,
              "#d8576b"
             ],
             [
              0.6666666666666666,
              "#ed7953"
             ],
             [
              0.7777777777777778,
              "#fb9f3a"
             ],
             [
              0.8888888888888888,
              "#fdca26"
             ],
             [
              1,
              "#f0f921"
             ]
            ],
            "type": "histogram2dcontour"
           }
          ],
          "mesh3d": [
           {
            "colorbar": {
             "outlinewidth": 0,
             "ticks": ""
            },
            "type": "mesh3d"
           }
          ],
          "parcoords": [
           {
            "line": {
             "colorbar": {
              "outlinewidth": 0,
              "ticks": ""
             }
            },
            "type": "parcoords"
           }
          ],
          "pie": [
           {
            "automargin": true,
            "type": "pie"
           }
          ],
          "scatter": [
           {
            "marker": {
             "colorbar": {
              "outlinewidth": 0,
              "ticks": ""
             }
            },
            "type": "scatter"
           }
          ],
          "scatter3d": [
           {
            "line": {
             "colorbar": {
              "outlinewidth": 0,
              "ticks": ""
             }
            },
            "marker": {
             "colorbar": {
              "outlinewidth": 0,
              "ticks": ""
             }
            },
            "type": "scatter3d"
           }
          ],
          "scattercarpet": [
           {
            "marker": {
             "colorbar": {
              "outlinewidth": 0,
              "ticks": ""
             }
            },
            "type": "scattercarpet"
           }
          ],
          "scattergeo": [
           {
            "marker": {
             "colorbar": {
              "outlinewidth": 0,
              "ticks": ""
             }
            },
            "type": "scattergeo"
           }
          ],
          "scattergl": [
           {
            "marker": {
             "colorbar": {
              "outlinewidth": 0,
              "ticks": ""
             }
            },
            "type": "scattergl"
           }
          ],
          "scattermapbox": [
           {
            "marker": {
             "colorbar": {
              "outlinewidth": 0,
              "ticks": ""
             }
            },
            "type": "scattermapbox"
           }
          ],
          "scatterpolar": [
           {
            "marker": {
             "colorbar": {
              "outlinewidth": 0,
              "ticks": ""
             }
            },
            "type": "scatterpolar"
           }
          ],
          "scatterpolargl": [
           {
            "marker": {
             "colorbar": {
              "outlinewidth": 0,
              "ticks": ""
             }
            },
            "type": "scatterpolargl"
           }
          ],
          "scatterternary": [
           {
            "marker": {
             "colorbar": {
              "outlinewidth": 0,
              "ticks": ""
             }
            },
            "type": "scatterternary"
           }
          ],
          "surface": [
           {
            "colorbar": {
             "outlinewidth": 0,
             "ticks": ""
            },
            "colorscale": [
             [
              0,
              "#0d0887"
             ],
             [
              0.1111111111111111,
              "#46039f"
             ],
             [
              0.2222222222222222,
              "#7201a8"
             ],
             [
              0.3333333333333333,
              "#9c179e"
             ],
             [
              0.4444444444444444,
              "#bd3786"
             ],
             [
              0.5555555555555556,
              "#d8576b"
             ],
             [
              0.6666666666666666,
              "#ed7953"
             ],
             [
              0.7777777777777778,
              "#fb9f3a"
             ],
             [
              0.8888888888888888,
              "#fdca26"
             ],
             [
              1,
              "#f0f921"
             ]
            ],
            "type": "surface"
           }
          ],
          "table": [
           {
            "cells": {
             "fill": {
              "color": "#EBF0F8"
             },
             "line": {
              "color": "white"
             }
            },
            "header": {
             "fill": {
              "color": "#C8D4E3"
             },
             "line": {
              "color": "white"
             }
            },
            "type": "table"
           }
          ]
         },
         "layout": {
          "annotationdefaults": {
           "arrowcolor": "#2a3f5f",
           "arrowhead": 0,
           "arrowwidth": 1
          },
          "coloraxis": {
           "colorbar": {
            "outlinewidth": 0,
            "ticks": ""
           }
          },
          "colorscale": {
           "diverging": [
            [
             0,
             "#8e0152"
            ],
            [
             0.1,
             "#c51b7d"
            ],
            [
             0.2,
             "#de77ae"
            ],
            [
             0.3,
             "#f1b6da"
            ],
            [
             0.4,
             "#fde0ef"
            ],
            [
             0.5,
             "#f7f7f7"
            ],
            [
             0.6,
             "#e6f5d0"
            ],
            [
             0.7,
             "#b8e186"
            ],
            [
             0.8,
             "#7fbc41"
            ],
            [
             0.9,
             "#4d9221"
            ],
            [
             1,
             "#276419"
            ]
           ],
           "sequential": [
            [
             0,
             "#0d0887"
            ],
            [
             0.1111111111111111,
             "#46039f"
            ],
            [
             0.2222222222222222,
             "#7201a8"
            ],
            [
             0.3333333333333333,
             "#9c179e"
            ],
            [
             0.4444444444444444,
             "#bd3786"
            ],
            [
             0.5555555555555556,
             "#d8576b"
            ],
            [
             0.6666666666666666,
             "#ed7953"
            ],
            [
             0.7777777777777778,
             "#fb9f3a"
            ],
            [
             0.8888888888888888,
             "#fdca26"
            ],
            [
             1,
             "#f0f921"
            ]
           ],
           "sequentialminus": [
            [
             0,
             "#0d0887"
            ],
            [
             0.1111111111111111,
             "#46039f"
            ],
            [
             0.2222222222222222,
             "#7201a8"
            ],
            [
             0.3333333333333333,
             "#9c179e"
            ],
            [
             0.4444444444444444,
             "#bd3786"
            ],
            [
             0.5555555555555556,
             "#d8576b"
            ],
            [
             0.6666666666666666,
             "#ed7953"
            ],
            [
             0.7777777777777778,
             "#fb9f3a"
            ],
            [
             0.8888888888888888,
             "#fdca26"
            ],
            [
             1,
             "#f0f921"
            ]
           ]
          },
          "colorway": [
           "#636efa",
           "#EF553B",
           "#00cc96",
           "#ab63fa",
           "#FFA15A",
           "#19d3f3",
           "#FF6692",
           "#B6E880",
           "#FF97FF",
           "#FECB52"
          ],
          "font": {
           "color": "#2a3f5f"
          },
          "geo": {
           "bgcolor": "white",
           "lakecolor": "white",
           "landcolor": "#E5ECF6",
           "showlakes": true,
           "showland": true,
           "subunitcolor": "white"
          },
          "hoverlabel": {
           "align": "left"
          },
          "hovermode": "closest",
          "mapbox": {
           "style": "light"
          },
          "paper_bgcolor": "white",
          "plot_bgcolor": "#E5ECF6",
          "polar": {
           "angularaxis": {
            "gridcolor": "white",
            "linecolor": "white",
            "ticks": ""
           },
           "bgcolor": "#E5ECF6",
           "radialaxis": {
            "gridcolor": "white",
            "linecolor": "white",
            "ticks": ""
           }
          },
          "scene": {
           "xaxis": {
            "backgroundcolor": "#E5ECF6",
            "gridcolor": "white",
            "gridwidth": 2,
            "linecolor": "white",
            "showbackground": true,
            "ticks": "",
            "zerolinecolor": "white"
           },
           "yaxis": {
            "backgroundcolor": "#E5ECF6",
            "gridcolor": "white",
            "gridwidth": 2,
            "linecolor": "white",
            "showbackground": true,
            "ticks": "",
            "zerolinecolor": "white"
           },
           "zaxis": {
            "backgroundcolor": "#E5ECF6",
            "gridcolor": "white",
            "gridwidth": 2,
            "linecolor": "white",
            "showbackground": true,
            "ticks": "",
            "zerolinecolor": "white"
           }
          },
          "shapedefaults": {
           "line": {
            "color": "#2a3f5f"
           }
          },
          "ternary": {
           "aaxis": {
            "gridcolor": "white",
            "linecolor": "white",
            "ticks": ""
           },
           "baxis": {
            "gridcolor": "white",
            "linecolor": "white",
            "ticks": ""
           },
           "bgcolor": "#E5ECF6",
           "caxis": {
            "gridcolor": "white",
            "linecolor": "white",
            "ticks": ""
           }
          },
          "title": {
           "x": 0.05
          },
          "xaxis": {
           "automargin": true,
           "gridcolor": "white",
           "linecolor": "white",
           "ticks": "",
           "title": {
            "standoff": 15
           },
           "zerolinecolor": "white",
           "zerolinewidth": 2
          },
          "yaxis": {
           "automargin": true,
           "gridcolor": "white",
           "linecolor": "white",
           "ticks": "",
           "title": {
            "standoff": 15
           },
           "zerolinecolor": "white",
           "zerolinewidth": 2
          }
         }
        },
        "title": {
         "text": "COVID-19 Cases per 100k in California (CA)",
         "x": 0.5
        },
        "xaxis": {
         "anchor": "y",
         "domain": [
          0,
          1
         ],
         "title": {
          "text": "2020"
         }
        },
        "yaxis": {
         "anchor": "x",
         "domain": [
          0,
          1
         ],
         "title": {
          "text": "COVID-19 Cases per 100k"
         }
        }
       }
      },
      "text/html": [
       "<div>\n",
       "        \n",
       "        \n",
       "            <div id=\"3dd85946-cc38-4b4a-90ad-4091f90ac08e\" class=\"plotly-graph-div\" style=\"height:500px; width:100%;\"></div>\n",
       "            <script type=\"text/javascript\">\n",
       "                require([\"plotly\"], function(Plotly) {\n",
       "                    window.PLOTLYENV=window.PLOTLYENV || {};\n",
       "                    \n",
       "                if (document.getElementById(\"3dd85946-cc38-4b4a-90ad-4091f90ac08e\")) {\n",
       "                    Plotly.newPlot(\n",
       "                        '3dd85946-cc38-4b4a-90ad-4091f90ac08e',\n",
       "                        [{\"hovertemplate\": \"<b>%{hovertext}</b><br><br>County=Alameda<br>2020=%{x}<br>COVID-19 Cases per 100k=%{y}<extra></extra>\", \"hovertext\": [\"Alameda\", \"Alameda\", \"Alameda\", \"Alameda\", \"Alameda\", \"Alameda\", \"Alameda\"], \"legendgroup\": \"Alameda\", \"line\": {\"color\": \"#636efa\", \"dash\": \"solid\"}, \"mode\": \"lines\", \"name\": \"Alameda\", \"orientation\": \"v\", \"showlegend\": true, \"type\": \"scatter\", \"x\": [\"March\", \"April\", \"May\", \"June\", \"July\", \"August\", \"September\"], \"xaxis\": \"x\", \"y\": [40.626351843353405, 75.68826963452437, 111.70750941316761, 207.85853652991122, 392.68151273627154, 323.3355012687508, 155.62465558845685], \"yaxis\": \"y\"}, {\"hovertemplate\": \"<b>%{hovertext}</b><br><br>County=Alpine<br>2020=%{x}<br>COVID-19 Cases per 100k=%{y}<extra></extra>\", \"hovertext\": [\"Alpine\", \"Alpine\", \"Alpine\", \"Alpine\", \"Alpine\", \"Alpine\", \"Alpine\"], \"legendgroup\": \"Alpine\", \"line\": {\"color\": \"#EF553B\", \"dash\": \"solid\"}, \"mode\": \"lines\", \"name\": \"Alpine\", \"orientation\": \"v\", \"showlegend\": true, \"type\": \"scatter\", \"x\": [\"March\", \"April\", \"May\", \"June\", \"July\", \"August\", \"September\"], \"xaxis\": \"x\", \"y\": [88.57395925597875, 0.0, 88.57395925597875, 0.0, 88.57395925597875, 0.0, 88.57395925597875], \"yaxis\": \"y\"}, {\"hovertemplate\": \"<b>%{hovertext}</b><br><br>County=Amador<br>2020=%{x}<br>COVID-19 Cases per 100k=%{y}<extra></extra>\", \"hovertext\": [\"Amador\", \"Amador\", \"Amador\", \"Amador\", \"Amador\", \"Amador\", \"Amador\"], \"legendgroup\": \"Amador\", \"line\": {\"color\": \"#00cc96\", \"dash\": \"solid\"}, \"mode\": \"lines\", \"name\": \"Amador\", \"orientation\": \"v\", \"showlegend\": true, \"type\": \"scatter\", \"x\": [\"March\", \"April\", \"May\", \"June\", \"July\", \"August\", \"September\"], \"xaxis\": \"x\", \"y\": [12.57798349768565, 7.546790098611391, 5.03119339907426, 60.374320788891126, 389.9174884282552, 216.34131616019317, 62.88991748842825], \"yaxis\": \"y\"}, {\"hovertemplate\": \"<b>%{hovertext}</b><br><br>County=Butte<br>2020=%{x}<br>COVID-19 Cases per 100k=%{y}<extra></extra>\", \"hovertext\": [\"Butte\", \"Butte\", \"Butte\", \"Butte\", \"Butte\", \"Butte\", \"Butte\"], \"legendgroup\": \"Butte\", \"line\": {\"color\": \"#ab63fa\", \"dash\": \"solid\"}, \"mode\": \"lines\", \"name\": \"Butte\", \"orientation\": \"v\", \"showlegend\": true, \"type\": \"scatter\", \"x\": [\"March\", \"April\", \"May\", \"June\", \"July\", \"August\", \"September\"], \"xaxis\": \"x\", \"y\": [6.3872692598979866, 2.7374011113848513, 20.530508335386386, 99.91514056554708, 390.9921254094696, 563.4483954267153, 251.84090224740632], \"yaxis\": \"y\"}, {\"hovertemplate\": \"<b>%{hovertext}</b><br><br>County=Calaveras<br>2020=%{x}<br>COVID-19 Cases per 100k=%{y}<extra></extra>\", \"hovertext\": [\"Calaveras\", \"Calaveras\", \"Calaveras\", \"Calaveras\", \"Calaveras\", \"Calaveras\", \"Calaveras\"], \"legendgroup\": \"Calaveras\", \"line\": {\"color\": \"#FFA15A\", \"dash\": \"solid\"}, \"mode\": \"lines\", \"name\": \"Calaveras\", \"orientation\": \"v\", \"showlegend\": true, \"type\": \"scatter\", \"x\": [\"March\", \"April\", \"May\", \"June\", \"July\", \"August\", \"September\"], \"xaxis\": \"x\", \"y\": [13.070471626184512, 15.24888356388193, 10.892059688487093, 87.13647750789674, 193.87866245507024, 272.3014922121773, 93.671713320989], \"yaxis\": \"y\"}, {\"hovertemplate\": \"<b>%{hovertext}</b><br><br>County=Colusa<br>2020=%{x}<br>COVID-19 Cases per 100k=%{y}<extra></extra>\", \"hovertext\": [\"Colusa\", \"Colusa\", \"Colusa\", \"Colusa\", \"Colusa\", \"Colusa\", \"Colusa\"], \"legendgroup\": \"Colusa\", \"line\": {\"color\": \"#19d3f3\", \"dash\": \"solid\"}, \"mode\": \"lines\", \"name\": \"Colusa\", \"orientation\": \"v\", \"showlegend\": true, \"type\": \"scatter\", \"x\": [\"March\", \"April\", \"May\", \"June\", \"July\", \"August\", \"September\"], \"xaxis\": \"x\", \"y\": [13.923051932983709, 0.0, 27.846103865967418, 399.127488745533, 1313.4078990114633, 459.46071378846244, 278.4610386596742], \"yaxis\": \"y\"}, {\"hovertemplate\": \"<b>%{hovertext}</b><br><br>County=Contra Costa<br>2020=%{x}<br>COVID-19 Cases per 100k=%{y}<extra></extra>\", \"hovertext\": [\"Contra Costa\", \"Contra Costa\", \"Contra Costa\", \"Contra Costa\", \"Contra Costa\", \"Contra Costa\", \"Contra Costa\"], \"legendgroup\": \"Contra Costa\", \"line\": {\"color\": \"#FF6692\", \"dash\": \"solid\"}, \"mode\": \"lines\", \"name\": \"Contra Costa\", \"orientation\": \"v\", \"showlegend\": true, \"type\": \"scatter\", \"x\": [\"March\", \"April\", \"May\", \"June\", \"July\", \"August\", \"September\"], \"xaxis\": \"x\", \"y\": [40.831329332845556, 45.07917463498872, 59.98997855271576, 209.87823421405324, 552.913415042227, 378.40499477254957, 226.52285254081832], \"yaxis\": \"y\"}, {\"hovertemplate\": \"<b>%{hovertext}</b><br><br>County=Del Norte<br>2020=%{x}<br>COVID-19 Cases per 100k=%{y}<extra></extra>\", \"hovertext\": [\"Del Norte\", \"Del Norte\", \"Del Norte\", \"Del Norte\", \"Del Norte\", \"Del Norte\", \"Del Norte\"], \"legendgroup\": \"Del Norte\", \"line\": {\"color\": \"#B6E880\", \"dash\": \"solid\"}, \"mode\": \"lines\", \"name\": \"Del Norte\", \"orientation\": \"v\", \"showlegend\": true, \"type\": \"scatter\", \"x\": [\"March\", \"April\", \"May\", \"June\", \"July\", \"August\", \"September\"], \"xaxis\": \"x\", \"y\": [3.5955702574428305, 10.78671077232849, 147.41838055515606, 50.33798360419962, 107.8671077232849, 100.67596720839924, 107.8671077232849], \"yaxis\": \"y\"}, {\"hovertemplate\": \"<b>%{hovertext}</b><br><br>County=El Dorado<br>2020=%{x}<br>COVID-19 Cases per 100k=%{y}<extra></extra>\", \"hovertext\": [\"El Dorado\", \"El Dorado\", \"El Dorado\", \"El Dorado\", \"El Dorado\", \"El Dorado\", \"El Dorado\"], \"legendgroup\": \"El Dorado\", \"line\": {\"color\": \"#FF97FF\", \"dash\": \"solid\"}, \"mode\": \"lines\", \"name\": \"El Dorado\", \"orientation\": \"v\", \"showlegend\": true, \"type\": \"scatter\", \"x\": [\"March\", \"April\", \"May\", \"June\", \"July\", \"August\", \"September\"], \"xaxis\": \"x\", \"y\": [15.556696379956753, 14.001026741961077, 28.002053483922154, 90.74739554974772, 262.9081688212691, 116.67522284967565, 110.45254429769295], \"yaxis\": \"y\"}, {\"hovertemplate\": \"<b>%{hovertext}</b><br><br>County=Fresno<br>2020=%{x}<br>COVID-19 Cases per 100k=%{y}<extra></extra>\", \"hovertext\": [\"Fresno\", \"Fresno\", \"Fresno\", \"Fresno\", \"Fresno\", \"Fresno\", \"Fresno\"], \"legendgroup\": \"Fresno\", \"line\": {\"color\": \"#FECB52\", \"dash\": \"solid\"}, \"mode\": \"lines\", \"name\": \"Fresno\", \"orientation\": \"v\", \"showlegend\": true, \"type\": \"scatter\", \"x\": [\"March\", \"April\", \"May\", \"June\", \"July\", \"August\", \"September\"], \"xaxis\": \"x\", \"y\": [23.220875567134854, 85.77711362514901, 204.1835610213582, 664.2972031856639, 1193.1726622233389, 615.0529325863952, 300.77039258293206], \"yaxis\": \"y\"}, {\"hovertemplate\": \"<b>%{hovertext}</b><br><br>County=Glenn<br>2020=%{x}<br>COVID-19 Cases per 100k=%{y}<extra></extra>\", \"hovertext\": [\"Glenn\", \"Glenn\", \"Glenn\", \"Glenn\", \"Glenn\", \"Glenn\", \"Glenn\"], \"legendgroup\": \"Glenn\", \"line\": {\"color\": \"#636efa\", \"dash\": \"solid\"}, \"mode\": \"lines\", \"name\": \"Glenn\", \"orientation\": \"v\", \"showlegend\": true, \"type\": \"scatter\", \"x\": [\"March\", \"April\", \"May\", \"June\", \"July\", \"August\", \"September\"], \"xaxis\": \"x\", \"y\": [10.565984573662522, 14.087979431550028, 45.785933152537595, 510.6892543936886, 760.7508893037017, 348.67749093086326, 447.29334695171343], \"yaxis\": \"y\"}, {\"hovertemplate\": \"<b>%{hovertext}</b><br><br>County=Humboldt<br>2020=%{x}<br>COVID-19 Cases per 100k=%{y}<extra></extra>\", \"hovertext\": [\"Humboldt\", \"Humboldt\", \"Humboldt\", \"Humboldt\", \"Humboldt\", \"Humboldt\", \"Humboldt\"], \"legendgroup\": \"Humboldt\", \"line\": {\"color\": \"#EF553B\", \"dash\": \"solid\"}, \"mode\": \"lines\", \"name\": \"Humboldt\", \"orientation\": \"v\", \"showlegend\": true, \"type\": \"scatter\", \"x\": [\"March\", \"April\", \"May\", \"June\", \"July\", \"August\", \"September\"], \"xaxis\": \"x\", \"y\": [36.146889154457874, 6.639224538573894, 38.35996400064917, 35.40919753906077, 78.93300284748963, 118.76835007893301, 66.39224538573895], \"yaxis\": \"y\"}, {\"hovertemplate\": \"<b>%{hovertext}</b><br><br>County=Imperial<br>2020=%{x}<br>COVID-19 Cases per 100k=%{y}<extra></extra>\", \"hovertext\": [\"Imperial\", \"Imperial\", \"Imperial\", \"Imperial\", \"Imperial\", \"Imperial\", \"Imperial\"], \"legendgroup\": \"Imperial\", \"line\": {\"color\": \"#00cc96\", \"dash\": \"solid\"}, \"mode\": \"lines\", \"name\": \"Imperial\", \"orientation\": \"v\", \"showlegend\": true, \"type\": \"scatter\", \"x\": [\"March\", \"April\", \"May\", \"June\", \"July\", \"August\", \"September\"], \"xaxis\": \"x\", \"y\": [51.32025494578264, 268.1897193940899, 1774.1356951687221, 2411.5001517534424, 1193.6098005132026, 529.205639709737, 373.58938277736394], \"yaxis\": \"y\"}, {\"hovertemplate\": \"<b>%{hovertext}</b><br><br>County=Inyo<br>2020=%{x}<br>COVID-19 Cases per 100k=%{y}<extra></extra>\", \"hovertext\": [\"Inyo\", \"Inyo\", \"Inyo\", \"Inyo\", \"Inyo\", \"Inyo\", \"Inyo\"], \"legendgroup\": \"Inyo\", \"line\": {\"color\": \"#ab63fa\", \"dash\": \"solid\"}, \"mode\": \"lines\", \"name\": \"Inyo\", \"orientation\": \"v\", \"showlegend\": true, \"type\": \"scatter\", \"x\": [\"March\", \"April\", \"May\", \"June\", \"July\", \"August\", \"September\"], \"xaxis\": \"x\", \"y\": [55.43544542380398, 49.89190088142358, 5.543544542380398, 77.60962359332557, 210.6546926104551, 609.7898996618438, 83.15316813570597], \"yaxis\": \"y\"}, {\"hovertemplate\": \"<b>%{hovertext}</b><br><br>County=Kern<br>2020=%{x}<br>COVID-19 Cases per 100k=%{y}<extra></extra>\", \"hovertext\": [\"Kern\", \"Kern\", \"Kern\", \"Kern\", \"Kern\", \"Kern\", \"Kern\"], \"legendgroup\": \"Kern\", \"line\": {\"color\": \"#FFA15A\", \"dash\": \"solid\"}, \"mode\": \"lines\", \"name\": \"Kern\", \"orientation\": \"v\", \"showlegend\": true, \"type\": \"scatter\", \"x\": [\"March\", \"April\", \"May\", \"June\", \"July\", \"August\", \"September\"], \"xaxis\": \"x\", \"y\": [30.770871426635356, 105.9762142274734, 183.40328059702156, 739.8339483804746, 1706.728045483125, 548.09920440079, 246.9445746621314], \"yaxis\": \"y\"}, {\"hovertemplate\": \"<b>%{hovertext}</b><br><br>County=Kings<br>2020=%{x}<br>COVID-19 Cases per 100k=%{y}<extra></extra>\", \"hovertext\": [\"Kings\", \"Kings\", \"Kings\", \"Kings\", \"Kings\", \"Kings\", \"Kings\"], \"legendgroup\": \"Kings\", \"line\": {\"color\": \"#19d3f3\", \"dash\": \"solid\"}, \"mode\": \"lines\", \"name\": \"Kings\", \"orientation\": \"v\", \"showlegend\": true, \"type\": \"scatter\", \"x\": [\"March\", \"April\", \"May\", \"June\", \"July\", \"August\", \"September\"], \"xaxis\": \"x\", \"y\": [11.769321302471557, 146.4626650974238, 647.3126716359357, 1001.7000130770236, 1309.663920491696, 1042.2387864522036, 1049.4311494703804], \"yaxis\": \"y\"}, {\"hovertemplate\": \"<b>%{hovertext}</b><br><br>County=Lake<br>2020=%{x}<br>COVID-19 Cases per 100k=%{y}<extra></extra>\", \"hovertext\": [\"Lake\", \"Lake\", \"Lake\", \"Lake\", \"Lake\", \"Lake\", \"Lake\"], \"legendgroup\": \"Lake\", \"line\": {\"color\": \"#FF6692\", \"dash\": \"solid\"}, \"mode\": \"lines\", \"name\": \"Lake\", \"orientation\": \"v\", \"showlegend\": true, \"type\": \"scatter\", \"x\": [\"March\", \"April\", \"May\", \"June\", \"July\", \"August\", \"September\"], \"xaxis\": \"x\", \"y\": [1.553132668592551, 12.425061348740408, 34.16891870903613, 97.84735812133071, 218.99170627154973, 198.80098157984654, 358.7736464448793], \"yaxis\": \"y\"}, {\"hovertemplate\": \"<b>%{hovertext}</b><br><br>County=Lassen<br>2020=%{x}<br>COVID-19 Cases per 100k=%{y}<extra></extra>\", \"hovertext\": [\"Lassen\", \"Lassen\", \"Lassen\", \"Lassen\", \"Lassen\", \"Lassen\", \"Lassen\"], \"legendgroup\": \"Lassen\", \"line\": {\"color\": \"#B6E880\", \"dash\": \"solid\"}, \"mode\": \"lines\", \"name\": \"Lassen\", \"orientation\": \"v\", \"showlegend\": true, \"type\": \"scatter\", \"x\": [\"March\", \"April\", \"May\", \"June\", \"July\", \"August\", \"September\"], \"xaxis\": \"x\", \"y\": [0.0, 0.0, 19.625159454420565, 771.9229385405423, 1269.0936447191968, 278.02309227095805, 85.04235763582246], \"yaxis\": \"y\"}, {\"hovertemplate\": \"<b>%{hovertext}</b><br><br>County=Los Angeles<br>2020=%{x}<br>COVID-19 Cases per 100k=%{y}<extra></extra>\", \"hovertext\": [\"Los Angeles\", \"Los Angeles\", \"Los Angeles\", \"Los Angeles\", \"Los Angeles\", \"Los Angeles\", \"Los Angeles\"], \"legendgroup\": \"Los Angeles\", \"line\": {\"color\": \"#FF97FF\", \"dash\": \"solid\"}, \"mode\": \"lines\", \"name\": \"Los Angeles\", \"orientation\": \"v\", \"showlegend\": true, \"type\": \"scatter\", \"x\": [\"March\", \"April\", \"May\", \"June\", \"July\", \"August\", \"September\"], \"xaxis\": \"x\", \"y\": [68.44234253106377, 232.27165523786127, 317.20948885194673, 568.4569354624869, 834.7355994910703, 420.1170482593721, 278.33152888997], \"yaxis\": \"y\"}, {\"hovertemplate\": \"<b>%{hovertext}</b><br><br>County=Madera<br>2020=%{x}<br>COVID-19 Cases per 100k=%{y}<extra></extra>\", \"hovertext\": [\"Madera\", \"Madera\", \"Madera\", \"Madera\", \"Madera\", \"Madera\", \"Madera\"], \"legendgroup\": \"Madera\", \"line\": {\"color\": \"#FECB52\", \"dash\": \"solid\"}, \"mode\": \"lines\", \"name\": \"Madera\", \"orientation\": \"v\", \"showlegend\": true, \"type\": \"scatter\", \"x\": [\"March\", \"April\", \"May\", \"June\", \"July\", \"August\", \"September\"], \"xaxis\": \"x\", \"y\": [25.424752267570092, 20.97542062074533, 108.05519713717291, 470.3579169500467, 1191.7852625423482, 706.1724942317593, 436.67012019551635], \"yaxis\": \"y\"}, {\"hovertemplate\": \"<b>%{hovertext}</b><br><br>County=Marin<br>2020=%{x}<br>COVID-19 Cases per 100k=%{y}<extra></extra>\", \"hovertext\": [\"Marin\", \"Marin\", \"Marin\", \"Marin\", \"Marin\", \"Marin\", \"Marin\"], \"legendgroup\": \"Marin\", \"line\": {\"color\": \"#636efa\", \"dash\": \"solid\"}, \"mode\": \"lines\", \"name\": \"Marin\", \"orientation\": \"v\", \"showlegend\": true, \"type\": \"scatter\", \"x\": [\"March\", \"April\", \"May\", \"June\", \"July\", \"August\", \"September\"], \"xaxis\": \"x\", \"y\": [50.99951318646504, 44.431394063965755, 107.02170570190012, 982.1269887878343, 911.4231182338714, 329.5650359701112, 203.22533284909554], \"yaxis\": \"y\"}, {\"hovertemplate\": \"<b>%{hovertext}</b><br><br>County=Mariposa<br>2020=%{x}<br>COVID-19 Cases per 100k=%{y}<extra></extra>\", \"hovertext\": [\"Mariposa\", \"Mariposa\", \"Mariposa\", \"Mariposa\", \"Mariposa\", \"Mariposa\", \"Mariposa\"], \"legendgroup\": \"Mariposa\", \"line\": {\"color\": \"#EF553B\", \"dash\": \"solid\"}, \"mode\": \"lines\", \"name\": \"Mariposa\", \"orientation\": \"v\", \"showlegend\": true, \"type\": \"scatter\", \"x\": [\"March\", \"April\", \"May\", \"June\", \"July\", \"August\", \"September\"], \"xaxis\": \"x\", \"y\": [0.0, 87.19409405336279, 5.812939603557519, 104.63291286403535, 156.949369296053, 69.75527524269023, 23.251758414230075], \"yaxis\": \"y\"}, {\"hovertemplate\": \"<b>%{hovertext}</b><br><br>County=Mendocino<br>2020=%{x}<br>COVID-19 Cases per 100k=%{y}<extra></extra>\", \"hovertext\": [\"Mendocino\", \"Mendocino\", \"Mendocino\", \"Mendocino\", \"Mendocino\", \"Mendocino\", \"Mendocino\"], \"legendgroup\": \"Mendocino\", \"line\": {\"color\": \"#00cc96\", \"dash\": \"solid\"}, \"mode\": \"lines\", \"name\": \"Mendocino\", \"orientation\": \"v\", \"showlegend\": true, \"type\": \"scatter\", \"x\": [\"March\", \"April\", \"May\", \"June\", \"July\", \"August\", \"September\"], \"xaxis\": \"x\", \"y\": [4.611004161431256, 8.069257282504697, 23.05502080715628, 66.8595603407532, 261.67448616122374, 376.94959019700514, 289.3405111298113], \"yaxis\": \"y\"}, {\"hovertemplate\": \"<b>%{hovertext}</b><br><br>County=Merced<br>2020=%{x}<br>COVID-19 Cases per 100k=%{y}<extra></extra>\", \"hovertext\": [\"Merced\", \"Merced\", \"Merced\", \"Merced\", \"Merced\", \"Merced\", \"Merced\"], \"legendgroup\": \"Merced\", \"line\": {\"color\": \"#ab63fa\", \"dash\": \"solid\"}, \"mode\": \"lines\", \"name\": \"Merced\", \"orientation\": \"v\", \"showlegend\": true, \"type\": \"scatter\", \"x\": [\"March\", \"April\", \"May\", \"June\", \"July\", \"August\", \"September\"], \"xaxis\": \"x\", \"y\": [11.524056467876692, 59.06078939786805, 70.2247191011236, 523.2641889945261, 1482.6418899452608, 813.1662345145492, 289.902045520023], \"yaxis\": \"y\"}, {\"hovertemplate\": \"<b>%{hovertext}</b><br><br>County=Modoc<br>2020=%{x}<br>COVID-19 Cases per 100k=%{y}<extra></extra>\", \"hovertext\": [\"Modoc\", \"Modoc\", \"Modoc\", \"Modoc\", \"Modoc\", \"Modoc\", \"Modoc\"], \"legendgroup\": \"Modoc\", \"line\": {\"color\": \"#FFA15A\", \"dash\": \"solid\"}, \"mode\": \"lines\", \"name\": \"Modoc\", \"orientation\": \"v\", \"showlegend\": true, \"type\": \"scatter\", \"x\": [\"March\", \"April\", \"May\", \"June\", \"July\", \"August\", \"September\"], \"xaxis\": \"x\", \"y\": [0.0, 0.0, 0.0, 11.310937676733401, 56.554688383667006, 135.73125212080083, 124.42031444406742], \"yaxis\": \"y\"}, {\"hovertemplate\": \"<b>%{hovertext}</b><br><br>County=Mono<br>2020=%{x}<br>COVID-19 Cases per 100k=%{y}<extra></extra>\", \"hovertext\": [\"Mono\", \"Mono\", \"Mono\", \"Mono\", \"Mono\", \"Mono\", \"Mono\"], \"legendgroup\": \"Mono\", \"line\": {\"color\": \"#19d3f3\", \"dash\": \"solid\"}, \"mode\": \"lines\", \"name\": \"Mono\", \"orientation\": \"v\", \"showlegend\": true, \"type\": \"scatter\", \"x\": [\"March\", \"April\", \"May\", \"June\", \"July\", \"August\", \"September\"], \"xaxis\": \"x\", \"y\": [173.08224868457492, 34.61644973691498, 55.38631957906397, 69.23289947382996, 692.3289947382997, 96.92605926336195, 41.53973968429798], \"yaxis\": \"y\"}, {\"hovertemplate\": \"<b>%{hovertext}</b><br><br>County=Monterey<br>2020=%{x}<br>COVID-19 Cases per 100k=%{y}<extra></extra>\", \"hovertext\": [\"Monterey\", \"Monterey\", \"Monterey\", \"Monterey\", \"Monterey\", \"Monterey\", \"Monterey\"], \"legendgroup\": \"Monterey\", \"line\": {\"color\": \"#FF6692\", \"dash\": \"solid\"}, \"mode\": \"lines\", \"name\": \"Monterey\", \"orientation\": \"v\", \"showlegend\": true, \"type\": \"scatter\", \"x\": [\"March\", \"April\", \"May\", \"June\", \"July\", \"August\", \"September\"], \"xaxis\": \"x\", \"y\": [17.278677420915493, 43.08150236948263, 103.44168215988074, 360.7787845487155, 768.7859540479333, 636.5464761865268, 421.83011143595024], \"yaxis\": \"y\"}, {\"hovertemplate\": \"<b>%{hovertext}</b><br><br>County=Napa<br>2020=%{x}<br>COVID-19 Cases per 100k=%{y}<extra></extra>\", \"hovertext\": [\"Napa\", \"Napa\", \"Napa\", \"Napa\", \"Napa\", \"Napa\", \"Napa\"], \"legendgroup\": \"Napa\", \"line\": {\"color\": \"#B6E880\", \"dash\": \"solid\"}, \"mode\": \"lines\", \"name\": \"Napa\", \"orientation\": \"v\", \"showlegend\": true, \"type\": \"scatter\", \"x\": [\"March\", \"April\", \"May\", \"June\", \"July\", \"August\", \"September\"], \"xaxis\": \"x\", \"y\": [24.68347078638634, 34.12126844000465, 46.46300383319782, 247.56069229875715, 501.65524451155767, 242.47880125450112, 194.56382855151585], \"yaxis\": \"y\"}, {\"hovertemplate\": \"<b>%{hovertext}</b><br><br>County=Nevada<br>2020=%{x}<br>COVID-19 Cases per 100k=%{y}<extra></extra>\", \"hovertext\": [\"Nevada\", \"Nevada\", \"Nevada\", \"Nevada\", \"Nevada\", \"Nevada\", \"Nevada\"], \"legendgroup\": \"Nevada\", \"line\": {\"color\": \"#FF97FF\", \"dash\": \"solid\"}, \"mode\": \"lines\", \"name\": \"Nevada\", \"orientation\": \"v\", \"showlegend\": true, \"type\": \"scatter\", \"x\": [\"March\", \"April\", \"May\", \"June\", \"July\", \"August\", \"September\"], \"xaxis\": \"x\", \"y\": [35.08596060347852, 6.014736103453461, 9.022104155180191, 108.2652498621623, 186.4568192070573, 122.29963410355371, 93.22840960352865], \"yaxis\": \"y\"}, {\"hovertemplate\": \"<b>%{hovertext}</b><br><br>County=Orange<br>2020=%{x}<br>COVID-19 Cases per 100k=%{y}<extra></extra>\", \"hovertext\": [\"Orange\", \"Orange\", \"Orange\", \"Orange\", \"Orange\", \"Orange\", \"Orange\"], \"legendgroup\": \"Orange\", \"line\": {\"color\": \"#FECB52\", \"dash\": \"solid\"}, \"mode\": \"lines\", \"name\": \"Orange\", \"orientation\": \"v\", \"showlegend\": true, \"type\": \"scatter\", \"x\": [\"March\", \"April\", \"May\", \"June\", \"July\", \"August\", \"September\"], \"xaxis\": \"x\", \"y\": [39.9283053898174, 80.48639477631963, 166.54637792329987, 466.57547394394675, 617.3142735504576, 217.68483845410702, 165.19234233042752], \"yaxis\": \"y\"}, {\"hovertemplate\": \"<b>%{hovertext}</b><br><br>County=Placer<br>2020=%{x}<br>COVID-19 Cases per 100k=%{y}<extra></extra>\", \"hovertext\": [\"Placer\", \"Placer\", \"Placer\", \"Placer\", \"Placer\", \"Placer\", \"Placer\"], \"legendgroup\": \"Placer\", \"line\": {\"color\": \"#636efa\", \"dash\": \"solid\"}, \"mode\": \"lines\", \"name\": \"Placer\", \"orientation\": \"v\", \"showlegend\": true, \"type\": \"scatter\", \"x\": [\"March\", \"April\", \"May\", \"June\", \"July\", \"August\", \"September\"], \"xaxis\": \"x\", \"y\": [28.36850944821994, 13.305584077483688, 22.845436812283314, 175.23203181289838, 337.409528304492, 213.64249150827584, 136.82157211752096], \"yaxis\": \"y\"}, {\"hovertemplate\": \"<b>%{hovertext}</b><br><br>County=Plumas<br>2020=%{x}<br>COVID-19 Cases per 100k=%{y}<extra></extra>\", \"hovertext\": [\"Plumas\", \"Plumas\", \"Plumas\", \"Plumas\", \"Plumas\", \"Plumas\", \"Plumas\"], \"legendgroup\": \"Plumas\", \"line\": {\"color\": \"#EF553B\", \"dash\": \"solid\"}, \"mode\": \"lines\", \"name\": \"Plumas\", \"orientation\": \"v\", \"showlegend\": true, \"type\": \"scatter\", \"x\": [\"March\", \"April\", \"May\", \"June\", \"July\", \"August\", \"September\"], \"xaxis\": \"x\", \"y\": [5.317169139150316, 15.95150741745095, 0.0, 42.53735311320253, 116.97772106130697, 47.85452225235285, 42.53735311320253], \"yaxis\": \"y\"}, {\"hovertemplate\": \"<b>%{hovertext}</b><br><br>County=Riverside<br>2020=%{x}<br>COVID-19 Cases per 100k=%{y}<extra></extra>\", \"hovertext\": [\"Riverside\", \"Riverside\", \"Riverside\", \"Riverside\", \"Riverside\", \"Riverside\", \"Riverside\"], \"legendgroup\": \"Riverside\", \"line\": {\"color\": \"#00cc96\", \"dash\": \"solid\"}, \"mode\": \"lines\", \"name\": \"Riverside\", \"orientation\": \"v\", \"showlegend\": true, \"type\": \"scatter\", \"x\": [\"March\", \"April\", \"May\", \"June\", \"July\", \"August\", \"September\"], \"xaxis\": \"x\", \"y\": [46.75079921604374, 147.7001440167477, 198.25577018197598, 609.096126929027, 832.5689948699599, 353.0798455078351, 268.4426843296988], \"yaxis\": \"y\"}, {\"hovertemplate\": \"<b>%{hovertext}</b><br><br>County=Sacramento<br>2020=%{x}<br>COVID-19 Cases per 100k=%{y}<extra></extra>\", \"hovertext\": [\"Sacramento\", \"Sacramento\", \"Sacramento\", \"Sacramento\", \"Sacramento\", \"Sacramento\", \"Sacramento\"], \"legendgroup\": \"Sacramento\", \"line\": {\"color\": \"#ab63fa\", \"dash\": \"solid\"}, \"mode\": \"lines\", \"name\": \"Sacramento\", \"orientation\": \"v\", \"showlegend\": true, \"type\": \"scatter\", \"x\": [\"March\", \"April\", \"May\", \"June\", \"July\", \"August\", \"September\"], \"xaxis\": \"x\", \"y\": [38.40062678070021, 34.59922245173827, 25.25678808395047, 196.89985812385876, 548.6908350074547, 385.61703235317236, 276.2139043772849], \"yaxis\": \"y\"}, {\"hovertemplate\": \"<b>%{hovertext}</b><br><br>County=San Benito<br>2020=%{x}<br>COVID-19 Cases per 100k=%{y}<extra></extra>\", \"hovertext\": [\"San Benito\", \"San Benito\", \"San Benito\", \"San Benito\", \"San Benito\", \"San Benito\", \"San Benito\"], \"legendgroup\": \"San Benito\", \"line\": {\"color\": \"#FFA15A\", \"dash\": \"solid\"}, \"mode\": \"lines\", \"name\": \"San Benito\", \"orientation\": \"v\", \"showlegend\": true, \"type\": \"scatter\", \"x\": [\"March\", \"April\", \"May\", \"June\", \"July\", \"August\", \"September\"], \"xaxis\": \"x\", \"y\": [47.76461597248758, 39.80384664373965, 70.05477009298178, 321.61508088141636, 670.2967774805758, 711.692777990065, 304.10138835817094], \"yaxis\": \"y\"}, {\"hovertemplate\": \"<b>%{hovertext}</b><br><br>County=San Bernardino<br>2020=%{x}<br>COVID-19 Cases per 100k=%{y}<extra></extra>\", \"hovertext\": [\"San Bernardino\", \"San Bernardino\", \"San Bernardino\", \"San Bernardino\", \"San Bernardino\", \"San Bernardino\", \"San Bernardino\"], \"legendgroup\": \"San Bernardino\", \"line\": {\"color\": \"#19d3f3\", \"dash\": \"solid\"}, \"mode\": \"lines\", \"name\": \"San Bernardino\", \"orientation\": \"v\", \"showlegend\": true, \"type\": \"scatter\", \"x\": [\"March\", \"April\", \"May\", \"June\", \"July\", \"August\", \"September\"], \"xaxis\": \"x\", \"y\": [33.25558407126328, 88.43691874399393, 173.25012556849848, 614.7008029503437, 936.7065963024378, 428.19431352447265, 290.4932605838763], \"yaxis\": \"y\"}, {\"hovertemplate\": \"<b>%{hovertext}</b><br><br>County=San Diego<br>2020=%{x}<br>COVID-19 Cases per 100k=%{y}<extra></extra>\", \"hovertext\": [\"San Diego\", \"San Diego\", \"San Diego\", \"San Diego\", \"San Diego\", \"San Diego\", \"San Diego\"], \"legendgroup\": \"San Diego\", \"line\": {\"color\": \"#FF6692\", \"dash\": \"solid\"}, \"mode\": \"lines\", \"name\": \"San Diego\", \"orientation\": \"v\", \"showlegend\": true, \"type\": \"scatter\", \"x\": [\"March\", \"April\", \"May\", \"June\", \"July\", \"August\", \"September\"], \"xaxis\": \"x\", \"y\": [46.8797272887941, 90.37452858165611, 120.41949118271711, 279.570923186144, 438.75231028687995, 238.08311341299392, 255.90639631192843], \"yaxis\": \"y\"}, {\"hovertemplate\": \"<b>%{hovertext}</b><br><br>County=San Francisco<br>2020=%{x}<br>COVID-19 Cases per 100k=%{y}<extra></extra>\", \"hovertext\": [\"San Francisco\", \"San Francisco\", \"San Francisco\", \"San Francisco\", \"San Francisco\", \"San Francisco\", \"San Francisco\"], \"legendgroup\": \"San Francisco\", \"line\": {\"color\": \"#B6E880\", \"dash\": \"solid\"}, \"mode\": \"lines\", \"name\": \"San Francisco\", \"orientation\": \"v\", \"showlegend\": true, \"type\": \"scatter\", \"x\": [\"March\", \"April\", \"May\", \"June\", \"July\", \"August\", \"September\"], \"xaxis\": \"x\", \"y\": [83.26252993310639, 125.46097834607039, 98.91679305404463, 159.03823837359013, 373.5470178061571, 281.54986279832434, 184.10774670494777], \"yaxis\": \"y\"}, {\"hovertemplate\": \"<b>%{hovertext}</b><br><br>County=San Joaquin<br>2020=%{x}<br>COVID-19 Cases per 100k=%{y}<extra></extra>\", \"hovertext\": [\"San Joaquin\", \"San Joaquin\", \"San Joaquin\", \"San Joaquin\", \"San Joaquin\", \"San Joaquin\", \"San Joaquin\"], \"legendgroup\": \"San Joaquin\", \"line\": {\"color\": \"#FF97FF\", \"dash\": \"solid\"}, \"mode\": \"lines\", \"name\": \"San Joaquin\", \"orientation\": \"v\", \"showlegend\": true, \"type\": \"scatter\", \"x\": [\"March\", \"April\", \"May\", \"June\", \"July\", \"August\", \"September\"], \"xaxis\": \"x\", \"y\": [29.91544949274944, 47.62854458714055, 77.28157785626938, 581.3831434314595, 1211.3132882327318, 517.0911686444102, 230.92627678613604], \"yaxis\": \"y\"}, {\"hovertemplate\": \"<b>%{hovertext}</b><br><br>County=San Luis Obispo<br>2020=%{x}<br>COVID-19 Cases per 100k=%{y}<extra></extra>\", \"hovertext\": [\"San Luis Obispo\", \"San Luis Obispo\", \"San Luis Obispo\", \"San Luis Obispo\", \"San Luis Obispo\", \"San Luis Obispo\", \"San Luis Obispo\"], \"legendgroup\": \"San Luis Obispo\", \"line\": {\"color\": \"#FECB52\", \"dash\": \"solid\"}, \"mode\": \"lines\", \"name\": \"San Luis Obispo\", \"orientation\": \"v\", \"showlegend\": true, \"type\": \"scatter\", \"x\": [\"March\", \"April\", \"May\", \"June\", \"July\", \"August\", \"September\"], \"xaxis\": \"x\", \"y\": [39.56045508652083, 40.973328482468006, 32.496088106784974, 179.43492128529093, 436.57787934767634, 368.4067379932253, 222.5275598616797], \"yaxis\": \"y\"}, {\"hovertemplate\": \"<b>%{hovertext}</b><br><br>County=San Mateo<br>2020=%{x}<br>COVID-19 Cases per 100k=%{y}<extra></extra>\", \"hovertext\": [\"San Mateo\", \"San Mateo\", \"San Mateo\", \"San Mateo\", \"San Mateo\", \"San Mateo\", \"San Mateo\"], \"legendgroup\": \"San Mateo\", \"line\": {\"color\": \"#636efa\", \"dash\": \"solid\"}, \"mode\": \"lines\", \"name\": \"San Mateo\", \"orientation\": \"v\", \"showlegend\": true, \"type\": \"scatter\", \"x\": [\"March\", \"April\", \"May\", \"June\", \"July\", \"August\", \"September\"], \"xaxis\": \"x\", \"y\": [83.09710882068634, 95.4899272476333, 121.71052202464736, 184.7182199216513, 352.6082969267115, 285.55662670091436, 222.80983024447772], \"yaxis\": \"y\"}, {\"hovertemplate\": \"<b>%{hovertext}</b><br><br>County=Santa Barbara<br>2020=%{x}<br>COVID-19 Cases per 100k=%{y}<extra></extra>\", \"hovertext\": [\"Santa Barbara\", \"Santa Barbara\", \"Santa Barbara\", \"Santa Barbara\", \"Santa Barbara\", \"Santa Barbara\", \"Santa Barbara\"], \"legendgroup\": \"Santa Barbara\", \"line\": {\"color\": \"#EF553B\", \"dash\": \"solid\"}, \"mode\": \"lines\", \"name\": \"Santa Barbara\", \"orientation\": \"v\", \"showlegend\": true, \"type\": \"scatter\", \"x\": [\"March\", \"April\", \"May\", \"June\", \"July\", \"August\", \"September\"], \"xaxis\": \"x\", \"y\": [58.9027075088634, 84.43467958494867, 312.8786402657117, 477.0447414215933, 668.3105673248989, 340.87422368247184, 206.27145861468895], \"yaxis\": \"y\"}, {\"hovertemplate\": \"<b>%{hovertext}</b><br><br>County=Santa Clara<br>2020=%{x}<br>COVID-19 Cases per 100k=%{y}<extra></extra>\", \"hovertext\": [\"Santa Clara\", \"Santa Clara\", \"Santa Clara\", \"Santa Clara\", \"Santa Clara\", \"Santa Clara\", \"Santa Clara\"], \"legendgroup\": \"Santa Clara\", \"line\": {\"color\": \"#00cc96\", \"dash\": \"solid\"}, \"mode\": \"lines\", \"name\": \"Santa Clara\", \"orientation\": \"v\", \"showlegend\": true, \"type\": \"scatter\", \"x\": [\"March\", \"April\", \"May\", \"June\", \"July\", \"August\", \"September\"], \"xaxis\": \"x\", \"y\": [69.24805431122306, 55.76154186109722, 38.644045289783655, 131.1822691783394, 366.31442662611033, 306.1957038195878, 189.79672713465555], \"yaxis\": \"y\"}, {\"hovertemplate\": \"<b>%{hovertext}</b><br><br>County=Santa Cruz<br>2020=%{x}<br>COVID-19 Cases per 100k=%{y}<extra></extra>\", \"hovertext\": [\"Santa Cruz\", \"Santa Cruz\", \"Santa Cruz\", \"Santa Cruz\", \"Santa Cruz\", \"Santa Cruz\", \"Santa Cruz\"], \"legendgroup\": \"Santa Cruz\", \"line\": {\"color\": \"#ab63fa\", \"dash\": \"solid\"}, \"mode\": \"lines\", \"name\": \"Santa Cruz\", \"orientation\": \"v\", \"showlegend\": true, \"type\": \"scatter\", \"x\": [\"March\", \"April\", \"May\", \"June\", \"July\", \"August\", \"September\"], \"xaxis\": \"x\", \"y\": [27.08509477953099, 21.228858070443206, 32.57531669430078, 92.96775775676852, 308.91648640438046, 225.4651132998796, 218.14481741351983], \"yaxis\": \"y\"}, {\"hovertemplate\": \"<b>%{hovertext}</b><br><br>County=Shasta<br>2020=%{x}<br>COVID-19 Cases per 100k=%{y}<extra></extra>\", \"hovertext\": [\"Shasta\", \"Shasta\", \"Shasta\", \"Shasta\", \"Shasta\", \"Shasta\", \"Shasta\"], \"legendgroup\": \"Shasta\", \"line\": {\"color\": \"#FFA15A\", \"dash\": \"solid\"}, \"mode\": \"lines\", \"name\": \"Shasta\", \"orientation\": \"v\", \"showlegend\": true, \"type\": \"scatter\", \"x\": [\"March\", \"April\", \"May\", \"June\", \"July\", \"August\", \"September\"], \"xaxis\": \"x\", \"y\": [11.106175033318525, 8.329631274988895, 11.106175033318525, 88.8494002665482, 152.70990670812972, 79.96446023989337, 388.7161261661484], \"yaxis\": \"y\"}, {\"hovertemplate\": \"<b>%{hovertext}</b><br><br>County=Sierra<br>2020=%{x}<br>COVID-19 Cases per 100k=%{y}<extra></extra>\", \"hovertext\": [\"Sierra\", \"Sierra\", \"Sierra\", \"Sierra\", \"Sierra\", \"Sierra\", \"Sierra\"], \"legendgroup\": \"Sierra\", \"line\": {\"color\": \"#19d3f3\", \"dash\": \"solid\"}, \"mode\": \"lines\", \"name\": \"Sierra\", \"orientation\": \"v\", \"showlegend\": true, \"type\": \"scatter\", \"x\": [\"March\", \"April\", \"May\", \"June\", \"July\", \"August\", \"September\"], \"xaxis\": \"x\", \"y\": [0.0, 0.0, 33.277870216306155, 0.0, 66.55574043261231, 99.83361064891847, 0.0], \"yaxis\": \"y\"}, {\"hovertemplate\": \"<b>%{hovertext}</b><br><br>County=Siskiyou<br>2020=%{x}<br>COVID-19 Cases per 100k=%{y}<extra></extra>\", \"hovertext\": [\"Siskiyou\", \"Siskiyou\", \"Siskiyou\", \"Siskiyou\", \"Siskiyou\", \"Siskiyou\", \"Siskiyou\"], \"legendgroup\": \"Siskiyou\", \"line\": {\"color\": \"#FF6692\", \"dash\": \"solid\"}, \"mode\": \"lines\", \"name\": \"Siskiyou\", \"orientation\": \"v\", \"showlegend\": true, \"type\": \"scatter\", \"x\": [\"March\", \"April\", \"May\", \"June\", \"July\", \"August\", \"September\"], \"xaxis\": \"x\", \"y\": [9.187165529754932, 2.296791382438733, 13.780748294632398, 52.826201796090864, 142.40106571120145, 96.46523806242679, 52.826201796090864], \"yaxis\": \"y\"}, {\"hovertemplate\": \"<b>%{hovertext}</b><br><br>County=Solano<br>2020=%{x}<br>COVID-19 Cases per 100k=%{y}<extra></extra>\", \"hovertext\": [\"Solano\", \"Solano\", \"Solano\", \"Solano\", \"Solano\", \"Solano\", \"Solano\"], \"legendgroup\": \"Solano\", \"line\": {\"color\": \"#B6E880\", \"dash\": \"solid\"}, \"mode\": \"lines\", \"name\": \"Solano\", \"orientation\": \"v\", \"showlegend\": true, \"type\": \"scatter\", \"x\": [\"March\", \"April\", \"May\", \"June\", \"July\", \"August\", \"September\"], \"xaxis\": \"x\", \"y\": [22.562622446905234, 49.1463063199916, 66.57090583344316, 292.42052260395, 539.0456234097261, 295.1012302214041, 195.24487147123935], \"yaxis\": \"y\"}, {\"hovertemplate\": \"<b>%{hovertext}</b><br><br>County=Sonoma<br>2020=%{x}<br>COVID-19 Cases per 100k=%{y}<extra></extra>\", \"hovertext\": [\"Sonoma\", \"Sonoma\", \"Sonoma\", \"Sonoma\", \"Sonoma\", \"Sonoma\", \"Sonoma\"], \"legendgroup\": \"Sonoma\", \"line\": {\"color\": \"#FF97FF\", \"dash\": \"solid\"}, \"mode\": \"lines\", \"name\": \"Sonoma\", \"orientation\": \"v\", \"showlegend\": true, \"type\": \"scatter\", \"x\": [\"March\", \"April\", \"May\", \"June\", \"July\", \"August\", \"September\"], \"xaxis\": \"x\", \"y\": [29.736859140341792, 28.118526670119113, 71.20662868979804, 183.68073537027445, 454.549132573796, 479.8355774210254, 368.37292853443813], \"yaxis\": \"y\"}, {\"hovertemplate\": \"<b>%{hovertext}</b><br><br>County=Stanislaus<br>2020=%{x}<br>COVID-19 Cases per 100k=%{y}<extra></extra>\", \"hovertext\": [\"Stanislaus\", \"Stanislaus\", \"Stanislaus\", \"Stanislaus\", \"Stanislaus\", \"Stanislaus\", \"Stanislaus\"], \"legendgroup\": \"Stanislaus\", \"line\": {\"color\": \"#FECB52\", \"dash\": \"solid\"}, \"mode\": \"lines\", \"name\": \"Stanislaus\", \"orientation\": \"v\", \"showlegend\": true, \"type\": \"scatter\", \"x\": [\"March\", \"April\", \"May\", \"June\", \"July\", \"August\", \"September\"], \"xaxis\": \"x\", \"y\": [18.52322667344641, 66.28409544909745, 80.6305161079432, 608.9056768241746, 1380.3435876947663, 653.94254167726, 238.25954309374205], \"yaxis\": \"y\"}, {\"hovertemplate\": \"<b>%{hovertext}</b><br><br>County=Sutter<br>2020=%{x}<br>COVID-19 Cases per 100k=%{y}<extra></extra>\", \"hovertext\": [\"Sutter\", \"Sutter\", \"Sutter\", \"Sutter\", \"Sutter\", \"Sutter\", \"Sutter\"], \"legendgroup\": \"Sutter\", \"line\": {\"color\": \"#636efa\", \"dash\": \"solid\"}, \"mode\": \"lines\", \"name\": \"Sutter\", \"orientation\": \"v\", \"showlegend\": true, \"type\": \"scatter\", \"x\": [\"March\", \"April\", \"May\", \"June\", \"July\", \"August\", \"September\"], \"xaxis\": \"x\", \"y\": [21.655958998050963, 9.281125284878984, 17.53101442699364, 202.122283981809, 670.3034927968156, 566.148642377618, 279.46499468913385], \"yaxis\": \"y\"}, {\"hovertemplate\": \"<b>%{hovertext}</b><br><br>County=Tehama<br>2020=%{x}<br>COVID-19 Cases per 100k=%{y}<extra></extra>\", \"hovertext\": [\"Tehama\", \"Tehama\", \"Tehama\", \"Tehama\", \"Tehama\", \"Tehama\", \"Tehama\"], \"legendgroup\": \"Tehama\", \"line\": {\"color\": \"#EF553B\", \"dash\": \"solid\"}, \"mode\": \"lines\", \"name\": \"Tehama\", \"orientation\": \"v\", \"showlegend\": true, \"type\": \"scatter\", \"x\": [\"March\", \"April\", \"May\", \"June\", \"July\", \"August\", \"September\"], \"xaxis\": \"x\", \"y\": [1.5364759387867983, 0.0, 13.828283449081185, 145.9652141847459, 271.95624116526335, 245.83615020588775, 316.5140433900805], \"yaxis\": \"y\"}, {\"hovertemplate\": \"<b>%{hovertext}</b><br><br>County=Trinity<br>2020=%{x}<br>COVID-19 Cases per 100k=%{y}<extra></extra>\", \"hovertext\": [\"Trinity\", \"Trinity\", \"Trinity\", \"Trinity\", \"Trinity\", \"Trinity\", \"Trinity\"], \"legendgroup\": \"Trinity\", \"line\": {\"color\": \"#00cc96\", \"dash\": \"solid\"}, \"mode\": \"lines\", \"name\": \"Trinity\", \"orientation\": \"v\", \"showlegend\": true, \"type\": \"scatter\", \"x\": [\"March\", \"April\", \"May\", \"June\", \"July\", \"August\", \"September\"], \"xaxis\": \"x\", \"y\": [0.0, 0.0, 8.14000814000814, 8.14000814000814, 32.56003256003256, 73.26007326007326, 32.56003256003256], \"yaxis\": \"y\"}, {\"hovertemplate\": \"<b>%{hovertext}</b><br><br>County=Tulare<br>2020=%{x}<br>COVID-19 Cases per 100k=%{y}<extra></extra>\", \"hovertext\": [\"Tulare\", \"Tulare\", \"Tulare\", \"Tulare\", \"Tulare\", \"Tulare\", \"Tulare\"], \"legendgroup\": \"Tulare\", \"line\": {\"color\": \"#ab63fa\", \"dash\": \"solid\"}, \"mode\": \"lines\", \"name\": \"Tulare\", \"orientation\": \"v\", \"showlegend\": true, \"type\": \"scatter\", \"x\": [\"March\", \"April\", \"May\", \"June\", \"July\", \"August\", \"September\"], \"xaxis\": \"x\", \"y\": [25.311296774954684, 198.2003238987977, 309.52712920559, 648.2266004568904, 1207.4346571713552, 745.6107422859533, 383.7449994101181], \"yaxis\": \"y\"}, {\"hovertemplate\": \"<b>%{hovertext}</b><br><br>County=Tuolumne<br>2020=%{x}<br>COVID-19 Cases per 100k=%{y}<extra></extra>\", \"hovertext\": [\"Tuolumne\", \"Tuolumne\", \"Tuolumne\", \"Tuolumne\", \"Tuolumne\", \"Tuolumne\", \"Tuolumne\"], \"legendgroup\": \"Tuolumne\", \"line\": {\"color\": \"#FFA15A\", \"dash\": \"solid\"}, \"mode\": \"lines\", \"name\": \"Tuolumne\", \"orientation\": \"v\", \"showlegend\": true, \"type\": \"scatter\", \"x\": [\"March\", \"April\", \"May\", \"June\", \"July\", \"August\", \"September\"], \"xaxis\": \"x\", \"y\": [3.671206725650721, 0.0, 3.671206725650721, 82.60215132714123, 192.73835309666288, 102.7937883182202, 40.38327398215793], \"yaxis\": \"y\"}, {\"hovertemplate\": \"<b>%{hovertext}</b><br><br>County=Ventura<br>2020=%{x}<br>COVID-19 Cases per 100k=%{y}<extra></extra>\", \"hovertext\": [\"Ventura\", \"Ventura\", \"Ventura\", \"Ventura\", \"Ventura\", \"Ventura\", \"Ventura\"], \"legendgroup\": \"Ventura\", \"line\": {\"color\": \"#19d3f3\", \"dash\": \"solid\"}, \"mode\": \"lines\", \"name\": \"Ventura\", \"orientation\": \"v\", \"showlegend\": true, \"type\": \"scatter\", \"x\": [\"March\", \"April\", \"May\", \"June\", \"July\", \"August\", \"September\"], \"xaxis\": \"x\", \"y\": [35.57894388455874, 46.21716630851318, 96.68962158660814, 339.8321052096557, 515.4809776762813, 308.62665276605605, 241.72405396652033], \"yaxis\": \"y\"}, {\"hovertemplate\": \"<b>%{hovertext}</b><br><br>County=Yolo<br>2020=%{x}<br>COVID-19 Cases per 100k=%{y}<extra></extra>\", \"hovertext\": [\"Yolo\", \"Yolo\", \"Yolo\", \"Yolo\", \"Yolo\", \"Yolo\", \"Yolo\"], \"legendgroup\": \"Yolo\", \"line\": {\"color\": \"#FF6692\", \"dash\": \"solid\"}, \"mode\": \"lines\", \"name\": \"Yolo\", \"orientation\": \"v\", \"showlegend\": true, \"type\": \"scatter\", \"x\": [\"March\", \"April\", \"May\", \"June\", \"July\", \"August\", \"September\"], \"xaxis\": \"x\", \"y\": [25.396825396825395, 55.78231292517006, 24.03628117913832, 234.9206349206349, 512.9251700680272, 311.5646258503402, 150.11337868480726], \"yaxis\": \"y\"}, {\"hovertemplate\": \"<b>%{hovertext}</b><br><br>County=Yuba<br>2020=%{x}<br>COVID-19 Cases per 100k=%{y}<extra></extra>\", \"hovertext\": [\"Yuba\", \"Yuba\", \"Yuba\", \"Yuba\", \"Yuba\", \"Yuba\", \"Yuba\"], \"legendgroup\": \"Yuba\", \"line\": {\"color\": \"#B6E880\", \"dash\": \"solid\"}, \"mode\": \"lines\", \"name\": \"Yuba\", \"orientation\": \"v\", \"showlegend\": true, \"type\": \"scatter\", \"x\": [\"March\", \"April\", \"May\", \"June\", \"July\", \"August\", \"September\"], \"xaxis\": \"x\", \"y\": [11.44048405959221, 12.711648955102456, 13.982813850612702, 95.33736716326842, 522.448772054711, 507.194793308588, 246.60598972898765], \"yaxis\": \"y\"}],\n",
       "                        {\"height\": 500, \"legend\": {\"title\": {\"text\": \"County\"}, \"tracegroupgap\": 0}, \"template\": {\"data\": {\"bar\": [{\"error_x\": {\"color\": \"#2a3f5f\"}, \"error_y\": {\"color\": \"#2a3f5f\"}, \"marker\": {\"line\": {\"color\": \"#E5ECF6\", \"width\": 0.5}}, \"type\": \"bar\"}], \"barpolar\": [{\"marker\": {\"line\": {\"color\": \"#E5ECF6\", \"width\": 0.5}}, \"type\": \"barpolar\"}], \"carpet\": [{\"aaxis\": {\"endlinecolor\": \"#2a3f5f\", \"gridcolor\": \"white\", \"linecolor\": \"white\", \"minorgridcolor\": \"white\", \"startlinecolor\": \"#2a3f5f\"}, \"baxis\": {\"endlinecolor\": \"#2a3f5f\", \"gridcolor\": \"white\", \"linecolor\": \"white\", \"minorgridcolor\": \"white\", \"startlinecolor\": \"#2a3f5f\"}, \"type\": \"carpet\"}], \"choropleth\": [{\"colorbar\": {\"outlinewidth\": 0, \"ticks\": \"\"}, \"type\": \"choropleth\"}], \"contour\": [{\"colorbar\": {\"outlinewidth\": 0, \"ticks\": \"\"}, \"colorscale\": [[0.0, \"#0d0887\"], [0.1111111111111111, \"#46039f\"], [0.2222222222222222, \"#7201a8\"], [0.3333333333333333, \"#9c179e\"], [0.4444444444444444, \"#bd3786\"], [0.5555555555555556, \"#d8576b\"], [0.6666666666666666, \"#ed7953\"], [0.7777777777777778, \"#fb9f3a\"], [0.8888888888888888, \"#fdca26\"], [1.0, \"#f0f921\"]], \"type\": \"contour\"}], \"contourcarpet\": [{\"colorbar\": {\"outlinewidth\": 0, \"ticks\": \"\"}, \"type\": \"contourcarpet\"}], \"heatmap\": [{\"colorbar\": {\"outlinewidth\": 0, \"ticks\": \"\"}, \"colorscale\": [[0.0, \"#0d0887\"], [0.1111111111111111, \"#46039f\"], [0.2222222222222222, \"#7201a8\"], [0.3333333333333333, \"#9c179e\"], [0.4444444444444444, \"#bd3786\"], [0.5555555555555556, \"#d8576b\"], [0.6666666666666666, \"#ed7953\"], [0.7777777777777778, \"#fb9f3a\"], [0.8888888888888888, \"#fdca26\"], [1.0, \"#f0f921\"]], \"type\": \"heatmap\"}], \"heatmapgl\": [{\"colorbar\": {\"outlinewidth\": 0, \"ticks\": \"\"}, \"colorscale\": [[0.0, \"#0d0887\"], [0.1111111111111111, \"#46039f\"], [0.2222222222222222, \"#7201a8\"], [0.3333333333333333, \"#9c179e\"], [0.4444444444444444, \"#bd3786\"], [0.5555555555555556, \"#d8576b\"], [0.6666666666666666, \"#ed7953\"], [0.7777777777777778, \"#fb9f3a\"], [0.8888888888888888, \"#fdca26\"], [1.0, \"#f0f921\"]], \"type\": \"heatmapgl\"}], \"histogram\": [{\"marker\": {\"colorbar\": {\"outlinewidth\": 0, \"ticks\": \"\"}}, \"type\": \"histogram\"}], \"histogram2d\": [{\"colorbar\": {\"outlinewidth\": 0, \"ticks\": \"\"}, \"colorscale\": [[0.0, \"#0d0887\"], [0.1111111111111111, \"#46039f\"], [0.2222222222222222, \"#7201a8\"], [0.3333333333333333, \"#9c179e\"], [0.4444444444444444, \"#bd3786\"], [0.5555555555555556, \"#d8576b\"], [0.6666666666666666, \"#ed7953\"], [0.7777777777777778, \"#fb9f3a\"], [0.8888888888888888, \"#fdca26\"], [1.0, \"#f0f921\"]], \"type\": \"histogram2d\"}], \"histogram2dcontour\": [{\"colorbar\": {\"outlinewidth\": 0, \"ticks\": \"\"}, \"colorscale\": [[0.0, \"#0d0887\"], [0.1111111111111111, \"#46039f\"], [0.2222222222222222, \"#7201a8\"], [0.3333333333333333, \"#9c179e\"], [0.4444444444444444, \"#bd3786\"], [0.5555555555555556, \"#d8576b\"], [0.6666666666666666, \"#ed7953\"], [0.7777777777777778, \"#fb9f3a\"], [0.8888888888888888, \"#fdca26\"], [1.0, \"#f0f921\"]], \"type\": \"histogram2dcontour\"}], \"mesh3d\": [{\"colorbar\": {\"outlinewidth\": 0, \"ticks\": \"\"}, \"type\": \"mesh3d\"}], \"parcoords\": [{\"line\": {\"colorbar\": {\"outlinewidth\": 0, \"ticks\": \"\"}}, \"type\": \"parcoords\"}], \"pie\": [{\"automargin\": true, \"type\": \"pie\"}], \"scatter\": [{\"marker\": {\"colorbar\": {\"outlinewidth\": 0, \"ticks\": \"\"}}, \"type\": \"scatter\"}], \"scatter3d\": [{\"line\": {\"colorbar\": {\"outlinewidth\": 0, \"ticks\": \"\"}}, \"marker\": {\"colorbar\": {\"outlinewidth\": 0, \"ticks\": \"\"}}, \"type\": \"scatter3d\"}], \"scattercarpet\": [{\"marker\": {\"colorbar\": {\"outlinewidth\": 0, \"ticks\": \"\"}}, \"type\": \"scattercarpet\"}], \"scattergeo\": [{\"marker\": {\"colorbar\": {\"outlinewidth\": 0, \"ticks\": \"\"}}, \"type\": \"scattergeo\"}], \"scattergl\": [{\"marker\": {\"colorbar\": {\"outlinewidth\": 0, \"ticks\": \"\"}}, \"type\": \"scattergl\"}], \"scattermapbox\": [{\"marker\": {\"colorbar\": {\"outlinewidth\": 0, \"ticks\": \"\"}}, \"type\": \"scattermapbox\"}], \"scatterpolar\": [{\"marker\": {\"colorbar\": {\"outlinewidth\": 0, \"ticks\": \"\"}}, \"type\": \"scatterpolar\"}], \"scatterpolargl\": [{\"marker\": {\"colorbar\": {\"outlinewidth\": 0, \"ticks\": \"\"}}, \"type\": \"scatterpolargl\"}], \"scatterternary\": [{\"marker\": {\"colorbar\": {\"outlinewidth\": 0, \"ticks\": \"\"}}, \"type\": \"scatterternary\"}], \"surface\": [{\"colorbar\": {\"outlinewidth\": 0, \"ticks\": \"\"}, \"colorscale\": [[0.0, \"#0d0887\"], [0.1111111111111111, \"#46039f\"], [0.2222222222222222, \"#7201a8\"], [0.3333333333333333, \"#9c179e\"], [0.4444444444444444, \"#bd3786\"], [0.5555555555555556, \"#d8576b\"], [0.6666666666666666, \"#ed7953\"], [0.7777777777777778, \"#fb9f3a\"], [0.8888888888888888, \"#fdca26\"], [1.0, \"#f0f921\"]], \"type\": \"surface\"}], \"table\": [{\"cells\": {\"fill\": {\"color\": \"#EBF0F8\"}, \"line\": {\"color\": \"white\"}}, \"header\": {\"fill\": {\"color\": \"#C8D4E3\"}, \"line\": {\"color\": \"white\"}}, \"type\": \"table\"}]}, \"layout\": {\"annotationdefaults\": {\"arrowcolor\": \"#2a3f5f\", \"arrowhead\": 0, \"arrowwidth\": 1}, \"coloraxis\": {\"colorbar\": {\"outlinewidth\": 0, \"ticks\": \"\"}}, \"colorscale\": {\"diverging\": [[0, \"#8e0152\"], [0.1, \"#c51b7d\"], [0.2, \"#de77ae\"], [0.3, \"#f1b6da\"], [0.4, \"#fde0ef\"], [0.5, \"#f7f7f7\"], [0.6, \"#e6f5d0\"], [0.7, \"#b8e186\"], [0.8, \"#7fbc41\"], [0.9, \"#4d9221\"], [1, \"#276419\"]], \"sequential\": [[0.0, \"#0d0887\"], [0.1111111111111111, \"#46039f\"], [0.2222222222222222, \"#7201a8\"], [0.3333333333333333, \"#9c179e\"], [0.4444444444444444, \"#bd3786\"], [0.5555555555555556, \"#d8576b\"], [0.6666666666666666, \"#ed7953\"], [0.7777777777777778, \"#fb9f3a\"], [0.8888888888888888, \"#fdca26\"], [1.0, \"#f0f921\"]], \"sequentialminus\": [[0.0, \"#0d0887\"], [0.1111111111111111, \"#46039f\"], [0.2222222222222222, \"#7201a8\"], [0.3333333333333333, \"#9c179e\"], [0.4444444444444444, \"#bd3786\"], [0.5555555555555556, \"#d8576b\"], [0.6666666666666666, \"#ed7953\"], [0.7777777777777778, \"#fb9f3a\"], [0.8888888888888888, \"#fdca26\"], [1.0, \"#f0f921\"]]}, \"colorway\": [\"#636efa\", \"#EF553B\", \"#00cc96\", \"#ab63fa\", \"#FFA15A\", \"#19d3f3\", \"#FF6692\", \"#B6E880\", \"#FF97FF\", \"#FECB52\"], \"font\": {\"color\": \"#2a3f5f\"}, \"geo\": {\"bgcolor\": \"white\", \"lakecolor\": \"white\", \"landcolor\": \"#E5ECF6\", \"showlakes\": true, \"showland\": true, \"subunitcolor\": \"white\"}, \"hoverlabel\": {\"align\": \"left\"}, \"hovermode\": \"closest\", \"mapbox\": {\"style\": \"light\"}, \"paper_bgcolor\": \"white\", \"plot_bgcolor\": \"#E5ECF6\", \"polar\": {\"angularaxis\": {\"gridcolor\": \"white\", \"linecolor\": \"white\", \"ticks\": \"\"}, \"bgcolor\": \"#E5ECF6\", \"radialaxis\": {\"gridcolor\": \"white\", \"linecolor\": \"white\", \"ticks\": \"\"}}, \"scene\": {\"xaxis\": {\"backgroundcolor\": \"#E5ECF6\", \"gridcolor\": \"white\", \"gridwidth\": 2, \"linecolor\": \"white\", \"showbackground\": true, \"ticks\": \"\", \"zerolinecolor\": \"white\"}, \"yaxis\": {\"backgroundcolor\": \"#E5ECF6\", \"gridcolor\": \"white\", \"gridwidth\": 2, \"linecolor\": \"white\", \"showbackground\": true, \"ticks\": \"\", \"zerolinecolor\": \"white\"}, \"zaxis\": {\"backgroundcolor\": \"#E5ECF6\", \"gridcolor\": \"white\", \"gridwidth\": 2, \"linecolor\": \"white\", \"showbackground\": true, \"ticks\": \"\", \"zerolinecolor\": \"white\"}}, \"shapedefaults\": {\"line\": {\"color\": \"#2a3f5f\"}}, \"ternary\": {\"aaxis\": {\"gridcolor\": \"white\", \"linecolor\": \"white\", \"ticks\": \"\"}, \"baxis\": {\"gridcolor\": \"white\", \"linecolor\": \"white\", \"ticks\": \"\"}, \"bgcolor\": \"#E5ECF6\", \"caxis\": {\"gridcolor\": \"white\", \"linecolor\": \"white\", \"ticks\": \"\"}}, \"title\": {\"x\": 0.05}, \"xaxis\": {\"automargin\": true, \"gridcolor\": \"white\", \"linecolor\": \"white\", \"ticks\": \"\", \"title\": {\"standoff\": 15}, \"zerolinecolor\": \"white\", \"zerolinewidth\": 2}, \"yaxis\": {\"automargin\": true, \"gridcolor\": \"white\", \"linecolor\": \"white\", \"ticks\": \"\", \"title\": {\"standoff\": 15}, \"zerolinecolor\": \"white\", \"zerolinewidth\": 2}}}, \"title\": {\"text\": \"COVID-19 Cases per 100k in California (CA)\", \"x\": 0.5}, \"xaxis\": {\"anchor\": \"y\", \"domain\": [0.0, 1.0], \"title\": {\"text\": \"2020\"}}, \"yaxis\": {\"anchor\": \"x\", \"domain\": [0.0, 1.0], \"title\": {\"text\": \"COVID-19 Cases per 100k\"}}},\n",
       "                        {\"responsive\": true}\n",
       "                    ).then(function(){\n",
       "                            \n",
       "var gd = document.getElementById('3dd85946-cc38-4b4a-90ad-4091f90ac08e');\n",
       "var x = new MutationObserver(function (mutations, observer) {{\n",
       "        var display = window.getComputedStyle(gd).display;\n",
       "        if (!display || display === 'none') {{\n",
       "            console.log([gd, 'removed!']);\n",
       "            Plotly.purge(gd);\n",
       "            observer.disconnect();\n",
       "        }}\n",
       "}});\n",
       "\n",
       "// Listen for the removal of the full notebook cells\n",
       "var notebookContainer = gd.closest('#notebook-container');\n",
       "if (notebookContainer) {{\n",
       "    x.observe(notebookContainer, {childList: true});\n",
       "}}\n",
       "\n",
       "// Listen for the clearing of the current output cell\n",
       "var outputEl = gd.closest('.output');\n",
       "if (outputEl) {{\n",
       "    x.observe(outputEl, {childList: true});\n",
       "}}\n",
       "\n",
       "                        })\n",
       "                };\n",
       "                });\n",
       "            </script>\n",
       "        </div>"
      ]
     },
     "metadata": {},
     "output_type": "display_data"
    }
   ],
   "source": [
    "# Plot Covid Cases per 100k by month\n",
    "df = pd.DataFrame((monthlycases_df.iloc[:,:-1].div(monthlycases_df['pop'], axis=0)*100000).stack(level=0)).reset_index()\n",
    "df.rename(columns={'level_1':'2020',0:'COVID-19 Cases per 100k'},inplace=True)\n",
    "fig = px.line(df, x='2020', y='COVID-19 Cases per 100k', color=\"County\",hover_name=\"County\",title='COVID-19 Cases per 100k in California (CA)')\n",
    "fig.update_layout(height=500,title_x=0.5)\n",
    "fig.show()\n",
    "\n",
    "if export:\n",
    "    fig.write_html(\"../figures/1_covid_cases.html\")\n",
    "#fig.write_image(\"../figures/1_covid_cases.png\")"
   ]
  },
  {
   "cell_type": "markdown",
   "metadata": {},
   "source": [
    "Note: It appears some  the industry data we have underreports the size of the labor force, while other counties overreport it (relative to the labor force size in the unemployment data)."
   ]
  },
  {
   "cell_type": "code",
   "execution_count": 41,
   "metadata": {},
   "outputs": [],
   "source": [
    "# Find distribution of COVID per major industry in each month (Mar 2020 to July 2020)\n",
    "industryTotal = {}\n",
    "industryTotalCase = {}\n",
    "recentEmployment_df = pd.DataFrame() # only used to create percentages for industry\n",
    "# Remove counties without industry data\n",
    "coviddata = coviddata[coviddata['county'].isin(county_index)]\n",
    "for month in range(3,period[-1]+1):\n",
    "    # Pivot recent month employment data by (county vs industry)\n",
    "    recentEmployment_df = pd.pivot_table(employment_df[(employment_df['Month']==calendar.month_name[month]) & (employment_df['Year']==2020)],index='Area Name',columns='Industry Title',values='Current Employment')\n",
    "    # Merge with Unemployment data and sum\n",
    "    recentEmployment_df = recentEmployment_df.merge(unemployment_df[unemployment_df['period']==month].loc[:,['unemp']],left_index=True,right_index=True)\n",
    "    recentEmployment_df = recentEmployment_df.rename({'unemp': 'Unemployed'}, axis='columns')\n",
    "    recentEmployment_df.loc['Total',:] = recentEmployment_df.sum(axis=0)    # Sum Industry\n",
    "    recentEmployment_df['Total'] = recentEmployment_df.sum(axis=1)          # Sum County\n",
    "    # Covert to percentage employment per industry\n",
    "    percentEmployment_df = recentEmployment_df.div(recentEmployment_df['Total'],axis=0)\n",
    "    # Total New cases per county in month\n",
    "    recentCase = coviddata.groupby([\"month\",\"county\"]).sum()[\"cases\"].unstack().loc[month,:]\n",
    "    # Distribution of cases per industry (Pseudo)\n",
    "    percentCase_df = percentEmployment_df.mul(recentCase,axis=0)\n",
    "    # Calc Percentage of cases per industry  \n",
    "    percentCase_df.loc['Total Count',:] = percentCase_df.sum()\n",
    "    percentCase_df.loc['Percent Count',:] = percentCase_df.loc['Total Count',:]/percentCase_df.loc['Total Count','Total']\n",
    "    industryTotalCase[calendar.month_name[month]] = percentCase_df.transpose().loc[:,'Percent Count'].drop('Total')\n",
    "    # Calculate industry distribution in month\n",
    "    industryTotal[calendar.month_name[month]] = percentEmployment_df.transpose().loc[:,'Total'].drop('Total')\n",
    "    "
   ]
  },
  {
   "cell_type": "code",
   "execution_count": 42,
   "metadata": {},
   "outputs": [
    {
     "name": "stdout",
     "output_type": "stream",
     "text": [
      "dict_keys(['March', 'April', 'May', 'June', 'July', 'August', 'September'])\n"
     ]
    },
    {
     "data": {
      "text/plain": [
       "Construction                       0.030479\n",
       "Durable Goods                      0.031229\n",
       "Educational and Health Services    0.120781\n",
       "Financial Activities               0.034101\n",
       "Government                         0.106562\n",
       "Name: Total, dtype: float64"
      ]
     },
     "execution_count": 42,
     "metadata": {},
     "output_type": "execute_result"
    }
   ],
   "source": [
    "print(industryTotal.keys())\n",
    "industryTotal[period_m[-1]].head()"
   ]
  },
  {
   "cell_type": "code",
   "execution_count": 43,
   "metadata": {},
   "outputs": [
    {
     "name": "stdout",
     "output_type": "stream",
     "text": [
      "dict_keys(['March', 'April', 'May', 'June', 'July', 'August', 'September'])\n"
     ]
    },
    {
     "data": {
      "text/plain": [
       "Construction                       0.027837\n",
       "Durable Goods                      0.028260\n",
       "Educational and Health Services    0.121560\n",
       "Financial Activities               0.031684\n",
       "Government                         0.112155\n",
       "Name: Percent Count, dtype: float64"
      ]
     },
     "execution_count": 43,
     "metadata": {},
     "output_type": "execute_result"
    }
   ],
   "source": [
    "print(industryTotalCase.keys())\n",
    "industryTotalCase[period_m[-1]].head()"
   ]
  },
  {
   "cell_type": "code",
   "execution_count": 44,
   "metadata": {},
   "outputs": [],
   "source": [
    "#sort July industry totals, then sort all months by this\n",
    "industryTotal[period_m[-1]]={k: v for k, v in sorted(industryTotal[period_m[-1]].items(), key=lambda item: item[1],reverse=True)}\n",
    "for month in industryTotal:\n",
    "    industryTotal[month] = pd.Series(dict(map(list, sorted(industryTotal[month].items(), key=lambda x:industryTotal[period_m[-1]][x[0]],reverse=True))))\n",
    "for month in industryTotalCase:\n",
    "    industryTotalCase[month] = pd.Series(dict(map(list, sorted(industryTotalCase[month].items(), key=lambda x:industryTotal[period_m[-1]][x[0]],reverse=True))))"
   ]
  },
  {
   "cell_type": "code",
   "execution_count": 45,
   "metadata": {},
   "outputs": [
    {
     "data": {
      "text/html": [
       "<div>\n",
       "<style scoped>\n",
       "    .dataframe tbody tr th:only-of-type {\n",
       "        vertical-align: middle;\n",
       "    }\n",
       "\n",
       "    .dataframe tbody tr th {\n",
       "        vertical-align: top;\n",
       "    }\n",
       "\n",
       "    .dataframe thead th {\n",
       "        text-align: right;\n",
       "    }\n",
       "</style>\n",
       "<table border=\"1\" class=\"dataframe\">\n",
       "  <thead>\n",
       "    <tr style=\"text-align: right;\">\n",
       "      <th></th>\n",
       "      <th>March</th>\n",
       "      <th>April</th>\n",
       "      <th>May</th>\n",
       "      <th>June</th>\n",
       "      <th>July</th>\n",
       "      <th>August</th>\n",
       "      <th>September</th>\n",
       "    </tr>\n",
       "  </thead>\n",
       "  <tbody>\n",
       "    <tr>\n",
       "      <th>Construction</th>\n",
       "      <td>-0.081164</td>\n",
       "      <td>-0.280010</td>\n",
       "      <td>-0.372042</td>\n",
       "      <td>-0.221552</td>\n",
       "      <td>-0.271698</td>\n",
       "      <td>-0.383712</td>\n",
       "      <td>-0.264197</td>\n",
       "    </tr>\n",
       "    <tr>\n",
       "      <th>Durable Goods</th>\n",
       "      <td>0.100338</td>\n",
       "      <td>-0.022554</td>\n",
       "      <td>-0.165978</td>\n",
       "      <td>-0.276951</td>\n",
       "      <td>-0.399075</td>\n",
       "      <td>-0.483035</td>\n",
       "      <td>-0.296893</td>\n",
       "    </tr>\n",
       "    <tr>\n",
       "      <th>Educational and Health Services</th>\n",
       "      <td>0.345686</td>\n",
       "      <td>0.623934</td>\n",
       "      <td>0.278663</td>\n",
       "      <td>-0.007244</td>\n",
       "      <td>-0.103509</td>\n",
       "      <td>-0.033823</td>\n",
       "      <td>0.077964</td>\n",
       "    </tr>\n",
       "    <tr>\n",
       "      <th>Financial Activities</th>\n",
       "      <td>0.078825</td>\n",
       "      <td>-0.002230</td>\n",
       "      <td>-0.127554</td>\n",
       "      <td>-0.182850</td>\n",
       "      <td>-0.313583</td>\n",
       "      <td>-0.382332</td>\n",
       "      <td>-0.241746</td>\n",
       "    </tr>\n",
       "    <tr>\n",
       "      <th>Government</th>\n",
       "      <td>-0.459719</td>\n",
       "      <td>-0.453405</td>\n",
       "      <td>0.240302</td>\n",
       "      <td>0.239584</td>\n",
       "      <td>0.338905</td>\n",
       "      <td>0.582537</td>\n",
       "      <td>0.559249</td>\n",
       "    </tr>\n",
       "  </tbody>\n",
       "</table>\n",
       "</div>"
      ],
      "text/plain": [
       "                                    March     April       May      June  \\\n",
       "Construction                    -0.081164 -0.280010 -0.372042 -0.221552   \n",
       "Durable Goods                    0.100338 -0.022554 -0.165978 -0.276951   \n",
       "Educational and Health Services  0.345686  0.623934  0.278663 -0.007244   \n",
       "Financial Activities             0.078825 -0.002230 -0.127554 -0.182850   \n",
       "Government                      -0.459719 -0.453405  0.240302  0.239584   \n",
       "\n",
       "                                     July    August  September  \n",
       "Construction                    -0.271698 -0.383712  -0.264197  \n",
       "Durable Goods                   -0.399075 -0.483035  -0.296893  \n",
       "Educational and Health Services -0.103509 -0.033823   0.077964  \n",
       "Financial Activities            -0.313583 -0.382332  -0.241746  \n",
       "Government                       0.338905  0.582537   0.559249  "
      ]
     },
     "execution_count": 45,
     "metadata": {},
     "output_type": "execute_result"
    }
   ],
   "source": [
    "# make dataframe for percentage differences to use in next plot\n",
    "difference_df=((pd.DataFrame(industryTotalCase)-pd.DataFrame(industryTotal))*100).sort_index()\n",
    "difference_df.head()"
   ]
  },
  {
   "cell_type": "code",
   "execution_count": 46,
   "metadata": {},
   "outputs": [
    {
     "data": {
      "application/vnd.plotly.v1+json": {
       "config": {
        "plotlyServerURL": "https://plot.ly"
       },
       "data": [
        {
         "marker": {
          "color": "#296b9f"
         },
         "name": "March",
         "type": "bar",
         "visible": true,
         "width": 0.12,
         "x": [
          "Trade, Transportation and Utilities",
          "Educational and Health Services",
          "Government",
          "Professional and Business Services",
          "Unemployed",
          "Retail Trade",
          "Leisure and Hospitality",
          "Manufacturing",
          "Natural Resources, Mining and Constructi",
          "Financial Activities",
          "Durable Goods",
          "Construction",
          "Total Farm",
          "Transportation, Warehousing and Utilitie",
          "Wholesale Trade",
          "Nondurable Goods",
          "Other Services",
          "Information"
         ],
         "y": [
          12.595336559728862,
          12.382265240829264,
          11.299768008053462,
          10.10612032859922,
          4.699897090244801,
          7.016981757746085,
          8.678305160057302,
          5.647906238071599,
          3.4942509639960893,
          3.483241400179186,
          3.227450336648728,
          3.0194552837006374,
          2.059513614611207,
          2.675719560698626,
          2.89182345406276,
          2.19050764637281,
          2.463109720521893,
          2.0683476358774655
         ]
        },
        {
         "marker": {
          "color": "#f08536"
         },
         "name": "April",
         "type": "bar",
         "visible": true,
         "width": 0.12,
         "x": [
          "Trade, Transportation and Utilities",
          "Educational and Health Services",
          "Government",
          "Professional and Business Services",
          "Unemployed",
          "Retail Trade",
          "Leisure and Hospitality",
          "Manufacturing",
          "Natural Resources, Mining and Constructi",
          "Financial Activities",
          "Durable Goods",
          "Construction",
          "Total Farm",
          "Transportation, Warehousing and Utilitie",
          "Wholesale Trade",
          "Nondurable Goods",
          "Other Services",
          "Information"
         ],
         "y": [
          11.286143756638154,
          11.735426524369558,
          11.429604057877093,
          9.52259292031722,
          14.001711553400881,
          5.957549044451922,
          5.098379701752127,
          5.344727072315901,
          3.2126245065090266,
          3.4517019293748814,
          3.131131854695209,
          2.768326845770483,
          2.283317477923592,
          2.620366100718548,
          2.696596695151014,
          1.9948044107118872,
          1.781691086767172,
          1.683304461255333
         ]
        },
        {
         "marker": {
          "color": "#ababab"
         },
         "name": "May",
         "type": "bar",
         "visible": true,
         "width": 0.12,
         "x": [
          "Trade, Transportation and Utilities",
          "Educational and Health Services",
          "Government",
          "Professional and Business Services",
          "Unemployed",
          "Retail Trade",
          "Leisure and Hospitality",
          "Manufacturing",
          "Natural Resources, Mining and Constructi",
          "Financial Activities",
          "Durable Goods",
          "Construction",
          "Total Farm",
          "Transportation, Warehousing and Utilitie",
          "Wholesale Trade",
          "Nondurable Goods",
          "Other Services",
          "Information"
         ],
         "y": [
          11.297204729513062,
          11.742319317181668,
          10.89896226350729,
          9.50419256459415,
          13.322667139708944,
          5.928265867952978,
          5.207172048659676,
          5.376716768211559,
          3.4520260082282066,
          3.411430793687615,
          3.1037941174463906,
          2.986989063171612,
          2.931042717082057,
          2.6365739003472766,
          2.721039237492239,
          2.0505018114335227,
          1.833539152208175,
          1.5955624995735798
         ]
        },
        {
         "marker": {
          "color": "#595959"
         },
         "name": "June",
         "type": "bar",
         "visible": true,
         "width": 0.12,
         "x": [
          "Trade, Transportation and Utilities",
          "Educational and Health Services",
          "Government",
          "Professional and Business Services",
          "Unemployed",
          "Retail Trade",
          "Leisure and Hospitality",
          "Manufacturing",
          "Natural Resources, Mining and Constructi",
          "Financial Activities",
          "Durable Goods",
          "Construction",
          "Total Farm",
          "Transportation, Warehousing and Utilitie",
          "Wholesale Trade",
          "Nondurable Goods",
          "Other Services",
          "Information"
         ],
         "y": [
          11.766436073857285,
          11.631175116252392,
          10.52534342143526,
          9.390898831740172,
          12.177354594470573,
          6.404753075385974,
          6.087009879118856,
          5.390762770421871,
          3.469430223220598,
          3.3375041018485665,
          3.090259343544157,
          2.999485101285646,
          2.8306756911781576,
          2.6361213453529726,
          2.713756332854006,
          2.077269489449912,
          1.9232667522163323,
          1.5484978563672696
         ]
        },
        {
         "marker": {
          "color": "#6c9ecc"
         },
         "name": "July",
         "type": "bar",
         "visible": true,
         "width": 0.12,
         "x": [
          "Trade, Transportation and Utilities",
          "Educational and Health Services",
          "Government",
          "Professional and Business Services",
          "Unemployed",
          "Retail Trade",
          "Leisure and Hospitality",
          "Manufacturing",
          "Natural Resources, Mining and Constructi",
          "Financial Activities",
          "Durable Goods",
          "Construction",
          "Total Farm",
          "Transportation, Warehousing and Utilitie",
          "Wholesale Trade",
          "Nondurable Goods",
          "Other Services",
          "Information"
         ],
         "y": [
          12.031708993657663,
          11.676597264364236,
          9.908087149385905,
          9.523841489938725,
          12.009556466121401,
          6.599305081924074,
          6.116111466148253,
          5.441063536134129,
          3.4783495964212254,
          3.371950335375841,
          3.098333055867332,
          3.0070377908693993,
          2.672064722972574,
          2.6872358478913476,
          2.733823284588822,
          2.1119414206617297,
          1.9845979517638783,
          1.548394545913463
         ]
        },
        {
         "marker": {
          "color": "#4C4946"
         },
         "name": "August",
         "type": "bar",
         "visible": true,
         "width": 0.12,
         "x": [
          "Trade, Transportation and Utilities",
          "Educational and Health Services",
          "Government",
          "Professional and Business Services",
          "Unemployed",
          "Retail Trade",
          "Leisure and Hospitality",
          "Manufacturing",
          "Natural Resources, Mining and Constructi",
          "Financial Activities",
          "Durable Goods",
          "Construction",
          "Total Farm",
          "Transportation, Warehousing and Utilitie",
          "Wholesale Trade",
          "Nondurable Goods",
          "Other Services",
          "Information"
         ],
         "y": [
          12.202814347373682,
          11.79379837348721,
          10.204077514614198,
          9.611639971777159,
          10.988344289078311,
          6.676222255553934,
          6.079614512029347,
          5.488387672617723,
          3.506936994321128,
          3.3863374808893827,
          3.0994680303671323,
          3.0334174323805323,
          2.7875773757196116,
          2.760000242140685,
          2.7547538606305477,
          2.1553884037480686,
          1.8715457117893592,
          1.5996755314819884
         ]
        },
        {
         "marker": {
          "color": "#004679"
         },
         "name": "September",
         "type": "bar",
         "visible": true,
         "width": 0.12,
         "x": [
          "Trade, Transportation and Utilities",
          "Educational and Health Services",
          "Government",
          "Professional and Business Services",
          "Unemployed",
          "Retail Trade",
          "Leisure and Hospitality",
          "Manufacturing",
          "Natural Resources, Mining and Constructi",
          "Financial Activities",
          "Durable Goods",
          "Construction",
          "Total Farm",
          "Transportation, Warehousing and Utilitie",
          "Wholesale Trade",
          "Nondurable Goods",
          "Other Services",
          "Information"
         ],
         "y": [
          12.426688416906265,
          12.078066265487498,
          10.656230734397932,
          9.763261553905496,
          9.03457851636451,
          6.819204770504056,
          6.318912888108111,
          5.5598140681859105,
          3.5235251755386185,
          3.410113861413147,
          3.122937046150153,
          3.0479205425193543,
          2.8105274069386175,
          2.802343788360712,
          2.793069020639086,
          2.197437981810544,
          1.9957117838651777,
          1.6396561789048136
         ]
        },
        {
         "marker": {
          "color": "#296b9f"
         },
         "name": "March",
         "type": "bar",
         "visible": false,
         "width": 0.12,
         "x": [
          "Trade, Transportation and Utilities",
          "Educational and Health Services",
          "Government",
          "Professional and Business Services",
          "Unemployed",
          "Retail Trade",
          "Leisure and Hospitality",
          "Manufacturing",
          "Natural Resources, Mining and Constructi",
          "Financial Activities",
          "Durable Goods",
          "Construction",
          "Total Farm",
          "Transportation, Warehousing and Utilitie",
          "Wholesale Trade",
          "Nondurable Goods",
          "Other Services",
          "Information"
         ],
         "y": [
          12.779843392018492,
          12.727951234847602,
          10.84004851141722,
          10.415082639096118,
          4.494190400677088,
          6.912734795529301,
          8.794178938917588,
          5.571290227982466,
          3.2457220491943195,
          3.562065931637411,
          3.3277886723335697,
          2.9382912755221424,
          1.3722493640509381,
          2.825522225335815,
          3.040784393926181,
          2.0944405300970024,
          2.5133209958681157,
          2.544494421548634
         ]
        },
        {
         "marker": {
          "color": "#f08536"
         },
         "name": "April",
         "type": "bar",
         "visible": false,
         "width": 0.12,
         "x": [
          "Trade, Transportation and Utilities",
          "Educational and Health Services",
          "Government",
          "Professional and Business Services",
          "Unemployed",
          "Retail Trade",
          "Leisure and Hospitality",
          "Manufacturing",
          "Natural Resources, Mining and Constructi",
          "Financial Activities",
          "Durable Goods",
          "Construction",
          "Total Farm",
          "Transportation, Warehousing and Utilitie",
          "Wholesale Trade",
          "Nondurable Goods",
          "Other Services",
          "Information"
         ],
         "y": [
          11.539983039218162,
          12.359360097927818,
          10.97619888911132,
          9.503945037692597,
          14.515691144570681,
          5.7217094226797744,
          5.042758598960013,
          5.16457810024269,
          2.7621596101945363,
          3.4494717826021386,
          3.1085777277368414,
          2.4883165542512544,
          1.5812153309319652,
          2.9623206814180234,
          2.855023830372066,
          1.9505745709524787,
          1.7943250475009047,
          2.2237905336367323
         ]
        },
        {
         "marker": {
          "color": "#ababab"
         },
         "name": "May",
         "type": "bar",
         "visible": false,
         "width": 0.12,
         "x": [
          "Trade, Transportation and Utilities",
          "Educational and Health Services",
          "Government",
          "Professional and Business Services",
          "Unemployed",
          "Retail Trade",
          "Leisure and Hospitality",
          "Manufacturing",
          "Natural Resources, Mining and Constructi",
          "Financial Activities",
          "Durable Goods",
          "Construction",
          "Total Farm",
          "Transportation, Warehousing and Utilitie",
          "Wholesale Trade",
          "Nondurable Goods",
          "Other Services",
          "Information"
         ],
         "y": [
          11.38060345192214,
          12.020982752218384,
          11.139264394493006,
          9.117522241730859,
          14.24327443232202,
          5.728681023247793,
          5.062790390371244,
          5.090280745434597,
          2.99027582686648,
          3.283877106489699,
          2.937815633787868,
          2.614947262572549,
          3.1593114032984073,
          2.8386347163646963,
          2.80502452162434,
          1.9359343558467252,
          1.7693033193446661,
          1.8814764220645201
         ]
        },
        {
         "marker": {
          "color": "#595959"
         },
         "name": "June",
         "type": "bar",
         "visible": false,
         "width": 0.12,
         "x": [
          "Trade, Transportation and Utilities",
          "Educational and Health Services",
          "Government",
          "Professional and Business Services",
          "Unemployed",
          "Retail Trade",
          "Leisure and Hospitality",
          "Manufacturing",
          "Natural Resources, Mining and Constructi",
          "Financial Activities",
          "Durable Goods",
          "Construction",
          "Total Farm",
          "Transportation, Warehousing and Utilitie",
          "Wholesale Trade",
          "Nondurable Goods",
          "Other Services",
          "Information"
         ],
         "y": [
          11.951409275084735,
          11.623931172324495,
          10.764927914463428,
          8.838909240177424,
          12.758421885898267,
          6.353846110017793,
          5.809278219392364,
          5.185654199383224,
          3.2629546876612077,
          3.154653725942856,
          2.813308089505054,
          2.777933527067905,
          3.5814736408185666,
          2.887191244826005,
          2.7089367347112785,
          2.0973684745529875,
          1.8510869652717417,
          1.578714892900674
         ]
        },
        {
         "marker": {
          "color": "#6c9ecc"
         },
         "name": "July",
         "type": "bar",
         "visible": false,
         "width": 0.12,
         "x": [
          "Trade, Transportation and Utilities",
          "Educational and Health Services",
          "Government",
          "Professional and Business Services",
          "Unemployed",
          "Retail Trade",
          "Leisure and Hospitality",
          "Manufacturing",
          "Natural Resources, Mining and Constructi",
          "Financial Activities",
          "Durable Goods",
          "Construction",
          "Total Farm",
          "Transportation, Warehousing and Utilitie",
          "Wholesale Trade",
          "Nondurable Goods",
          "Other Services",
          "Information"
         ],
         "y": [
          12.268010198482214,
          11.573088128661706,
          10.246992171064294,
          8.615192850503654,
          12.483022141262467,
          6.558823376810386,
          5.787294084938811,
          5.293915028353222,
          3.3393823366851887,
          3.0583676369945922,
          2.6992575583393337,
          2.735340277147013,
          3.962962207907937,
          3.0454990331676344,
          2.6614259872176516,
          2.3101014673820357,
          1.8949896973779905,
          1.466335817703865
         ]
        },
        {
         "marker": {
          "color": "#4C4946"
         },
         "name": "August",
         "type": "bar",
         "visible": false,
         "width": 0.12,
         "x": [
          "Trade, Transportation and Utilities",
          "Educational and Health Services",
          "Government",
          "Professional and Business Services",
          "Unemployed",
          "Retail Trade",
          "Leisure and Hospitality",
          "Manufacturing",
          "Natural Resources, Mining and Constructi",
          "Financial Activities",
          "Durable Goods",
          "Construction",
          "Total Farm",
          "Transportation, Warehousing and Utilitie",
          "Wholesale Trade",
          "Nondurable Goods",
          "Other Services",
          "Information"
         ],
         "y": [
          12.391926898230066,
          11.759974915707824,
          10.786614941249288,
          8.480510104563871,
          11.35070223019846,
          6.681230713487688,
          5.798420027485652,
          5.385423427359493,
          3.3073962782066118,
          3.004005884763922,
          2.616432774591373,
          2.649705338202087,
          4.379896725464005,
          3.064072564766149,
          2.6408966062629604,
          2.390055827118794,
          1.802411747791871,
          1.5103229945498806
         ]
        },
        {
         "marker": {
          "color": "#004679"
         },
         "name": "September",
         "type": "bar",
         "visible": false,
         "width": 0.12,
         "x": [
          "Trade, Transportation and Utilities",
          "Educational and Health Services",
          "Government",
          "Professional and Business Services",
          "Unemployed",
          "Retail Trade",
          "Leisure and Hospitality",
          "Manufacturing",
          "Natural Resources, Mining and Constructi",
          "Financial Activities",
          "Durable Goods",
          "Construction",
          "Total Farm",
          "Transportation, Warehousing and Utilitie",
          "Wholesale Trade",
          "Nondurable Goods",
          "Other Services",
          "Information"
         ],
         "y": [
          12.48310051103055,
          12.15603026682907,
          11.21548011648305,
          9.075301770295724,
          9.260854609637517,
          6.863962785729746,
          6.1661433943226545,
          5.48045320059338,
          3.3692132627365554,
          3.168367899046245,
          2.826043766294401,
          2.783723729769205,
          3.77271713413444,
          2.909508597704788,
          2.701577202746444,
          2.2142543112510196,
          1.9483155188034433,
          1.6049519225917712
         ]
        },
        {
         "marker": {
          "color": "#296b9f"
         },
         "name": "March",
         "type": "bar",
         "visible": false,
         "width": 0.12,
         "x": [
          "Construction",
          "Durable Goods",
          "Educational and Health Services",
          "Financial Activities",
          "Government",
          "Information",
          "Leisure and Hospitality",
          "Manufacturing",
          "Natural Resources, Mining and Constructi",
          "Nondurable Goods",
          "Other Services",
          "Professional and Business Services",
          "Retail Trade",
          "Total Farm",
          "Trade, Transportation and Utilities",
          "Transportation, Warehousing and Utilitie",
          "Unemployed",
          "Wholesale Trade"
         ],
         "y": [
          -0.08116400817849492,
          0.10033833568484155,
          0.34568599401833683,
          0.0788245314582249,
          -0.45971949663624334,
          0.47614678567116864,
          0.11587377886028566,
          -0.07661601008913249,
          -0.2485289148017697,
          -0.09606711627580776,
          0.050211275346222564,
          0.30896231049689776,
          -0.10424696221678492,
          -0.6872642505602693,
          0.18450683228962983,
          0.1498026646371893,
          -0.20570668956771399,
          0.14896093986342118
         ]
        },
        {
         "marker": {
          "color": "#f08536"
         },
         "name": "April",
         "type": "bar",
         "visible": false,
         "width": 0.12,
         "x": [
          "Construction",
          "Durable Goods",
          "Educational and Health Services",
          "Financial Activities",
          "Government",
          "Information",
          "Leisure and Hospitality",
          "Manufacturing",
          "Natural Resources, Mining and Constructi",
          "Nondurable Goods",
          "Other Services",
          "Professional and Business Services",
          "Retail Trade",
          "Total Farm",
          "Trade, Transportation and Utilities",
          "Transportation, Warehousing and Utilitie",
          "Unemployed",
          "Wholesale Trade"
         ],
         "y": [
          -0.2800102915192285,
          -0.022554126958367754,
          0.6239335735582594,
          -0.002230146772742858,
          -0.45340516876577197,
          0.5404860723813992,
          -0.05562110279211385,
          -0.18014897207321093,
          -0.45046489631449005,
          -0.044229839759408335,
          0.012633960733732588,
          -0.018647882624621415,
          -0.23583962177214784,
          -0.7021021469916268,
          0.25383928258000815,
          0.3419545806994759,
          0.5139795911697997,
          0.1584271352210516
         ]
        },
        {
         "marker": {
          "color": "#ababab"
         },
         "name": "May",
         "type": "bar",
         "visible": false,
         "width": 0.12,
         "x": [
          "Construction",
          "Durable Goods",
          "Educational and Health Services",
          "Financial Activities",
          "Government",
          "Information",
          "Leisure and Hospitality",
          "Manufacturing",
          "Natural Resources, Mining and Constructi",
          "Nondurable Goods",
          "Other Services",
          "Professional and Business Services",
          "Retail Trade",
          "Total Farm",
          "Trade, Transportation and Utilities",
          "Transportation, Warehousing and Utilitie",
          "Unemployed",
          "Wholesale Trade"
         ],
         "y": [
          -0.3720418005990631,
          -0.16597848365852258,
          0.2786634350367162,
          -0.12755368719791563,
          0.2403021309857159,
          0.2859139224909404,
          -0.14438165828843108,
          -0.28643602277696256,
          -0.46175018136172635,
          -0.1145674555867976,
          -0.0642358328635087,
          -0.3866703228632917,
          -0.19958484470518484,
          0.22826868621635027,
          0.0833987224090782,
          0.2020608160174197,
          0.9206072926130765,
          0.08398528413210114
         ]
        },
        {
         "marker": {
          "color": "#595959"
         },
         "name": "June",
         "type": "bar",
         "visible": false,
         "width": 0.12,
         "x": [
          "Construction",
          "Durable Goods",
          "Educational and Health Services",
          "Financial Activities",
          "Government",
          "Information",
          "Leisure and Hospitality",
          "Manufacturing",
          "Natural Resources, Mining and Constructi",
          "Nondurable Goods",
          "Other Services",
          "Professional and Business Services",
          "Retail Trade",
          "Total Farm",
          "Trade, Transportation and Utilities",
          "Transportation, Warehousing and Utilitie",
          "Unemployed",
          "Wholesale Trade"
         ],
         "y": [
          -0.22155157421774146,
          -0.27695125403910287,
          -0.00724394392789679,
          -0.1828503759057104,
          0.23958449302816792,
          0.030217036533404518,
          -0.2777316597264927,
          -0.2051085710386466,
          -0.2064755355593903,
          0.020098985103075492,
          -0.07217978694459039,
          -0.5519895915627473,
          -0.05090696536818179,
          0.7507979496404089,
          0.18497320122744937,
          0.2510698994730321,
          0.5810672914276921,
          -0.004819598142727713
         ]
        },
        {
         "marker": {
          "color": "#6c9ecc"
         },
         "name": "July",
         "type": "bar",
         "visible": false,
         "width": 0.12,
         "x": [
          "Construction",
          "Durable Goods",
          "Educational and Health Services",
          "Financial Activities",
          "Government",
          "Information",
          "Leisure and Hospitality",
          "Manufacturing",
          "Natural Resources, Mining and Constructi",
          "Nondurable Goods",
          "Other Services",
          "Professional and Business Services",
          "Retail Trade",
          "Total Farm",
          "Trade, Transportation and Utilities",
          "Transportation, Warehousing and Utilitie",
          "Unemployed",
          "Wholesale Trade"
         ],
         "y": [
          -0.27169751372238604,
          -0.3990754975279981,
          -0.10350913570253001,
          -0.31358269838124875,
          0.3389050216783887,
          -0.08205872820959796,
          -0.3288173812094425,
          -0.14714850778090663,
          -0.1389672597360371,
          0.1981600467203061,
          -0.08960825438588775,
          -0.908648639435071,
          -0.040481705113688815,
          1.2908974849353632,
          0.23630120482455025,
          0.35826318527628664,
          0.4734656751410646,
          -0.07239729737117048
         ]
        },
        {
         "marker": {
          "color": "#4C4946"
         },
         "name": "August",
         "type": "bar",
         "visible": false,
         "width": 0.12,
         "x": [
          "Construction",
          "Durable Goods",
          "Educational and Health Services",
          "Financial Activities",
          "Government",
          "Information",
          "Leisure and Hospitality",
          "Manufacturing",
          "Natural Resources, Mining and Constructi",
          "Nondurable Goods",
          "Other Services",
          "Professional and Business Services",
          "Retail Trade",
          "Total Farm",
          "Trade, Transportation and Utilities",
          "Transportation, Warehousing and Utilitie",
          "Unemployed",
          "Wholesale Trade"
         ],
         "y": [
          -0.3837120941784449,
          -0.4830352557757597,
          -0.033823457779384725,
          -0.3823315961254608,
          0.5825374266350893,
          -0.08935253693210764,
          -0.28119448454369533,
          -0.10296424525822953,
          -0.19954071611451643,
          0.2346674233707255,
          -0.06913396399748813,
          -1.1311298672132875,
          0.005008457933754207,
          1.5923193497443928,
          0.18911255085638373,
          0.3040723226254635,
          0.36235794112014774,
          -0.11385725436758726
         ]
        },
        {
         "marker": {
          "color": "#004679"
         },
         "name": "September",
         "type": "bar",
         "visible": false,
         "width": 0.12,
         "x": [
          "Construction",
          "Durable Goods",
          "Educational and Health Services",
          "Financial Activities",
          "Government",
          "Information",
          "Leisure and Hospitality",
          "Manufacturing",
          "Natural Resources, Mining and Constructi",
          "Nondurable Goods",
          "Other Services",
          "Professional and Business Services",
          "Retail Trade",
          "Total Farm",
          "Trade, Transportation and Utilities",
          "Transportation, Warehousing and Utilitie",
          "Unemployed",
          "Wholesale Trade"
         ],
         "y": [
          -0.26419681275014933,
          -0.2968932798557519,
          0.07796400134157111,
          -0.2417459623669023,
          0.5592493820851197,
          -0.0347042563130423,
          -0.1527694937854561,
          -0.0793608675925303,
          -0.15431191280206313,
          0.016816329440475994,
          -0.04739626506173426,
          -0.687959783609772,
          0.04475801522569045,
          0.9621897271958227,
          0.056412094124284884,
          0.107164809344076,
          0.22627609327300763,
          -0.09149181789264195
         ]
        }
       ],
       "layout": {
        "bargap": 0.2,
        "bargroupgap": 1,
        "barmode": "group",
        "height": 540,
        "margin": {
         "b": 100
        },
        "sliders": [
         {
          "active": 0,
          "pad": {
           "l": 50,
           "r": 50,
           "t": -260
          },
          "steps": [
           {
            "args": [
             {
              "visible": [
               true,
               true,
               true,
               true,
               true,
               true,
               true,
               false,
               false,
               false,
               false,
               false,
               false,
               false,
               false,
               false,
               false,
               false,
               false,
               false,
               false
              ]
             },
             {
              "title.text": "Proportion of Industries in CA",
              "yaxis.range": [
               0,
               16
              ],
              "yaxis.title": "Laborforce (%)"
             }
            ],
            "label": "",
            "method": "update"
           },
           {
            "args": [
             {
              "visible": [
               false,
               false,
               false,
               false,
               false,
               false,
               false,
               true,
               true,
               true,
               true,
               true,
               true,
               true,
               false,
               false,
               false,
               false,
               false,
               false,
               false
              ]
             },
             {
              "title.text": "Proportion of Industries in CA, Weighted by COVID-19 Cases",
              "yaxis.range": [
               0,
               16
              ],
              "yaxis.title": "Laborforce (%)"
             }
            ],
            "label": "",
            "method": "update"
           },
           {
            "args": [
             {
              "visible": [
               false,
               false,
               false,
               false,
               false,
               false,
               false,
               false,
               false,
               false,
               false,
               false,
               false,
               false,
               true,
               true,
               true,
               true,
               true,
               true,
               true
              ]
             },
             {
              "title.text": "Change in Proportion of Industries After Weighted by COVID-19 Cases",
              "yaxis.range": [
               -2,
               2
              ],
              "yaxis.title": "Change (%)"
             }
            ],
            "label": "",
            "method": "update"
           }
          ],
          "tickcolor": "#FFFFFF"
         }
        ],
        "template": {
         "data": {
          "bar": [
           {
            "error_x": {
             "color": "#2a3f5f"
            },
            "error_y": {
             "color": "#2a3f5f"
            },
            "marker": {
             "line": {
              "color": "#E5ECF6",
              "width": 0.5
             }
            },
            "type": "bar"
           }
          ],
          "barpolar": [
           {
            "marker": {
             "line": {
              "color": "#E5ECF6",
              "width": 0.5
             }
            },
            "type": "barpolar"
           }
          ],
          "carpet": [
           {
            "aaxis": {
             "endlinecolor": "#2a3f5f",
             "gridcolor": "white",
             "linecolor": "white",
             "minorgridcolor": "white",
             "startlinecolor": "#2a3f5f"
            },
            "baxis": {
             "endlinecolor": "#2a3f5f",
             "gridcolor": "white",
             "linecolor": "white",
             "minorgridcolor": "white",
             "startlinecolor": "#2a3f5f"
            },
            "type": "carpet"
           }
          ],
          "choropleth": [
           {
            "colorbar": {
             "outlinewidth": 0,
             "ticks": ""
            },
            "type": "choropleth"
           }
          ],
          "contour": [
           {
            "colorbar": {
             "outlinewidth": 0,
             "ticks": ""
            },
            "colorscale": [
             [
              0,
              "#0d0887"
             ],
             [
              0.1111111111111111,
              "#46039f"
             ],
             [
              0.2222222222222222,
              "#7201a8"
             ],
             [
              0.3333333333333333,
              "#9c179e"
             ],
             [
              0.4444444444444444,
              "#bd3786"
             ],
             [
              0.5555555555555556,
              "#d8576b"
             ],
             [
              0.6666666666666666,
              "#ed7953"
             ],
             [
              0.7777777777777778,
              "#fb9f3a"
             ],
             [
              0.8888888888888888,
              "#fdca26"
             ],
             [
              1,
              "#f0f921"
             ]
            ],
            "type": "contour"
           }
          ],
          "contourcarpet": [
           {
            "colorbar": {
             "outlinewidth": 0,
             "ticks": ""
            },
            "type": "contourcarpet"
           }
          ],
          "heatmap": [
           {
            "colorbar": {
             "outlinewidth": 0,
             "ticks": ""
            },
            "colorscale": [
             [
              0,
              "#0d0887"
             ],
             [
              0.1111111111111111,
              "#46039f"
             ],
             [
              0.2222222222222222,
              "#7201a8"
             ],
             [
              0.3333333333333333,
              "#9c179e"
             ],
             [
              0.4444444444444444,
              "#bd3786"
             ],
             [
              0.5555555555555556,
              "#d8576b"
             ],
             [
              0.6666666666666666,
              "#ed7953"
             ],
             [
              0.7777777777777778,
              "#fb9f3a"
             ],
             [
              0.8888888888888888,
              "#fdca26"
             ],
             [
              1,
              "#f0f921"
             ]
            ],
            "type": "heatmap"
           }
          ],
          "heatmapgl": [
           {
            "colorbar": {
             "outlinewidth": 0,
             "ticks": ""
            },
            "colorscale": [
             [
              0,
              "#0d0887"
             ],
             [
              0.1111111111111111,
              "#46039f"
             ],
             [
              0.2222222222222222,
              "#7201a8"
             ],
             [
              0.3333333333333333,
              "#9c179e"
             ],
             [
              0.4444444444444444,
              "#bd3786"
             ],
             [
              0.5555555555555556,
              "#d8576b"
             ],
             [
              0.6666666666666666,
              "#ed7953"
             ],
             [
              0.7777777777777778,
              "#fb9f3a"
             ],
             [
              0.8888888888888888,
              "#fdca26"
             ],
             [
              1,
              "#f0f921"
             ]
            ],
            "type": "heatmapgl"
           }
          ],
          "histogram": [
           {
            "marker": {
             "colorbar": {
              "outlinewidth": 0,
              "ticks": ""
             }
            },
            "type": "histogram"
           }
          ],
          "histogram2d": [
           {
            "colorbar": {
             "outlinewidth": 0,
             "ticks": ""
            },
            "colorscale": [
             [
              0,
              "#0d0887"
             ],
             [
              0.1111111111111111,
              "#46039f"
             ],
             [
              0.2222222222222222,
              "#7201a8"
             ],
             [
              0.3333333333333333,
              "#9c179e"
             ],
             [
              0.4444444444444444,
              "#bd3786"
             ],
             [
              0.5555555555555556,
              "#d8576b"
             ],
             [
              0.6666666666666666,
              "#ed7953"
             ],
             [
              0.7777777777777778,
              "#fb9f3a"
             ],
             [
              0.8888888888888888,
              "#fdca26"
             ],
             [
              1,
              "#f0f921"
             ]
            ],
            "type": "histogram2d"
           }
          ],
          "histogram2dcontour": [
           {
            "colorbar": {
             "outlinewidth": 0,
             "ticks": ""
            },
            "colorscale": [
             [
              0,
              "#0d0887"
             ],
             [
              0.1111111111111111,
              "#46039f"
             ],
             [
              0.2222222222222222,
              "#7201a8"
             ],
             [
              0.3333333333333333,
              "#9c179e"
             ],
             [
              0.4444444444444444,
              "#bd3786"
             ],
             [
              0.5555555555555556,
              "#d8576b"
             ],
             [
              0.6666666666666666,
              "#ed7953"
             ],
             [
              0.7777777777777778,
              "#fb9f3a"
             ],
             [
              0.8888888888888888,
              "#fdca26"
             ],
             [
              1,
              "#f0f921"
             ]
            ],
            "type": "histogram2dcontour"
           }
          ],
          "mesh3d": [
           {
            "colorbar": {
             "outlinewidth": 0,
             "ticks": ""
            },
            "type": "mesh3d"
           }
          ],
          "parcoords": [
           {
            "line": {
             "colorbar": {
              "outlinewidth": 0,
              "ticks": ""
             }
            },
            "type": "parcoords"
           }
          ],
          "pie": [
           {
            "automargin": true,
            "type": "pie"
           }
          ],
          "scatter": [
           {
            "marker": {
             "colorbar": {
              "outlinewidth": 0,
              "ticks": ""
             }
            },
            "type": "scatter"
           }
          ],
          "scatter3d": [
           {
            "line": {
             "colorbar": {
              "outlinewidth": 0,
              "ticks": ""
             }
            },
            "marker": {
             "colorbar": {
              "outlinewidth": 0,
              "ticks": ""
             }
            },
            "type": "scatter3d"
           }
          ],
          "scattercarpet": [
           {
            "marker": {
             "colorbar": {
              "outlinewidth": 0,
              "ticks": ""
             }
            },
            "type": "scattercarpet"
           }
          ],
          "scattergeo": [
           {
            "marker": {
             "colorbar": {
              "outlinewidth": 0,
              "ticks": ""
             }
            },
            "type": "scattergeo"
           }
          ],
          "scattergl": [
           {
            "marker": {
             "colorbar": {
              "outlinewidth": 0,
              "ticks": ""
             }
            },
            "type": "scattergl"
           }
          ],
          "scattermapbox": [
           {
            "marker": {
             "colorbar": {
              "outlinewidth": 0,
              "ticks": ""
             }
            },
            "type": "scattermapbox"
           }
          ],
          "scatterpolar": [
           {
            "marker": {
             "colorbar": {
              "outlinewidth": 0,
              "ticks": ""
             }
            },
            "type": "scatterpolar"
           }
          ],
          "scatterpolargl": [
           {
            "marker": {
             "colorbar": {
              "outlinewidth": 0,
              "ticks": ""
             }
            },
            "type": "scatterpolargl"
           }
          ],
          "scatterternary": [
           {
            "marker": {
             "colorbar": {
              "outlinewidth": 0,
              "ticks": ""
             }
            },
            "type": "scatterternary"
           }
          ],
          "surface": [
           {
            "colorbar": {
             "outlinewidth": 0,
             "ticks": ""
            },
            "colorscale": [
             [
              0,
              "#0d0887"
             ],
             [
              0.1111111111111111,
              "#46039f"
             ],
             [
              0.2222222222222222,
              "#7201a8"
             ],
             [
              0.3333333333333333,
              "#9c179e"
             ],
             [
              0.4444444444444444,
              "#bd3786"
             ],
             [
              0.5555555555555556,
              "#d8576b"
             ],
             [
              0.6666666666666666,
              "#ed7953"
             ],
             [
              0.7777777777777778,
              "#fb9f3a"
             ],
             [
              0.8888888888888888,
              "#fdca26"
             ],
             [
              1,
              "#f0f921"
             ]
            ],
            "type": "surface"
           }
          ],
          "table": [
           {
            "cells": {
             "fill": {
              "color": "#EBF0F8"
             },
             "line": {
              "color": "white"
             }
            },
            "header": {
             "fill": {
              "color": "#C8D4E3"
             },
             "line": {
              "color": "white"
             }
            },
            "type": "table"
           }
          ]
         },
         "layout": {
          "annotationdefaults": {
           "arrowcolor": "#2a3f5f",
           "arrowhead": 0,
           "arrowwidth": 1
          },
          "coloraxis": {
           "colorbar": {
            "outlinewidth": 0,
            "ticks": ""
           }
          },
          "colorscale": {
           "diverging": [
            [
             0,
             "#8e0152"
            ],
            [
             0.1,
             "#c51b7d"
            ],
            [
             0.2,
             "#de77ae"
            ],
            [
             0.3,
             "#f1b6da"
            ],
            [
             0.4,
             "#fde0ef"
            ],
            [
             0.5,
             "#f7f7f7"
            ],
            [
             0.6,
             "#e6f5d0"
            ],
            [
             0.7,
             "#b8e186"
            ],
            [
             0.8,
             "#7fbc41"
            ],
            [
             0.9,
             "#4d9221"
            ],
            [
             1,
             "#276419"
            ]
           ],
           "sequential": [
            [
             0,
             "#0d0887"
            ],
            [
             0.1111111111111111,
             "#46039f"
            ],
            [
             0.2222222222222222,
             "#7201a8"
            ],
            [
             0.3333333333333333,
             "#9c179e"
            ],
            [
             0.4444444444444444,
             "#bd3786"
            ],
            [
             0.5555555555555556,
             "#d8576b"
            ],
            [
             0.6666666666666666,
             "#ed7953"
            ],
            [
             0.7777777777777778,
             "#fb9f3a"
            ],
            [
             0.8888888888888888,
             "#fdca26"
            ],
            [
             1,
             "#f0f921"
            ]
           ],
           "sequentialminus": [
            [
             0,
             "#0d0887"
            ],
            [
             0.1111111111111111,
             "#46039f"
            ],
            [
             0.2222222222222222,
             "#7201a8"
            ],
            [
             0.3333333333333333,
             "#9c179e"
            ],
            [
             0.4444444444444444,
             "#bd3786"
            ],
            [
             0.5555555555555556,
             "#d8576b"
            ],
            [
             0.6666666666666666,
             "#ed7953"
            ],
            [
             0.7777777777777778,
             "#fb9f3a"
            ],
            [
             0.8888888888888888,
             "#fdca26"
            ],
            [
             1,
             "#f0f921"
            ]
           ]
          },
          "colorway": [
           "#636efa",
           "#EF553B",
           "#00cc96",
           "#ab63fa",
           "#FFA15A",
           "#19d3f3",
           "#FF6692",
           "#B6E880",
           "#FF97FF",
           "#FECB52"
          ],
          "font": {
           "color": "#2a3f5f"
          },
          "geo": {
           "bgcolor": "white",
           "lakecolor": "white",
           "landcolor": "#E5ECF6",
           "showlakes": true,
           "showland": true,
           "subunitcolor": "white"
          },
          "hoverlabel": {
           "align": "left"
          },
          "hovermode": "closest",
          "mapbox": {
           "style": "light"
          },
          "paper_bgcolor": "white",
          "plot_bgcolor": "#E5ECF6",
          "polar": {
           "angularaxis": {
            "gridcolor": "white",
            "linecolor": "white",
            "ticks": ""
           },
           "bgcolor": "#E5ECF6",
           "radialaxis": {
            "gridcolor": "white",
            "linecolor": "white",
            "ticks": ""
           }
          },
          "scene": {
           "xaxis": {
            "backgroundcolor": "#E5ECF6",
            "gridcolor": "white",
            "gridwidth": 2,
            "linecolor": "white",
            "showbackground": true,
            "ticks": "",
            "zerolinecolor": "white"
           },
           "yaxis": {
            "backgroundcolor": "#E5ECF6",
            "gridcolor": "white",
            "gridwidth": 2,
            "linecolor": "white",
            "showbackground": true,
            "ticks": "",
            "zerolinecolor": "white"
           },
           "zaxis": {
            "backgroundcolor": "#E5ECF6",
            "gridcolor": "white",
            "gridwidth": 2,
            "linecolor": "white",
            "showbackground": true,
            "ticks": "",
            "zerolinecolor": "white"
           }
          },
          "shapedefaults": {
           "line": {
            "color": "#2a3f5f"
           }
          },
          "ternary": {
           "aaxis": {
            "gridcolor": "white",
            "linecolor": "white",
            "ticks": ""
           },
           "baxis": {
            "gridcolor": "white",
            "linecolor": "white",
            "ticks": ""
           },
           "bgcolor": "#E5ECF6",
           "caxis": {
            "gridcolor": "white",
            "linecolor": "white",
            "ticks": ""
           }
          },
          "title": {
           "x": 0.05
          },
          "xaxis": {
           "automargin": true,
           "gridcolor": "white",
           "linecolor": "white",
           "ticks": "",
           "title": {
            "standoff": 15
           },
           "zerolinecolor": "white",
           "zerolinewidth": 2
          },
          "yaxis": {
           "automargin": true,
           "gridcolor": "white",
           "linecolor": "white",
           "ticks": "",
           "title": {
            "standoff": 15
           },
           "zerolinecolor": "white",
           "zerolinewidth": 2
          }
         }
        },
        "title": {
         "text": "Proportion of Industries in CA",
         "x": 0.5
        },
        "xaxis": {
         "tickangle": -90,
         "tickfont": {
          "size": 10
         }
        },
        "yaxis": {
         "range": [
          0,
          16
         ],
         "title": {
          "text": "Laborforce (%)"
         }
        }
       }
      },
      "text/html": [
       "<div>\n",
       "        \n",
       "        \n",
       "            <div id=\"2b8b66fd-a666-45d2-a2c5-afe457f7f829\" class=\"plotly-graph-div\" style=\"height:540px; width:100%;\"></div>\n",
       "            <script type=\"text/javascript\">\n",
       "                require([\"plotly\"], function(Plotly) {\n",
       "                    window.PLOTLYENV=window.PLOTLYENV || {};\n",
       "                    \n",
       "                if (document.getElementById(\"2b8b66fd-a666-45d2-a2c5-afe457f7f829\")) {\n",
       "                    Plotly.newPlot(\n",
       "                        '2b8b66fd-a666-45d2-a2c5-afe457f7f829',\n",
       "                        [{\"marker\": {\"color\": \"#296b9f\"}, \"name\": \"March\", \"type\": \"bar\", \"visible\": true, \"width\": 0.12, \"x\": [\"Trade, Transportation and Utilities\", \"Educational and Health Services\", \"Government\", \"Professional and Business Services\", \"Unemployed\", \"Retail Trade\", \"Leisure and Hospitality\", \"Manufacturing\", \"Natural Resources, Mining and Constructi\", \"Financial Activities\", \"Durable Goods\", \"Construction\", \"Total Farm\", \"Transportation, Warehousing and Utilitie\", \"Wholesale Trade\", \"Nondurable Goods\", \"Other Services\", \"Information\"], \"y\": [12.595336559728862, 12.382265240829264, 11.299768008053462, 10.10612032859922, 4.699897090244801, 7.016981757746085, 8.678305160057302, 5.647906238071599, 3.4942509639960893, 3.483241400179186, 3.227450336648728, 3.0194552837006374, 2.059513614611207, 2.675719560698626, 2.89182345406276, 2.19050764637281, 2.463109720521893, 2.0683476358774655]}, {\"marker\": {\"color\": \"#f08536\"}, \"name\": \"April\", \"type\": \"bar\", \"visible\": true, \"width\": 0.12, \"x\": [\"Trade, Transportation and Utilities\", \"Educational and Health Services\", \"Government\", \"Professional and Business Services\", \"Unemployed\", \"Retail Trade\", \"Leisure and Hospitality\", \"Manufacturing\", \"Natural Resources, Mining and Constructi\", \"Financial Activities\", \"Durable Goods\", \"Construction\", \"Total Farm\", \"Transportation, Warehousing and Utilitie\", \"Wholesale Trade\", \"Nondurable Goods\", \"Other Services\", \"Information\"], \"y\": [11.286143756638154, 11.735426524369558, 11.429604057877093, 9.52259292031722, 14.001711553400881, 5.957549044451922, 5.098379701752127, 5.344727072315901, 3.2126245065090266, 3.4517019293748814, 3.131131854695209, 2.768326845770483, 2.283317477923592, 2.620366100718548, 2.696596695151014, 1.9948044107118872, 1.781691086767172, 1.683304461255333]}, {\"marker\": {\"color\": \"#ababab\"}, \"name\": \"May\", \"type\": \"bar\", \"visible\": true, \"width\": 0.12, \"x\": [\"Trade, Transportation and Utilities\", \"Educational and Health Services\", \"Government\", \"Professional and Business Services\", \"Unemployed\", \"Retail Trade\", \"Leisure and Hospitality\", \"Manufacturing\", \"Natural Resources, Mining and Constructi\", \"Financial Activities\", \"Durable Goods\", \"Construction\", \"Total Farm\", \"Transportation, Warehousing and Utilitie\", \"Wholesale Trade\", \"Nondurable Goods\", \"Other Services\", \"Information\"], \"y\": [11.297204729513062, 11.742319317181668, 10.89896226350729, 9.50419256459415, 13.322667139708944, 5.928265867952978, 5.207172048659676, 5.376716768211559, 3.4520260082282066, 3.411430793687615, 3.1037941174463906, 2.986989063171612, 2.931042717082057, 2.6365739003472766, 2.721039237492239, 2.0505018114335227, 1.833539152208175, 1.5955624995735798]}, {\"marker\": {\"color\": \"#595959\"}, \"name\": \"June\", \"type\": \"bar\", \"visible\": true, \"width\": 0.12, \"x\": [\"Trade, Transportation and Utilities\", \"Educational and Health Services\", \"Government\", \"Professional and Business Services\", \"Unemployed\", \"Retail Trade\", \"Leisure and Hospitality\", \"Manufacturing\", \"Natural Resources, Mining and Constructi\", \"Financial Activities\", \"Durable Goods\", \"Construction\", \"Total Farm\", \"Transportation, Warehousing and Utilitie\", \"Wholesale Trade\", \"Nondurable Goods\", \"Other Services\", \"Information\"], \"y\": [11.766436073857285, 11.631175116252392, 10.52534342143526, 9.390898831740172, 12.177354594470573, 6.404753075385974, 6.087009879118856, 5.390762770421871, 3.469430223220598, 3.3375041018485665, 3.090259343544157, 2.999485101285646, 2.8306756911781576, 2.6361213453529726, 2.713756332854006, 2.077269489449912, 1.9232667522163323, 1.5484978563672696]}, {\"marker\": {\"color\": \"#6c9ecc\"}, \"name\": \"July\", \"type\": \"bar\", \"visible\": true, \"width\": 0.12, \"x\": [\"Trade, Transportation and Utilities\", \"Educational and Health Services\", \"Government\", \"Professional and Business Services\", \"Unemployed\", \"Retail Trade\", \"Leisure and Hospitality\", \"Manufacturing\", \"Natural Resources, Mining and Constructi\", \"Financial Activities\", \"Durable Goods\", \"Construction\", \"Total Farm\", \"Transportation, Warehousing and Utilitie\", \"Wholesale Trade\", \"Nondurable Goods\", \"Other Services\", \"Information\"], \"y\": [12.031708993657663, 11.676597264364236, 9.908087149385905, 9.523841489938725, 12.009556466121401, 6.599305081924074, 6.116111466148253, 5.441063536134129, 3.4783495964212254, 3.371950335375841, 3.098333055867332, 3.0070377908693993, 2.672064722972574, 2.6872358478913476, 2.733823284588822, 2.1119414206617297, 1.9845979517638783, 1.548394545913463]}, {\"marker\": {\"color\": \"#4C4946\"}, \"name\": \"August\", \"type\": \"bar\", \"visible\": true, \"width\": 0.12, \"x\": [\"Trade, Transportation and Utilities\", \"Educational and Health Services\", \"Government\", \"Professional and Business Services\", \"Unemployed\", \"Retail Trade\", \"Leisure and Hospitality\", \"Manufacturing\", \"Natural Resources, Mining and Constructi\", \"Financial Activities\", \"Durable Goods\", \"Construction\", \"Total Farm\", \"Transportation, Warehousing and Utilitie\", \"Wholesale Trade\", \"Nondurable Goods\", \"Other Services\", \"Information\"], \"y\": [12.202814347373682, 11.79379837348721, 10.204077514614198, 9.611639971777159, 10.988344289078311, 6.676222255553934, 6.079614512029347, 5.488387672617723, 3.506936994321128, 3.3863374808893827, 3.0994680303671323, 3.0334174323805323, 2.7875773757196116, 2.760000242140685, 2.7547538606305477, 2.1553884037480686, 1.8715457117893592, 1.5996755314819884]}, {\"marker\": {\"color\": \"#004679\"}, \"name\": \"September\", \"type\": \"bar\", \"visible\": true, \"width\": 0.12, \"x\": [\"Trade, Transportation and Utilities\", \"Educational and Health Services\", \"Government\", \"Professional and Business Services\", \"Unemployed\", \"Retail Trade\", \"Leisure and Hospitality\", \"Manufacturing\", \"Natural Resources, Mining and Constructi\", \"Financial Activities\", \"Durable Goods\", \"Construction\", \"Total Farm\", \"Transportation, Warehousing and Utilitie\", \"Wholesale Trade\", \"Nondurable Goods\", \"Other Services\", \"Information\"], \"y\": [12.426688416906265, 12.078066265487498, 10.656230734397932, 9.763261553905496, 9.03457851636451, 6.819204770504056, 6.318912888108111, 5.5598140681859105, 3.5235251755386185, 3.410113861413147, 3.122937046150153, 3.0479205425193543, 2.8105274069386175, 2.802343788360712, 2.793069020639086, 2.197437981810544, 1.9957117838651777, 1.6396561789048136]}, {\"marker\": {\"color\": \"#296b9f\"}, \"name\": \"March\", \"type\": \"bar\", \"visible\": false, \"width\": 0.12, \"x\": [\"Trade, Transportation and Utilities\", \"Educational and Health Services\", \"Government\", \"Professional and Business Services\", \"Unemployed\", \"Retail Trade\", \"Leisure and Hospitality\", \"Manufacturing\", \"Natural Resources, Mining and Constructi\", \"Financial Activities\", \"Durable Goods\", \"Construction\", \"Total Farm\", \"Transportation, Warehousing and Utilitie\", \"Wholesale Trade\", \"Nondurable Goods\", \"Other Services\", \"Information\"], \"y\": [12.779843392018492, 12.727951234847602, 10.84004851141722, 10.415082639096118, 4.494190400677088, 6.912734795529301, 8.794178938917588, 5.571290227982466, 3.2457220491943195, 3.562065931637411, 3.3277886723335697, 2.9382912755221424, 1.3722493640509381, 2.825522225335815, 3.040784393926181, 2.0944405300970024, 2.5133209958681157, 2.544494421548634]}, {\"marker\": {\"color\": \"#f08536\"}, \"name\": \"April\", \"type\": \"bar\", \"visible\": false, \"width\": 0.12, \"x\": [\"Trade, Transportation and Utilities\", \"Educational and Health Services\", \"Government\", \"Professional and Business Services\", \"Unemployed\", \"Retail Trade\", \"Leisure and Hospitality\", \"Manufacturing\", \"Natural Resources, Mining and Constructi\", \"Financial Activities\", \"Durable Goods\", \"Construction\", \"Total Farm\", \"Transportation, Warehousing and Utilitie\", \"Wholesale Trade\", \"Nondurable Goods\", \"Other Services\", \"Information\"], \"y\": [11.539983039218162, 12.359360097927818, 10.97619888911132, 9.503945037692597, 14.515691144570681, 5.7217094226797744, 5.042758598960013, 5.16457810024269, 2.7621596101945363, 3.4494717826021386, 3.1085777277368414, 2.4883165542512544, 1.5812153309319652, 2.9623206814180234, 2.855023830372066, 1.9505745709524787, 1.7943250475009047, 2.2237905336367323]}, {\"marker\": {\"color\": \"#ababab\"}, \"name\": \"May\", \"type\": \"bar\", \"visible\": false, \"width\": 0.12, \"x\": [\"Trade, Transportation and Utilities\", \"Educational and Health Services\", \"Government\", \"Professional and Business Services\", \"Unemployed\", \"Retail Trade\", \"Leisure and Hospitality\", \"Manufacturing\", \"Natural Resources, Mining and Constructi\", \"Financial Activities\", \"Durable Goods\", \"Construction\", \"Total Farm\", \"Transportation, Warehousing and Utilitie\", \"Wholesale Trade\", \"Nondurable Goods\", \"Other Services\", \"Information\"], \"y\": [11.38060345192214, 12.020982752218384, 11.139264394493006, 9.117522241730859, 14.24327443232202, 5.728681023247793, 5.062790390371244, 5.090280745434597, 2.99027582686648, 3.283877106489699, 2.937815633787868, 2.614947262572549, 3.1593114032984073, 2.8386347163646963, 2.80502452162434, 1.9359343558467252, 1.7693033193446661, 1.8814764220645201]}, {\"marker\": {\"color\": \"#595959\"}, \"name\": \"June\", \"type\": \"bar\", \"visible\": false, \"width\": 0.12, \"x\": [\"Trade, Transportation and Utilities\", \"Educational and Health Services\", \"Government\", \"Professional and Business Services\", \"Unemployed\", \"Retail Trade\", \"Leisure and Hospitality\", \"Manufacturing\", \"Natural Resources, Mining and Constructi\", \"Financial Activities\", \"Durable Goods\", \"Construction\", \"Total Farm\", \"Transportation, Warehousing and Utilitie\", \"Wholesale Trade\", \"Nondurable Goods\", \"Other Services\", \"Information\"], \"y\": [11.951409275084735, 11.623931172324495, 10.764927914463428, 8.838909240177424, 12.758421885898267, 6.353846110017793, 5.809278219392364, 5.185654199383224, 3.2629546876612077, 3.154653725942856, 2.813308089505054, 2.777933527067905, 3.5814736408185666, 2.887191244826005, 2.7089367347112785, 2.0973684745529875, 1.8510869652717417, 1.578714892900674]}, {\"marker\": {\"color\": \"#6c9ecc\"}, \"name\": \"July\", \"type\": \"bar\", \"visible\": false, \"width\": 0.12, \"x\": [\"Trade, Transportation and Utilities\", \"Educational and Health Services\", \"Government\", \"Professional and Business Services\", \"Unemployed\", \"Retail Trade\", \"Leisure and Hospitality\", \"Manufacturing\", \"Natural Resources, Mining and Constructi\", \"Financial Activities\", \"Durable Goods\", \"Construction\", \"Total Farm\", \"Transportation, Warehousing and Utilitie\", \"Wholesale Trade\", \"Nondurable Goods\", \"Other Services\", \"Information\"], \"y\": [12.268010198482214, 11.573088128661706, 10.246992171064294, 8.615192850503654, 12.483022141262467, 6.558823376810386, 5.787294084938811, 5.293915028353222, 3.3393823366851887, 3.0583676369945922, 2.6992575583393337, 2.735340277147013, 3.962962207907937, 3.0454990331676344, 2.6614259872176516, 2.3101014673820357, 1.8949896973779905, 1.466335817703865]}, {\"marker\": {\"color\": \"#4C4946\"}, \"name\": \"August\", \"type\": \"bar\", \"visible\": false, \"width\": 0.12, \"x\": [\"Trade, Transportation and Utilities\", \"Educational and Health Services\", \"Government\", \"Professional and Business Services\", \"Unemployed\", \"Retail Trade\", \"Leisure and Hospitality\", \"Manufacturing\", \"Natural Resources, Mining and Constructi\", \"Financial Activities\", \"Durable Goods\", \"Construction\", \"Total Farm\", \"Transportation, Warehousing and Utilitie\", \"Wholesale Trade\", \"Nondurable Goods\", \"Other Services\", \"Information\"], \"y\": [12.391926898230066, 11.759974915707824, 10.786614941249288, 8.480510104563871, 11.35070223019846, 6.681230713487688, 5.798420027485652, 5.385423427359493, 3.3073962782066118, 3.004005884763922, 2.616432774591373, 2.649705338202087, 4.379896725464005, 3.064072564766149, 2.6408966062629604, 2.390055827118794, 1.802411747791871, 1.5103229945498806]}, {\"marker\": {\"color\": \"#004679\"}, \"name\": \"September\", \"type\": \"bar\", \"visible\": false, \"width\": 0.12, \"x\": [\"Trade, Transportation and Utilities\", \"Educational and Health Services\", \"Government\", \"Professional and Business Services\", \"Unemployed\", \"Retail Trade\", \"Leisure and Hospitality\", \"Manufacturing\", \"Natural Resources, Mining and Constructi\", \"Financial Activities\", \"Durable Goods\", \"Construction\", \"Total Farm\", \"Transportation, Warehousing and Utilitie\", \"Wholesale Trade\", \"Nondurable Goods\", \"Other Services\", \"Information\"], \"y\": [12.48310051103055, 12.15603026682907, 11.21548011648305, 9.075301770295724, 9.260854609637517, 6.863962785729746, 6.1661433943226545, 5.48045320059338, 3.3692132627365554, 3.168367899046245, 2.826043766294401, 2.783723729769205, 3.77271713413444, 2.909508597704788, 2.701577202746444, 2.2142543112510196, 1.9483155188034433, 1.6049519225917712]}, {\"marker\": {\"color\": \"#296b9f\"}, \"name\": \"March\", \"type\": \"bar\", \"visible\": false, \"width\": 0.12, \"x\": [\"Construction\", \"Durable Goods\", \"Educational and Health Services\", \"Financial Activities\", \"Government\", \"Information\", \"Leisure and Hospitality\", \"Manufacturing\", \"Natural Resources, Mining and Constructi\", \"Nondurable Goods\", \"Other Services\", \"Professional and Business Services\", \"Retail Trade\", \"Total Farm\", \"Trade, Transportation and Utilities\", \"Transportation, Warehousing and Utilitie\", \"Unemployed\", \"Wholesale Trade\"], \"y\": [-0.08116400817849492, 0.10033833568484155, 0.34568599401833683, 0.0788245314582249, -0.45971949663624334, 0.47614678567116864, 0.11587377886028566, -0.07661601008913249, -0.2485289148017697, -0.09606711627580776, 0.050211275346222564, 0.30896231049689776, -0.10424696221678492, -0.6872642505602693, 0.18450683228962983, 0.1498026646371893, -0.20570668956771399, 0.14896093986342118]}, {\"marker\": {\"color\": \"#f08536\"}, \"name\": \"April\", \"type\": \"bar\", \"visible\": false, \"width\": 0.12, \"x\": [\"Construction\", \"Durable Goods\", \"Educational and Health Services\", \"Financial Activities\", \"Government\", \"Information\", \"Leisure and Hospitality\", \"Manufacturing\", \"Natural Resources, Mining and Constructi\", \"Nondurable Goods\", \"Other Services\", \"Professional and Business Services\", \"Retail Trade\", \"Total Farm\", \"Trade, Transportation and Utilities\", \"Transportation, Warehousing and Utilitie\", \"Unemployed\", \"Wholesale Trade\"], \"y\": [-0.2800102915192285, -0.022554126958367754, 0.6239335735582594, -0.002230146772742858, -0.45340516876577197, 0.5404860723813992, -0.05562110279211385, -0.18014897207321093, -0.45046489631449005, -0.044229839759408335, 0.012633960733732588, -0.018647882624621415, -0.23583962177214784, -0.7021021469916268, 0.25383928258000815, 0.3419545806994759, 0.5139795911697997, 0.1584271352210516]}, {\"marker\": {\"color\": \"#ababab\"}, \"name\": \"May\", \"type\": \"bar\", \"visible\": false, \"width\": 0.12, \"x\": [\"Construction\", \"Durable Goods\", \"Educational and Health Services\", \"Financial Activities\", \"Government\", \"Information\", \"Leisure and Hospitality\", \"Manufacturing\", \"Natural Resources, Mining and Constructi\", \"Nondurable Goods\", \"Other Services\", \"Professional and Business Services\", \"Retail Trade\", \"Total Farm\", \"Trade, Transportation and Utilities\", \"Transportation, Warehousing and Utilitie\", \"Unemployed\", \"Wholesale Trade\"], \"y\": [-0.3720418005990631, -0.16597848365852258, 0.2786634350367162, -0.12755368719791563, 0.2403021309857159, 0.2859139224909404, -0.14438165828843108, -0.28643602277696256, -0.46175018136172635, -0.1145674555867976, -0.0642358328635087, -0.3866703228632917, -0.19958484470518484, 0.22826868621635027, 0.0833987224090782, 0.2020608160174197, 0.9206072926130765, 0.08398528413210114]}, {\"marker\": {\"color\": \"#595959\"}, \"name\": \"June\", \"type\": \"bar\", \"visible\": false, \"width\": 0.12, \"x\": [\"Construction\", \"Durable Goods\", \"Educational and Health Services\", \"Financial Activities\", \"Government\", \"Information\", \"Leisure and Hospitality\", \"Manufacturing\", \"Natural Resources, Mining and Constructi\", \"Nondurable Goods\", \"Other Services\", \"Professional and Business Services\", \"Retail Trade\", \"Total Farm\", \"Trade, Transportation and Utilities\", \"Transportation, Warehousing and Utilitie\", \"Unemployed\", \"Wholesale Trade\"], \"y\": [-0.22155157421774146, -0.27695125403910287, -0.00724394392789679, -0.1828503759057104, 0.23958449302816792, 0.030217036533404518, -0.2777316597264927, -0.2051085710386466, -0.2064755355593903, 0.020098985103075492, -0.07217978694459039, -0.5519895915627473, -0.05090696536818179, 0.7507979496404089, 0.18497320122744937, 0.2510698994730321, 0.5810672914276921, -0.004819598142727713]}, {\"marker\": {\"color\": \"#6c9ecc\"}, \"name\": \"July\", \"type\": \"bar\", \"visible\": false, \"width\": 0.12, \"x\": [\"Construction\", \"Durable Goods\", \"Educational and Health Services\", \"Financial Activities\", \"Government\", \"Information\", \"Leisure and Hospitality\", \"Manufacturing\", \"Natural Resources, Mining and Constructi\", \"Nondurable Goods\", \"Other Services\", \"Professional and Business Services\", \"Retail Trade\", \"Total Farm\", \"Trade, Transportation and Utilities\", \"Transportation, Warehousing and Utilitie\", \"Unemployed\", \"Wholesale Trade\"], \"y\": [-0.27169751372238604, -0.3990754975279981, -0.10350913570253001, -0.31358269838124875, 0.3389050216783887, -0.08205872820959796, -0.3288173812094425, -0.14714850778090663, -0.1389672597360371, 0.1981600467203061, -0.08960825438588775, -0.908648639435071, -0.040481705113688815, 1.2908974849353632, 0.23630120482455025, 0.35826318527628664, 0.4734656751410646, -0.07239729737117048]}, {\"marker\": {\"color\": \"#4C4946\"}, \"name\": \"August\", \"type\": \"bar\", \"visible\": false, \"width\": 0.12, \"x\": [\"Construction\", \"Durable Goods\", \"Educational and Health Services\", \"Financial Activities\", \"Government\", \"Information\", \"Leisure and Hospitality\", \"Manufacturing\", \"Natural Resources, Mining and Constructi\", \"Nondurable Goods\", \"Other Services\", \"Professional and Business Services\", \"Retail Trade\", \"Total Farm\", \"Trade, Transportation and Utilities\", \"Transportation, Warehousing and Utilitie\", \"Unemployed\", \"Wholesale Trade\"], \"y\": [-0.3837120941784449, -0.4830352557757597, -0.033823457779384725, -0.3823315961254608, 0.5825374266350893, -0.08935253693210764, -0.28119448454369533, -0.10296424525822953, -0.19954071611451643, 0.2346674233707255, -0.06913396399748813, -1.1311298672132875, 0.005008457933754207, 1.5923193497443928, 0.18911255085638373, 0.3040723226254635, 0.36235794112014774, -0.11385725436758726]}, {\"marker\": {\"color\": \"#004679\"}, \"name\": \"September\", \"type\": \"bar\", \"visible\": false, \"width\": 0.12, \"x\": [\"Construction\", \"Durable Goods\", \"Educational and Health Services\", \"Financial Activities\", \"Government\", \"Information\", \"Leisure and Hospitality\", \"Manufacturing\", \"Natural Resources, Mining and Constructi\", \"Nondurable Goods\", \"Other Services\", \"Professional and Business Services\", \"Retail Trade\", \"Total Farm\", \"Trade, Transportation and Utilities\", \"Transportation, Warehousing and Utilitie\", \"Unemployed\", \"Wholesale Trade\"], \"y\": [-0.26419681275014933, -0.2968932798557519, 0.07796400134157111, -0.2417459623669023, 0.5592493820851197, -0.0347042563130423, -0.1527694937854561, -0.0793608675925303, -0.15431191280206313, 0.016816329440475994, -0.04739626506173426, -0.687959783609772, 0.04475801522569045, 0.9621897271958227, 0.056412094124284884, 0.107164809344076, 0.22627609327300763, -0.09149181789264195]}],\n",
       "                        {\"bargap\": 0.2, \"bargroupgap\": 1, \"barmode\": \"group\", \"height\": 540, \"margin\": {\"b\": 100}, \"sliders\": [{\"active\": 0, \"pad\": {\"l\": 50, \"r\": 50, \"t\": -260}, \"steps\": [{\"args\": [{\"visible\": [true, true, true, true, true, true, true, false, false, false, false, false, false, false, false, false, false, false, false, false, false]}, {\"title.text\": \"Proportion of Industries in CA\", \"yaxis.range\": [0, 16], \"yaxis.title\": \"Laborforce (%)\"}], \"label\": \"\", \"method\": \"update\"}, {\"args\": [{\"visible\": [false, false, false, false, false, false, false, true, true, true, true, true, true, true, false, false, false, false, false, false, false]}, {\"title.text\": \"Proportion of Industries in CA, Weighted by COVID-19 Cases\", \"yaxis.range\": [0, 16], \"yaxis.title\": \"Laborforce (%)\"}], \"label\": \"\", \"method\": \"update\"}, {\"args\": [{\"visible\": [false, false, false, false, false, false, false, false, false, false, false, false, false, false, true, true, true, true, true, true, true]}, {\"title.text\": \"Change in Proportion of Industries After Weighted by COVID-19 Cases\", \"yaxis.range\": [-2, 2], \"yaxis.title\": \"Change (%)\"}], \"label\": \"\", \"method\": \"update\"}], \"tickcolor\": \"#FFFFFF\"}], \"template\": {\"data\": {\"bar\": [{\"error_x\": {\"color\": \"#2a3f5f\"}, \"error_y\": {\"color\": \"#2a3f5f\"}, \"marker\": {\"line\": {\"color\": \"#E5ECF6\", \"width\": 0.5}}, \"type\": \"bar\"}], \"barpolar\": [{\"marker\": {\"line\": {\"color\": \"#E5ECF6\", \"width\": 0.5}}, \"type\": \"barpolar\"}], \"carpet\": [{\"aaxis\": {\"endlinecolor\": \"#2a3f5f\", \"gridcolor\": \"white\", \"linecolor\": \"white\", \"minorgridcolor\": \"white\", \"startlinecolor\": \"#2a3f5f\"}, \"baxis\": {\"endlinecolor\": \"#2a3f5f\", \"gridcolor\": \"white\", \"linecolor\": \"white\", \"minorgridcolor\": \"white\", \"startlinecolor\": \"#2a3f5f\"}, \"type\": \"carpet\"}], \"choropleth\": [{\"colorbar\": {\"outlinewidth\": 0, \"ticks\": \"\"}, \"type\": \"choropleth\"}], \"contour\": [{\"colorbar\": {\"outlinewidth\": 0, \"ticks\": \"\"}, \"colorscale\": [[0.0, \"#0d0887\"], [0.1111111111111111, \"#46039f\"], [0.2222222222222222, \"#7201a8\"], [0.3333333333333333, \"#9c179e\"], [0.4444444444444444, \"#bd3786\"], [0.5555555555555556, \"#d8576b\"], [0.6666666666666666, \"#ed7953\"], [0.7777777777777778, \"#fb9f3a\"], [0.8888888888888888, \"#fdca26\"], [1.0, \"#f0f921\"]], \"type\": \"contour\"}], \"contourcarpet\": [{\"colorbar\": {\"outlinewidth\": 0, \"ticks\": \"\"}, \"type\": \"contourcarpet\"}], \"heatmap\": [{\"colorbar\": {\"outlinewidth\": 0, \"ticks\": \"\"}, \"colorscale\": [[0.0, \"#0d0887\"], [0.1111111111111111, \"#46039f\"], [0.2222222222222222, \"#7201a8\"], [0.3333333333333333, \"#9c179e\"], [0.4444444444444444, \"#bd3786\"], [0.5555555555555556, \"#d8576b\"], [0.6666666666666666, \"#ed7953\"], [0.7777777777777778, \"#fb9f3a\"], [0.8888888888888888, \"#fdca26\"], [1.0, \"#f0f921\"]], \"type\": \"heatmap\"}], \"heatmapgl\": [{\"colorbar\": {\"outlinewidth\": 0, \"ticks\": \"\"}, \"colorscale\": [[0.0, \"#0d0887\"], [0.1111111111111111, \"#46039f\"], [0.2222222222222222, \"#7201a8\"], [0.3333333333333333, \"#9c179e\"], [0.4444444444444444, \"#bd3786\"], [0.5555555555555556, \"#d8576b\"], [0.6666666666666666, \"#ed7953\"], [0.7777777777777778, \"#fb9f3a\"], [0.8888888888888888, \"#fdca26\"], [1.0, \"#f0f921\"]], \"type\": \"heatmapgl\"}], \"histogram\": [{\"marker\": {\"colorbar\": {\"outlinewidth\": 0, \"ticks\": \"\"}}, \"type\": \"histogram\"}], \"histogram2d\": [{\"colorbar\": {\"outlinewidth\": 0, \"ticks\": \"\"}, \"colorscale\": [[0.0, \"#0d0887\"], [0.1111111111111111, \"#46039f\"], [0.2222222222222222, \"#7201a8\"], [0.3333333333333333, \"#9c179e\"], [0.4444444444444444, \"#bd3786\"], [0.5555555555555556, \"#d8576b\"], [0.6666666666666666, \"#ed7953\"], [0.7777777777777778, \"#fb9f3a\"], [0.8888888888888888, \"#fdca26\"], [1.0, \"#f0f921\"]], \"type\": \"histogram2d\"}], \"histogram2dcontour\": [{\"colorbar\": {\"outlinewidth\": 0, \"ticks\": \"\"}, \"colorscale\": [[0.0, \"#0d0887\"], [0.1111111111111111, \"#46039f\"], [0.2222222222222222, \"#7201a8\"], [0.3333333333333333, \"#9c179e\"], [0.4444444444444444, \"#bd3786\"], [0.5555555555555556, \"#d8576b\"], [0.6666666666666666, \"#ed7953\"], [0.7777777777777778, \"#fb9f3a\"], [0.8888888888888888, \"#fdca26\"], [1.0, \"#f0f921\"]], \"type\": \"histogram2dcontour\"}], \"mesh3d\": [{\"colorbar\": {\"outlinewidth\": 0, \"ticks\": \"\"}, \"type\": \"mesh3d\"}], \"parcoords\": [{\"line\": {\"colorbar\": {\"outlinewidth\": 0, \"ticks\": \"\"}}, \"type\": \"parcoords\"}], \"pie\": [{\"automargin\": true, \"type\": \"pie\"}], \"scatter\": [{\"marker\": {\"colorbar\": {\"outlinewidth\": 0, \"ticks\": \"\"}}, \"type\": \"scatter\"}], \"scatter3d\": [{\"line\": {\"colorbar\": {\"outlinewidth\": 0, \"ticks\": \"\"}}, \"marker\": {\"colorbar\": {\"outlinewidth\": 0, \"ticks\": \"\"}}, \"type\": \"scatter3d\"}], \"scattercarpet\": [{\"marker\": {\"colorbar\": {\"outlinewidth\": 0, \"ticks\": \"\"}}, \"type\": \"scattercarpet\"}], \"scattergeo\": [{\"marker\": {\"colorbar\": {\"outlinewidth\": 0, \"ticks\": \"\"}}, \"type\": \"scattergeo\"}], \"scattergl\": [{\"marker\": {\"colorbar\": {\"outlinewidth\": 0, \"ticks\": \"\"}}, \"type\": \"scattergl\"}], \"scattermapbox\": [{\"marker\": {\"colorbar\": {\"outlinewidth\": 0, \"ticks\": \"\"}}, \"type\": \"scattermapbox\"}], \"scatterpolar\": [{\"marker\": {\"colorbar\": {\"outlinewidth\": 0, \"ticks\": \"\"}}, \"type\": \"scatterpolar\"}], \"scatterpolargl\": [{\"marker\": {\"colorbar\": {\"outlinewidth\": 0, \"ticks\": \"\"}}, \"type\": \"scatterpolargl\"}], \"scatterternary\": [{\"marker\": {\"colorbar\": {\"outlinewidth\": 0, \"ticks\": \"\"}}, \"type\": \"scatterternary\"}], \"surface\": [{\"colorbar\": {\"outlinewidth\": 0, \"ticks\": \"\"}, \"colorscale\": [[0.0, \"#0d0887\"], [0.1111111111111111, \"#46039f\"], [0.2222222222222222, \"#7201a8\"], [0.3333333333333333, \"#9c179e\"], [0.4444444444444444, \"#bd3786\"], [0.5555555555555556, \"#d8576b\"], [0.6666666666666666, \"#ed7953\"], [0.7777777777777778, \"#fb9f3a\"], [0.8888888888888888, \"#fdca26\"], [1.0, \"#f0f921\"]], \"type\": \"surface\"}], \"table\": [{\"cells\": {\"fill\": {\"color\": \"#EBF0F8\"}, \"line\": {\"color\": \"white\"}}, \"header\": {\"fill\": {\"color\": \"#C8D4E3\"}, \"line\": {\"color\": \"white\"}}, \"type\": \"table\"}]}, \"layout\": {\"annotationdefaults\": {\"arrowcolor\": \"#2a3f5f\", \"arrowhead\": 0, \"arrowwidth\": 1}, \"coloraxis\": {\"colorbar\": {\"outlinewidth\": 0, \"ticks\": \"\"}}, \"colorscale\": {\"diverging\": [[0, \"#8e0152\"], [0.1, \"#c51b7d\"], [0.2, \"#de77ae\"], [0.3, \"#f1b6da\"], [0.4, \"#fde0ef\"], [0.5, \"#f7f7f7\"], [0.6, \"#e6f5d0\"], [0.7, \"#b8e186\"], [0.8, \"#7fbc41\"], [0.9, \"#4d9221\"], [1, \"#276419\"]], \"sequential\": [[0.0, \"#0d0887\"], [0.1111111111111111, \"#46039f\"], [0.2222222222222222, \"#7201a8\"], [0.3333333333333333, \"#9c179e\"], [0.4444444444444444, \"#bd3786\"], [0.5555555555555556, \"#d8576b\"], [0.6666666666666666, \"#ed7953\"], [0.7777777777777778, \"#fb9f3a\"], [0.8888888888888888, \"#fdca26\"], [1.0, \"#f0f921\"]], \"sequentialminus\": [[0.0, \"#0d0887\"], [0.1111111111111111, \"#46039f\"], [0.2222222222222222, \"#7201a8\"], [0.3333333333333333, \"#9c179e\"], [0.4444444444444444, \"#bd3786\"], [0.5555555555555556, \"#d8576b\"], [0.6666666666666666, \"#ed7953\"], [0.7777777777777778, \"#fb9f3a\"], [0.8888888888888888, \"#fdca26\"], [1.0, \"#f0f921\"]]}, \"colorway\": [\"#636efa\", \"#EF553B\", \"#00cc96\", \"#ab63fa\", \"#FFA15A\", \"#19d3f3\", \"#FF6692\", \"#B6E880\", \"#FF97FF\", \"#FECB52\"], \"font\": {\"color\": \"#2a3f5f\"}, \"geo\": {\"bgcolor\": \"white\", \"lakecolor\": \"white\", \"landcolor\": \"#E5ECF6\", \"showlakes\": true, \"showland\": true, \"subunitcolor\": \"white\"}, \"hoverlabel\": {\"align\": \"left\"}, \"hovermode\": \"closest\", \"mapbox\": {\"style\": \"light\"}, \"paper_bgcolor\": \"white\", \"plot_bgcolor\": \"#E5ECF6\", \"polar\": {\"angularaxis\": {\"gridcolor\": \"white\", \"linecolor\": \"white\", \"ticks\": \"\"}, \"bgcolor\": \"#E5ECF6\", \"radialaxis\": {\"gridcolor\": \"white\", \"linecolor\": \"white\", \"ticks\": \"\"}}, \"scene\": {\"xaxis\": {\"backgroundcolor\": \"#E5ECF6\", \"gridcolor\": \"white\", \"gridwidth\": 2, \"linecolor\": \"white\", \"showbackground\": true, \"ticks\": \"\", \"zerolinecolor\": \"white\"}, \"yaxis\": {\"backgroundcolor\": \"#E5ECF6\", \"gridcolor\": \"white\", \"gridwidth\": 2, \"linecolor\": \"white\", \"showbackground\": true, \"ticks\": \"\", \"zerolinecolor\": \"white\"}, \"zaxis\": {\"backgroundcolor\": \"#E5ECF6\", \"gridcolor\": \"white\", \"gridwidth\": 2, \"linecolor\": \"white\", \"showbackground\": true, \"ticks\": \"\", \"zerolinecolor\": \"white\"}}, \"shapedefaults\": {\"line\": {\"color\": \"#2a3f5f\"}}, \"ternary\": {\"aaxis\": {\"gridcolor\": \"white\", \"linecolor\": \"white\", \"ticks\": \"\"}, \"baxis\": {\"gridcolor\": \"white\", \"linecolor\": \"white\", \"ticks\": \"\"}, \"bgcolor\": \"#E5ECF6\", \"caxis\": {\"gridcolor\": \"white\", \"linecolor\": \"white\", \"ticks\": \"\"}}, \"title\": {\"x\": 0.05}, \"xaxis\": {\"automargin\": true, \"gridcolor\": \"white\", \"linecolor\": \"white\", \"ticks\": \"\", \"title\": {\"standoff\": 15}, \"zerolinecolor\": \"white\", \"zerolinewidth\": 2}, \"yaxis\": {\"automargin\": true, \"gridcolor\": \"white\", \"linecolor\": \"white\", \"ticks\": \"\", \"title\": {\"standoff\": 15}, \"zerolinecolor\": \"white\", \"zerolinewidth\": 2}}}, \"title\": {\"text\": \"Proportion of Industries in CA\", \"x\": 0.5}, \"xaxis\": {\"tickangle\": -90, \"tickfont\": {\"size\": 10}}, \"yaxis\": {\"range\": [0, 16], \"title\": {\"text\": \"Laborforce (%)\"}}},\n",
       "                        {\"responsive\": true}\n",
       "                    ).then(function(){\n",
       "                            \n",
       "var gd = document.getElementById('2b8b66fd-a666-45d2-a2c5-afe457f7f829');\n",
       "var x = new MutationObserver(function (mutations, observer) {{\n",
       "        var display = window.getComputedStyle(gd).display;\n",
       "        if (!display || display === 'none') {{\n",
       "            console.log([gd, 'removed!']);\n",
       "            Plotly.purge(gd);\n",
       "            observer.disconnect();\n",
       "        }}\n",
       "}});\n",
       "\n",
       "// Listen for the removal of the full notebook cells\n",
       "var notebookContainer = gd.closest('#notebook-container');\n",
       "if (notebookContainer) {{\n",
       "    x.observe(notebookContainer, {childList: true});\n",
       "}}\n",
       "\n",
       "// Listen for the clearing of the current output cell\n",
       "var outputEl = gd.closest('.output');\n",
       "if (outputEl) {{\n",
       "    x.observe(outputEl, {childList: true});\n",
       "}}\n",
       "\n",
       "                        })\n",
       "                };\n",
       "                });\n",
       "            </script>\n",
       "        </div>"
      ]
     },
     "metadata": {},
     "output_type": "display_data"
    }
   ],
   "source": [
    "# plotly step update documentation https://chart-studio.plotly.com/~empet/15605/update-method-called-within-an-update/#/\n",
    "df=pd.DataFrame(industryTotal)\n",
    "df2=pd.DataFrame(industryTotalCase)\n",
    "df3=difference_df\n",
    "slider_data = []\n",
    "colors = ['#296b9f',  '#f08536', '#ababab', '#595959','#6c9ecc','#4C4946','#004679','#296b9f',  '#f08536', '#ababab']\n",
    "i=0\n",
    "for month in df.columns:\n",
    "    slider_data.append(go.Bar({\n",
    "        'type':'bar',\n",
    "        'marker':{'color':colors[i]},\n",
    "        'x': list(df.index),\n",
    "        'visible': True,\n",
    "        'name': month,\n",
    "        'y': df[month].values*100,\n",
    "        'width':0.12}))\n",
    "    i+=1\n",
    "i=0\n",
    "for month in df2.columns:\n",
    "    slider_data.append(go.Bar({\n",
    "        'type':'bar',\n",
    "        'marker':{'color':colors[i]},\n",
    "        'x': list(df2.index),\n",
    "        'visible': False,\n",
    "        'name': month,\n",
    "        'y': df2[month].values*100,\n",
    "        'width':0.12}))\n",
    "    i+=1\n",
    "i=0\n",
    "for month in df3.columns:\n",
    "    slider_data.append(go.Bar({\n",
    "        'type':'bar',\n",
    "        'marker':{'color':colors[i]},\n",
    "        'x': list(df3.index),\n",
    "        'visible': False,\n",
    "        'name': month,\n",
    "        'y': df3[month].values,\n",
    "        'width':0.12}))\n",
    "    i+=1\n",
    "# Set initial slider/title index\n",
    "start_index = 0\n",
    "\n",
    "\n",
    "# Build slider steps\n",
    "steps = [None,None,None]\n",
    "steps[0] = dict(\n",
    "    label='',\n",
    "    method='update',\n",
    "    args=[{'visible': list([True]*len(df.columns) + [False]*(len(df.columns))*2)},\n",
    "           {'title.text': 'Proportion of Industries in CA',\n",
    "             'yaxis.title':\"Laborforce (%)\",'yaxis.range':[0,16]}])\n",
    "\n",
    "steps[1] = dict(\n",
    "    label='',\n",
    "    method='update',\n",
    "    args=[{'visible': list([False]*len(df.columns) + [True]*len(df.columns) + [False]*len(df.columns))},\n",
    "            {'title.text': 'Proportion of Industries in CA, Weighted by COVID-19 Cases',\n",
    "             'yaxis.title':\"Laborforce (%)\",'yaxis.range':[0,16]}])\n",
    "\n",
    "steps[2] = dict(\n",
    "    label='',\n",
    "    method='update',\n",
    "    args=[{'visible': list([False]*(len(df.columns)*2) + [True]*len(df.columns))},\n",
    "            {'title.text': 'Change in Proportion of Industries After Weighted by COVID-19 Cases',\n",
    "             'yaxis.title':\"Change (%)\",'yaxis.range':[-2,2]}])\n",
    "\n",
    "# Build sliders\n",
    "sliders = [go.layout.Slider(\n",
    "    active = 0,\n",
    "    pad = {\"t\": -260,\"l\":50,\"r\":50},\n",
    "    steps = steps,\n",
    "    tickcolor='#FFFFFF'\n",
    ")]\n",
    "\n",
    "layout = go.Layout(\n",
    "    sliders=sliders,\n",
    "    title={'text':'Proportion of Industries in CA'},\n",
    "    xaxis=dict(tickangle=270, tickfont=dict(size=10)),\n",
    "    yaxis=dict(range=(0,16),title=\"Laborforce (%)\"),\n",
    "    height=540,title_x=0.5,\n",
    "    bargap=0.2,\n",
    "    bargroupgap=1,\n",
    "    barmode='group',\n",
    "    margin = dict(b = 100)\n",
    ")\n",
    "\n",
    "fig = go.Figure(data=slider_data, layout=layout)\n",
    "\n",
    "fig.show()\n",
    "\n",
    "if export:\n",
    "    fig.write_html(\"../figures/2_proportion_industries_ca.html\")\n",
    "#fig.write_image(\"../figures/2_covid_total-farm-employment.png\")"
   ]
  },
  {
   "cell_type": "code",
   "execution_count": 47,
   "metadata": {},
   "outputs": [],
   "source": [
    "# sort df to use in next plot\n",
    "difference_df['mean']=difference_df.mean(axis=1) # create mean to sort by\n",
    "difference_df.sort_values('mean',inplace=True)\n",
    "difference_df.drop(columns='mean',inplace=True)"
   ]
  },
  {
   "cell_type": "code",
   "execution_count": 48,
   "metadata": {},
   "outputs": [
    {
     "data": {
      "application/vnd.plotly.v1+json": {
       "config": {
        "plotlyServerURL": "https://plot.ly"
       },
       "data": [
        {
         "marker": {
          "color": "#296b9f"
         },
         "name": "March",
         "type": "bar",
         "visible": true,
         "width": 0.12,
         "x": [
          "Professional and Business Services",
          "Construction",
          "Natural Resources, Mining and Constructi",
          "Durable Goods",
          "Financial Activities",
          "Leisure and Hospitality",
          "Manufacturing",
          "Retail Trade",
          "Other Services",
          "Wholesale Trade",
          "Nondurable Goods",
          "Government",
          "Information",
          "Educational and Health Services",
          "Trade, Transportation and Utilities",
          "Transportation, Warehousing and Utilitie",
          "Unemployed",
          "Total Farm"
         ],
         "y": [
          0.30896231049689776,
          -0.08116400817849492,
          -0.2485289148017697,
          0.10033833568484155,
          0.0788245314582249,
          0.11587377886028566,
          -0.07661601008913249,
          -0.10424696221678492,
          0.050211275346222564,
          0.14896093986342118,
          -0.09606711627580776,
          -0.45971949663624334,
          0.47614678567116864,
          0.34568599401833683,
          0.18450683228962983,
          0.1498026646371893,
          -0.20570668956771399,
          -0.6872642505602693
         ]
        },
        {
         "marker": {
          "color": "#f08536"
         },
         "name": "April",
         "type": "bar",
         "visible": true,
         "width": 0.12,
         "x": [
          "Professional and Business Services",
          "Construction",
          "Natural Resources, Mining and Constructi",
          "Durable Goods",
          "Financial Activities",
          "Leisure and Hospitality",
          "Manufacturing",
          "Retail Trade",
          "Other Services",
          "Wholesale Trade",
          "Nondurable Goods",
          "Government",
          "Information",
          "Educational and Health Services",
          "Trade, Transportation and Utilities",
          "Transportation, Warehousing and Utilitie",
          "Unemployed",
          "Total Farm"
         ],
         "y": [
          -0.018647882624621415,
          -0.2800102915192285,
          -0.45046489631449005,
          -0.022554126958367754,
          -0.002230146772742858,
          -0.05562110279211385,
          -0.18014897207321093,
          -0.23583962177214784,
          0.012633960733732588,
          0.1584271352210516,
          -0.044229839759408335,
          -0.45340516876577197,
          0.5404860723813992,
          0.6239335735582594,
          0.25383928258000815,
          0.3419545806994759,
          0.5139795911697997,
          -0.7021021469916268
         ]
        },
        {
         "marker": {
          "color": "#ababab"
         },
         "name": "May",
         "type": "bar",
         "visible": true,
         "width": 0.12,
         "x": [
          "Professional and Business Services",
          "Construction",
          "Natural Resources, Mining and Constructi",
          "Durable Goods",
          "Financial Activities",
          "Leisure and Hospitality",
          "Manufacturing",
          "Retail Trade",
          "Other Services",
          "Wholesale Trade",
          "Nondurable Goods",
          "Government",
          "Information",
          "Educational and Health Services",
          "Trade, Transportation and Utilities",
          "Transportation, Warehousing and Utilitie",
          "Unemployed",
          "Total Farm"
         ],
         "y": [
          -0.3866703228632917,
          -0.3720418005990631,
          -0.46175018136172635,
          -0.16597848365852258,
          -0.12755368719791563,
          -0.14438165828843108,
          -0.28643602277696256,
          -0.19958484470518484,
          -0.0642358328635087,
          0.08398528413210114,
          -0.1145674555867976,
          0.2403021309857159,
          0.2859139224909404,
          0.2786634350367162,
          0.0833987224090782,
          0.2020608160174197,
          0.9206072926130765,
          0.22826868621635027
         ]
        },
        {
         "marker": {
          "color": "#595959"
         },
         "name": "June",
         "type": "bar",
         "visible": true,
         "width": 0.12,
         "x": [
          "Professional and Business Services",
          "Construction",
          "Natural Resources, Mining and Constructi",
          "Durable Goods",
          "Financial Activities",
          "Leisure and Hospitality",
          "Manufacturing",
          "Retail Trade",
          "Other Services",
          "Wholesale Trade",
          "Nondurable Goods",
          "Government",
          "Information",
          "Educational and Health Services",
          "Trade, Transportation and Utilities",
          "Transportation, Warehousing and Utilitie",
          "Unemployed",
          "Total Farm"
         ],
         "y": [
          -0.5519895915627473,
          -0.22155157421774146,
          -0.2064755355593903,
          -0.27695125403910287,
          -0.1828503759057104,
          -0.2777316597264927,
          -0.2051085710386466,
          -0.05090696536818179,
          -0.07217978694459039,
          -0.004819598142727713,
          0.020098985103075492,
          0.23958449302816792,
          0.030217036533404518,
          -0.00724394392789679,
          0.18497320122744937,
          0.2510698994730321,
          0.5810672914276921,
          0.7507979496404089
         ]
        },
        {
         "marker": {
          "color": "#6c9ecc"
         },
         "name": "July",
         "type": "bar",
         "visible": true,
         "width": 0.12,
         "x": [
          "Professional and Business Services",
          "Construction",
          "Natural Resources, Mining and Constructi",
          "Durable Goods",
          "Financial Activities",
          "Leisure and Hospitality",
          "Manufacturing",
          "Retail Trade",
          "Other Services",
          "Wholesale Trade",
          "Nondurable Goods",
          "Government",
          "Information",
          "Educational and Health Services",
          "Trade, Transportation and Utilities",
          "Transportation, Warehousing and Utilitie",
          "Unemployed",
          "Total Farm"
         ],
         "y": [
          -0.908648639435071,
          -0.27169751372238604,
          -0.1389672597360371,
          -0.3990754975279981,
          -0.31358269838124875,
          -0.3288173812094425,
          -0.14714850778090663,
          -0.040481705113688815,
          -0.08960825438588775,
          -0.07239729737117048,
          0.1981600467203061,
          0.3389050216783887,
          -0.08205872820959796,
          -0.10350913570253001,
          0.23630120482455025,
          0.35826318527628664,
          0.4734656751410646,
          1.2908974849353632
         ]
        },
        {
         "marker": {
          "color": "#4C4946"
         },
         "name": "August",
         "type": "bar",
         "visible": true,
         "width": 0.12,
         "x": [
          "Professional and Business Services",
          "Construction",
          "Natural Resources, Mining and Constructi",
          "Durable Goods",
          "Financial Activities",
          "Leisure and Hospitality",
          "Manufacturing",
          "Retail Trade",
          "Other Services",
          "Wholesale Trade",
          "Nondurable Goods",
          "Government",
          "Information",
          "Educational and Health Services",
          "Trade, Transportation and Utilities",
          "Transportation, Warehousing and Utilitie",
          "Unemployed",
          "Total Farm"
         ],
         "y": [
          -1.1311298672132875,
          -0.3837120941784449,
          -0.19954071611451643,
          -0.4830352557757597,
          -0.3823315961254608,
          -0.28119448454369533,
          -0.10296424525822953,
          0.005008457933754207,
          -0.06913396399748813,
          -0.11385725436758726,
          0.2346674233707255,
          0.5825374266350893,
          -0.08935253693210764,
          -0.033823457779384725,
          0.18911255085638373,
          0.3040723226254635,
          0.36235794112014774,
          1.5923193497443928
         ]
        },
        {
         "marker": {
          "color": "#004679"
         },
         "name": "September",
         "type": "bar",
         "visible": true,
         "width": 0.12,
         "x": [
          "Professional and Business Services",
          "Construction",
          "Natural Resources, Mining and Constructi",
          "Durable Goods",
          "Financial Activities",
          "Leisure and Hospitality",
          "Manufacturing",
          "Retail Trade",
          "Other Services",
          "Wholesale Trade",
          "Nondurable Goods",
          "Government",
          "Information",
          "Educational and Health Services",
          "Trade, Transportation and Utilities",
          "Transportation, Warehousing and Utilitie",
          "Unemployed",
          "Total Farm"
         ],
         "y": [
          -0.687959783609772,
          -0.26419681275014933,
          -0.15431191280206313,
          -0.2968932798557519,
          -0.2417459623669023,
          -0.1527694937854561,
          -0.0793608675925303,
          0.04475801522569045,
          -0.04739626506173426,
          -0.09149181789264195,
          0.016816329440475994,
          0.5592493820851197,
          -0.0347042563130423,
          0.07796400134157111,
          0.056412094124284884,
          0.107164809344076,
          0.22627609327300763,
          0.9621897271958227
         ]
        }
       ],
       "layout": {
        "bargap": 0.2,
        "bargroupgap": 1,
        "barmode": "group",
        "height": 540,
        "template": {
         "data": {
          "bar": [
           {
            "error_x": {
             "color": "#2a3f5f"
            },
            "error_y": {
             "color": "#2a3f5f"
            },
            "marker": {
             "line": {
              "color": "#E5ECF6",
              "width": 0.5
             }
            },
            "type": "bar"
           }
          ],
          "barpolar": [
           {
            "marker": {
             "line": {
              "color": "#E5ECF6",
              "width": 0.5
             }
            },
            "type": "barpolar"
           }
          ],
          "carpet": [
           {
            "aaxis": {
             "endlinecolor": "#2a3f5f",
             "gridcolor": "white",
             "linecolor": "white",
             "minorgridcolor": "white",
             "startlinecolor": "#2a3f5f"
            },
            "baxis": {
             "endlinecolor": "#2a3f5f",
             "gridcolor": "white",
             "linecolor": "white",
             "minorgridcolor": "white",
             "startlinecolor": "#2a3f5f"
            },
            "type": "carpet"
           }
          ],
          "choropleth": [
           {
            "colorbar": {
             "outlinewidth": 0,
             "ticks": ""
            },
            "type": "choropleth"
           }
          ],
          "contour": [
           {
            "colorbar": {
             "outlinewidth": 0,
             "ticks": ""
            },
            "colorscale": [
             [
              0,
              "#0d0887"
             ],
             [
              0.1111111111111111,
              "#46039f"
             ],
             [
              0.2222222222222222,
              "#7201a8"
             ],
             [
              0.3333333333333333,
              "#9c179e"
             ],
             [
              0.4444444444444444,
              "#bd3786"
             ],
             [
              0.5555555555555556,
              "#d8576b"
             ],
             [
              0.6666666666666666,
              "#ed7953"
             ],
             [
              0.7777777777777778,
              "#fb9f3a"
             ],
             [
              0.8888888888888888,
              "#fdca26"
             ],
             [
              1,
              "#f0f921"
             ]
            ],
            "type": "contour"
           }
          ],
          "contourcarpet": [
           {
            "colorbar": {
             "outlinewidth": 0,
             "ticks": ""
            },
            "type": "contourcarpet"
           }
          ],
          "heatmap": [
           {
            "colorbar": {
             "outlinewidth": 0,
             "ticks": ""
            },
            "colorscale": [
             [
              0,
              "#0d0887"
             ],
             [
              0.1111111111111111,
              "#46039f"
             ],
             [
              0.2222222222222222,
              "#7201a8"
             ],
             [
              0.3333333333333333,
              "#9c179e"
             ],
             [
              0.4444444444444444,
              "#bd3786"
             ],
             [
              0.5555555555555556,
              "#d8576b"
             ],
             [
              0.6666666666666666,
              "#ed7953"
             ],
             [
              0.7777777777777778,
              "#fb9f3a"
             ],
             [
              0.8888888888888888,
              "#fdca26"
             ],
             [
              1,
              "#f0f921"
             ]
            ],
            "type": "heatmap"
           }
          ],
          "heatmapgl": [
           {
            "colorbar": {
             "outlinewidth": 0,
             "ticks": ""
            },
            "colorscale": [
             [
              0,
              "#0d0887"
             ],
             [
              0.1111111111111111,
              "#46039f"
             ],
             [
              0.2222222222222222,
              "#7201a8"
             ],
             [
              0.3333333333333333,
              "#9c179e"
             ],
             [
              0.4444444444444444,
              "#bd3786"
             ],
             [
              0.5555555555555556,
              "#d8576b"
             ],
             [
              0.6666666666666666,
              "#ed7953"
             ],
             [
              0.7777777777777778,
              "#fb9f3a"
             ],
             [
              0.8888888888888888,
              "#fdca26"
             ],
             [
              1,
              "#f0f921"
             ]
            ],
            "type": "heatmapgl"
           }
          ],
          "histogram": [
           {
            "marker": {
             "colorbar": {
              "outlinewidth": 0,
              "ticks": ""
             }
            },
            "type": "histogram"
           }
          ],
          "histogram2d": [
           {
            "colorbar": {
             "outlinewidth": 0,
             "ticks": ""
            },
            "colorscale": [
             [
              0,
              "#0d0887"
             ],
             [
              0.1111111111111111,
              "#46039f"
             ],
             [
              0.2222222222222222,
              "#7201a8"
             ],
             [
              0.3333333333333333,
              "#9c179e"
             ],
             [
              0.4444444444444444,
              "#bd3786"
             ],
             [
              0.5555555555555556,
              "#d8576b"
             ],
             [
              0.6666666666666666,
              "#ed7953"
             ],
             [
              0.7777777777777778,
              "#fb9f3a"
             ],
             [
              0.8888888888888888,
              "#fdca26"
             ],
             [
              1,
              "#f0f921"
             ]
            ],
            "type": "histogram2d"
           }
          ],
          "histogram2dcontour": [
           {
            "colorbar": {
             "outlinewidth": 0,
             "ticks": ""
            },
            "colorscale": [
             [
              0,
              "#0d0887"
             ],
             [
              0.1111111111111111,
              "#46039f"
             ],
             [
              0.2222222222222222,
              "#7201a8"
             ],
             [
              0.3333333333333333,
              "#9c179e"
             ],
             [
              0.4444444444444444,
              "#bd3786"
             ],
             [
              0.5555555555555556,
              "#d8576b"
             ],
             [
              0.6666666666666666,
              "#ed7953"
             ],
             [
              0.7777777777777778,
              "#fb9f3a"
             ],
             [
              0.8888888888888888,
              "#fdca26"
             ],
             [
              1,
              "#f0f921"
             ]
            ],
            "type": "histogram2dcontour"
           }
          ],
          "mesh3d": [
           {
            "colorbar": {
             "outlinewidth": 0,
             "ticks": ""
            },
            "type": "mesh3d"
           }
          ],
          "parcoords": [
           {
            "line": {
             "colorbar": {
              "outlinewidth": 0,
              "ticks": ""
             }
            },
            "type": "parcoords"
           }
          ],
          "pie": [
           {
            "automargin": true,
            "type": "pie"
           }
          ],
          "scatter": [
           {
            "marker": {
             "colorbar": {
              "outlinewidth": 0,
              "ticks": ""
             }
            },
            "type": "scatter"
           }
          ],
          "scatter3d": [
           {
            "line": {
             "colorbar": {
              "outlinewidth": 0,
              "ticks": ""
             }
            },
            "marker": {
             "colorbar": {
              "outlinewidth": 0,
              "ticks": ""
             }
            },
            "type": "scatter3d"
           }
          ],
          "scattercarpet": [
           {
            "marker": {
             "colorbar": {
              "outlinewidth": 0,
              "ticks": ""
             }
            },
            "type": "scattercarpet"
           }
          ],
          "scattergeo": [
           {
            "marker": {
             "colorbar": {
              "outlinewidth": 0,
              "ticks": ""
             }
            },
            "type": "scattergeo"
           }
          ],
          "scattergl": [
           {
            "marker": {
             "colorbar": {
              "outlinewidth": 0,
              "ticks": ""
             }
            },
            "type": "scattergl"
           }
          ],
          "scattermapbox": [
           {
            "marker": {
             "colorbar": {
              "outlinewidth": 0,
              "ticks": ""
             }
            },
            "type": "scattermapbox"
           }
          ],
          "scatterpolar": [
           {
            "marker": {
             "colorbar": {
              "outlinewidth": 0,
              "ticks": ""
             }
            },
            "type": "scatterpolar"
           }
          ],
          "scatterpolargl": [
           {
            "marker": {
             "colorbar": {
              "outlinewidth": 0,
              "ticks": ""
             }
            },
            "type": "scatterpolargl"
           }
          ],
          "scatterternary": [
           {
            "marker": {
             "colorbar": {
              "outlinewidth": 0,
              "ticks": ""
             }
            },
            "type": "scatterternary"
           }
          ],
          "surface": [
           {
            "colorbar": {
             "outlinewidth": 0,
             "ticks": ""
            },
            "colorscale": [
             [
              0,
              "#0d0887"
             ],
             [
              0.1111111111111111,
              "#46039f"
             ],
             [
              0.2222222222222222,
              "#7201a8"
             ],
             [
              0.3333333333333333,
              "#9c179e"
             ],
             [
              0.4444444444444444,
              "#bd3786"
             ],
             [
              0.5555555555555556,
              "#d8576b"
             ],
             [
              0.6666666666666666,
              "#ed7953"
             ],
             [
              0.7777777777777778,
              "#fb9f3a"
             ],
             [
              0.8888888888888888,
              "#fdca26"
             ],
             [
              1,
              "#f0f921"
             ]
            ],
            "type": "surface"
           }
          ],
          "table": [
           {
            "cells": {
             "fill": {
              "color": "#EBF0F8"
             },
             "line": {
              "color": "white"
             }
            },
            "header": {
             "fill": {
              "color": "#C8D4E3"
             },
             "line": {
              "color": "white"
             }
            },
            "type": "table"
           }
          ]
         },
         "layout": {
          "annotationdefaults": {
           "arrowcolor": "#2a3f5f",
           "arrowhead": 0,
           "arrowwidth": 1
          },
          "coloraxis": {
           "colorbar": {
            "outlinewidth": 0,
            "ticks": ""
           }
          },
          "colorscale": {
           "diverging": [
            [
             0,
             "#8e0152"
            ],
            [
             0.1,
             "#c51b7d"
            ],
            [
             0.2,
             "#de77ae"
            ],
            [
             0.3,
             "#f1b6da"
            ],
            [
             0.4,
             "#fde0ef"
            ],
            [
             0.5,
             "#f7f7f7"
            ],
            [
             0.6,
             "#e6f5d0"
            ],
            [
             0.7,
             "#b8e186"
            ],
            [
             0.8,
             "#7fbc41"
            ],
            [
             0.9,
             "#4d9221"
            ],
            [
             1,
             "#276419"
            ]
           ],
           "sequential": [
            [
             0,
             "#0d0887"
            ],
            [
             0.1111111111111111,
             "#46039f"
            ],
            [
             0.2222222222222222,
             "#7201a8"
            ],
            [
             0.3333333333333333,
             "#9c179e"
            ],
            [
             0.4444444444444444,
             "#bd3786"
            ],
            [
             0.5555555555555556,
             "#d8576b"
            ],
            [
             0.6666666666666666,
             "#ed7953"
            ],
            [
             0.7777777777777778,
             "#fb9f3a"
            ],
            [
             0.8888888888888888,
             "#fdca26"
            ],
            [
             1,
             "#f0f921"
            ]
           ],
           "sequentialminus": [
            [
             0,
             "#0d0887"
            ],
            [
             0.1111111111111111,
             "#46039f"
            ],
            [
             0.2222222222222222,
             "#7201a8"
            ],
            [
             0.3333333333333333,
             "#9c179e"
            ],
            [
             0.4444444444444444,
             "#bd3786"
            ],
            [
             0.5555555555555556,
             "#d8576b"
            ],
            [
             0.6666666666666666,
             "#ed7953"
            ],
            [
             0.7777777777777778,
             "#fb9f3a"
            ],
            [
             0.8888888888888888,
             "#fdca26"
            ],
            [
             1,
             "#f0f921"
            ]
           ]
          },
          "colorway": [
           "#636efa",
           "#EF553B",
           "#00cc96",
           "#ab63fa",
           "#FFA15A",
           "#19d3f3",
           "#FF6692",
           "#B6E880",
           "#FF97FF",
           "#FECB52"
          ],
          "font": {
           "color": "#2a3f5f"
          },
          "geo": {
           "bgcolor": "white",
           "lakecolor": "white",
           "landcolor": "#E5ECF6",
           "showlakes": true,
           "showland": true,
           "subunitcolor": "white"
          },
          "hoverlabel": {
           "align": "left"
          },
          "hovermode": "closest",
          "mapbox": {
           "style": "light"
          },
          "paper_bgcolor": "white",
          "plot_bgcolor": "#E5ECF6",
          "polar": {
           "angularaxis": {
            "gridcolor": "white",
            "linecolor": "white",
            "ticks": ""
           },
           "bgcolor": "#E5ECF6",
           "radialaxis": {
            "gridcolor": "white",
            "linecolor": "white",
            "ticks": ""
           }
          },
          "scene": {
           "xaxis": {
            "backgroundcolor": "#E5ECF6",
            "gridcolor": "white",
            "gridwidth": 2,
            "linecolor": "white",
            "showbackground": true,
            "ticks": "",
            "zerolinecolor": "white"
           },
           "yaxis": {
            "backgroundcolor": "#E5ECF6",
            "gridcolor": "white",
            "gridwidth": 2,
            "linecolor": "white",
            "showbackground": true,
            "ticks": "",
            "zerolinecolor": "white"
           },
           "zaxis": {
            "backgroundcolor": "#E5ECF6",
            "gridcolor": "white",
            "gridwidth": 2,
            "linecolor": "white",
            "showbackground": true,
            "ticks": "",
            "zerolinecolor": "white"
           }
          },
          "shapedefaults": {
           "line": {
            "color": "#2a3f5f"
           }
          },
          "ternary": {
           "aaxis": {
            "gridcolor": "white",
            "linecolor": "white",
            "ticks": ""
           },
           "baxis": {
            "gridcolor": "white",
            "linecolor": "white",
            "ticks": ""
           },
           "bgcolor": "#E5ECF6",
           "caxis": {
            "gridcolor": "white",
            "linecolor": "white",
            "ticks": ""
           }
          },
          "title": {
           "x": 0.05
          },
          "xaxis": {
           "automargin": true,
           "gridcolor": "white",
           "linecolor": "white",
           "ticks": "",
           "title": {
            "standoff": 15
           },
           "zerolinecolor": "white",
           "zerolinewidth": 2
          },
          "yaxis": {
           "automargin": true,
           "gridcolor": "white",
           "linecolor": "white",
           "ticks": "",
           "title": {
            "standoff": 15
           },
           "zerolinecolor": "white",
           "zerolinewidth": 2
          }
         }
        },
        "title": {
         "text": "Change in Proportion of Industries After Weighted by COVID-19 Cases - Sorted by Mean",
         "x": 0.5
        },
        "xaxis": {
         "tickangle": -90,
         "tickfont": {
          "size": 10
         }
        },
        "yaxis": {
         "range": [
          -2,
          2
         ],
         "title": {
          "text": "Change (%)"
         }
        }
       }
      },
      "text/html": [
       "<div>\n",
       "        \n",
       "        \n",
       "            <div id=\"05195a79-03f4-426e-adbd-4289441e6850\" class=\"plotly-graph-div\" style=\"height:540px; width:100%;\"></div>\n",
       "            <script type=\"text/javascript\">\n",
       "                require([\"plotly\"], function(Plotly) {\n",
       "                    window.PLOTLYENV=window.PLOTLYENV || {};\n",
       "                    \n",
       "                if (document.getElementById(\"05195a79-03f4-426e-adbd-4289441e6850\")) {\n",
       "                    Plotly.newPlot(\n",
       "                        '05195a79-03f4-426e-adbd-4289441e6850',\n",
       "                        [{\"marker\": {\"color\": \"#296b9f\"}, \"name\": \"March\", \"type\": \"bar\", \"visible\": true, \"width\": 0.12, \"x\": [\"Professional and Business Services\", \"Construction\", \"Natural Resources, Mining and Constructi\", \"Durable Goods\", \"Financial Activities\", \"Leisure and Hospitality\", \"Manufacturing\", \"Retail Trade\", \"Other Services\", \"Wholesale Trade\", \"Nondurable Goods\", \"Government\", \"Information\", \"Educational and Health Services\", \"Trade, Transportation and Utilities\", \"Transportation, Warehousing and Utilitie\", \"Unemployed\", \"Total Farm\"], \"y\": [0.30896231049689776, -0.08116400817849492, -0.2485289148017697, 0.10033833568484155, 0.0788245314582249, 0.11587377886028566, -0.07661601008913249, -0.10424696221678492, 0.050211275346222564, 0.14896093986342118, -0.09606711627580776, -0.45971949663624334, 0.47614678567116864, 0.34568599401833683, 0.18450683228962983, 0.1498026646371893, -0.20570668956771399, -0.6872642505602693]}, {\"marker\": {\"color\": \"#f08536\"}, \"name\": \"April\", \"type\": \"bar\", \"visible\": true, \"width\": 0.12, \"x\": [\"Professional and Business Services\", \"Construction\", \"Natural Resources, Mining and Constructi\", \"Durable Goods\", \"Financial Activities\", \"Leisure and Hospitality\", \"Manufacturing\", \"Retail Trade\", \"Other Services\", \"Wholesale Trade\", \"Nondurable Goods\", \"Government\", \"Information\", \"Educational and Health Services\", \"Trade, Transportation and Utilities\", \"Transportation, Warehousing and Utilitie\", \"Unemployed\", \"Total Farm\"], \"y\": [-0.018647882624621415, -0.2800102915192285, -0.45046489631449005, -0.022554126958367754, -0.002230146772742858, -0.05562110279211385, -0.18014897207321093, -0.23583962177214784, 0.012633960733732588, 0.1584271352210516, -0.044229839759408335, -0.45340516876577197, 0.5404860723813992, 0.6239335735582594, 0.25383928258000815, 0.3419545806994759, 0.5139795911697997, -0.7021021469916268]}, {\"marker\": {\"color\": \"#ababab\"}, \"name\": \"May\", \"type\": \"bar\", \"visible\": true, \"width\": 0.12, \"x\": [\"Professional and Business Services\", \"Construction\", \"Natural Resources, Mining and Constructi\", \"Durable Goods\", \"Financial Activities\", \"Leisure and Hospitality\", \"Manufacturing\", \"Retail Trade\", \"Other Services\", \"Wholesale Trade\", \"Nondurable Goods\", \"Government\", \"Information\", \"Educational and Health Services\", \"Trade, Transportation and Utilities\", \"Transportation, Warehousing and Utilitie\", \"Unemployed\", \"Total Farm\"], \"y\": [-0.3866703228632917, -0.3720418005990631, -0.46175018136172635, -0.16597848365852258, -0.12755368719791563, -0.14438165828843108, -0.28643602277696256, -0.19958484470518484, -0.0642358328635087, 0.08398528413210114, -0.1145674555867976, 0.2403021309857159, 0.2859139224909404, 0.2786634350367162, 0.0833987224090782, 0.2020608160174197, 0.9206072926130765, 0.22826868621635027]}, {\"marker\": {\"color\": \"#595959\"}, \"name\": \"June\", \"type\": \"bar\", \"visible\": true, \"width\": 0.12, \"x\": [\"Professional and Business Services\", \"Construction\", \"Natural Resources, Mining and Constructi\", \"Durable Goods\", \"Financial Activities\", \"Leisure and Hospitality\", \"Manufacturing\", \"Retail Trade\", \"Other Services\", \"Wholesale Trade\", \"Nondurable Goods\", \"Government\", \"Information\", \"Educational and Health Services\", \"Trade, Transportation and Utilities\", \"Transportation, Warehousing and Utilitie\", \"Unemployed\", \"Total Farm\"], \"y\": [-0.5519895915627473, -0.22155157421774146, -0.2064755355593903, -0.27695125403910287, -0.1828503759057104, -0.2777316597264927, -0.2051085710386466, -0.05090696536818179, -0.07217978694459039, -0.004819598142727713, 0.020098985103075492, 0.23958449302816792, 0.030217036533404518, -0.00724394392789679, 0.18497320122744937, 0.2510698994730321, 0.5810672914276921, 0.7507979496404089]}, {\"marker\": {\"color\": \"#6c9ecc\"}, \"name\": \"July\", \"type\": \"bar\", \"visible\": true, \"width\": 0.12, \"x\": [\"Professional and Business Services\", \"Construction\", \"Natural Resources, Mining and Constructi\", \"Durable Goods\", \"Financial Activities\", \"Leisure and Hospitality\", \"Manufacturing\", \"Retail Trade\", \"Other Services\", \"Wholesale Trade\", \"Nondurable Goods\", \"Government\", \"Information\", \"Educational and Health Services\", \"Trade, Transportation and Utilities\", \"Transportation, Warehousing and Utilitie\", \"Unemployed\", \"Total Farm\"], \"y\": [-0.908648639435071, -0.27169751372238604, -0.1389672597360371, -0.3990754975279981, -0.31358269838124875, -0.3288173812094425, -0.14714850778090663, -0.040481705113688815, -0.08960825438588775, -0.07239729737117048, 0.1981600467203061, 0.3389050216783887, -0.08205872820959796, -0.10350913570253001, 0.23630120482455025, 0.35826318527628664, 0.4734656751410646, 1.2908974849353632]}, {\"marker\": {\"color\": \"#4C4946\"}, \"name\": \"August\", \"type\": \"bar\", \"visible\": true, \"width\": 0.12, \"x\": [\"Professional and Business Services\", \"Construction\", \"Natural Resources, Mining and Constructi\", \"Durable Goods\", \"Financial Activities\", \"Leisure and Hospitality\", \"Manufacturing\", \"Retail Trade\", \"Other Services\", \"Wholesale Trade\", \"Nondurable Goods\", \"Government\", \"Information\", \"Educational and Health Services\", \"Trade, Transportation and Utilities\", \"Transportation, Warehousing and Utilitie\", \"Unemployed\", \"Total Farm\"], \"y\": [-1.1311298672132875, -0.3837120941784449, -0.19954071611451643, -0.4830352557757597, -0.3823315961254608, -0.28119448454369533, -0.10296424525822953, 0.005008457933754207, -0.06913396399748813, -0.11385725436758726, 0.2346674233707255, 0.5825374266350893, -0.08935253693210764, -0.033823457779384725, 0.18911255085638373, 0.3040723226254635, 0.36235794112014774, 1.5923193497443928]}, {\"marker\": {\"color\": \"#004679\"}, \"name\": \"September\", \"type\": \"bar\", \"visible\": true, \"width\": 0.12, \"x\": [\"Professional and Business Services\", \"Construction\", \"Natural Resources, Mining and Constructi\", \"Durable Goods\", \"Financial Activities\", \"Leisure and Hospitality\", \"Manufacturing\", \"Retail Trade\", \"Other Services\", \"Wholesale Trade\", \"Nondurable Goods\", \"Government\", \"Information\", \"Educational and Health Services\", \"Trade, Transportation and Utilities\", \"Transportation, Warehousing and Utilitie\", \"Unemployed\", \"Total Farm\"], \"y\": [-0.687959783609772, -0.26419681275014933, -0.15431191280206313, -0.2968932798557519, -0.2417459623669023, -0.1527694937854561, -0.0793608675925303, 0.04475801522569045, -0.04739626506173426, -0.09149181789264195, 0.016816329440475994, 0.5592493820851197, -0.0347042563130423, 0.07796400134157111, 0.056412094124284884, 0.107164809344076, 0.22627609327300763, 0.9621897271958227]}],\n",
       "                        {\"bargap\": 0.2, \"bargroupgap\": 1, \"barmode\": \"group\", \"height\": 540, \"template\": {\"data\": {\"bar\": [{\"error_x\": {\"color\": \"#2a3f5f\"}, \"error_y\": {\"color\": \"#2a3f5f\"}, \"marker\": {\"line\": {\"color\": \"#E5ECF6\", \"width\": 0.5}}, \"type\": \"bar\"}], \"barpolar\": [{\"marker\": {\"line\": {\"color\": \"#E5ECF6\", \"width\": 0.5}}, \"type\": \"barpolar\"}], \"carpet\": [{\"aaxis\": {\"endlinecolor\": \"#2a3f5f\", \"gridcolor\": \"white\", \"linecolor\": \"white\", \"minorgridcolor\": \"white\", \"startlinecolor\": \"#2a3f5f\"}, \"baxis\": {\"endlinecolor\": \"#2a3f5f\", \"gridcolor\": \"white\", \"linecolor\": \"white\", \"minorgridcolor\": \"white\", \"startlinecolor\": \"#2a3f5f\"}, \"type\": \"carpet\"}], \"choropleth\": [{\"colorbar\": {\"outlinewidth\": 0, \"ticks\": \"\"}, \"type\": \"choropleth\"}], \"contour\": [{\"colorbar\": {\"outlinewidth\": 0, \"ticks\": \"\"}, \"colorscale\": [[0.0, \"#0d0887\"], [0.1111111111111111, \"#46039f\"], [0.2222222222222222, \"#7201a8\"], [0.3333333333333333, \"#9c179e\"], [0.4444444444444444, \"#bd3786\"], [0.5555555555555556, \"#d8576b\"], [0.6666666666666666, \"#ed7953\"], [0.7777777777777778, \"#fb9f3a\"], [0.8888888888888888, \"#fdca26\"], [1.0, \"#f0f921\"]], \"type\": \"contour\"}], \"contourcarpet\": [{\"colorbar\": {\"outlinewidth\": 0, \"ticks\": \"\"}, \"type\": \"contourcarpet\"}], \"heatmap\": [{\"colorbar\": {\"outlinewidth\": 0, \"ticks\": \"\"}, \"colorscale\": [[0.0, \"#0d0887\"], [0.1111111111111111, \"#46039f\"], [0.2222222222222222, \"#7201a8\"], [0.3333333333333333, \"#9c179e\"], [0.4444444444444444, \"#bd3786\"], [0.5555555555555556, \"#d8576b\"], [0.6666666666666666, \"#ed7953\"], [0.7777777777777778, \"#fb9f3a\"], [0.8888888888888888, \"#fdca26\"], [1.0, \"#f0f921\"]], \"type\": \"heatmap\"}], \"heatmapgl\": [{\"colorbar\": {\"outlinewidth\": 0, \"ticks\": \"\"}, \"colorscale\": [[0.0, \"#0d0887\"], [0.1111111111111111, \"#46039f\"], [0.2222222222222222, \"#7201a8\"], [0.3333333333333333, \"#9c179e\"], [0.4444444444444444, \"#bd3786\"], [0.5555555555555556, \"#d8576b\"], [0.6666666666666666, \"#ed7953\"], [0.7777777777777778, \"#fb9f3a\"], [0.8888888888888888, \"#fdca26\"], [1.0, \"#f0f921\"]], \"type\": \"heatmapgl\"}], \"histogram\": [{\"marker\": {\"colorbar\": {\"outlinewidth\": 0, \"ticks\": \"\"}}, \"type\": \"histogram\"}], \"histogram2d\": [{\"colorbar\": {\"outlinewidth\": 0, \"ticks\": \"\"}, \"colorscale\": [[0.0, \"#0d0887\"], [0.1111111111111111, \"#46039f\"], [0.2222222222222222, \"#7201a8\"], [0.3333333333333333, \"#9c179e\"], [0.4444444444444444, \"#bd3786\"], [0.5555555555555556, \"#d8576b\"], [0.6666666666666666, \"#ed7953\"], [0.7777777777777778, \"#fb9f3a\"], [0.8888888888888888, \"#fdca26\"], [1.0, \"#f0f921\"]], \"type\": \"histogram2d\"}], \"histogram2dcontour\": [{\"colorbar\": {\"outlinewidth\": 0, \"ticks\": \"\"}, \"colorscale\": [[0.0, \"#0d0887\"], [0.1111111111111111, \"#46039f\"], [0.2222222222222222, \"#7201a8\"], [0.3333333333333333, \"#9c179e\"], [0.4444444444444444, \"#bd3786\"], [0.5555555555555556, \"#d8576b\"], [0.6666666666666666, \"#ed7953\"], [0.7777777777777778, \"#fb9f3a\"], [0.8888888888888888, \"#fdca26\"], [1.0, \"#f0f921\"]], \"type\": \"histogram2dcontour\"}], \"mesh3d\": [{\"colorbar\": {\"outlinewidth\": 0, \"ticks\": \"\"}, \"type\": \"mesh3d\"}], \"parcoords\": [{\"line\": {\"colorbar\": {\"outlinewidth\": 0, \"ticks\": \"\"}}, \"type\": \"parcoords\"}], \"pie\": [{\"automargin\": true, \"type\": \"pie\"}], \"scatter\": [{\"marker\": {\"colorbar\": {\"outlinewidth\": 0, \"ticks\": \"\"}}, \"type\": \"scatter\"}], \"scatter3d\": [{\"line\": {\"colorbar\": {\"outlinewidth\": 0, \"ticks\": \"\"}}, \"marker\": {\"colorbar\": {\"outlinewidth\": 0, \"ticks\": \"\"}}, \"type\": \"scatter3d\"}], \"scattercarpet\": [{\"marker\": {\"colorbar\": {\"outlinewidth\": 0, \"ticks\": \"\"}}, \"type\": \"scattercarpet\"}], \"scattergeo\": [{\"marker\": {\"colorbar\": {\"outlinewidth\": 0, \"ticks\": \"\"}}, \"type\": \"scattergeo\"}], \"scattergl\": [{\"marker\": {\"colorbar\": {\"outlinewidth\": 0, \"ticks\": \"\"}}, \"type\": \"scattergl\"}], \"scattermapbox\": [{\"marker\": {\"colorbar\": {\"outlinewidth\": 0, \"ticks\": \"\"}}, \"type\": \"scattermapbox\"}], \"scatterpolar\": [{\"marker\": {\"colorbar\": {\"outlinewidth\": 0, \"ticks\": \"\"}}, \"type\": \"scatterpolar\"}], \"scatterpolargl\": [{\"marker\": {\"colorbar\": {\"outlinewidth\": 0, \"ticks\": \"\"}}, \"type\": \"scatterpolargl\"}], \"scatterternary\": [{\"marker\": {\"colorbar\": {\"outlinewidth\": 0, \"ticks\": \"\"}}, \"type\": \"scatterternary\"}], \"surface\": [{\"colorbar\": {\"outlinewidth\": 0, \"ticks\": \"\"}, \"colorscale\": [[0.0, \"#0d0887\"], [0.1111111111111111, \"#46039f\"], [0.2222222222222222, \"#7201a8\"], [0.3333333333333333, \"#9c179e\"], [0.4444444444444444, \"#bd3786\"], [0.5555555555555556, \"#d8576b\"], [0.6666666666666666, \"#ed7953\"], [0.7777777777777778, \"#fb9f3a\"], [0.8888888888888888, \"#fdca26\"], [1.0, \"#f0f921\"]], \"type\": \"surface\"}], \"table\": [{\"cells\": {\"fill\": {\"color\": \"#EBF0F8\"}, \"line\": {\"color\": \"white\"}}, \"header\": {\"fill\": {\"color\": \"#C8D4E3\"}, \"line\": {\"color\": \"white\"}}, \"type\": \"table\"}]}, \"layout\": {\"annotationdefaults\": {\"arrowcolor\": \"#2a3f5f\", \"arrowhead\": 0, \"arrowwidth\": 1}, \"coloraxis\": {\"colorbar\": {\"outlinewidth\": 0, \"ticks\": \"\"}}, \"colorscale\": {\"diverging\": [[0, \"#8e0152\"], [0.1, \"#c51b7d\"], [0.2, \"#de77ae\"], [0.3, \"#f1b6da\"], [0.4, \"#fde0ef\"], [0.5, \"#f7f7f7\"], [0.6, \"#e6f5d0\"], [0.7, \"#b8e186\"], [0.8, \"#7fbc41\"], [0.9, \"#4d9221\"], [1, \"#276419\"]], \"sequential\": [[0.0, \"#0d0887\"], [0.1111111111111111, \"#46039f\"], [0.2222222222222222, \"#7201a8\"], [0.3333333333333333, \"#9c179e\"], [0.4444444444444444, \"#bd3786\"], [0.5555555555555556, \"#d8576b\"], [0.6666666666666666, \"#ed7953\"], [0.7777777777777778, \"#fb9f3a\"], [0.8888888888888888, \"#fdca26\"], [1.0, \"#f0f921\"]], \"sequentialminus\": [[0.0, \"#0d0887\"], [0.1111111111111111, \"#46039f\"], [0.2222222222222222, \"#7201a8\"], [0.3333333333333333, \"#9c179e\"], [0.4444444444444444, \"#bd3786\"], [0.5555555555555556, \"#d8576b\"], [0.6666666666666666, \"#ed7953\"], [0.7777777777777778, \"#fb9f3a\"], [0.8888888888888888, \"#fdca26\"], [1.0, \"#f0f921\"]]}, \"colorway\": [\"#636efa\", \"#EF553B\", \"#00cc96\", \"#ab63fa\", \"#FFA15A\", \"#19d3f3\", \"#FF6692\", \"#B6E880\", \"#FF97FF\", \"#FECB52\"], \"font\": {\"color\": \"#2a3f5f\"}, \"geo\": {\"bgcolor\": \"white\", \"lakecolor\": \"white\", \"landcolor\": \"#E5ECF6\", \"showlakes\": true, \"showland\": true, \"subunitcolor\": \"white\"}, \"hoverlabel\": {\"align\": \"left\"}, \"hovermode\": \"closest\", \"mapbox\": {\"style\": \"light\"}, \"paper_bgcolor\": \"white\", \"plot_bgcolor\": \"#E5ECF6\", \"polar\": {\"angularaxis\": {\"gridcolor\": \"white\", \"linecolor\": \"white\", \"ticks\": \"\"}, \"bgcolor\": \"#E5ECF6\", \"radialaxis\": {\"gridcolor\": \"white\", \"linecolor\": \"white\", \"ticks\": \"\"}}, \"scene\": {\"xaxis\": {\"backgroundcolor\": \"#E5ECF6\", \"gridcolor\": \"white\", \"gridwidth\": 2, \"linecolor\": \"white\", \"showbackground\": true, \"ticks\": \"\", \"zerolinecolor\": \"white\"}, \"yaxis\": {\"backgroundcolor\": \"#E5ECF6\", \"gridcolor\": \"white\", \"gridwidth\": 2, \"linecolor\": \"white\", \"showbackground\": true, \"ticks\": \"\", \"zerolinecolor\": \"white\"}, \"zaxis\": {\"backgroundcolor\": \"#E5ECF6\", \"gridcolor\": \"white\", \"gridwidth\": 2, \"linecolor\": \"white\", \"showbackground\": true, \"ticks\": \"\", \"zerolinecolor\": \"white\"}}, \"shapedefaults\": {\"line\": {\"color\": \"#2a3f5f\"}}, \"ternary\": {\"aaxis\": {\"gridcolor\": \"white\", \"linecolor\": \"white\", \"ticks\": \"\"}, \"baxis\": {\"gridcolor\": \"white\", \"linecolor\": \"white\", \"ticks\": \"\"}, \"bgcolor\": \"#E5ECF6\", \"caxis\": {\"gridcolor\": \"white\", \"linecolor\": \"white\", \"ticks\": \"\"}}, \"title\": {\"x\": 0.05}, \"xaxis\": {\"automargin\": true, \"gridcolor\": \"white\", \"linecolor\": \"white\", \"ticks\": \"\", \"title\": {\"standoff\": 15}, \"zerolinecolor\": \"white\", \"zerolinewidth\": 2}, \"yaxis\": {\"automargin\": true, \"gridcolor\": \"white\", \"linecolor\": \"white\", \"ticks\": \"\", \"title\": {\"standoff\": 15}, \"zerolinecolor\": \"white\", \"zerolinewidth\": 2}}}, \"title\": {\"text\": \"Change in Proportion of Industries After Weighted by COVID-19 Cases - Sorted by Mean\", \"x\": 0.5}, \"xaxis\": {\"tickangle\": -90, \"tickfont\": {\"size\": 10}}, \"yaxis\": {\"range\": [-2, 2], \"title\": {\"text\": \"Change (%)\"}}},\n",
       "                        {\"responsive\": true}\n",
       "                    ).then(function(){\n",
       "                            \n",
       "var gd = document.getElementById('05195a79-03f4-426e-adbd-4289441e6850');\n",
       "var x = new MutationObserver(function (mutations, observer) {{\n",
       "        var display = window.getComputedStyle(gd).display;\n",
       "        if (!display || display === 'none') {{\n",
       "            console.log([gd, 'removed!']);\n",
       "            Plotly.purge(gd);\n",
       "            observer.disconnect();\n",
       "        }}\n",
       "}});\n",
       "\n",
       "// Listen for the removal of the full notebook cells\n",
       "var notebookContainer = gd.closest('#notebook-container');\n",
       "if (notebookContainer) {{\n",
       "    x.observe(notebookContainer, {childList: true});\n",
       "}}\n",
       "\n",
       "// Listen for the clearing of the current output cell\n",
       "var outputEl = gd.closest('.output');\n",
       "if (outputEl) {{\n",
       "    x.observe(outputEl, {childList: true});\n",
       "}}\n",
       "\n",
       "                        })\n",
       "                };\n",
       "                });\n",
       "            </script>\n",
       "        </div>"
      ]
     },
     "metadata": {},
     "output_type": "display_data"
    }
   ],
   "source": [
    "# plotly step update documentation https://chart-studio.plotly.com/~empet/15605/update-method-called-within-an-update/#/\n",
    "df=difference_df\n",
    "data = []\n",
    "colors = colors\n",
    "i=0\n",
    "for month in df.columns:\n",
    "    data.append(go.Bar({\n",
    "        'type':'bar',\n",
    "        'marker':{'color':colors[i]},\n",
    "        'x': list(df.index),\n",
    "        'visible': True,\n",
    "        'name': month,\n",
    "        'y': df[month].values,\n",
    "        'width':0.12}))\n",
    "    i+=1\n",
    "\n",
    "layout = go.Layout(\n",
    "    title={'text':'Change in Proportion of Industries After Weighted by COVID-19 Cases - Sorted by Mean'},\n",
    "    xaxis=dict(tickangle=270, tickfont=dict(size=10)),\n",
    "    yaxis=dict(range=(-2,2),title=\"Change (%)\"),\n",
    "    height=540,title_x=0.5,\n",
    "    bargap=0.2,\n",
    "    bargroupgap=1,\n",
    "    barmode='group'\n",
    ")\n",
    "\n",
    "fig = go.Figure(data=data, layout=layout)\n",
    "\n",
    "fig.show()\n",
    "\n",
    "if export:\n",
    "    fig.write_html(\"../figures/3_change_proportion_industries_ca.html\")\n",
    "#fig.write_image(\"../figures/3_change_proportion_industries_ca.png\")\n"
   ]
  },
  {
   "cell_type": "code",
   "execution_count": 49,
   "metadata": {},
   "outputs": [],
   "source": [
    "# calculate covid per 100k\n",
    "unemployment_gdf['covid_per_100k']=pd.Series(dtype='float64')\n",
    "unemployment_gdf['pop']=pd.Series(dtype='int64')\n",
    "for month in period:\n",
    "    unemployment_gdf.loc[unemployment_gdf['period']==month,'covid_per_100k']=((monthlycases_df[calendar.month_name[month]]/monthlycases_df['pop'])*100000)\n",
    "    unemployment_gdf.loc[unemployment_gdf['period']==month,'pop']=monthlycases_df['pop']"
   ]
  },
  {
   "cell_type": "markdown",
   "metadata": {},
   "source": [
    "### r values exploration"
   ]
  },
  {
   "cell_type": "code",
   "execution_count": 64,
   "metadata": {},
   "outputs": [
    {
     "data": {
      "text/html": [
       "<div>\n",
       "<style scoped>\n",
       "    .dataframe tbody tr th:only-of-type {\n",
       "        vertical-align: middle;\n",
       "    }\n",
       "\n",
       "    .dataframe tbody tr th {\n",
       "        vertical-align: top;\n",
       "    }\n",
       "\n",
       "    .dataframe thead th {\n",
       "        text-align: right;\n",
       "    }\n",
       "</style>\n",
       "<table border=\"1\" class=\"dataframe\">\n",
       "  <thead>\n",
       "    <tr style=\"text-align: right;\">\n",
       "      <th></th>\n",
       "      <th>Total Farm</th>\n",
       "      <th>Unemployed</th>\n",
       "      <th>Leisure &amp; Hospitality</th>\n",
       "      <th>Construction</th>\n",
       "      <th>Durable Goods</th>\n",
       "      <th>Educational &amp; Health Services</th>\n",
       "      <th>Financial Activities</th>\n",
       "      <th>Govt.</th>\n",
       "      <th>Information</th>\n",
       "      <th>Manufacturing</th>\n",
       "      <th>Natural Resources, Mining &amp; Construction</th>\n",
       "      <th>Nondurable Goods</th>\n",
       "      <th>Other Services</th>\n",
       "      <th>Professional &amp; Business Services</th>\n",
       "      <th>Retail Trade</th>\n",
       "      <th>Trade, Transp. &amp; Utilities</th>\n",
       "      <th>Transp., Warehousing &amp; Utilities</th>\n",
       "      <th>Wholesale Trade</th>\n",
       "    </tr>\n",
       "  </thead>\n",
       "  <tbody>\n",
       "    <tr>\n",
       "      <th>March</th>\n",
       "      <td>-0.176</td>\n",
       "      <td>-0.309</td>\n",
       "      <td>0.633</td>\n",
       "      <td>0.057</td>\n",
       "      <td>0.067</td>\n",
       "      <td>-0.262</td>\n",
       "      <td>0.469</td>\n",
       "      <td>-0.112</td>\n",
       "      <td>0.185</td>\n",
       "      <td>-0.067</td>\n",
       "      <td>0.120</td>\n",
       "      <td>-0.039</td>\n",
       "      <td>0.043</td>\n",
       "      <td>0.258</td>\n",
       "      <td>0.084</td>\n",
       "      <td>-0.070</td>\n",
       "      <td>-0.112</td>\n",
       "      <td>0.064</td>\n",
       "    </tr>\n",
       "    <tr>\n",
       "      <th>April</th>\n",
       "      <td>0.201</td>\n",
       "      <td>0.257</td>\n",
       "      <td>0.162</td>\n",
       "      <td>0.105</td>\n",
       "      <td>0.171</td>\n",
       "      <td>0.127</td>\n",
       "      <td>0.254</td>\n",
       "      <td>-0.220</td>\n",
       "      <td>0.259</td>\n",
       "      <td>0.173</td>\n",
       "      <td>-0.001</td>\n",
       "      <td>0.112</td>\n",
       "      <td>-0.021</td>\n",
       "      <td>0.334</td>\n",
       "      <td>0.086</td>\n",
       "      <td>0.208</td>\n",
       "      <td>0.274</td>\n",
       "      <td>0.302</td>\n",
       "    </tr>\n",
       "    <tr>\n",
       "      <th>May</th>\n",
       "      <td>0.304</td>\n",
       "      <td>0.525</td>\n",
       "      <td>-0.150</td>\n",
       "      <td>-0.101</td>\n",
       "      <td>0.009</td>\n",
       "      <td>0.081</td>\n",
       "      <td>0.072</td>\n",
       "      <td>-0.017</td>\n",
       "      <td>0.033</td>\n",
       "      <td>0.022</td>\n",
       "      <td>-0.113</td>\n",
       "      <td>-0.018</td>\n",
       "      <td>-0.117</td>\n",
       "      <td>0.064</td>\n",
       "      <td>0.004</td>\n",
       "      <td>0.107</td>\n",
       "      <td>0.139</td>\n",
       "      <td>0.106</td>\n",
       "    </tr>\n",
       "    <tr>\n",
       "      <th>June</th>\n",
       "      <td>0.379</td>\n",
       "      <td>0.546</td>\n",
       "      <td>-0.226</td>\n",
       "      <td>0.007</td>\n",
       "      <td>0.001</td>\n",
       "      <td>0.141</td>\n",
       "      <td>0.098</td>\n",
       "      <td>-0.105</td>\n",
       "      <td>0.087</td>\n",
       "      <td>0.128</td>\n",
       "      <td>-0.052</td>\n",
       "      <td>0.097</td>\n",
       "      <td>-0.050</td>\n",
       "      <td>0.168</td>\n",
       "      <td>0.223</td>\n",
       "      <td>0.304</td>\n",
       "      <td>0.294</td>\n",
       "      <td>0.274</td>\n",
       "    </tr>\n",
       "    <tr>\n",
       "      <th>July</th>\n",
       "      <td>0.540</td>\n",
       "      <td>0.501</td>\n",
       "      <td>-0.185</td>\n",
       "      <td>-0.029</td>\n",
       "      <td>-0.013</td>\n",
       "      <td>0.080</td>\n",
       "      <td>0.079</td>\n",
       "      <td>-0.202</td>\n",
       "      <td>-0.030</td>\n",
       "      <td>0.319</td>\n",
       "      <td>-0.127</td>\n",
       "      <td>0.331</td>\n",
       "      <td>-0.035</td>\n",
       "      <td>0.118</td>\n",
       "      <td>0.167</td>\n",
       "      <td>0.342</td>\n",
       "      <td>0.438</td>\n",
       "      <td>0.395</td>\n",
       "    </tr>\n",
       "    <tr>\n",
       "      <th>August</th>\n",
       "      <td>0.556</td>\n",
       "      <td>0.332</td>\n",
       "      <td>-0.231</td>\n",
       "      <td>-0.078</td>\n",
       "      <td>-0.041</td>\n",
       "      <td>0.168</td>\n",
       "      <td>0.012</td>\n",
       "      <td>-0.296</td>\n",
       "      <td>-0.118</td>\n",
       "      <td>0.361</td>\n",
       "      <td>-0.157</td>\n",
       "      <td>0.278</td>\n",
       "      <td>0.019</td>\n",
       "      <td>0.042</td>\n",
       "      <td>0.202</td>\n",
       "      <td>0.347</td>\n",
       "      <td>0.422</td>\n",
       "      <td>0.313</td>\n",
       "    </tr>\n",
       "    <tr>\n",
       "      <th>September</th>\n",
       "      <td>0.511</td>\n",
       "      <td>0.303</td>\n",
       "      <td>-0.277</td>\n",
       "      <td>-0.133</td>\n",
       "      <td>0.054</td>\n",
       "      <td>0.314</td>\n",
       "      <td>0.056</td>\n",
       "      <td>-0.309</td>\n",
       "      <td>-0.051</td>\n",
       "      <td>0.294</td>\n",
       "      <td>-0.132</td>\n",
       "      <td>0.098</td>\n",
       "      <td>-0.032</td>\n",
       "      <td>0.064</td>\n",
       "      <td>0.215</td>\n",
       "      <td>0.324</td>\n",
       "      <td>0.343</td>\n",
       "      <td>0.329</td>\n",
       "    </tr>\n",
       "  </tbody>\n",
       "</table>\n",
       "</div>"
      ],
      "text/plain": [
       "           Total Farm  Unemployed  Leisure & Hospitality  Construction  \\\n",
       "March          -0.176      -0.309                  0.633         0.057   \n",
       "April           0.201       0.257                  0.162         0.105   \n",
       "May             0.304       0.525                 -0.150        -0.101   \n",
       "June            0.379       0.546                 -0.226         0.007   \n",
       "July            0.540       0.501                 -0.185        -0.029   \n",
       "August          0.556       0.332                 -0.231        -0.078   \n",
       "September       0.511       0.303                 -0.277        -0.133   \n",
       "\n",
       "           Durable Goods  Educational & Health Services  Financial Activities  \\\n",
       "March              0.067                         -0.262                 0.469   \n",
       "April              0.171                          0.127                 0.254   \n",
       "May                0.009                          0.081                 0.072   \n",
       "June               0.001                          0.141                 0.098   \n",
       "July              -0.013                          0.080                 0.079   \n",
       "August            -0.041                          0.168                 0.012   \n",
       "September          0.054                          0.314                 0.056   \n",
       "\n",
       "           Govt.  Information  Manufacturing  \\\n",
       "March     -0.112        0.185         -0.067   \n",
       "April     -0.220        0.259          0.173   \n",
       "May       -0.017        0.033          0.022   \n",
       "June      -0.105        0.087          0.128   \n",
       "July      -0.202       -0.030          0.319   \n",
       "August    -0.296       -0.118          0.361   \n",
       "September -0.309       -0.051          0.294   \n",
       "\n",
       "           Natural Resources, Mining & Construction  Nondurable Goods  \\\n",
       "March                                         0.120            -0.039   \n",
       "April                                        -0.001             0.112   \n",
       "May                                          -0.113            -0.018   \n",
       "June                                         -0.052             0.097   \n",
       "July                                         -0.127             0.331   \n",
       "August                                       -0.157             0.278   \n",
       "September                                    -0.132             0.098   \n",
       "\n",
       "           Other Services  Professional & Business Services  Retail Trade  \\\n",
       "March               0.043                             0.258         0.084   \n",
       "April              -0.021                             0.334         0.086   \n",
       "May                -0.117                             0.064         0.004   \n",
       "June               -0.050                             0.168         0.223   \n",
       "July               -0.035                             0.118         0.167   \n",
       "August              0.019                             0.042         0.202   \n",
       "September          -0.032                             0.064         0.215   \n",
       "\n",
       "           Trade, Transp. & Utilities  Transp., Warehousing & Utilities  \\\n",
       "March                          -0.070                            -0.112   \n",
       "April                           0.208                             0.274   \n",
       "May                             0.107                             0.139   \n",
       "June                            0.304                             0.294   \n",
       "July                            0.342                             0.438   \n",
       "August                          0.347                             0.422   \n",
       "September                       0.324                             0.343   \n",
       "\n",
       "           Wholesale Trade  \n",
       "March                0.064  \n",
       "April                0.302  \n",
       "May                  0.106  \n",
       "June                 0.274  \n",
       "July                 0.395  \n",
       "August               0.313  \n",
       "September            0.329  "
      ]
     },
     "execution_count": 64,
     "metadata": {},
     "output_type": "execute_result"
    }
   ],
   "source": [
    "r_values_dict={}\n",
    "r_values_dict['Unemployed']={}\n",
    "for industry in monthlyemployment_df.columns:\n",
    "    r_values_dict[industry]={}\n",
    "    for month in industryTotal.keys():\n",
    "        r_values_dict[industry][month]=(pearsonr(((pd.Series(monthlyemployment_df[monthlyemployment_df.index.get_level_values('Month') ==month].droplevel('Month')[industry])/(unemployment_gdf[(unemployment_gdf['period']==list(calendar.month_name).index(month))&(unemployment_gdf.index.isin(county_index))]['laborforce'])).round(2)*100), unemployment_gdf[(unemployment_gdf['period']==list(calendar.month_name).index(month))&(unemployment_gdf.index.isin(county_index))]['covid_per_100k'].fillna(0).values))[0]\n",
    "for month in industryTotal.keys(): # add unemployed to table\n",
    "    month_num=list(calendar.month_name).index(month)\n",
    "    r_values_dict['Unemployed'][month]=(pearsonr(((pd.Series(unemployment_gdf[(unemployment_gdf['period'] ==month_num)]['unemprate'])*100)), unemployment_gdf[(unemployment_gdf['period']==month_num)]['covid_per_100k'].fillna(0).values))[0]\n",
    "\n",
    "\n",
    "r_values_df=pd.DataFrame(r_values_dict).round(3)\n",
    "#r_values_df[r_values_df.values<=-0.4]\n",
    "#r_values_df[r_values_df.values>=.5]\n",
    "\n",
    "r_values_df.sort_values(period_m[-1],axis=1,ascending=False,inplace=True)\n",
    "\n",
    "r_values_df = r_values_df[['Total Farm','Unemployed','Leisure and Hospitality','Construction','Durable Goods',\n",
    "                           'Educational and Health Services','Financial Activities','Government','Information',\n",
    "                           'Manufacturing','Natural Resources, Mining and Constructi','Nondurable Goods',\n",
    "                           'Other Services','Professional and Business Services','Retail Trade',\n",
    "                           'Trade, Transportation and Utilities','Transportation, Warehousing and Utilitie','Wholesale Trade']]\n",
    "r_values_df.rename(columns={'Leisure and Hospitality':'Leisure & Hospitality',\n",
    "                           'Educational and Health Services':'Educational & Health Services',\n",
    "                           'Government':'Govt.','Natural Resources, Mining and Constructi':'Natural Resources, Mining & Construction',\n",
    "                           'Professional and Business Services':'Professional & Business Services',\n",
    "                           'Trade, Transportation and Utilities':'Trade, Transp. & Utilities',\n",
    "                            'Transportation, Warehousing and Utilitie':'Transp., Warehousing & Utilities'},inplace=True)\n",
    "\n",
    "# EXPORT: split into two figures because of width\n",
    "if export:\n",
    "    r_values_df.iloc[:,:9].to_html('../figures/4_rvalues_1.html')\n",
    "    r_values_df.iloc[:,9:].to_html('../figures/4_rvalues_2.html')\n",
    "r_values_df"
   ]
  },
  {
   "cell_type": "code",
   "execution_count": 51,
   "metadata": {},
   "outputs": [
    {
     "name": "stdout",
     "output_type": "stream",
     "text": [
      "March ['Leisure and Hospitality'] [0.633]\n",
      "April [] []\n",
      "May ['Unemployed'] [0.525]\n",
      "June ['Unemployed'] [0.546]\n",
      "July ['Total Farm', 'Unemployed'] [0.54  0.501]\n",
      "August ['Total Farm'] [0.556]\n",
      "September ['Total Farm'] [0.511]\n"
     ]
    }
   ],
   "source": [
    "for i in range(len(r_values_df.index)):\n",
    "    print(calendar.month_name[i+3],list(r_values_df.iloc[i][(r_values_df.iloc[i].values>=0.5)].index[0:]),\n",
    "        r_values_df.iloc[i][(r_values_df.iloc[i].values>=0.5)].values[0:])"
   ]
  },
  {
   "cell_type": "markdown",
   "metadata": {},
   "source": [
    "### Scatter Plots"
   ]
  },
  {
   "cell_type": "code",
   "execution_count": 52,
   "metadata": {},
   "outputs": [
    {
     "name": "stderr",
     "output_type": "stream",
     "text": [
      "/Users/jacobwigal/anaconda3/lib/python3.7/site-packages/ipykernel_launcher.py:10: SettingWithCopyWarning:\n",
      "\n",
      "\n",
      "A value is trying to be set on a copy of a slice from a DataFrame\n",
      "\n",
      "See the caveats in the documentation: https://pandas.pydata.org/pandas-docs/stable/user_guide/indexing.html#returning-a-view-versus-a-copy\n",
      "\n",
      "/Users/jacobwigal/anaconda3/lib/python3.7/site-packages/ipykernel_launcher.py:10: SettingWithCopyWarning:\n",
      "\n",
      "\n",
      "A value is trying to be set on a copy of a slice from a DataFrame\n",
      "\n",
      "See the caveats in the documentation: https://pandas.pydata.org/pandas-docs/stable/user_guide/indexing.html#returning-a-view-versus-a-copy\n",
      "\n",
      "/Users/jacobwigal/anaconda3/lib/python3.7/site-packages/ipykernel_launcher.py:10: SettingWithCopyWarning:\n",
      "\n",
      "\n",
      "A value is trying to be set on a copy of a slice from a DataFrame\n",
      "\n",
      "See the caveats in the documentation: https://pandas.pydata.org/pandas-docs/stable/user_guide/indexing.html#returning-a-view-versus-a-copy\n",
      "\n",
      "/Users/jacobwigal/anaconda3/lib/python3.7/site-packages/ipykernel_launcher.py:10: SettingWithCopyWarning:\n",
      "\n",
      "\n",
      "A value is trying to be set on a copy of a slice from a DataFrame\n",
      "\n",
      "See the caveats in the documentation: https://pandas.pydata.org/pandas-docs/stable/user_guide/indexing.html#returning-a-view-versus-a-copy\n",
      "\n",
      "/Users/jacobwigal/anaconda3/lib/python3.7/site-packages/ipykernel_launcher.py:10: SettingWithCopyWarning:\n",
      "\n",
      "\n",
      "A value is trying to be set on a copy of a slice from a DataFrame\n",
      "\n",
      "See the caveats in the documentation: https://pandas.pydata.org/pandas-docs/stable/user_guide/indexing.html#returning-a-view-versus-a-copy\n",
      "\n",
      "/Users/jacobwigal/anaconda3/lib/python3.7/site-packages/ipykernel_launcher.py:10: SettingWithCopyWarning:\n",
      "\n",
      "\n",
      "A value is trying to be set on a copy of a slice from a DataFrame\n",
      "\n",
      "See the caveats in the documentation: https://pandas.pydata.org/pandas-docs/stable/user_guide/indexing.html#returning-a-view-versus-a-copy\n",
      "\n",
      "/Users/jacobwigal/anaconda3/lib/python3.7/site-packages/ipykernel_launcher.py:10: SettingWithCopyWarning:\n",
      "\n",
      "\n",
      "A value is trying to be set on a copy of a slice from a DataFrame\n",
      "\n",
      "See the caveats in the documentation: https://pandas.pydata.org/pandas-docs/stable/user_guide/indexing.html#returning-a-view-versus-a-copy\n",
      "\n"
     ]
    },
    {
     "data": {
      "application/vnd.plotly.v1+json": {
       "config": {
        "plotlyServerURL": "https://plot.ly"
       },
       "data": [
        {
         "customdata": [
          [
           "Alpine",
           1129
          ],
          [
           "Amador",
           39752
          ],
          [
           "Butte",
           219186
          ],
          [
           "Calaveras",
           45905
          ],
          [
           "Colusa",
           21547
          ],
          [
           "Del Norte",
           27812
          ],
          [
           "Fresno",
           999101
          ],
          [
           "Glenn",
           28393
          ],
          [
           "Humboldt",
           135558
          ],
          [
           "Imperial",
           181215
          ],
          [
           "Inyo",
           18039
          ],
          [
           "Kern",
           900202
          ],
          [
           "Kings",
           152940
          ],
          [
           "Lake",
           64386
          ],
          [
           "Lassen",
           30573
          ],
          [
           "Los Angeles",
           10039107
          ],
          [
           "Madera",
           157327
          ],
          [
           "Marin",
           258826
          ],
          [
           "Mariposa",
           17203
          ],
          [
           "Mendocino",
           86749
          ],
          [
           "Merced",
           277680
          ],
          [
           "Modoc",
           8841
          ],
          [
           "Mono",
           14444
          ],
          [
           "Monterey",
           434061
          ],
          [
           "Napa",
           137744
          ],
          [
           "Nevada",
           99755
          ],
          [
           "Orange",
           3175692
          ],
          [
           "Plumas",
           18807
          ],
          [
           "San Diego",
           3338330
          ],
          [
           "San Joaquin",
           762148
          ],
          [
           "San Luis Obispo",
           283111
          ],
          [
           "Santa Barbara",
           446499
          ],
          [
           "Santa Cruz",
           273213
          ],
          [
           "Shasta",
           180080
          ],
          [
           "Sierra",
           3005
          ],
          [
           "Siskiyou",
           43539
          ],
          [
           "Solano",
           447643
          ],
          [
           "Sonoma",
           494336
          ],
          [
           "Stanislaus",
           550660
          ],
          [
           "Tehama",
           65084
          ],
          [
           "Trinity",
           12285
          ],
          [
           "Tulare",
           466195
          ],
          [
           "Tuolumne",
           54478
          ],
          [
           "Ventura",
           846006
          ]
         ],
         "hovertemplate": "<b>%{customdata[0]} County</b><br><br><i>Cases per 100k</i>: %{y}<br><i>Total Farm Laborforce</i>: %{x}%<br><i>Population</i>: %{customdata[1]}",
         "marker": {
          "color": "#004679",
          "line": {
           "color": "#ffffff",
           "width": 1
          },
          "opacity": 0.7,
          "size": [
           12.898301020978622,
           17.06008208184058,
           20.818653392763792,
           17.318717810163538,
           16.057824777980162,
           16.4569594572729,
           25.80783349268203,
           16.490420354348995,
           19.594034868108995,
           20.316171185912474,
           15.794595422147083,
           25.40121549931449,
           19.88781371553559,
           17.964671453448126,
           16.61156875202046,
           38.14451539051155,
           19.957970140315393,
           21.277737441239566,
           15.726259847844291,
           18.580964862647686,
           21.477733970450153,
           14.84836549734372,
           15.48140478118039,
           22.83387177822631,
           19.632481352907412,
           18.885946058843714,
           31.107150076595484,
           15.855309897986828,
           31.37235211348942,
           24.773378776943808,
           21.53344875389171,
           22.924838554305886,
           21.431292681126855,
           20.29997984394579,
           13.701954898923777,
           17.222534363771963,
           22.93310947427082,
           23.25792518992918,
           23.62043214445906,
           17.98617023429591,
           15.263974715257165,
           23.06507500110682,
           17.6388027042765,
           25.16398566208713
          ]
         },
         "mode": "markers",
         "name": "",
         "type": "scatter",
         "visible": false,
         "x": [
          0,
          2,
          3,
          1,
          24,
          3,
          8,
          18,
          2,
          14.000000000000002,
          0,
          11,
          11,
          3,
          3,
          0,
          17,
          0,
          0,
          4,
          10,
          11,
          0,
          18,
          7.000000000000001,
          0,
          0,
          1,
          1,
          4,
          4,
          9,
          3,
          1,
          1,
          5,
          1,
          2,
          5,
          7.000000000000001,
          0,
          15,
          0,
          6
         ],
         "y": [
          88.57395925597875,
          12.57798349768565,
          6.3872692598979866,
          13.070471626184512,
          13.923051932983709,
          3.5955702574428305,
          23.220875567134854,
          10.565984573662522,
          36.146889154457874,
          51.32025494578264,
          55.43544542380398,
          30.770871426635356,
          11.769321302471557,
          1.553132668592551,
          0,
          68.44234253106377,
          25.424752267570092,
          50.99951318646504,
          0,
          4.611004161431256,
          11.524056467876692,
          0,
          173.08224868457492,
          17.278677420915493,
          24.68347078638634,
          35.08596060347852,
          39.9283053898174,
          5.317169139150316,
          46.8797272887941,
          29.91544949274944,
          39.56045508652083,
          58.9027075088634,
          27.08509477953099,
          11.106175033318525,
          0,
          9.187165529754932,
          22.562622446905234,
          29.736859140341792,
          18.52322667344641,
          1.5364759387867983,
          0,
          25.311296774954684,
          3.671206725650721,
          35.57894388455874
         ]
        },
        {
         "customdata": [
          [
           "Alpine",
           1129
          ],
          [
           "Amador",
           39752
          ],
          [
           "Butte",
           219186
          ],
          [
           "Calaveras",
           45905
          ],
          [
           "Colusa",
           21547
          ],
          [
           "Del Norte",
           27812
          ],
          [
           "Fresno",
           999101
          ],
          [
           "Glenn",
           28393
          ],
          [
           "Humboldt",
           135558
          ],
          [
           "Imperial",
           181215
          ],
          [
           "Inyo",
           18039
          ],
          [
           "Kern",
           900202
          ],
          [
           "Kings",
           152940
          ],
          [
           "Lake",
           64386
          ],
          [
           "Lassen",
           30573
          ],
          [
           "Los Angeles",
           10039107
          ],
          [
           "Madera",
           157327
          ],
          [
           "Marin",
           258826
          ],
          [
           "Mariposa",
           17203
          ],
          [
           "Mendocino",
           86749
          ],
          [
           "Merced",
           277680
          ],
          [
           "Modoc",
           8841
          ],
          [
           "Mono",
           14444
          ],
          [
           "Monterey",
           434061
          ],
          [
           "Napa",
           137744
          ],
          [
           "Nevada",
           99755
          ],
          [
           "Orange",
           3175692
          ],
          [
           "Plumas",
           18807
          ],
          [
           "San Diego",
           3338330
          ],
          [
           "San Joaquin",
           762148
          ],
          [
           "San Luis Obispo",
           283111
          ],
          [
           "Santa Barbara",
           446499
          ],
          [
           "Santa Cruz",
           273213
          ],
          [
           "Shasta",
           180080
          ],
          [
           "Sierra",
           3005
          ],
          [
           "Siskiyou",
           43539
          ],
          [
           "Solano",
           447643
          ],
          [
           "Sonoma",
           494336
          ],
          [
           "Stanislaus",
           550660
          ],
          [
           "Tehama",
           65084
          ],
          [
           "Trinity",
           12285
          ],
          [
           "Tulare",
           466195
          ],
          [
           "Tuolumne",
           54478
          ],
          [
           "Ventura",
           846006
          ]
         ],
         "hovertemplate": "<b>%{customdata[0]} County</b><br><br><i>Cases per 100k</i>: %{y}<br><i>Total Farm Laborforce</i>: %{x}%<br><i>Population</i>: %{customdata[1]}",
         "marker": {
          "color": "#004679",
          "line": {
           "color": "#ffffff",
           "width": 1
          },
          "opacity": 0.7,
          "size": [
           12.898301020978622,
           17.06008208184058,
           20.818653392763792,
           17.318717810163538,
           16.057824777980162,
           16.4569594572729,
           25.80783349268203,
           16.490420354348995,
           19.594034868108995,
           20.316171185912474,
           15.794595422147083,
           25.40121549931449,
           19.88781371553559,
           17.964671453448126,
           16.61156875202046,
           38.14451539051155,
           19.957970140315393,
           21.277737441239566,
           15.726259847844291,
           18.580964862647686,
           21.477733970450153,
           14.84836549734372,
           15.48140478118039,
           22.83387177822631,
           19.632481352907412,
           18.885946058843714,
           31.107150076595484,
           15.855309897986828,
           31.37235211348942,
           24.773378776943808,
           21.53344875389171,
           22.924838554305886,
           21.431292681126855,
           20.29997984394579,
           13.701954898923777,
           17.222534363771963,
           22.93310947427082,
           23.25792518992918,
           23.62043214445906,
           17.98617023429591,
           15.263974715257165,
           23.06507500110682,
           17.6388027042765,
           25.16398566208713
          ]
         },
         "mode": "markers",
         "name": "",
         "type": "scatter",
         "visible": false,
         "x": [
          0,
          2,
          3,
          1,
          25,
          3,
          8,
          18,
          2,
          13,
          0,
          11,
          11,
          2,
          2,
          0,
          15,
          0,
          0,
          4,
          11,
          12,
          1,
          25,
          7.000000000000001,
          0,
          0,
          1,
          1,
          4,
          4,
          12,
          4,
          1,
          1,
          5,
          1,
          2,
          5,
          7.000000000000001,
          0,
          16,
          0,
          7.000000000000001
         ],
         "y": [
          0,
          7.546790098611391,
          2.7374011113848513,
          15.24888356388193,
          0,
          10.78671077232849,
          85.77711362514901,
          14.087979431550028,
          6.639224538573894,
          268.1897193940899,
          49.89190088142358,
          105.9762142274734,
          146.4626650974238,
          12.425061348740408,
          0,
          232.27165523786127,
          20.97542062074533,
          44.431394063965755,
          87.19409405336279,
          8.069257282504697,
          59.06078939786805,
          0,
          34.61644973691498,
          43.08150236948263,
          34.12126844000465,
          6.014736103453461,
          80.48639477631963,
          15.95150741745095,
          90.37452858165611,
          47.62854458714055,
          40.973328482468006,
          84.43467958494867,
          21.228858070443206,
          8.329631274988895,
          0,
          2.296791382438733,
          49.1463063199916,
          28.118526670119113,
          66.28409544909745,
          0,
          0,
          198.2003238987977,
          0,
          46.21716630851318
         ]
        },
        {
         "customdata": [
          [
           "Alpine",
           1129
          ],
          [
           "Amador",
           39752
          ],
          [
           "Butte",
           219186
          ],
          [
           "Calaveras",
           45905
          ],
          [
           "Colusa",
           21547
          ],
          [
           "Del Norte",
           27812
          ],
          [
           "Fresno",
           999101
          ],
          [
           "Glenn",
           28393
          ],
          [
           "Humboldt",
           135558
          ],
          [
           "Imperial",
           181215
          ],
          [
           "Inyo",
           18039
          ],
          [
           "Kern",
           900202
          ],
          [
           "Kings",
           152940
          ],
          [
           "Lake",
           64386
          ],
          [
           "Lassen",
           30573
          ],
          [
           "Los Angeles",
           10039107
          ],
          [
           "Madera",
           157327
          ],
          [
           "Marin",
           258826
          ],
          [
           "Mariposa",
           17203
          ],
          [
           "Mendocino",
           86749
          ],
          [
           "Merced",
           277680
          ],
          [
           "Modoc",
           8841
          ],
          [
           "Mono",
           14444
          ],
          [
           "Monterey",
           434061
          ],
          [
           "Napa",
           137744
          ],
          [
           "Nevada",
           99755
          ],
          [
           "Orange",
           3175692
          ],
          [
           "Plumas",
           18807
          ],
          [
           "San Diego",
           3338330
          ],
          [
           "San Joaquin",
           762148
          ],
          [
           "San Luis Obispo",
           283111
          ],
          [
           "Santa Barbara",
           446499
          ],
          [
           "Santa Cruz",
           273213
          ],
          [
           "Shasta",
           180080
          ],
          [
           "Sierra",
           3005
          ],
          [
           "Siskiyou",
           43539
          ],
          [
           "Solano",
           447643
          ],
          [
           "Sonoma",
           494336
          ],
          [
           "Stanislaus",
           550660
          ],
          [
           "Tehama",
           65084
          ],
          [
           "Trinity",
           12285
          ],
          [
           "Tulare",
           466195
          ],
          [
           "Tuolumne",
           54478
          ],
          [
           "Ventura",
           846006
          ]
         ],
         "hovertemplate": "<b>%{customdata[0]} County</b><br><br><i>Cases per 100k</i>: %{y}<br><i>Total Farm Laborforce</i>: %{x}%<br><i>Population</i>: %{customdata[1]}",
         "marker": {
          "color": "#004679",
          "line": {
           "color": "#ffffff",
           "width": 1
          },
          "opacity": 0.7,
          "size": [
           12.898301020978622,
           17.06008208184058,
           20.818653392763792,
           17.318717810163538,
           16.057824777980162,
           16.4569594572729,
           25.80783349268203,
           16.490420354348995,
           19.594034868108995,
           20.316171185912474,
           15.794595422147083,
           25.40121549931449,
           19.88781371553559,
           17.964671453448126,
           16.61156875202046,
           38.14451539051155,
           19.957970140315393,
           21.277737441239566,
           15.726259847844291,
           18.580964862647686,
           21.477733970450153,
           14.84836549734372,
           15.48140478118039,
           22.83387177822631,
           19.632481352907412,
           18.885946058843714,
           31.107150076595484,
           15.855309897986828,
           31.37235211348942,
           24.773378776943808,
           21.53344875389171,
           22.924838554305886,
           21.431292681126855,
           20.29997984394579,
           13.701954898923777,
           17.222534363771963,
           22.93310947427082,
           23.25792518992918,
           23.62043214445906,
           17.98617023429591,
           15.263974715257165,
           23.06507500110682,
           17.6388027042765,
           25.16398566208713
          ]
         },
         "mode": "markers",
         "name": "",
         "type": "scatter",
         "visible": false,
         "x": [
          0,
          2,
          3,
          1,
          28.000000000000004,
          3,
          11,
          20,
          2,
          17,
          0,
          16,
          15,
          4,
          2,
          0,
          21,
          0,
          0,
          4,
          14.000000000000002,
          13,
          1,
          30,
          10,
          0,
          0,
          1,
          1,
          7.000000000000001,
          5,
          14.000000000000002,
          7.000000000000001,
          1,
          2,
          5,
          1,
          3,
          7.000000000000001,
          8,
          0,
          21,
          0,
          7.000000000000001
         ],
         "y": [
          88.57395925597875,
          5.03119339907426,
          20.530508335386386,
          10.892059688487093,
          27.846103865967418,
          147.41838055515606,
          204.1835610213582,
          45.785933152537595,
          38.35996400064917,
          1774.1356951687221,
          5.543544542380398,
          183.40328059702156,
          647.3126716359357,
          34.16891870903613,
          19.625159454420565,
          317.20948885194673,
          108.05519713717291,
          107.02170570190012,
          5.812939603557519,
          23.05502080715628,
          70.2247191011236,
          0,
          55.38631957906397,
          103.44168215988074,
          46.46300383319782,
          9.022104155180191,
          166.54637792329987,
          0,
          120.41949118271711,
          77.28157785626938,
          32.496088106784974,
          312.8786402657117,
          32.57531669430078,
          11.106175033318525,
          33.277870216306155,
          13.780748294632398,
          66.57090583344316,
          71.20662868979804,
          80.6305161079432,
          13.828283449081185,
          8.14000814000814,
          309.52712920559,
          3.671206725650721,
          96.68962158660814
         ]
        },
        {
         "customdata": [
          [
           "Alpine",
           1129
          ],
          [
           "Amador",
           39752
          ],
          [
           "Butte",
           219186
          ],
          [
           "Calaveras",
           45905
          ],
          [
           "Colusa",
           21547
          ],
          [
           "Del Norte",
           27812
          ],
          [
           "Fresno",
           999101
          ],
          [
           "Glenn",
           28393
          ],
          [
           "Humboldt",
           135558
          ],
          [
           "Imperial",
           181215
          ],
          [
           "Inyo",
           18039
          ],
          [
           "Kern",
           900202
          ],
          [
           "Kings",
           152940
          ],
          [
           "Lake",
           64386
          ],
          [
           "Lassen",
           30573
          ],
          [
           "Los Angeles",
           10039107
          ],
          [
           "Madera",
           157327
          ],
          [
           "Marin",
           258826
          ],
          [
           "Mariposa",
           17203
          ],
          [
           "Mendocino",
           86749
          ],
          [
           "Merced",
           277680
          ],
          [
           "Modoc",
           8841
          ],
          [
           "Mono",
           14444
          ],
          [
           "Monterey",
           434061
          ],
          [
           "Napa",
           137744
          ],
          [
           "Nevada",
           99755
          ],
          [
           "Orange",
           3175692
          ],
          [
           "Plumas",
           18807
          ],
          [
           "San Diego",
           3338330
          ],
          [
           "San Joaquin",
           762148
          ],
          [
           "San Luis Obispo",
           283111
          ],
          [
           "Santa Barbara",
           446499
          ],
          [
           "Santa Cruz",
           273213
          ],
          [
           "Shasta",
           180080
          ],
          [
           "Sierra",
           3005
          ],
          [
           "Siskiyou",
           43539
          ],
          [
           "Solano",
           447643
          ],
          [
           "Sonoma",
           494336
          ],
          [
           "Stanislaus",
           550660
          ],
          [
           "Tehama",
           65084
          ],
          [
           "Trinity",
           12285
          ],
          [
           "Tulare",
           466195
          ],
          [
           "Tuolumne",
           54478
          ],
          [
           "Ventura",
           846006
          ]
         ],
         "hovertemplate": "<b>%{customdata[0]} County</b><br><br><i>Cases per 100k</i>: %{y}<br><i>Total Farm Laborforce</i>: %{x}%<br><i>Population</i>: %{customdata[1]}",
         "marker": {
          "color": "#004679",
          "line": {
           "color": "#ffffff",
           "width": 1
          },
          "opacity": 0.7,
          "size": [
           12.898301020978622,
           17.06008208184058,
           20.818653392763792,
           17.318717810163538,
           16.057824777980162,
           16.4569594572729,
           25.80783349268203,
           16.490420354348995,
           19.594034868108995,
           20.316171185912474,
           15.794595422147083,
           25.40121549931449,
           19.88781371553559,
           17.964671453448126,
           16.61156875202046,
           38.14451539051155,
           19.957970140315393,
           21.277737441239566,
           15.726259847844291,
           18.580964862647686,
           21.477733970450153,
           14.84836549734372,
           15.48140478118039,
           22.83387177822631,
           19.632481352907412,
           18.885946058843714,
           31.107150076595484,
           15.855309897986828,
           31.37235211348942,
           24.773378776943808,
           21.53344875389171,
           22.924838554305886,
           21.431292681126855,
           20.29997984394579,
           13.701954898923777,
           17.222534363771963,
           22.93310947427082,
           23.25792518992918,
           23.62043214445906,
           17.98617023429591,
           15.263974715257165,
           23.06507500110682,
           17.6388027042765,
           25.16398566208713
          ]
         },
         "mode": "markers",
         "name": "",
         "type": "scatter",
         "visible": false,
         "x": [
          0,
          3,
          3,
          1,
          28.999999999999996,
          4,
          11,
          19,
          2,
          16,
          0,
          16,
          13,
          4,
          2,
          0,
          20,
          0,
          0,
          4,
          13,
          13,
          1,
          31,
          9,
          0,
          0,
          1,
          1,
          5,
          4,
          14.000000000000002,
          8,
          1,
          2,
          6,
          1,
          3,
          6,
          7.000000000000001,
          1,
          21,
          0,
          7.000000000000001
         ],
         "y": [
          0,
          60.374320788891126,
          99.91514056554708,
          87.13647750789674,
          399.127488745533,
          50.33798360419962,
          664.2972031856639,
          510.6892543936886,
          35.40919753906077,
          2411.5001517534424,
          77.60962359332557,
          739.8339483804746,
          1001.7000130770236,
          97.84735812133071,
          771.9229385405423,
          568.4569354624869,
          470.3579169500467,
          982.1269887878343,
          104.63291286403535,
          66.8595603407532,
          523.2641889945261,
          11.310937676733401,
          69.23289947382996,
          360.7787845487155,
          247.56069229875715,
          108.2652498621623,
          466.57547394394675,
          42.53735311320253,
          279.570923186144,
          581.3831434314595,
          179.43492128529093,
          477.0447414215933,
          92.96775775676852,
          88.8494002665482,
          0,
          52.826201796090864,
          292.42052260395,
          183.68073537027445,
          608.9056768241746,
          145.9652141847459,
          8.14000814000814,
          648.2266004568904,
          82.60215132714123,
          339.8321052096557
         ]
        },
        {
         "customdata": [
          [
           "Alpine",
           1129
          ],
          [
           "Amador",
           39752
          ],
          [
           "Butte",
           219186
          ],
          [
           "Calaveras",
           45905
          ],
          [
           "Colusa",
           21547
          ],
          [
           "Del Norte",
           27812
          ],
          [
           "Fresno",
           999101
          ],
          [
           "Glenn",
           28393
          ],
          [
           "Humboldt",
           135558
          ],
          [
           "Imperial",
           181215
          ],
          [
           "Inyo",
           18039
          ],
          [
           "Kern",
           900202
          ],
          [
           "Kings",
           152940
          ],
          [
           "Lake",
           64386
          ],
          [
           "Lassen",
           30573
          ],
          [
           "Los Angeles",
           10039107
          ],
          [
           "Madera",
           157327
          ],
          [
           "Marin",
           258826
          ],
          [
           "Mariposa",
           17203
          ],
          [
           "Mendocino",
           86749
          ],
          [
           "Merced",
           277680
          ],
          [
           "Modoc",
           8841
          ],
          [
           "Mono",
           14444
          ],
          [
           "Monterey",
           434061
          ],
          [
           "Napa",
           137744
          ],
          [
           "Nevada",
           99755
          ],
          [
           "Orange",
           3175692
          ],
          [
           "Plumas",
           18807
          ],
          [
           "San Diego",
           3338330
          ],
          [
           "San Joaquin",
           762148
          ],
          [
           "San Luis Obispo",
           283111
          ],
          [
           "Santa Barbara",
           446499
          ],
          [
           "Santa Cruz",
           273213
          ],
          [
           "Shasta",
           180080
          ],
          [
           "Sierra",
           3005
          ],
          [
           "Siskiyou",
           43539
          ],
          [
           "Solano",
           447643
          ],
          [
           "Sonoma",
           494336
          ],
          [
           "Stanislaus",
           550660
          ],
          [
           "Tehama",
           65084
          ],
          [
           "Trinity",
           12285
          ],
          [
           "Tulare",
           466195
          ],
          [
           "Tuolumne",
           54478
          ],
          [
           "Ventura",
           846006
          ]
         ],
         "hovertemplate": "<b>%{customdata[0]} County</b><br><br><i>Cases per 100k</i>: %{y}<br><i>Total Farm Laborforce</i>: %{x}%<br><i>Population</i>: %{customdata[1]}",
         "marker": {
          "color": "#004679",
          "line": {
           "color": "#ffffff",
           "width": 1
          },
          "opacity": 0.7,
          "size": [
           12.898301020978622,
           17.06008208184058,
           20.818653392763792,
           17.318717810163538,
           16.057824777980162,
           16.4569594572729,
           25.80783349268203,
           16.490420354348995,
           19.594034868108995,
           20.316171185912474,
           15.794595422147083,
           25.40121549931449,
           19.88781371553559,
           17.964671453448126,
           16.61156875202046,
           38.14451539051155,
           19.957970140315393,
           21.277737441239566,
           15.726259847844291,
           18.580964862647686,
           21.477733970450153,
           14.84836549734372,
           15.48140478118039,
           22.83387177822631,
           19.632481352907412,
           18.885946058843714,
           31.107150076595484,
           15.855309897986828,
           31.37235211348942,
           24.773378776943808,
           21.53344875389171,
           22.924838554305886,
           21.431292681126855,
           20.29997984394579,
           13.701954898923777,
           17.222534363771963,
           22.93310947427082,
           23.25792518992918,
           23.62043214445906,
           17.98617023429591,
           15.263974715257165,
           23.06507500110682,
           17.6388027042765,
           25.16398566208713
          ]
         },
         "mode": "markers",
         "name": "",
         "type": "scatter",
         "visible": false,
         "x": [
          0,
          2,
          3,
          1,
          30,
          4,
          10,
          19,
          2,
          13,
          0,
          16,
          14.000000000000002,
          3,
          2,
          0,
          19,
          0,
          0,
          4,
          13,
          14.000000000000002,
          1,
          31,
          9,
          0,
          0,
          1,
          1,
          4,
          4,
          14.000000000000002,
          8,
          1,
          2,
          6,
          1,
          3,
          6,
          8,
          1,
          17,
          0,
          6
         ],
         "y": [
          88.57395925597875,
          389.9174884282552,
          390.9921254094696,
          193.87866245507024,
          1313.4078990114633,
          107.8671077232849,
          1193.1726622233389,
          760.7508893037017,
          78.93300284748963,
          1193.6098005132026,
          210.6546926104551,
          1706.728045483125,
          1309.663920491696,
          218.99170627154973,
          1269.0936447191968,
          834.7355994910703,
          1191.7852625423482,
          911.4231182338714,
          156.949369296053,
          261.67448616122374,
          1482.6418899452608,
          56.554688383667006,
          692.3289947382997,
          768.7859540479333,
          501.65524451155767,
          186.4568192070573,
          617.3142735504576,
          116.97772106130697,
          438.75231028687995,
          1211.3132882327318,
          436.57787934767634,
          668.3105673248989,
          308.91648640438046,
          152.70990670812972,
          66.55574043261231,
          142.40106571120145,
          539.0456234097261,
          454.549132573796,
          1380.3435876947663,
          271.95624116526335,
          32.56003256003256,
          1207.4346571713552,
          192.73835309666288,
          515.4809776762813
         ]
        },
        {
         "customdata": [
          [
           "Alpine",
           1129
          ],
          [
           "Amador",
           39752
          ],
          [
           "Butte",
           219186
          ],
          [
           "Calaveras",
           45905
          ],
          [
           "Colusa",
           21547
          ],
          [
           "Del Norte",
           27812
          ],
          [
           "Fresno",
           999101
          ],
          [
           "Glenn",
           28393
          ],
          [
           "Humboldt",
           135558
          ],
          [
           "Imperial",
           181215
          ],
          [
           "Inyo",
           18039
          ],
          [
           "Kern",
           900202
          ],
          [
           "Kings",
           152940
          ],
          [
           "Lake",
           64386
          ],
          [
           "Lassen",
           30573
          ],
          [
           "Los Angeles",
           10039107
          ],
          [
           "Madera",
           157327
          ],
          [
           "Marin",
           258826
          ],
          [
           "Mariposa",
           17203
          ],
          [
           "Mendocino",
           86749
          ],
          [
           "Merced",
           277680
          ],
          [
           "Modoc",
           8841
          ],
          [
           "Mono",
           14444
          ],
          [
           "Monterey",
           434061
          ],
          [
           "Napa",
           137744
          ],
          [
           "Nevada",
           99755
          ],
          [
           "Orange",
           3175692
          ],
          [
           "Plumas",
           18807
          ],
          [
           "San Diego",
           3338330
          ],
          [
           "San Joaquin",
           762148
          ],
          [
           "San Luis Obispo",
           283111
          ],
          [
           "Santa Barbara",
           446499
          ],
          [
           "Santa Cruz",
           273213
          ],
          [
           "Shasta",
           180080
          ],
          [
           "Sierra",
           3005
          ],
          [
           "Siskiyou",
           43539
          ],
          [
           "Solano",
           447643
          ],
          [
           "Sonoma",
           494336
          ],
          [
           "Stanislaus",
           550660
          ],
          [
           "Tehama",
           65084
          ],
          [
           "Trinity",
           12285
          ],
          [
           "Tulare",
           466195
          ],
          [
           "Tuolumne",
           54478
          ],
          [
           "Ventura",
           846006
          ]
         ],
         "hovertemplate": "<b>%{customdata[0]} County</b><br><br><i>Cases per 100k</i>: %{y}<br><i>Total Farm Laborforce</i>: %{x}%<br><i>Population</i>: %{customdata[1]}",
         "marker": {
          "color": "#004679",
          "line": {
           "color": "#ffffff",
           "width": 1
          },
          "opacity": 0.7,
          "size": [
           12.898301020978622,
           17.06008208184058,
           20.818653392763792,
           17.318717810163538,
           16.057824777980162,
           16.4569594572729,
           25.80783349268203,
           16.490420354348995,
           19.594034868108995,
           20.316171185912474,
           15.794595422147083,
           25.40121549931449,
           19.88781371553559,
           17.964671453448126,
           16.61156875202046,
           38.14451539051155,
           19.957970140315393,
           21.277737441239566,
           15.726259847844291,
           18.580964862647686,
           21.477733970450153,
           14.84836549734372,
           15.48140478118039,
           22.83387177822631,
           19.632481352907412,
           18.885946058843714,
           31.107150076595484,
           15.855309897986828,
           31.37235211348942,
           24.773378776943808,
           21.53344875389171,
           22.924838554305886,
           21.431292681126855,
           20.29997984394579,
           13.701954898923777,
           17.222534363771963,
           22.93310947427082,
           23.25792518992918,
           23.62043214445906,
           17.98617023429591,
           15.263974715257165,
           23.06507500110682,
           17.6388027042765,
           25.16398566208713
          ]
         },
         "mode": "markers",
         "name": "",
         "type": "scatter",
         "visible": false,
         "x": [
          0,
          2,
          3,
          1,
          31,
          4,
          10,
          19,
          2,
          13,
          0,
          18,
          13,
          4,
          3,
          0,
          22,
          0,
          0,
          4,
          14.000000000000002,
          13,
          1,
          31,
          8,
          0,
          0,
          1,
          1,
          4,
          3,
          14.000000000000002,
          8,
          1,
          2,
          6,
          1,
          3,
          7.000000000000001,
          8,
          1,
          19,
          0,
          6
         ],
         "y": [
          0,
          216.34131616019317,
          563.4483954267153,
          272.3014922121773,
          459.46071378846244,
          100.67596720839924,
          615.0529325863952,
          348.67749093086326,
          118.76835007893301,
          529.205639709737,
          609.7898996618438,
          548.09920440079,
          1042.2387864522036,
          198.80098157984654,
          278.02309227095805,
          420.1170482593721,
          706.1724942317593,
          329.5650359701112,
          69.75527524269023,
          376.94959019700514,
          813.1662345145492,
          135.73125212080083,
          96.92605926336195,
          636.5464761865268,
          242.47880125450112,
          122.29963410355371,
          217.68483845410702,
          47.85452225235285,
          238.08311341299392,
          517.0911686444102,
          368.4067379932253,
          340.87422368247184,
          225.4651132998796,
          79.96446023989337,
          99.83361064891847,
          96.46523806242679,
          295.1012302214041,
          479.8355774210254,
          653.94254167726,
          245.83615020588775,
          73.26007326007326,
          745.6107422859533,
          102.7937883182202,
          308.62665276605605
         ]
        },
        {
         "customdata": [
          [
           "Alpine",
           1129
          ],
          [
           "Amador",
           39752
          ],
          [
           "Butte",
           219186
          ],
          [
           "Calaveras",
           45905
          ],
          [
           "Colusa",
           21547
          ],
          [
           "Del Norte",
           27812
          ],
          [
           "Fresno",
           999101
          ],
          [
           "Glenn",
           28393
          ],
          [
           "Humboldt",
           135558
          ],
          [
           "Imperial",
           181215
          ],
          [
           "Inyo",
           18039
          ],
          [
           "Kern",
           900202
          ],
          [
           "Kings",
           152940
          ],
          [
           "Lake",
           64386
          ],
          [
           "Lassen",
           30573
          ],
          [
           "Los Angeles",
           10039107
          ],
          [
           "Madera",
           157327
          ],
          [
           "Marin",
           258826
          ],
          [
           "Mariposa",
           17203
          ],
          [
           "Mendocino",
           86749
          ],
          [
           "Merced",
           277680
          ],
          [
           "Modoc",
           8841
          ],
          [
           "Mono",
           14444
          ],
          [
           "Monterey",
           434061
          ],
          [
           "Napa",
           137744
          ],
          [
           "Nevada",
           99755
          ],
          [
           "Orange",
           3175692
          ],
          [
           "Plumas",
           18807
          ],
          [
           "San Diego",
           3338330
          ],
          [
           "San Joaquin",
           762148
          ],
          [
           "San Luis Obispo",
           283111
          ],
          [
           "Santa Barbara",
           446499
          ],
          [
           "Santa Cruz",
           273213
          ],
          [
           "Shasta",
           180080
          ],
          [
           "Sierra",
           3005
          ],
          [
           "Siskiyou",
           43539
          ],
          [
           "Solano",
           447643
          ],
          [
           "Sonoma",
           494336
          ],
          [
           "Stanislaus",
           550660
          ],
          [
           "Tehama",
           65084
          ],
          [
           "Trinity",
           12285
          ],
          [
           "Tulare",
           466195
          ],
          [
           "Tuolumne",
           54478
          ],
          [
           "Ventura",
           846006
          ]
         ],
         "hovertemplate": "<b>%{customdata[0]} County</b><br><br><i>Cases per 100k</i>: %{y}<br><i>Total Farm Laborforce</i>: %{x}%<br><i>Population</i>: %{customdata[1]}",
         "marker": {
          "color": "#004679",
          "line": {
           "color": "#ffffff",
           "width": 1
          },
          "opacity": 0.7,
          "size": [
           12.898301020978622,
           17.06008208184058,
           20.818653392763792,
           17.318717810163538,
           16.057824777980162,
           16.4569594572729,
           25.80783349268203,
           16.490420354348995,
           19.594034868108995,
           20.316171185912474,
           15.794595422147083,
           25.40121549931449,
           19.88781371553559,
           17.964671453448126,
           16.61156875202046,
           38.14451539051155,
           19.957970140315393,
           21.277737441239566,
           15.726259847844291,
           18.580964862647686,
           21.477733970450153,
           14.84836549734372,
           15.48140478118039,
           22.83387177822631,
           19.632481352907412,
           18.885946058843714,
           31.107150076595484,
           15.855309897986828,
           31.37235211348942,
           24.773378776943808,
           21.53344875389171,
           22.924838554305886,
           21.431292681126855,
           20.29997984394579,
           13.701954898923777,
           17.222534363771963,
           22.93310947427082,
           23.25792518992918,
           23.62043214445906,
           17.98617023429591,
           15.263974715257165,
           23.06507500110682,
           17.6388027042765,
           25.16398566208713
          ]
         },
         "mode": "markers",
         "name": "",
         "type": "scatter",
         "visible": true,
         "x": [
          0,
          2,
          4,
          1,
          33,
          4,
          10,
          21,
          2,
          14.000000000000002,
          0,
          19,
          14.000000000000002,
          4,
          3,
          0,
          20,
          0,
          0,
          4,
          14.000000000000002,
          12,
          1,
          31,
          8,
          0,
          0,
          1,
          1,
          5,
          4,
          13,
          8,
          1,
          2,
          6,
          1,
          3,
          7.000000000000001,
          9,
          1,
          18,
          0,
          6
         ],
         "y": [
          88.57395925597875,
          62.88991748842825,
          251.84090224740632,
          93.671713320989,
          278.4610386596742,
          107.8671077232849,
          300.77039258293206,
          447.29334695171343,
          66.39224538573895,
          373.58938277736394,
          83.15316813570597,
          246.9445746621314,
          1049.4311494703804,
          358.7736464448793,
          85.04235763582246,
          278.33152888997,
          436.67012019551635,
          203.22533284909554,
          23.251758414230075,
          289.3405111298113,
          289.902045520023,
          124.42031444406742,
          41.53973968429798,
          421.83011143595024,
          194.56382855151585,
          93.22840960352865,
          165.19234233042752,
          42.53735311320253,
          255.90639631192843,
          230.92627678613604,
          222.5275598616797,
          206.27145861468895,
          218.14481741351983,
          388.7161261661484,
          0,
          52.826201796090864,
          195.24487147123935,
          368.37292853443813,
          238.25954309374205,
          316.5140433900805,
          32.56003256003256,
          383.7449994101181,
          40.38327398215793,
          241.72405396652033
         ]
        }
       ],
       "layout": {
        "height": 440,
        "sliders": [
         {
          "active": 6,
          "pad": {
           "t": 30
          },
          "steps": [
           {
            "args": [
             {
              "visible": [
               true,
               false,
               false,
               false,
               false,
               false,
               false
              ]
             },
             {
              "title.text": "COVID-19 Case Rate & Total Farm Laborforce of CA Counties, March 2020 (R = -0.176)"
             }
            ],
            "label": "March",
            "method": "update"
           },
           {
            "args": [
             {
              "visible": [
               false,
               true,
               false,
               false,
               false,
               false,
               false
              ]
             },
             {
              "title.text": "COVID-19 Case Rate & Total Farm Laborforce of CA Counties, April 2020 (R = 0.201)"
             }
            ],
            "label": "April",
            "method": "update"
           },
           {
            "args": [
             {
              "visible": [
               false,
               false,
               true,
               false,
               false,
               false,
               false
              ]
             },
             {
              "title.text": "COVID-19 Case Rate & Total Farm Laborforce of CA Counties, May 2020 (R = 0.304)"
             }
            ],
            "label": "May",
            "method": "update"
           },
           {
            "args": [
             {
              "visible": [
               false,
               false,
               false,
               true,
               false,
               false,
               false
              ]
             },
             {
              "title.text": "COVID-19 Case Rate & Total Farm Laborforce of CA Counties, June 2020 (R = 0.379)"
             }
            ],
            "label": "June",
            "method": "update"
           },
           {
            "args": [
             {
              "visible": [
               false,
               false,
               false,
               false,
               true,
               false,
               false
              ]
             },
             {
              "title.text": "COVID-19 Case Rate & Total Farm Laborforce of CA Counties, July 2020 (R = 0.540)"
             }
            ],
            "label": "July",
            "method": "update"
           },
           {
            "args": [
             {
              "visible": [
               false,
               false,
               false,
               false,
               false,
               true,
               false
              ]
             },
             {
              "title.text": "COVID-19 Case Rate & Total Farm Laborforce of CA Counties, August 2020 (R = 0.556)"
             }
            ],
            "label": "August",
            "method": "update"
           },
           {
            "args": [
             {
              "visible": [
               false,
               false,
               false,
               false,
               false,
               false,
               true
              ]
             },
             {
              "title.text": "COVID-19 Case Rate & Total Farm Laborforce of CA Counties, September 2020 (R = 0.511)"
             }
            ],
            "label": "September",
            "method": "update"
           }
          ]
         }
        ],
        "template": {
         "data": {
          "bar": [
           {
            "error_x": {
             "color": "#2a3f5f"
            },
            "error_y": {
             "color": "#2a3f5f"
            },
            "marker": {
             "line": {
              "color": "#E5ECF6",
              "width": 0.5
             }
            },
            "type": "bar"
           }
          ],
          "barpolar": [
           {
            "marker": {
             "line": {
              "color": "#E5ECF6",
              "width": 0.5
             }
            },
            "type": "barpolar"
           }
          ],
          "carpet": [
           {
            "aaxis": {
             "endlinecolor": "#2a3f5f",
             "gridcolor": "white",
             "linecolor": "white",
             "minorgridcolor": "white",
             "startlinecolor": "#2a3f5f"
            },
            "baxis": {
             "endlinecolor": "#2a3f5f",
             "gridcolor": "white",
             "linecolor": "white",
             "minorgridcolor": "white",
             "startlinecolor": "#2a3f5f"
            },
            "type": "carpet"
           }
          ],
          "choropleth": [
           {
            "colorbar": {
             "outlinewidth": 0,
             "ticks": ""
            },
            "type": "choropleth"
           }
          ],
          "contour": [
           {
            "colorbar": {
             "outlinewidth": 0,
             "ticks": ""
            },
            "colorscale": [
             [
              0,
              "#0d0887"
             ],
             [
              0.1111111111111111,
              "#46039f"
             ],
             [
              0.2222222222222222,
              "#7201a8"
             ],
             [
              0.3333333333333333,
              "#9c179e"
             ],
             [
              0.4444444444444444,
              "#bd3786"
             ],
             [
              0.5555555555555556,
              "#d8576b"
             ],
             [
              0.6666666666666666,
              "#ed7953"
             ],
             [
              0.7777777777777778,
              "#fb9f3a"
             ],
             [
              0.8888888888888888,
              "#fdca26"
             ],
             [
              1,
              "#f0f921"
             ]
            ],
            "type": "contour"
           }
          ],
          "contourcarpet": [
           {
            "colorbar": {
             "outlinewidth": 0,
             "ticks": ""
            },
            "type": "contourcarpet"
           }
          ],
          "heatmap": [
           {
            "colorbar": {
             "outlinewidth": 0,
             "ticks": ""
            },
            "colorscale": [
             [
              0,
              "#0d0887"
             ],
             [
              0.1111111111111111,
              "#46039f"
             ],
             [
              0.2222222222222222,
              "#7201a8"
             ],
             [
              0.3333333333333333,
              "#9c179e"
             ],
             [
              0.4444444444444444,
              "#bd3786"
             ],
             [
              0.5555555555555556,
              "#d8576b"
             ],
             [
              0.6666666666666666,
              "#ed7953"
             ],
             [
              0.7777777777777778,
              "#fb9f3a"
             ],
             [
              0.8888888888888888,
              "#fdca26"
             ],
             [
              1,
              "#f0f921"
             ]
            ],
            "type": "heatmap"
           }
          ],
          "heatmapgl": [
           {
            "colorbar": {
             "outlinewidth": 0,
             "ticks": ""
            },
            "colorscale": [
             [
              0,
              "#0d0887"
             ],
             [
              0.1111111111111111,
              "#46039f"
             ],
             [
              0.2222222222222222,
              "#7201a8"
             ],
             [
              0.3333333333333333,
              "#9c179e"
             ],
             [
              0.4444444444444444,
              "#bd3786"
             ],
             [
              0.5555555555555556,
              "#d8576b"
             ],
             [
              0.6666666666666666,
              "#ed7953"
             ],
             [
              0.7777777777777778,
              "#fb9f3a"
             ],
             [
              0.8888888888888888,
              "#fdca26"
             ],
             [
              1,
              "#f0f921"
             ]
            ],
            "type": "heatmapgl"
           }
          ],
          "histogram": [
           {
            "marker": {
             "colorbar": {
              "outlinewidth": 0,
              "ticks": ""
             }
            },
            "type": "histogram"
           }
          ],
          "histogram2d": [
           {
            "colorbar": {
             "outlinewidth": 0,
             "ticks": ""
            },
            "colorscale": [
             [
              0,
              "#0d0887"
             ],
             [
              0.1111111111111111,
              "#46039f"
             ],
             [
              0.2222222222222222,
              "#7201a8"
             ],
             [
              0.3333333333333333,
              "#9c179e"
             ],
             [
              0.4444444444444444,
              "#bd3786"
             ],
             [
              0.5555555555555556,
              "#d8576b"
             ],
             [
              0.6666666666666666,
              "#ed7953"
             ],
             [
              0.7777777777777778,
              "#fb9f3a"
             ],
             [
              0.8888888888888888,
              "#fdca26"
             ],
             [
              1,
              "#f0f921"
             ]
            ],
            "type": "histogram2d"
           }
          ],
          "histogram2dcontour": [
           {
            "colorbar": {
             "outlinewidth": 0,
             "ticks": ""
            },
            "colorscale": [
             [
              0,
              "#0d0887"
             ],
             [
              0.1111111111111111,
              "#46039f"
             ],
             [
              0.2222222222222222,
              "#7201a8"
             ],
             [
              0.3333333333333333,
              "#9c179e"
             ],
             [
              0.4444444444444444,
              "#bd3786"
             ],
             [
              0.5555555555555556,
              "#d8576b"
             ],
             [
              0.6666666666666666,
              "#ed7953"
             ],
             [
              0.7777777777777778,
              "#fb9f3a"
             ],
             [
              0.8888888888888888,
              "#fdca26"
             ],
             [
              1,
              "#f0f921"
             ]
            ],
            "type": "histogram2dcontour"
           }
          ],
          "mesh3d": [
           {
            "colorbar": {
             "outlinewidth": 0,
             "ticks": ""
            },
            "type": "mesh3d"
           }
          ],
          "parcoords": [
           {
            "line": {
             "colorbar": {
              "outlinewidth": 0,
              "ticks": ""
             }
            },
            "type": "parcoords"
           }
          ],
          "pie": [
           {
            "automargin": true,
            "type": "pie"
           }
          ],
          "scatter": [
           {
            "marker": {
             "colorbar": {
              "outlinewidth": 0,
              "ticks": ""
             }
            },
            "type": "scatter"
           }
          ],
          "scatter3d": [
           {
            "line": {
             "colorbar": {
              "outlinewidth": 0,
              "ticks": ""
             }
            },
            "marker": {
             "colorbar": {
              "outlinewidth": 0,
              "ticks": ""
             }
            },
            "type": "scatter3d"
           }
          ],
          "scattercarpet": [
           {
            "marker": {
             "colorbar": {
              "outlinewidth": 0,
              "ticks": ""
             }
            },
            "type": "scattercarpet"
           }
          ],
          "scattergeo": [
           {
            "marker": {
             "colorbar": {
              "outlinewidth": 0,
              "ticks": ""
             }
            },
            "type": "scattergeo"
           }
          ],
          "scattergl": [
           {
            "marker": {
             "colorbar": {
              "outlinewidth": 0,
              "ticks": ""
             }
            },
            "type": "scattergl"
           }
          ],
          "scattermapbox": [
           {
            "marker": {
             "colorbar": {
              "outlinewidth": 0,
              "ticks": ""
             }
            },
            "type": "scattermapbox"
           }
          ],
          "scatterpolar": [
           {
            "marker": {
             "colorbar": {
              "outlinewidth": 0,
              "ticks": ""
             }
            },
            "type": "scatterpolar"
           }
          ],
          "scatterpolargl": [
           {
            "marker": {
             "colorbar": {
              "outlinewidth": 0,
              "ticks": ""
             }
            },
            "type": "scatterpolargl"
           }
          ],
          "scatterternary": [
           {
            "marker": {
             "colorbar": {
              "outlinewidth": 0,
              "ticks": ""
             }
            },
            "type": "scatterternary"
           }
          ],
          "surface": [
           {
            "colorbar": {
             "outlinewidth": 0,
             "ticks": ""
            },
            "colorscale": [
             [
              0,
              "#0d0887"
             ],
             [
              0.1111111111111111,
              "#46039f"
             ],
             [
              0.2222222222222222,
              "#7201a8"
             ],
             [
              0.3333333333333333,
              "#9c179e"
             ],
             [
              0.4444444444444444,
              "#bd3786"
             ],
             [
              0.5555555555555556,
              "#d8576b"
             ],
             [
              0.6666666666666666,
              "#ed7953"
             ],
             [
              0.7777777777777778,
              "#fb9f3a"
             ],
             [
              0.8888888888888888,
              "#fdca26"
             ],
             [
              1,
              "#f0f921"
             ]
            ],
            "type": "surface"
           }
          ],
          "table": [
           {
            "cells": {
             "fill": {
              "color": "#EBF0F8"
             },
             "line": {
              "color": "white"
             }
            },
            "header": {
             "fill": {
              "color": "#C8D4E3"
             },
             "line": {
              "color": "white"
             }
            },
            "type": "table"
           }
          ]
         },
         "layout": {
          "annotationdefaults": {
           "arrowcolor": "#2a3f5f",
           "arrowhead": 0,
           "arrowwidth": 1
          },
          "coloraxis": {
           "colorbar": {
            "outlinewidth": 0,
            "ticks": ""
           }
          },
          "colorscale": {
           "diverging": [
            [
             0,
             "#8e0152"
            ],
            [
             0.1,
             "#c51b7d"
            ],
            [
             0.2,
             "#de77ae"
            ],
            [
             0.3,
             "#f1b6da"
            ],
            [
             0.4,
             "#fde0ef"
            ],
            [
             0.5,
             "#f7f7f7"
            ],
            [
             0.6,
             "#e6f5d0"
            ],
            [
             0.7,
             "#b8e186"
            ],
            [
             0.8,
             "#7fbc41"
            ],
            [
             0.9,
             "#4d9221"
            ],
            [
             1,
             "#276419"
            ]
           ],
           "sequential": [
            [
             0,
             "#0d0887"
            ],
            [
             0.1111111111111111,
             "#46039f"
            ],
            [
             0.2222222222222222,
             "#7201a8"
            ],
            [
             0.3333333333333333,
             "#9c179e"
            ],
            [
             0.4444444444444444,
             "#bd3786"
            ],
            [
             0.5555555555555556,
             "#d8576b"
            ],
            [
             0.6666666666666666,
             "#ed7953"
            ],
            [
             0.7777777777777778,
             "#fb9f3a"
            ],
            [
             0.8888888888888888,
             "#fdca26"
            ],
            [
             1,
             "#f0f921"
            ]
           ],
           "sequentialminus": [
            [
             0,
             "#0d0887"
            ],
            [
             0.1111111111111111,
             "#46039f"
            ],
            [
             0.2222222222222222,
             "#7201a8"
            ],
            [
             0.3333333333333333,
             "#9c179e"
            ],
            [
             0.4444444444444444,
             "#bd3786"
            ],
            [
             0.5555555555555556,
             "#d8576b"
            ],
            [
             0.6666666666666666,
             "#ed7953"
            ],
            [
             0.7777777777777778,
             "#fb9f3a"
            ],
            [
             0.8888888888888888,
             "#fdca26"
            ],
            [
             1,
             "#f0f921"
            ]
           ]
          },
          "colorway": [
           "#636efa",
           "#EF553B",
           "#00cc96",
           "#ab63fa",
           "#FFA15A",
           "#19d3f3",
           "#FF6692",
           "#B6E880",
           "#FF97FF",
           "#FECB52"
          ],
          "font": {
           "color": "#2a3f5f"
          },
          "geo": {
           "bgcolor": "white",
           "lakecolor": "white",
           "landcolor": "#E5ECF6",
           "showlakes": true,
           "showland": true,
           "subunitcolor": "white"
          },
          "hoverlabel": {
           "align": "left"
          },
          "hovermode": "closest",
          "mapbox": {
           "style": "light"
          },
          "paper_bgcolor": "white",
          "plot_bgcolor": "#E5ECF6",
          "polar": {
           "angularaxis": {
            "gridcolor": "white",
            "linecolor": "white",
            "ticks": ""
           },
           "bgcolor": "#E5ECF6",
           "radialaxis": {
            "gridcolor": "white",
            "linecolor": "white",
            "ticks": ""
           }
          },
          "scene": {
           "xaxis": {
            "backgroundcolor": "#E5ECF6",
            "gridcolor": "white",
            "gridwidth": 2,
            "linecolor": "white",
            "showbackground": true,
            "ticks": "",
            "zerolinecolor": "white"
           },
           "yaxis": {
            "backgroundcolor": "#E5ECF6",
            "gridcolor": "white",
            "gridwidth": 2,
            "linecolor": "white",
            "showbackground": true,
            "ticks": "",
            "zerolinecolor": "white"
           },
           "zaxis": {
            "backgroundcolor": "#E5ECF6",
            "gridcolor": "white",
            "gridwidth": 2,
            "linecolor": "white",
            "showbackground": true,
            "ticks": "",
            "zerolinecolor": "white"
           }
          },
          "shapedefaults": {
           "line": {
            "color": "#2a3f5f"
           }
          },
          "ternary": {
           "aaxis": {
            "gridcolor": "white",
            "linecolor": "white",
            "ticks": ""
           },
           "baxis": {
            "gridcolor": "white",
            "linecolor": "white",
            "ticks": ""
           },
           "bgcolor": "#E5ECF6",
           "caxis": {
            "gridcolor": "white",
            "linecolor": "white",
            "ticks": ""
           }
          },
          "title": {
           "x": 0.05
          },
          "xaxis": {
           "automargin": true,
           "gridcolor": "white",
           "linecolor": "white",
           "ticks": "",
           "title": {
            "standoff": 15
           },
           "zerolinecolor": "white",
           "zerolinewidth": 2
          },
          "yaxis": {
           "automargin": true,
           "gridcolor": "white",
           "linecolor": "white",
           "ticks": "",
           "title": {
            "standoff": 15
           },
           "zerolinecolor": "white",
           "zerolinewidth": 2
          }
         }
        },
        "title": {
         "text": "COVID-19 Case Rate & Total Farm Laborforce of CA Counties, September 2020 (R = 0.511)",
         "x": 0.5
        },
        "xaxis": {
         "range": [
          -0.5,
          30
         ],
         "title": {
          "text": "Total Farm Laborforce (%)"
         }
        },
        "yaxis": {
         "range": [
          -100,
          2000
         ],
         "title": {
          "text": "COVID-19 Cases per 100k"
         }
        }
       }
      },
      "text/html": [
       "<div>\n",
       "        \n",
       "        \n",
       "            <div id=\"edae0281-a72f-4a82-acb8-bbb504524444\" class=\"plotly-graph-div\" style=\"height:440px; width:100%;\"></div>\n",
       "            <script type=\"text/javascript\">\n",
       "                require([\"plotly\"], function(Plotly) {\n",
       "                    window.PLOTLYENV=window.PLOTLYENV || {};\n",
       "                    \n",
       "                if (document.getElementById(\"edae0281-a72f-4a82-acb8-bbb504524444\")) {\n",
       "                    Plotly.newPlot(\n",
       "                        'edae0281-a72f-4a82-acb8-bbb504524444',\n",
       "                        [{\"customdata\": [[\"Alpine\", 1129.0], [\"Amador\", 39752.0], [\"Butte\", 219186.0], [\"Calaveras\", 45905.0], [\"Colusa\", 21547.0], [\"Del Norte\", 27812.0], [\"Fresno\", 999101.0], [\"Glenn\", 28393.0], [\"Humboldt\", 135558.0], [\"Imperial\", 181215.0], [\"Inyo\", 18039.0], [\"Kern\", 900202.0], [\"Kings\", 152940.0], [\"Lake\", 64386.0], [\"Lassen\", 30573.0], [\"Los Angeles\", 10039107.0], [\"Madera\", 157327.0], [\"Marin\", 258826.0], [\"Mariposa\", 17203.0], [\"Mendocino\", 86749.0], [\"Merced\", 277680.0], [\"Modoc\", 8841.0], [\"Mono\", 14444.0], [\"Monterey\", 434061.0], [\"Napa\", 137744.0], [\"Nevada\", 99755.0], [\"Orange\", 3175692.0], [\"Plumas\", 18807.0], [\"San Diego\", 3338330.0], [\"San Joaquin\", 762148.0], [\"San Luis Obispo\", 283111.0], [\"Santa Barbara\", 446499.0], [\"Santa Cruz\", 273213.0], [\"Shasta\", 180080.0], [\"Sierra\", 3005.0], [\"Siskiyou\", 43539.0], [\"Solano\", 447643.0], [\"Sonoma\", 494336.0], [\"Stanislaus\", 550660.0], [\"Tehama\", 65084.0], [\"Trinity\", 12285.0], [\"Tulare\", 466195.0], [\"Tuolumne\", 54478.0], [\"Ventura\", 846006.0]], \"hovertemplate\": \"<b>%{customdata[0]} County</b><br><br><i>Cases per 100k</i>: %{y}<br><i>Total Farm Laborforce</i>: %{x}%<br><i>Population</i>: %{customdata[1]}\", \"marker\": {\"color\": \"#004679\", \"line\": {\"color\": \"#ffffff\", \"width\": 1}, \"opacity\": 0.7, \"size\": [12.898301020978622, 17.06008208184058, 20.818653392763792, 17.318717810163538, 16.057824777980162, 16.4569594572729, 25.80783349268203, 16.490420354348995, 19.594034868108995, 20.316171185912474, 15.794595422147083, 25.40121549931449, 19.88781371553559, 17.964671453448126, 16.61156875202046, 38.14451539051155, 19.957970140315393, 21.277737441239566, 15.726259847844291, 18.580964862647686, 21.477733970450153, 14.84836549734372, 15.48140478118039, 22.83387177822631, 19.632481352907412, 18.885946058843714, 31.107150076595484, 15.855309897986828, 31.37235211348942, 24.773378776943808, 21.53344875389171, 22.924838554305886, 21.431292681126855, 20.29997984394579, 13.701954898923777, 17.222534363771963, 22.93310947427082, 23.25792518992918, 23.62043214445906, 17.98617023429591, 15.263974715257165, 23.06507500110682, 17.6388027042765, 25.16398566208713]}, \"mode\": \"markers\", \"name\": \"\", \"type\": \"scatter\", \"visible\": false, \"x\": [0.0, 2.0, 3.0, 1.0, 24.0, 3.0, 8.0, 18.0, 2.0, 14.000000000000002, 0.0, 11.0, 11.0, 3.0, 3.0, 0.0, 17.0, 0.0, 0.0, 4.0, 10.0, 11.0, 0.0, 18.0, 7.000000000000001, 0.0, 0.0, 1.0, 1.0, 4.0, 4.0, 9.0, 3.0, 1.0, 1.0, 5.0, 1.0, 2.0, 5.0, 7.000000000000001, 0.0, 15.0, 0.0, 6.0], \"y\": [88.57395925597875, 12.57798349768565, 6.3872692598979866, 13.070471626184512, 13.923051932983709, 3.5955702574428305, 23.220875567134854, 10.565984573662522, 36.146889154457874, 51.32025494578264, 55.43544542380398, 30.770871426635356, 11.769321302471557, 1.553132668592551, 0.0, 68.44234253106377, 25.424752267570092, 50.99951318646504, 0.0, 4.611004161431256, 11.524056467876692, 0.0, 173.08224868457492, 17.278677420915493, 24.68347078638634, 35.08596060347852, 39.9283053898174, 5.317169139150316, 46.8797272887941, 29.91544949274944, 39.56045508652083, 58.9027075088634, 27.08509477953099, 11.106175033318525, 0.0, 9.187165529754932, 22.562622446905234, 29.736859140341792, 18.52322667344641, 1.5364759387867983, 0.0, 25.311296774954684, 3.671206725650721, 35.57894388455874]}, {\"customdata\": [[\"Alpine\", 1129.0], [\"Amador\", 39752.0], [\"Butte\", 219186.0], [\"Calaveras\", 45905.0], [\"Colusa\", 21547.0], [\"Del Norte\", 27812.0], [\"Fresno\", 999101.0], [\"Glenn\", 28393.0], [\"Humboldt\", 135558.0], [\"Imperial\", 181215.0], [\"Inyo\", 18039.0], [\"Kern\", 900202.0], [\"Kings\", 152940.0], [\"Lake\", 64386.0], [\"Lassen\", 30573.0], [\"Los Angeles\", 10039107.0], [\"Madera\", 157327.0], [\"Marin\", 258826.0], [\"Mariposa\", 17203.0], [\"Mendocino\", 86749.0], [\"Merced\", 277680.0], [\"Modoc\", 8841.0], [\"Mono\", 14444.0], [\"Monterey\", 434061.0], [\"Napa\", 137744.0], [\"Nevada\", 99755.0], [\"Orange\", 3175692.0], [\"Plumas\", 18807.0], [\"San Diego\", 3338330.0], [\"San Joaquin\", 762148.0], [\"San Luis Obispo\", 283111.0], [\"Santa Barbara\", 446499.0], [\"Santa Cruz\", 273213.0], [\"Shasta\", 180080.0], [\"Sierra\", 3005.0], [\"Siskiyou\", 43539.0], [\"Solano\", 447643.0], [\"Sonoma\", 494336.0], [\"Stanislaus\", 550660.0], [\"Tehama\", 65084.0], [\"Trinity\", 12285.0], [\"Tulare\", 466195.0], [\"Tuolumne\", 54478.0], [\"Ventura\", 846006.0]], \"hovertemplate\": \"<b>%{customdata[0]} County</b><br><br><i>Cases per 100k</i>: %{y}<br><i>Total Farm Laborforce</i>: %{x}%<br><i>Population</i>: %{customdata[1]}\", \"marker\": {\"color\": \"#004679\", \"line\": {\"color\": \"#ffffff\", \"width\": 1}, \"opacity\": 0.7, \"size\": [12.898301020978622, 17.06008208184058, 20.818653392763792, 17.318717810163538, 16.057824777980162, 16.4569594572729, 25.80783349268203, 16.490420354348995, 19.594034868108995, 20.316171185912474, 15.794595422147083, 25.40121549931449, 19.88781371553559, 17.964671453448126, 16.61156875202046, 38.14451539051155, 19.957970140315393, 21.277737441239566, 15.726259847844291, 18.580964862647686, 21.477733970450153, 14.84836549734372, 15.48140478118039, 22.83387177822631, 19.632481352907412, 18.885946058843714, 31.107150076595484, 15.855309897986828, 31.37235211348942, 24.773378776943808, 21.53344875389171, 22.924838554305886, 21.431292681126855, 20.29997984394579, 13.701954898923777, 17.222534363771963, 22.93310947427082, 23.25792518992918, 23.62043214445906, 17.98617023429591, 15.263974715257165, 23.06507500110682, 17.6388027042765, 25.16398566208713]}, \"mode\": \"markers\", \"name\": \"\", \"type\": \"scatter\", \"visible\": false, \"x\": [0.0, 2.0, 3.0, 1.0, 25.0, 3.0, 8.0, 18.0, 2.0, 13.0, 0.0, 11.0, 11.0, 2.0, 2.0, 0.0, 15.0, 0.0, 0.0, 4.0, 11.0, 12.0, 1.0, 25.0, 7.000000000000001, 0.0, 0.0, 1.0, 1.0, 4.0, 4.0, 12.0, 4.0, 1.0, 1.0, 5.0, 1.0, 2.0, 5.0, 7.000000000000001, 0.0, 16.0, 0.0, 7.000000000000001], \"y\": [0.0, 7.546790098611391, 2.7374011113848513, 15.24888356388193, 0.0, 10.78671077232849, 85.77711362514901, 14.087979431550028, 6.639224538573894, 268.1897193940899, 49.89190088142358, 105.9762142274734, 146.4626650974238, 12.425061348740408, 0.0, 232.27165523786127, 20.97542062074533, 44.431394063965755, 87.19409405336279, 8.069257282504697, 59.06078939786805, 0.0, 34.61644973691498, 43.08150236948263, 34.12126844000465, 6.014736103453461, 80.48639477631963, 15.95150741745095, 90.37452858165611, 47.62854458714055, 40.973328482468006, 84.43467958494867, 21.228858070443206, 8.329631274988895, 0.0, 2.296791382438733, 49.1463063199916, 28.118526670119113, 66.28409544909745, 0.0, 0.0, 198.2003238987977, 0.0, 46.21716630851318]}, {\"customdata\": [[\"Alpine\", 1129.0], [\"Amador\", 39752.0], [\"Butte\", 219186.0], [\"Calaveras\", 45905.0], [\"Colusa\", 21547.0], [\"Del Norte\", 27812.0], [\"Fresno\", 999101.0], [\"Glenn\", 28393.0], [\"Humboldt\", 135558.0], [\"Imperial\", 181215.0], [\"Inyo\", 18039.0], [\"Kern\", 900202.0], [\"Kings\", 152940.0], [\"Lake\", 64386.0], [\"Lassen\", 30573.0], [\"Los Angeles\", 10039107.0], [\"Madera\", 157327.0], [\"Marin\", 258826.0], [\"Mariposa\", 17203.0], [\"Mendocino\", 86749.0], [\"Merced\", 277680.0], [\"Modoc\", 8841.0], [\"Mono\", 14444.0], [\"Monterey\", 434061.0], [\"Napa\", 137744.0], [\"Nevada\", 99755.0], [\"Orange\", 3175692.0], [\"Plumas\", 18807.0], [\"San Diego\", 3338330.0], [\"San Joaquin\", 762148.0], [\"San Luis Obispo\", 283111.0], [\"Santa Barbara\", 446499.0], [\"Santa Cruz\", 273213.0], [\"Shasta\", 180080.0], [\"Sierra\", 3005.0], [\"Siskiyou\", 43539.0], [\"Solano\", 447643.0], [\"Sonoma\", 494336.0], [\"Stanislaus\", 550660.0], [\"Tehama\", 65084.0], [\"Trinity\", 12285.0], [\"Tulare\", 466195.0], [\"Tuolumne\", 54478.0], [\"Ventura\", 846006.0]], \"hovertemplate\": \"<b>%{customdata[0]} County</b><br><br><i>Cases per 100k</i>: %{y}<br><i>Total Farm Laborforce</i>: %{x}%<br><i>Population</i>: %{customdata[1]}\", \"marker\": {\"color\": \"#004679\", \"line\": {\"color\": \"#ffffff\", \"width\": 1}, \"opacity\": 0.7, \"size\": [12.898301020978622, 17.06008208184058, 20.818653392763792, 17.318717810163538, 16.057824777980162, 16.4569594572729, 25.80783349268203, 16.490420354348995, 19.594034868108995, 20.316171185912474, 15.794595422147083, 25.40121549931449, 19.88781371553559, 17.964671453448126, 16.61156875202046, 38.14451539051155, 19.957970140315393, 21.277737441239566, 15.726259847844291, 18.580964862647686, 21.477733970450153, 14.84836549734372, 15.48140478118039, 22.83387177822631, 19.632481352907412, 18.885946058843714, 31.107150076595484, 15.855309897986828, 31.37235211348942, 24.773378776943808, 21.53344875389171, 22.924838554305886, 21.431292681126855, 20.29997984394579, 13.701954898923777, 17.222534363771963, 22.93310947427082, 23.25792518992918, 23.62043214445906, 17.98617023429591, 15.263974715257165, 23.06507500110682, 17.6388027042765, 25.16398566208713]}, \"mode\": \"markers\", \"name\": \"\", \"type\": \"scatter\", \"visible\": false, \"x\": [0.0, 2.0, 3.0, 1.0, 28.000000000000004, 3.0, 11.0, 20.0, 2.0, 17.0, 0.0, 16.0, 15.0, 4.0, 2.0, 0.0, 21.0, 0.0, 0.0, 4.0, 14.000000000000002, 13.0, 1.0, 30.0, 10.0, 0.0, 0.0, 1.0, 1.0, 7.000000000000001, 5.0, 14.000000000000002, 7.000000000000001, 1.0, 2.0, 5.0, 1.0, 3.0, 7.000000000000001, 8.0, 0.0, 21.0, 0.0, 7.000000000000001], \"y\": [88.57395925597875, 5.03119339907426, 20.530508335386386, 10.892059688487093, 27.846103865967418, 147.41838055515606, 204.1835610213582, 45.785933152537595, 38.35996400064917, 1774.1356951687221, 5.543544542380398, 183.40328059702156, 647.3126716359357, 34.16891870903613, 19.625159454420565, 317.20948885194673, 108.05519713717291, 107.02170570190012, 5.812939603557519, 23.05502080715628, 70.2247191011236, 0.0, 55.38631957906397, 103.44168215988074, 46.46300383319782, 9.022104155180191, 166.54637792329987, 0.0, 120.41949118271711, 77.28157785626938, 32.496088106784974, 312.8786402657117, 32.57531669430078, 11.106175033318525, 33.277870216306155, 13.780748294632398, 66.57090583344316, 71.20662868979804, 80.6305161079432, 13.828283449081185, 8.14000814000814, 309.52712920559, 3.671206725650721, 96.68962158660814]}, {\"customdata\": [[\"Alpine\", 1129.0], [\"Amador\", 39752.0], [\"Butte\", 219186.0], [\"Calaveras\", 45905.0], [\"Colusa\", 21547.0], [\"Del Norte\", 27812.0], [\"Fresno\", 999101.0], [\"Glenn\", 28393.0], [\"Humboldt\", 135558.0], [\"Imperial\", 181215.0], [\"Inyo\", 18039.0], [\"Kern\", 900202.0], [\"Kings\", 152940.0], [\"Lake\", 64386.0], [\"Lassen\", 30573.0], [\"Los Angeles\", 10039107.0], [\"Madera\", 157327.0], [\"Marin\", 258826.0], [\"Mariposa\", 17203.0], [\"Mendocino\", 86749.0], [\"Merced\", 277680.0], [\"Modoc\", 8841.0], [\"Mono\", 14444.0], [\"Monterey\", 434061.0], [\"Napa\", 137744.0], [\"Nevada\", 99755.0], [\"Orange\", 3175692.0], [\"Plumas\", 18807.0], [\"San Diego\", 3338330.0], [\"San Joaquin\", 762148.0], [\"San Luis Obispo\", 283111.0], [\"Santa Barbara\", 446499.0], [\"Santa Cruz\", 273213.0], [\"Shasta\", 180080.0], [\"Sierra\", 3005.0], [\"Siskiyou\", 43539.0], [\"Solano\", 447643.0], [\"Sonoma\", 494336.0], [\"Stanislaus\", 550660.0], [\"Tehama\", 65084.0], [\"Trinity\", 12285.0], [\"Tulare\", 466195.0], [\"Tuolumne\", 54478.0], [\"Ventura\", 846006.0]], \"hovertemplate\": \"<b>%{customdata[0]} County</b><br><br><i>Cases per 100k</i>: %{y}<br><i>Total Farm Laborforce</i>: %{x}%<br><i>Population</i>: %{customdata[1]}\", \"marker\": {\"color\": \"#004679\", \"line\": {\"color\": \"#ffffff\", \"width\": 1}, \"opacity\": 0.7, \"size\": [12.898301020978622, 17.06008208184058, 20.818653392763792, 17.318717810163538, 16.057824777980162, 16.4569594572729, 25.80783349268203, 16.490420354348995, 19.594034868108995, 20.316171185912474, 15.794595422147083, 25.40121549931449, 19.88781371553559, 17.964671453448126, 16.61156875202046, 38.14451539051155, 19.957970140315393, 21.277737441239566, 15.726259847844291, 18.580964862647686, 21.477733970450153, 14.84836549734372, 15.48140478118039, 22.83387177822631, 19.632481352907412, 18.885946058843714, 31.107150076595484, 15.855309897986828, 31.37235211348942, 24.773378776943808, 21.53344875389171, 22.924838554305886, 21.431292681126855, 20.29997984394579, 13.701954898923777, 17.222534363771963, 22.93310947427082, 23.25792518992918, 23.62043214445906, 17.98617023429591, 15.263974715257165, 23.06507500110682, 17.6388027042765, 25.16398566208713]}, \"mode\": \"markers\", \"name\": \"\", \"type\": \"scatter\", \"visible\": false, \"x\": [0.0, 3.0, 3.0, 1.0, 28.999999999999996, 4.0, 11.0, 19.0, 2.0, 16.0, 0.0, 16.0, 13.0, 4.0, 2.0, 0.0, 20.0, 0.0, 0.0, 4.0, 13.0, 13.0, 1.0, 31.0, 9.0, 0.0, 0.0, 1.0, 1.0, 5.0, 4.0, 14.000000000000002, 8.0, 1.0, 2.0, 6.0, 1.0, 3.0, 6.0, 7.000000000000001, 1.0, 21.0, 0.0, 7.000000000000001], \"y\": [0.0, 60.374320788891126, 99.91514056554708, 87.13647750789674, 399.127488745533, 50.33798360419962, 664.2972031856639, 510.6892543936886, 35.40919753906077, 2411.5001517534424, 77.60962359332557, 739.8339483804746, 1001.7000130770236, 97.84735812133071, 771.9229385405423, 568.4569354624869, 470.3579169500467, 982.1269887878343, 104.63291286403535, 66.8595603407532, 523.2641889945261, 11.310937676733401, 69.23289947382996, 360.7787845487155, 247.56069229875715, 108.2652498621623, 466.57547394394675, 42.53735311320253, 279.570923186144, 581.3831434314595, 179.43492128529093, 477.0447414215933, 92.96775775676852, 88.8494002665482, 0.0, 52.826201796090864, 292.42052260395, 183.68073537027445, 608.9056768241746, 145.9652141847459, 8.14000814000814, 648.2266004568904, 82.60215132714123, 339.8321052096557]}, {\"customdata\": [[\"Alpine\", 1129.0], [\"Amador\", 39752.0], [\"Butte\", 219186.0], [\"Calaveras\", 45905.0], [\"Colusa\", 21547.0], [\"Del Norte\", 27812.0], [\"Fresno\", 999101.0], [\"Glenn\", 28393.0], [\"Humboldt\", 135558.0], [\"Imperial\", 181215.0], [\"Inyo\", 18039.0], [\"Kern\", 900202.0], [\"Kings\", 152940.0], [\"Lake\", 64386.0], [\"Lassen\", 30573.0], [\"Los Angeles\", 10039107.0], [\"Madera\", 157327.0], [\"Marin\", 258826.0], [\"Mariposa\", 17203.0], [\"Mendocino\", 86749.0], [\"Merced\", 277680.0], [\"Modoc\", 8841.0], [\"Mono\", 14444.0], [\"Monterey\", 434061.0], [\"Napa\", 137744.0], [\"Nevada\", 99755.0], [\"Orange\", 3175692.0], [\"Plumas\", 18807.0], [\"San Diego\", 3338330.0], [\"San Joaquin\", 762148.0], [\"San Luis Obispo\", 283111.0], [\"Santa Barbara\", 446499.0], [\"Santa Cruz\", 273213.0], [\"Shasta\", 180080.0], [\"Sierra\", 3005.0], [\"Siskiyou\", 43539.0], [\"Solano\", 447643.0], [\"Sonoma\", 494336.0], [\"Stanislaus\", 550660.0], [\"Tehama\", 65084.0], [\"Trinity\", 12285.0], [\"Tulare\", 466195.0], [\"Tuolumne\", 54478.0], [\"Ventura\", 846006.0]], \"hovertemplate\": \"<b>%{customdata[0]} County</b><br><br><i>Cases per 100k</i>: %{y}<br><i>Total Farm Laborforce</i>: %{x}%<br><i>Population</i>: %{customdata[1]}\", \"marker\": {\"color\": \"#004679\", \"line\": {\"color\": \"#ffffff\", \"width\": 1}, \"opacity\": 0.7, \"size\": [12.898301020978622, 17.06008208184058, 20.818653392763792, 17.318717810163538, 16.057824777980162, 16.4569594572729, 25.80783349268203, 16.490420354348995, 19.594034868108995, 20.316171185912474, 15.794595422147083, 25.40121549931449, 19.88781371553559, 17.964671453448126, 16.61156875202046, 38.14451539051155, 19.957970140315393, 21.277737441239566, 15.726259847844291, 18.580964862647686, 21.477733970450153, 14.84836549734372, 15.48140478118039, 22.83387177822631, 19.632481352907412, 18.885946058843714, 31.107150076595484, 15.855309897986828, 31.37235211348942, 24.773378776943808, 21.53344875389171, 22.924838554305886, 21.431292681126855, 20.29997984394579, 13.701954898923777, 17.222534363771963, 22.93310947427082, 23.25792518992918, 23.62043214445906, 17.98617023429591, 15.263974715257165, 23.06507500110682, 17.6388027042765, 25.16398566208713]}, \"mode\": \"markers\", \"name\": \"\", \"type\": \"scatter\", \"visible\": false, \"x\": [0.0, 2.0, 3.0, 1.0, 30.0, 4.0, 10.0, 19.0, 2.0, 13.0, 0.0, 16.0, 14.000000000000002, 3.0, 2.0, 0.0, 19.0, 0.0, 0.0, 4.0, 13.0, 14.000000000000002, 1.0, 31.0, 9.0, 0.0, 0.0, 1.0, 1.0, 4.0, 4.0, 14.000000000000002, 8.0, 1.0, 2.0, 6.0, 1.0, 3.0, 6.0, 8.0, 1.0, 17.0, 0.0, 6.0], \"y\": [88.57395925597875, 389.9174884282552, 390.9921254094696, 193.87866245507024, 1313.4078990114633, 107.8671077232849, 1193.1726622233389, 760.7508893037017, 78.93300284748963, 1193.6098005132026, 210.6546926104551, 1706.728045483125, 1309.663920491696, 218.99170627154973, 1269.0936447191968, 834.7355994910703, 1191.7852625423482, 911.4231182338714, 156.949369296053, 261.67448616122374, 1482.6418899452608, 56.554688383667006, 692.3289947382997, 768.7859540479333, 501.65524451155767, 186.4568192070573, 617.3142735504576, 116.97772106130697, 438.75231028687995, 1211.3132882327318, 436.57787934767634, 668.3105673248989, 308.91648640438046, 152.70990670812972, 66.55574043261231, 142.40106571120145, 539.0456234097261, 454.549132573796, 1380.3435876947663, 271.95624116526335, 32.56003256003256, 1207.4346571713552, 192.73835309666288, 515.4809776762813]}, {\"customdata\": [[\"Alpine\", 1129.0], [\"Amador\", 39752.0], [\"Butte\", 219186.0], [\"Calaveras\", 45905.0], [\"Colusa\", 21547.0], [\"Del Norte\", 27812.0], [\"Fresno\", 999101.0], [\"Glenn\", 28393.0], [\"Humboldt\", 135558.0], [\"Imperial\", 181215.0], [\"Inyo\", 18039.0], [\"Kern\", 900202.0], [\"Kings\", 152940.0], [\"Lake\", 64386.0], [\"Lassen\", 30573.0], [\"Los Angeles\", 10039107.0], [\"Madera\", 157327.0], [\"Marin\", 258826.0], [\"Mariposa\", 17203.0], [\"Mendocino\", 86749.0], [\"Merced\", 277680.0], [\"Modoc\", 8841.0], [\"Mono\", 14444.0], [\"Monterey\", 434061.0], [\"Napa\", 137744.0], [\"Nevada\", 99755.0], [\"Orange\", 3175692.0], [\"Plumas\", 18807.0], [\"San Diego\", 3338330.0], [\"San Joaquin\", 762148.0], [\"San Luis Obispo\", 283111.0], [\"Santa Barbara\", 446499.0], [\"Santa Cruz\", 273213.0], [\"Shasta\", 180080.0], [\"Sierra\", 3005.0], [\"Siskiyou\", 43539.0], [\"Solano\", 447643.0], [\"Sonoma\", 494336.0], [\"Stanislaus\", 550660.0], [\"Tehama\", 65084.0], [\"Trinity\", 12285.0], [\"Tulare\", 466195.0], [\"Tuolumne\", 54478.0], [\"Ventura\", 846006.0]], \"hovertemplate\": \"<b>%{customdata[0]} County</b><br><br><i>Cases per 100k</i>: %{y}<br><i>Total Farm Laborforce</i>: %{x}%<br><i>Population</i>: %{customdata[1]}\", \"marker\": {\"color\": \"#004679\", \"line\": {\"color\": \"#ffffff\", \"width\": 1}, \"opacity\": 0.7, \"size\": [12.898301020978622, 17.06008208184058, 20.818653392763792, 17.318717810163538, 16.057824777980162, 16.4569594572729, 25.80783349268203, 16.490420354348995, 19.594034868108995, 20.316171185912474, 15.794595422147083, 25.40121549931449, 19.88781371553559, 17.964671453448126, 16.61156875202046, 38.14451539051155, 19.957970140315393, 21.277737441239566, 15.726259847844291, 18.580964862647686, 21.477733970450153, 14.84836549734372, 15.48140478118039, 22.83387177822631, 19.632481352907412, 18.885946058843714, 31.107150076595484, 15.855309897986828, 31.37235211348942, 24.773378776943808, 21.53344875389171, 22.924838554305886, 21.431292681126855, 20.29997984394579, 13.701954898923777, 17.222534363771963, 22.93310947427082, 23.25792518992918, 23.62043214445906, 17.98617023429591, 15.263974715257165, 23.06507500110682, 17.6388027042765, 25.16398566208713]}, \"mode\": \"markers\", \"name\": \"\", \"type\": \"scatter\", \"visible\": false, \"x\": [0.0, 2.0, 3.0, 1.0, 31.0, 4.0, 10.0, 19.0, 2.0, 13.0, 0.0, 18.0, 13.0, 4.0, 3.0, 0.0, 22.0, 0.0, 0.0, 4.0, 14.000000000000002, 13.0, 1.0, 31.0, 8.0, 0.0, 0.0, 1.0, 1.0, 4.0, 3.0, 14.000000000000002, 8.0, 1.0, 2.0, 6.0, 1.0, 3.0, 7.000000000000001, 8.0, 1.0, 19.0, 0.0, 6.0], \"y\": [0.0, 216.34131616019317, 563.4483954267153, 272.3014922121773, 459.46071378846244, 100.67596720839924, 615.0529325863952, 348.67749093086326, 118.76835007893301, 529.205639709737, 609.7898996618438, 548.09920440079, 1042.2387864522036, 198.80098157984654, 278.02309227095805, 420.1170482593721, 706.1724942317593, 329.5650359701112, 69.75527524269023, 376.94959019700514, 813.1662345145492, 135.73125212080083, 96.92605926336195, 636.5464761865268, 242.47880125450112, 122.29963410355371, 217.68483845410702, 47.85452225235285, 238.08311341299392, 517.0911686444102, 368.4067379932253, 340.87422368247184, 225.4651132998796, 79.96446023989337, 99.83361064891847, 96.46523806242679, 295.1012302214041, 479.8355774210254, 653.94254167726, 245.83615020588775, 73.26007326007326, 745.6107422859533, 102.7937883182202, 308.62665276605605]}, {\"customdata\": [[\"Alpine\", 1129.0], [\"Amador\", 39752.0], [\"Butte\", 219186.0], [\"Calaveras\", 45905.0], [\"Colusa\", 21547.0], [\"Del Norte\", 27812.0], [\"Fresno\", 999101.0], [\"Glenn\", 28393.0], [\"Humboldt\", 135558.0], [\"Imperial\", 181215.0], [\"Inyo\", 18039.0], [\"Kern\", 900202.0], [\"Kings\", 152940.0], [\"Lake\", 64386.0], [\"Lassen\", 30573.0], [\"Los Angeles\", 10039107.0], [\"Madera\", 157327.0], [\"Marin\", 258826.0], [\"Mariposa\", 17203.0], [\"Mendocino\", 86749.0], [\"Merced\", 277680.0], [\"Modoc\", 8841.0], [\"Mono\", 14444.0], [\"Monterey\", 434061.0], [\"Napa\", 137744.0], [\"Nevada\", 99755.0], [\"Orange\", 3175692.0], [\"Plumas\", 18807.0], [\"San Diego\", 3338330.0], [\"San Joaquin\", 762148.0], [\"San Luis Obispo\", 283111.0], [\"Santa Barbara\", 446499.0], [\"Santa Cruz\", 273213.0], [\"Shasta\", 180080.0], [\"Sierra\", 3005.0], [\"Siskiyou\", 43539.0], [\"Solano\", 447643.0], [\"Sonoma\", 494336.0], [\"Stanislaus\", 550660.0], [\"Tehama\", 65084.0], [\"Trinity\", 12285.0], [\"Tulare\", 466195.0], [\"Tuolumne\", 54478.0], [\"Ventura\", 846006.0]], \"hovertemplate\": \"<b>%{customdata[0]} County</b><br><br><i>Cases per 100k</i>: %{y}<br><i>Total Farm Laborforce</i>: %{x}%<br><i>Population</i>: %{customdata[1]}\", \"marker\": {\"color\": \"#004679\", \"line\": {\"color\": \"#ffffff\", \"width\": 1}, \"opacity\": 0.7, \"size\": [12.898301020978622, 17.06008208184058, 20.818653392763792, 17.318717810163538, 16.057824777980162, 16.4569594572729, 25.80783349268203, 16.490420354348995, 19.594034868108995, 20.316171185912474, 15.794595422147083, 25.40121549931449, 19.88781371553559, 17.964671453448126, 16.61156875202046, 38.14451539051155, 19.957970140315393, 21.277737441239566, 15.726259847844291, 18.580964862647686, 21.477733970450153, 14.84836549734372, 15.48140478118039, 22.83387177822631, 19.632481352907412, 18.885946058843714, 31.107150076595484, 15.855309897986828, 31.37235211348942, 24.773378776943808, 21.53344875389171, 22.924838554305886, 21.431292681126855, 20.29997984394579, 13.701954898923777, 17.222534363771963, 22.93310947427082, 23.25792518992918, 23.62043214445906, 17.98617023429591, 15.263974715257165, 23.06507500110682, 17.6388027042765, 25.16398566208713]}, \"mode\": \"markers\", \"name\": \"\", \"type\": \"scatter\", \"visible\": true, \"x\": [0.0, 2.0, 4.0, 1.0, 33.0, 4.0, 10.0, 21.0, 2.0, 14.000000000000002, 0.0, 19.0, 14.000000000000002, 4.0, 3.0, 0.0, 20.0, 0.0, 0.0, 4.0, 14.000000000000002, 12.0, 1.0, 31.0, 8.0, 0.0, 0.0, 1.0, 1.0, 5.0, 4.0, 13.0, 8.0, 1.0, 2.0, 6.0, 1.0, 3.0, 7.000000000000001, 9.0, 1.0, 18.0, 0.0, 6.0], \"y\": [88.57395925597875, 62.88991748842825, 251.84090224740632, 93.671713320989, 278.4610386596742, 107.8671077232849, 300.77039258293206, 447.29334695171343, 66.39224538573895, 373.58938277736394, 83.15316813570597, 246.9445746621314, 1049.4311494703804, 358.7736464448793, 85.04235763582246, 278.33152888997, 436.67012019551635, 203.22533284909554, 23.251758414230075, 289.3405111298113, 289.902045520023, 124.42031444406742, 41.53973968429798, 421.83011143595024, 194.56382855151585, 93.22840960352865, 165.19234233042752, 42.53735311320253, 255.90639631192843, 230.92627678613604, 222.5275598616797, 206.27145861468895, 218.14481741351983, 388.7161261661484, 0.0, 52.826201796090864, 195.24487147123935, 368.37292853443813, 238.25954309374205, 316.5140433900805, 32.56003256003256, 383.7449994101181, 40.38327398215793, 241.72405396652033]}],\n",
       "                        {\"height\": 440, \"sliders\": [{\"active\": 6, \"pad\": {\"t\": 30}, \"steps\": [{\"args\": [{\"visible\": [true, false, false, false, false, false, false]}, {\"title.text\": \"COVID-19 Case Rate & Total Farm Laborforce of CA Counties, March 2020 (R = -0.176)\"}], \"label\": \"March\", \"method\": \"update\"}, {\"args\": [{\"visible\": [false, true, false, false, false, false, false]}, {\"title.text\": \"COVID-19 Case Rate & Total Farm Laborforce of CA Counties, April 2020 (R = 0.201)\"}], \"label\": \"April\", \"method\": \"update\"}, {\"args\": [{\"visible\": [false, false, true, false, false, false, false]}, {\"title.text\": \"COVID-19 Case Rate & Total Farm Laborforce of CA Counties, May 2020 (R = 0.304)\"}], \"label\": \"May\", \"method\": \"update\"}, {\"args\": [{\"visible\": [false, false, false, true, false, false, false]}, {\"title.text\": \"COVID-19 Case Rate & Total Farm Laborforce of CA Counties, June 2020 (R = 0.379)\"}], \"label\": \"June\", \"method\": \"update\"}, {\"args\": [{\"visible\": [false, false, false, false, true, false, false]}, {\"title.text\": \"COVID-19 Case Rate & Total Farm Laborforce of CA Counties, July 2020 (R = 0.540)\"}], \"label\": \"July\", \"method\": \"update\"}, {\"args\": [{\"visible\": [false, false, false, false, false, true, false]}, {\"title.text\": \"COVID-19 Case Rate & Total Farm Laborforce of CA Counties, August 2020 (R = 0.556)\"}], \"label\": \"August\", \"method\": \"update\"}, {\"args\": [{\"visible\": [false, false, false, false, false, false, true]}, {\"title.text\": \"COVID-19 Case Rate & Total Farm Laborforce of CA Counties, September 2020 (R = 0.511)\"}], \"label\": \"September\", \"method\": \"update\"}]}], \"template\": {\"data\": {\"bar\": [{\"error_x\": {\"color\": \"#2a3f5f\"}, \"error_y\": {\"color\": \"#2a3f5f\"}, \"marker\": {\"line\": {\"color\": \"#E5ECF6\", \"width\": 0.5}}, \"type\": \"bar\"}], \"barpolar\": [{\"marker\": {\"line\": {\"color\": \"#E5ECF6\", \"width\": 0.5}}, \"type\": \"barpolar\"}], \"carpet\": [{\"aaxis\": {\"endlinecolor\": \"#2a3f5f\", \"gridcolor\": \"white\", \"linecolor\": \"white\", \"minorgridcolor\": \"white\", \"startlinecolor\": \"#2a3f5f\"}, \"baxis\": {\"endlinecolor\": \"#2a3f5f\", \"gridcolor\": \"white\", \"linecolor\": \"white\", \"minorgridcolor\": \"white\", \"startlinecolor\": \"#2a3f5f\"}, \"type\": \"carpet\"}], \"choropleth\": [{\"colorbar\": {\"outlinewidth\": 0, \"ticks\": \"\"}, \"type\": \"choropleth\"}], \"contour\": [{\"colorbar\": {\"outlinewidth\": 0, \"ticks\": \"\"}, \"colorscale\": [[0.0, \"#0d0887\"], [0.1111111111111111, \"#46039f\"], [0.2222222222222222, \"#7201a8\"], [0.3333333333333333, \"#9c179e\"], [0.4444444444444444, \"#bd3786\"], [0.5555555555555556, \"#d8576b\"], [0.6666666666666666, \"#ed7953\"], [0.7777777777777778, \"#fb9f3a\"], [0.8888888888888888, \"#fdca26\"], [1.0, \"#f0f921\"]], \"type\": \"contour\"}], \"contourcarpet\": [{\"colorbar\": {\"outlinewidth\": 0, \"ticks\": \"\"}, \"type\": \"contourcarpet\"}], \"heatmap\": [{\"colorbar\": {\"outlinewidth\": 0, \"ticks\": \"\"}, \"colorscale\": [[0.0, \"#0d0887\"], [0.1111111111111111, \"#46039f\"], [0.2222222222222222, \"#7201a8\"], [0.3333333333333333, \"#9c179e\"], [0.4444444444444444, \"#bd3786\"], [0.5555555555555556, \"#d8576b\"], [0.6666666666666666, \"#ed7953\"], [0.7777777777777778, \"#fb9f3a\"], [0.8888888888888888, \"#fdca26\"], [1.0, \"#f0f921\"]], \"type\": \"heatmap\"}], \"heatmapgl\": [{\"colorbar\": {\"outlinewidth\": 0, \"ticks\": \"\"}, \"colorscale\": [[0.0, \"#0d0887\"], [0.1111111111111111, \"#46039f\"], [0.2222222222222222, \"#7201a8\"], [0.3333333333333333, \"#9c179e\"], [0.4444444444444444, \"#bd3786\"], [0.5555555555555556, \"#d8576b\"], [0.6666666666666666, \"#ed7953\"], [0.7777777777777778, \"#fb9f3a\"], [0.8888888888888888, \"#fdca26\"], [1.0, \"#f0f921\"]], \"type\": \"heatmapgl\"}], \"histogram\": [{\"marker\": {\"colorbar\": {\"outlinewidth\": 0, \"ticks\": \"\"}}, \"type\": \"histogram\"}], \"histogram2d\": [{\"colorbar\": {\"outlinewidth\": 0, \"ticks\": \"\"}, \"colorscale\": [[0.0, \"#0d0887\"], [0.1111111111111111, \"#46039f\"], [0.2222222222222222, \"#7201a8\"], [0.3333333333333333, \"#9c179e\"], [0.4444444444444444, \"#bd3786\"], [0.5555555555555556, \"#d8576b\"], [0.6666666666666666, \"#ed7953\"], [0.7777777777777778, \"#fb9f3a\"], [0.8888888888888888, \"#fdca26\"], [1.0, \"#f0f921\"]], \"type\": \"histogram2d\"}], \"histogram2dcontour\": [{\"colorbar\": {\"outlinewidth\": 0, \"ticks\": \"\"}, \"colorscale\": [[0.0, \"#0d0887\"], [0.1111111111111111, \"#46039f\"], [0.2222222222222222, \"#7201a8\"], [0.3333333333333333, \"#9c179e\"], [0.4444444444444444, \"#bd3786\"], [0.5555555555555556, \"#d8576b\"], [0.6666666666666666, \"#ed7953\"], [0.7777777777777778, \"#fb9f3a\"], [0.8888888888888888, \"#fdca26\"], [1.0, \"#f0f921\"]], \"type\": \"histogram2dcontour\"}], \"mesh3d\": [{\"colorbar\": {\"outlinewidth\": 0, \"ticks\": \"\"}, \"type\": \"mesh3d\"}], \"parcoords\": [{\"line\": {\"colorbar\": {\"outlinewidth\": 0, \"ticks\": \"\"}}, \"type\": \"parcoords\"}], \"pie\": [{\"automargin\": true, \"type\": \"pie\"}], \"scatter\": [{\"marker\": {\"colorbar\": {\"outlinewidth\": 0, \"ticks\": \"\"}}, \"type\": \"scatter\"}], \"scatter3d\": [{\"line\": {\"colorbar\": {\"outlinewidth\": 0, \"ticks\": \"\"}}, \"marker\": {\"colorbar\": {\"outlinewidth\": 0, \"ticks\": \"\"}}, \"type\": \"scatter3d\"}], \"scattercarpet\": [{\"marker\": {\"colorbar\": {\"outlinewidth\": 0, \"ticks\": \"\"}}, \"type\": \"scattercarpet\"}], \"scattergeo\": [{\"marker\": {\"colorbar\": {\"outlinewidth\": 0, \"ticks\": \"\"}}, \"type\": \"scattergeo\"}], \"scattergl\": [{\"marker\": {\"colorbar\": {\"outlinewidth\": 0, \"ticks\": \"\"}}, \"type\": \"scattergl\"}], \"scattermapbox\": [{\"marker\": {\"colorbar\": {\"outlinewidth\": 0, \"ticks\": \"\"}}, \"type\": \"scattermapbox\"}], \"scatterpolar\": [{\"marker\": {\"colorbar\": {\"outlinewidth\": 0, \"ticks\": \"\"}}, \"type\": \"scatterpolar\"}], \"scatterpolargl\": [{\"marker\": {\"colorbar\": {\"outlinewidth\": 0, \"ticks\": \"\"}}, \"type\": \"scatterpolargl\"}], \"scatterternary\": [{\"marker\": {\"colorbar\": {\"outlinewidth\": 0, \"ticks\": \"\"}}, \"type\": \"scatterternary\"}], \"surface\": [{\"colorbar\": {\"outlinewidth\": 0, \"ticks\": \"\"}, \"colorscale\": [[0.0, \"#0d0887\"], [0.1111111111111111, \"#46039f\"], [0.2222222222222222, \"#7201a8\"], [0.3333333333333333, \"#9c179e\"], [0.4444444444444444, \"#bd3786\"], [0.5555555555555556, \"#d8576b\"], [0.6666666666666666, \"#ed7953\"], [0.7777777777777778, \"#fb9f3a\"], [0.8888888888888888, \"#fdca26\"], [1.0, \"#f0f921\"]], \"type\": \"surface\"}], \"table\": [{\"cells\": {\"fill\": {\"color\": \"#EBF0F8\"}, \"line\": {\"color\": \"white\"}}, \"header\": {\"fill\": {\"color\": \"#C8D4E3\"}, \"line\": {\"color\": \"white\"}}, \"type\": \"table\"}]}, \"layout\": {\"annotationdefaults\": {\"arrowcolor\": \"#2a3f5f\", \"arrowhead\": 0, \"arrowwidth\": 1}, \"coloraxis\": {\"colorbar\": {\"outlinewidth\": 0, \"ticks\": \"\"}}, \"colorscale\": {\"diverging\": [[0, \"#8e0152\"], [0.1, \"#c51b7d\"], [0.2, \"#de77ae\"], [0.3, \"#f1b6da\"], [0.4, \"#fde0ef\"], [0.5, \"#f7f7f7\"], [0.6, \"#e6f5d0\"], [0.7, \"#b8e186\"], [0.8, \"#7fbc41\"], [0.9, \"#4d9221\"], [1, \"#276419\"]], \"sequential\": [[0.0, \"#0d0887\"], [0.1111111111111111, \"#46039f\"], [0.2222222222222222, \"#7201a8\"], [0.3333333333333333, \"#9c179e\"], [0.4444444444444444, \"#bd3786\"], [0.5555555555555556, \"#d8576b\"], [0.6666666666666666, \"#ed7953\"], [0.7777777777777778, \"#fb9f3a\"], [0.8888888888888888, \"#fdca26\"], [1.0, \"#f0f921\"]], \"sequentialminus\": [[0.0, \"#0d0887\"], [0.1111111111111111, \"#46039f\"], [0.2222222222222222, \"#7201a8\"], [0.3333333333333333, \"#9c179e\"], [0.4444444444444444, \"#bd3786\"], [0.5555555555555556, \"#d8576b\"], [0.6666666666666666, \"#ed7953\"], [0.7777777777777778, \"#fb9f3a\"], [0.8888888888888888, \"#fdca26\"], [1.0, \"#f0f921\"]]}, \"colorway\": [\"#636efa\", \"#EF553B\", \"#00cc96\", \"#ab63fa\", \"#FFA15A\", \"#19d3f3\", \"#FF6692\", \"#B6E880\", \"#FF97FF\", \"#FECB52\"], \"font\": {\"color\": \"#2a3f5f\"}, \"geo\": {\"bgcolor\": \"white\", \"lakecolor\": \"white\", \"landcolor\": \"#E5ECF6\", \"showlakes\": true, \"showland\": true, \"subunitcolor\": \"white\"}, \"hoverlabel\": {\"align\": \"left\"}, \"hovermode\": \"closest\", \"mapbox\": {\"style\": \"light\"}, \"paper_bgcolor\": \"white\", \"plot_bgcolor\": \"#E5ECF6\", \"polar\": {\"angularaxis\": {\"gridcolor\": \"white\", \"linecolor\": \"white\", \"ticks\": \"\"}, \"bgcolor\": \"#E5ECF6\", \"radialaxis\": {\"gridcolor\": \"white\", \"linecolor\": \"white\", \"ticks\": \"\"}}, \"scene\": {\"xaxis\": {\"backgroundcolor\": \"#E5ECF6\", \"gridcolor\": \"white\", \"gridwidth\": 2, \"linecolor\": \"white\", \"showbackground\": true, \"ticks\": \"\", \"zerolinecolor\": \"white\"}, \"yaxis\": {\"backgroundcolor\": \"#E5ECF6\", \"gridcolor\": \"white\", \"gridwidth\": 2, \"linecolor\": \"white\", \"showbackground\": true, \"ticks\": \"\", \"zerolinecolor\": \"white\"}, \"zaxis\": {\"backgroundcolor\": \"#E5ECF6\", \"gridcolor\": \"white\", \"gridwidth\": 2, \"linecolor\": \"white\", \"showbackground\": true, \"ticks\": \"\", \"zerolinecolor\": \"white\"}}, \"shapedefaults\": {\"line\": {\"color\": \"#2a3f5f\"}}, \"ternary\": {\"aaxis\": {\"gridcolor\": \"white\", \"linecolor\": \"white\", \"ticks\": \"\"}, \"baxis\": {\"gridcolor\": \"white\", \"linecolor\": \"white\", \"ticks\": \"\"}, \"bgcolor\": \"#E5ECF6\", \"caxis\": {\"gridcolor\": \"white\", \"linecolor\": \"white\", \"ticks\": \"\"}}, \"title\": {\"x\": 0.05}, \"xaxis\": {\"automargin\": true, \"gridcolor\": \"white\", \"linecolor\": \"white\", \"ticks\": \"\", \"title\": {\"standoff\": 15}, \"zerolinecolor\": \"white\", \"zerolinewidth\": 2}, \"yaxis\": {\"automargin\": true, \"gridcolor\": \"white\", \"linecolor\": \"white\", \"ticks\": \"\", \"title\": {\"standoff\": 15}, \"zerolinecolor\": \"white\", \"zerolinewidth\": 2}}}, \"title\": {\"text\": \"COVID-19 Case Rate & Total Farm Laborforce of CA Counties, September 2020 (R = 0.511)\", \"x\": 0.5}, \"xaxis\": {\"range\": [-0.5, 30], \"title\": {\"text\": \"Total Farm Laborforce (%)\"}}, \"yaxis\": {\"range\": [-100, 2000], \"title\": {\"text\": \"COVID-19 Cases per 100k\"}}},\n",
       "                        {\"responsive\": true}\n",
       "                    ).then(function(){\n",
       "                            \n",
       "var gd = document.getElementById('edae0281-a72f-4a82-acb8-bbb504524444');\n",
       "var x = new MutationObserver(function (mutations, observer) {{\n",
       "        var display = window.getComputedStyle(gd).display;\n",
       "        if (!display || display === 'none') {{\n",
       "            console.log([gd, 'removed!']);\n",
       "            Plotly.purge(gd);\n",
       "            observer.disconnect();\n",
       "        }}\n",
       "}});\n",
       "\n",
       "// Listen for the removal of the full notebook cells\n",
       "var notebookContainer = gd.closest('#notebook-container');\n",
       "if (notebookContainer) {{\n",
       "    x.observe(notebookContainer, {childList: true});\n",
       "}}\n",
       "\n",
       "// Listen for the clearing of the current output cell\n",
       "var outputEl = gd.closest('.output');\n",
       "if (outputEl) {{\n",
       "    x.observe(outputEl, {childList: true});\n",
       "}}\n",
       "\n",
       "                        })\n",
       "                };\n",
       "                });\n",
       "            </script>\n",
       "        </div>"
      ]
     },
     "metadata": {},
     "output_type": "display_data"
    }
   ],
   "source": [
    "# make scatter\n",
    "df = pd.DataFrame(\n",
    "    {'Month':unemployment_gdf[(unemployment_gdf.index.isin(county_index))]['period'],\n",
    "    'covid_per_100k':(unemployment_gdf[(unemployment_gdf.index.isin(county_index))]['covid_per_100k']),\n",
    "    'pop':(unemployment_gdf[(unemployment_gdf.index.isin(county_index))]['pop'])}\n",
    ")\n",
    "df['Total Farm Employment Proportion']=pd.Series(dtype='float64')\n",
    "for i in period:\n",
    "    month=calendar.month_name[i]\n",
    "    df['Total Farm Employment Proportion'][df['Month']==i]= (pd.Series(monthlyemployment_df[monthlyemployment_df.index.get_level_values('Month') ==month].droplevel('Month')['Total Farm'].fillna(0)/(unemployment_gdf[(unemployment_gdf.index.isin(county_index))]['laborforce'])).round(2)*100)\n",
    "# Create a list of Plotly Go objects and r values (Pearsons) to dynamically update graph with slider\n",
    "df.reset_index(inplace=True)\n",
    "slider_data=[]\n",
    "r_values=[]\n",
    "for month in df['Month'].unique():\n",
    "    if len(df[(df['Month']==month) & (df['covid_per_100k'].isnull())])>0: # remove null value for calculation (Modoc County has no covid reporting for march)\n",
    "        null_index=int(df[(df['Month']==month) & (df['covid_per_100k'].isnull())].index.values[0])\n",
    "        r_values.append((pearsonr(df[(df['Month']==month)]['Total Farm Employment Proportion'].values, df[(df['Month']==month)]['covid_per_100k'].fillna(0).values))[0])\n",
    "    else:\n",
    "        r_values.append((pearsonr(df[(df['Month']==month)]['Total Farm Employment Proportion'].values, df[(df['Month']==month)]['covid_per_100k'].values))[0])\n",
    "    slider_data.append(go.Scatter({\n",
    "        'mode':'markers',\n",
    "        'marker': dict(color='#004679',size=(df[df['Month']==month]['pop'].values)** (1. / 4)/2+10,opacity=0.7,line=dict(width=1,color=\"#ffffff\")),\n",
    "        'name': '',\n",
    "        'visible': False,\n",
    "        'x': df[df['Month']==month]['Total Farm Employment Proportion'].values,\n",
    "        'y': df[df['Month']==month]['covid_per_100k'].values,\n",
    "        'customdata':df[(df['Month']==4)][[\"index\",\"pop\"]],\n",
    "        'hovertemplate': (('<b>%{customdata[0]} County</b><br><br>'+\\\n",
    "                  '<i>Cases per 100k</i>: %{y}<br>'+\\\n",
    "                          '<i>Total Farm Laborforce</i>: %{x}%<br>'+\\\n",
    "                          '<i>Population</i>: %{customdata[1]}')) }))\n",
    "    \n",
    "# Set initial slider/title index\n",
    "start_index = (period[-1]-3)\n",
    "\n",
    "# Make initial trace visible\n",
    "slider_data[start_index]['visible'] = True\n",
    "\n",
    "# Build slider steps\n",
    "steps = []\n",
    "for i in range(len(slider_data)):\n",
    "    step = dict(\n",
    "        # Update method allows us to update both trace and layout properties\n",
    "        method = 'update', \n",
    "        label = calendar.month_name[i+3],\n",
    "        args = [\n",
    "            # Make the ith trace visible\n",
    "            {'visible': [t == i for t in range(len(slider_data))]},\n",
    "            \n",
    "            # Set the title for the ith trace\n",
    "            {'title.text': 'COVID-19 Case Rate & Total Farm Laborforce of CA Counties, %s 2020 (R = %.3f)' % (calendar.month_name[i+3],r_values[i])}],\n",
    "    )\n",
    "    steps.append(step)\n",
    "\n",
    "# Build sliders\n",
    "sliders = [go.layout.Slider(\n",
    "    active = (period[-1]-3),\n",
    "    pad = {\"t\": 30},\n",
    "    steps = steps\n",
    ")]\n",
    "\n",
    "layout = go.Layout(\n",
    "    sliders=sliders,\n",
    "    title={'text':'COVID-19 Case Rate & Total Farm Laborforce of CA Counties, %s 2020 (R = %.3f)' % (calendar.month_name[i+3],r_values[i])},\n",
    "    xaxis=dict(range=(-0.5,30),title=\"Total Farm Laborforce (%)\"),\n",
    "    yaxis=dict(range=(-100,2000),title=\"COVID-19 Cases per 100k\"),\n",
    "    height=440,title_x=0.5,\n",
    ")\n",
    "\n",
    "fig = go.Figure(data=slider_data, layout=layout)\n",
    "\n",
    "fig.show()\n",
    "\n",
    "if export:\n",
    "    fig.write_html(\"../figures/5a_covid_total-farm-employment.html\")\n",
    "#fig.write_image(\"../figures/5a_covid_total-farm-employment.png\")"
   ]
  },
  {
   "cell_type": "code",
   "execution_count": 53,
   "metadata": {},
   "outputs": [
    {
     "data": {
      "application/vnd.plotly.v1+json": {
       "config": {
        "plotlyServerURL": "https://plot.ly"
       },
       "data": [
        {
         "customdata": [
          [
           "Alameda",
           1671329
          ],
          [
           "Alpine",
           1129
          ],
          [
           "Amador",
           39752
          ],
          [
           "Butte",
           219186
          ],
          [
           "Calaveras",
           45905
          ],
          [
           "Colusa",
           21547
          ],
          [
           "Contra Costa",
           1153526
          ],
          [
           "Del Norte",
           27812
          ],
          [
           "El Dorado",
           192843
          ],
          [
           "Fresno",
           999101
          ],
          [
           "Glenn",
           28393
          ],
          [
           "Humboldt",
           135558
          ],
          [
           "Imperial",
           181215
          ],
          [
           "Inyo",
           18039
          ],
          [
           "Kern",
           900202
          ],
          [
           "Kings",
           152940
          ],
          [
           "Lake",
           64386
          ],
          [
           "Lassen",
           30573
          ],
          [
           "Los Angeles",
           10039107
          ],
          [
           "Madera",
           157327
          ],
          [
           "Marin",
           258826
          ],
          [
           "Mariposa",
           17203
          ],
          [
           "Mendocino",
           86749
          ],
          [
           "Merced",
           277680
          ],
          [
           "Modoc",
           8841
          ],
          [
           "Mono",
           14444
          ],
          [
           "Monterey",
           434061
          ],
          [
           "Napa",
           137744
          ],
          [
           "Nevada",
           99755
          ],
          [
           "Orange",
           3175692
          ],
          [
           "Placer",
           398329
          ],
          [
           "Plumas",
           18807
          ],
          [
           "Riverside",
           2470546
          ],
          [
           "Sacramento",
           1552058
          ],
          [
           "San Benito",
           62808
          ],
          [
           "San Bernardino",
           2180085
          ],
          [
           "San Diego",
           3338330
          ],
          [
           "San Francisco",
           881549
          ],
          [
           "San Joaquin",
           762148
          ],
          [
           "San Luis Obispo",
           283111
          ],
          [
           "San Mateo",
           766573
          ],
          [
           "Santa Barbara",
           446499
          ],
          [
           "Santa Clara",
           1927852
          ],
          [
           "Santa Cruz",
           273213
          ],
          [
           "Shasta",
           180080
          ],
          [
           "Sierra",
           3005
          ],
          [
           "Siskiyou",
           43539
          ],
          [
           "Solano",
           447643
          ],
          [
           "Sonoma",
           494336
          ],
          [
           "Stanislaus",
           550660
          ],
          [
           "Sutter",
           96971
          ],
          [
           "Tehama",
           65084
          ],
          [
           "Trinity",
           12285
          ],
          [
           "Tulare",
           466195
          ],
          [
           "Tuolumne",
           54478
          ],
          [
           "Ventura",
           846006
          ],
          [
           "Yolo",
           220500
          ],
          [
           "Yuba",
           78668
          ]
         ],
         "hovertemplate": "<b>%{customdata[0]} County</b><br><br><i>Cases per 100k</i>: %{y}<br><i>Unemployment Rate</i>: %{x}%<br><i>Population</i>: %{customdata[1]}",
         "marker": {
          "color": "#004679",
          "line": {
           "color": "#ffffff",
           "width": 1
          },
          "opacity": 0.7,
          "size": [
           27.977756406240214,
           12.898301020978622,
           17.06008208184058,
           20.818653392763792,
           17.318717810163538,
           16.057824777980162,
           26.386147176923284,
           16.4569594572729,
           20.477820982680697,
           25.80783349268203,
           16.490420354348995,
           19.594034868108995,
           20.316171185912474,
           15.794595422147083,
           25.40121549931449,
           19.88781371553559,
           17.964671453448126,
           16.61156875202046,
           38.14451539051155,
           19.957970140315393,
           21.277737441239566,
           15.726259847844291,
           18.580964862647686,
           21.477733970450153,
           14.84836549734372,
           15.48140478118039,
           22.83387177822631,
           19.632481352907412,
           18.885946058843714,
           31.107150076595484,
           22.561181353570163,
           15.855309897986828,
           29.82294794355772,
           27.64806078809656,
           17.915416018002773,
           29.212698212216797,
           31.37235211348942,
           25.320806185858608,
           24.773378776943808,
           21.53344875389171,
           24.79477565478132,
           22.924838554305886,
           28.631096999424162,
           21.431292681126855,
           20.29997984394579,
           13.701954898923777,
           17.222534363771963,
           22.93310947427082,
           23.25792518992918,
           23.62043214445906,
           18.823288359130814,
           17.98617023429591,
           15.263974715257165,
           23.06507500110682,
           17.6388027042765,
           25.16398566208713,
           20.834831277815958,
           18.373741146328697
          ]
         },
         "mode": "markers",
         "name": "",
         "type": "scatter",
         "visible": false,
         "x": [
          3.5,
          5.5,
          4.9,
          6.1,
          4.9,
          21.4,
          3.6,
          6.9,
          4.2,
          9.8,
          8,
          4.4,
          20.1,
          4.4,
          11,
          11.3,
          6.6,
          6.6,
          5.6,
          9.6,
          2.8,
          6.7,
          5.3,
          11.6,
          10.2,
          4.4,
          11.2,
          3.7,
          4.2,
          3.3,
          3.6,
          11.9,
          4.7,
          4.3,
          7,
          4.4,
          3.8,
          2.8,
          7.5,
          3.5,
          2.5,
          4.9,
          3,
          7.4,
          6.2,
          7.8,
          9.2,
          4.6,
          3.3,
          7.6,
          10.3,
          6.9,
          8.2,
          13.2,
          5.9,
          4.2,
          5.4,
          7.9
         ],
         "y": [
          40.626351843353405,
          88.57395925597875,
          12.57798349768565,
          6.3872692598979866,
          13.070471626184512,
          13.923051932983709,
          40.831329332845556,
          3.5955702574428305,
          15.556696379956753,
          23.220875567134854,
          10.565984573662522,
          36.146889154457874,
          51.32025494578264,
          55.43544542380398,
          30.770871426635356,
          11.769321302471557,
          1.553132668592551,
          0,
          68.44234253106377,
          25.424752267570092,
          50.99951318646504,
          0,
          4.611004161431256,
          11.524056467876692,
          0,
          173.08224868457492,
          17.278677420915493,
          24.68347078638634,
          35.08596060347852,
          39.9283053898174,
          28.36850944821994,
          5.317169139150316,
          46.75079921604374,
          38.40062678070021,
          47.76461597248758,
          33.25558407126328,
          46.8797272887941,
          83.26252993310639,
          29.91544949274944,
          39.56045508652083,
          83.09710882068634,
          58.9027075088634,
          69.24805431122306,
          27.08509477953099,
          11.106175033318525,
          0,
          9.187165529754932,
          22.562622446905234,
          29.736859140341792,
          18.52322667344641,
          21.655958998050963,
          1.5364759387867983,
          0,
          25.311296774954684,
          3.671206725650721,
          35.57894388455874,
          25.396825396825395,
          11.44048405959221
         ]
        },
        {
         "customdata": [
          [
           "Alameda",
           1671329
          ],
          [
           "Alpine",
           1129
          ],
          [
           "Amador",
           39752
          ],
          [
           "Butte",
           219186
          ],
          [
           "Calaveras",
           45905
          ],
          [
           "Colusa",
           21547
          ],
          [
           "Contra Costa",
           1153526
          ],
          [
           "Del Norte",
           27812
          ],
          [
           "El Dorado",
           192843
          ],
          [
           "Fresno",
           999101
          ],
          [
           "Glenn",
           28393
          ],
          [
           "Humboldt",
           135558
          ],
          [
           "Imperial",
           181215
          ],
          [
           "Inyo",
           18039
          ],
          [
           "Kern",
           900202
          ],
          [
           "Kings",
           152940
          ],
          [
           "Lake",
           64386
          ],
          [
           "Lassen",
           30573
          ],
          [
           "Los Angeles",
           10039107
          ],
          [
           "Madera",
           157327
          ],
          [
           "Marin",
           258826
          ],
          [
           "Mariposa",
           17203
          ],
          [
           "Mendocino",
           86749
          ],
          [
           "Merced",
           277680
          ],
          [
           "Modoc",
           8841
          ],
          [
           "Mono",
           14444
          ],
          [
           "Monterey",
           434061
          ],
          [
           "Napa",
           137744
          ],
          [
           "Nevada",
           99755
          ],
          [
           "Orange",
           3175692
          ],
          [
           "Placer",
           398329
          ],
          [
           "Plumas",
           18807
          ],
          [
           "Riverside",
           2470546
          ],
          [
           "Sacramento",
           1552058
          ],
          [
           "San Benito",
           62808
          ],
          [
           "San Bernardino",
           2180085
          ],
          [
           "San Diego",
           3338330
          ],
          [
           "San Francisco",
           881549
          ],
          [
           "San Joaquin",
           762148
          ],
          [
           "San Luis Obispo",
           283111
          ],
          [
           "San Mateo",
           766573
          ],
          [
           "Santa Barbara",
           446499
          ],
          [
           "Santa Clara",
           1927852
          ],
          [
           "Santa Cruz",
           273213
          ],
          [
           "Shasta",
           180080
          ],
          [
           "Sierra",
           3005
          ],
          [
           "Siskiyou",
           43539
          ],
          [
           "Solano",
           447643
          ],
          [
           "Sonoma",
           494336
          ],
          [
           "Stanislaus",
           550660
          ],
          [
           "Sutter",
           96971
          ],
          [
           "Tehama",
           65084
          ],
          [
           "Trinity",
           12285
          ],
          [
           "Tulare",
           466195
          ],
          [
           "Tuolumne",
           54478
          ],
          [
           "Ventura",
           846006
          ],
          [
           "Yolo",
           220500
          ],
          [
           "Yuba",
           78668
          ]
         ],
         "hovertemplate": "<b>%{customdata[0]} County</b><br><br><i>Cases per 100k</i>: %{y}<br><i>Unemployment Rate</i>: %{x}%<br><i>Population</i>: %{customdata[1]}",
         "marker": {
          "color": "#004679",
          "line": {
           "color": "#ffffff",
           "width": 1
          },
          "opacity": 0.7,
          "size": [
           27.977756406240214,
           12.898301020978622,
           17.06008208184058,
           20.818653392763792,
           17.318717810163538,
           16.057824777980162,
           26.386147176923284,
           16.4569594572729,
           20.477820982680697,
           25.80783349268203,
           16.490420354348995,
           19.594034868108995,
           20.316171185912474,
           15.794595422147083,
           25.40121549931449,
           19.88781371553559,
           17.964671453448126,
           16.61156875202046,
           38.14451539051155,
           19.957970140315393,
           21.277737441239566,
           15.726259847844291,
           18.580964862647686,
           21.477733970450153,
           14.84836549734372,
           15.48140478118039,
           22.83387177822631,
           19.632481352907412,
           18.885946058843714,
           31.107150076595484,
           22.561181353570163,
           15.855309897986828,
           29.82294794355772,
           27.64806078809656,
           17.915416018002773,
           29.212698212216797,
           31.37235211348942,
           25.320806185858608,
           24.773378776943808,
           21.53344875389171,
           24.79477565478132,
           22.924838554305886,
           28.631096999424162,
           21.431292681126855,
           20.29997984394579,
           13.701954898923777,
           17.222534363771963,
           22.93310947427082,
           23.25792518992918,
           23.62043214445906,
           18.823288359130814,
           17.98617023429591,
           15.263974715257165,
           23.06507500110682,
           17.6388027042765,
           25.16398566208713,
           20.834831277815958,
           18.373741146328697
          ]
         },
         "mode": "markers",
         "name": "",
         "type": "scatter",
         "visible": false,
         "x": [
          14.6,
          22.9,
          15.2,
          15.9,
          13.7,
          25.7,
          15.1,
          14.5,
          15.5,
          17.1,
          14.4,
          15.2,
          28.6,
          14.9,
          18.6,
          16.9,
          16,
          11.5,
          18.2,
          17.4,
          12.1,
          20.4,
          15.6,
          18.5,
          13.2,
          28.2,
          19.1,
          17.8,
          15.4,
          14.4,
          13.2,
          18.7,
          16,
          14.9,
          18.8,
          14.2,
          15.9,
          13,
          17.9,
          14.8,
          11.8,
          14,
          12.2,
          17.6,
          15.7,
          14.3,
          15.6,
          15.7,
          15.4,
          17.2,
          17.8,
          14.7,
          13.2,
          18.6,
          19.9,
          14.5,
          11.8,
          16.4
         ],
         "y": [
          75.68826963452437,
          0,
          7.546790098611391,
          2.7374011113848513,
          15.24888356388193,
          0,
          45.07917463498872,
          10.78671077232849,
          14.001026741961077,
          85.77711362514901,
          14.087979431550028,
          6.639224538573894,
          268.1897193940899,
          49.89190088142358,
          105.9762142274734,
          146.4626650974238,
          12.425061348740408,
          0,
          232.27165523786127,
          20.97542062074533,
          44.431394063965755,
          87.19409405336279,
          8.069257282504697,
          59.06078939786805,
          0,
          34.61644973691498,
          43.08150236948263,
          34.12126844000465,
          6.014736103453461,
          80.48639477631963,
          13.305584077483688,
          15.95150741745095,
          147.7001440167477,
          34.59922245173827,
          39.80384664373965,
          88.43691874399393,
          90.37452858165611,
          125.46097834607039,
          47.62854458714055,
          40.973328482468006,
          95.4899272476333,
          84.43467958494867,
          55.76154186109722,
          21.228858070443206,
          8.329631274988895,
          0,
          2.296791382438733,
          49.1463063199916,
          28.118526670119113,
          66.28409544909745,
          9.281125284878984,
          0,
          0,
          198.2003238987977,
          0,
          46.21716630851318,
          55.78231292517006,
          12.711648955102456
         ]
        },
        {
         "customdata": [
          [
           "Alameda",
           1671329
          ],
          [
           "Alpine",
           1129
          ],
          [
           "Amador",
           39752
          ],
          [
           "Butte",
           219186
          ],
          [
           "Calaveras",
           45905
          ],
          [
           "Colusa",
           21547
          ],
          [
           "Contra Costa",
           1153526
          ],
          [
           "Del Norte",
           27812
          ],
          [
           "El Dorado",
           192843
          ],
          [
           "Fresno",
           999101
          ],
          [
           "Glenn",
           28393
          ],
          [
           "Humboldt",
           135558
          ],
          [
           "Imperial",
           181215
          ],
          [
           "Inyo",
           18039
          ],
          [
           "Kern",
           900202
          ],
          [
           "Kings",
           152940
          ],
          [
           "Lake",
           64386
          ],
          [
           "Lassen",
           30573
          ],
          [
           "Los Angeles",
           10039107
          ],
          [
           "Madera",
           157327
          ],
          [
           "Marin",
           258826
          ],
          [
           "Mariposa",
           17203
          ],
          [
           "Mendocino",
           86749
          ],
          [
           "Merced",
           277680
          ],
          [
           "Modoc",
           8841
          ],
          [
           "Mono",
           14444
          ],
          [
           "Monterey",
           434061
          ],
          [
           "Napa",
           137744
          ],
          [
           "Nevada",
           99755
          ],
          [
           "Orange",
           3175692
          ],
          [
           "Placer",
           398329
          ],
          [
           "Plumas",
           18807
          ],
          [
           "Riverside",
           2470546
          ],
          [
           "Sacramento",
           1552058
          ],
          [
           "San Benito",
           62808
          ],
          [
           "San Bernardino",
           2180085
          ],
          [
           "San Diego",
           3338330
          ],
          [
           "San Francisco",
           881549
          ],
          [
           "San Joaquin",
           762148
          ],
          [
           "San Luis Obispo",
           283111
          ],
          [
           "San Mateo",
           766573
          ],
          [
           "Santa Barbara",
           446499
          ],
          [
           "Santa Clara",
           1927852
          ],
          [
           "Santa Cruz",
           273213
          ],
          [
           "Shasta",
           180080
          ],
          [
           "Sierra",
           3005
          ],
          [
           "Siskiyou",
           43539
          ],
          [
           "Solano",
           447643
          ],
          [
           "Sonoma",
           494336
          ],
          [
           "Stanislaus",
           550660
          ],
          [
           "Sutter",
           96971
          ],
          [
           "Tehama",
           65084
          ],
          [
           "Trinity",
           12285
          ],
          [
           "Tulare",
           466195
          ],
          [
           "Tuolumne",
           54478
          ],
          [
           "Ventura",
           846006
          ],
          [
           "Yolo",
           220500
          ],
          [
           "Yuba",
           78668
          ]
         ],
         "hovertemplate": "<b>%{customdata[0]} County</b><br><br><i>Cases per 100k</i>: %{y}<br><i>Unemployment Rate</i>: %{x}%<br><i>Population</i>: %{customdata[1]}",
         "marker": {
          "color": "#004679",
          "line": {
           "color": "#ffffff",
           "width": 1
          },
          "opacity": 0.7,
          "size": [
           27.977756406240214,
           12.898301020978622,
           17.06008208184058,
           20.818653392763792,
           17.318717810163538,
           16.057824777980162,
           26.386147176923284,
           16.4569594572729,
           20.477820982680697,
           25.80783349268203,
           16.490420354348995,
           19.594034868108995,
           20.316171185912474,
           15.794595422147083,
           25.40121549931449,
           19.88781371553559,
           17.964671453448126,
           16.61156875202046,
           38.14451539051155,
           19.957970140315393,
           21.277737441239566,
           15.726259847844291,
           18.580964862647686,
           21.477733970450153,
           14.84836549734372,
           15.48140478118039,
           22.83387177822631,
           19.632481352907412,
           18.885946058843714,
           31.107150076595484,
           22.561181353570163,
           15.855309897986828,
           29.82294794355772,
           27.64806078809656,
           17.915416018002773,
           29.212698212216797,
           31.37235211348942,
           25.320806185858608,
           24.773378776943808,
           21.53344875389171,
           24.79477565478132,
           22.924838554305886,
           28.631096999424162,
           21.431292681126855,
           20.29997984394579,
           13.701954898923777,
           17.222534363771963,
           22.93310947427082,
           23.25792518992918,
           23.62043214445906,
           18.823288359130814,
           17.98617023429591,
           15.263974715257165,
           23.06507500110682,
           17.6388027042765,
           25.16398566208713,
           20.834831277815958,
           18.373741146328697
          ]
         },
         "mode": "markers",
         "name": "",
         "type": "scatter",
         "visible": false,
         "x": [
          13.8,
          22.8,
          15.3,
          13.3,
          11.6,
          19.4,
          14,
          13.4,
          14.9,
          15.2,
          11.7,
          12.9,
          27.5,
          12.5,
          16.9,
          14.9,
          14.2,
          9.5,
          18.8,
          14.8,
          11,
          19.1,
          13.6,
          15.7,
          10.1,
          26.5,
          14.8,
          15.2,
          13.1,
          14.9,
          12.4,
          13.6,
          15.7,
          14.3,
          14.9,
          14.1,
          15.6,
          12.8,
          15.8,
          13.1,
          11.3,
          12.4,
          11.3,
          14.3,
          12.8,
          11.4,
          12.6,
          14.5,
          13.4,
          15.6,
          14.7,
          12.4,
          10.5,
          16.5,
          17.7,
          13.6,
          10.5,
          14.6
         ],
         "y": [
          111.70750941316761,
          88.57395925597875,
          5.03119339907426,
          20.530508335386386,
          10.892059688487093,
          27.846103865967418,
          59.98997855271576,
          147.41838055515606,
          28.002053483922154,
          204.1835610213582,
          45.785933152537595,
          38.35996400064917,
          1774.1356951687221,
          5.543544542380398,
          183.40328059702156,
          647.3126716359357,
          34.16891870903613,
          19.625159454420565,
          317.20948885194673,
          108.05519713717291,
          107.02170570190012,
          5.812939603557519,
          23.05502080715628,
          70.2247191011236,
          0,
          55.38631957906397,
          103.44168215988074,
          46.46300383319782,
          9.022104155180191,
          166.54637792329987,
          22.845436812283314,
          0,
          198.25577018197598,
          25.25678808395047,
          70.05477009298178,
          173.25012556849848,
          120.41949118271711,
          98.91679305404463,
          77.28157785626938,
          32.496088106784974,
          121.71052202464736,
          312.8786402657117,
          38.644045289783655,
          32.57531669430078,
          11.106175033318525,
          33.277870216306155,
          13.780748294632398,
          66.57090583344316,
          71.20662868979804,
          80.6305161079432,
          17.53101442699364,
          13.828283449081185,
          8.14000814000814,
          309.52712920559,
          3.671206725650721,
          96.68962158660814,
          24.03628117913832,
          13.982813850612702
         ]
        },
        {
         "customdata": [
          [
           "Alameda",
           1671329
          ],
          [
           "Alpine",
           1129
          ],
          [
           "Amador",
           39752
          ],
          [
           "Butte",
           219186
          ],
          [
           "Calaveras",
           45905
          ],
          [
           "Colusa",
           21547
          ],
          [
           "Contra Costa",
           1153526
          ],
          [
           "Del Norte",
           27812
          ],
          [
           "El Dorado",
           192843
          ],
          [
           "Fresno",
           999101
          ],
          [
           "Glenn",
           28393
          ],
          [
           "Humboldt",
           135558
          ],
          [
           "Imperial",
           181215
          ],
          [
           "Inyo",
           18039
          ],
          [
           "Kern",
           900202
          ],
          [
           "Kings",
           152940
          ],
          [
           "Lake",
           64386
          ],
          [
           "Lassen",
           30573
          ],
          [
           "Los Angeles",
           10039107
          ],
          [
           "Madera",
           157327
          ],
          [
           "Marin",
           258826
          ],
          [
           "Mariposa",
           17203
          ],
          [
           "Mendocino",
           86749
          ],
          [
           "Merced",
           277680
          ],
          [
           "Modoc",
           8841
          ],
          [
           "Mono",
           14444
          ],
          [
           "Monterey",
           434061
          ],
          [
           "Napa",
           137744
          ],
          [
           "Nevada",
           99755
          ],
          [
           "Orange",
           3175692
          ],
          [
           "Placer",
           398329
          ],
          [
           "Plumas",
           18807
          ],
          [
           "Riverside",
           2470546
          ],
          [
           "Sacramento",
           1552058
          ],
          [
           "San Benito",
           62808
          ],
          [
           "San Bernardino",
           2180085
          ],
          [
           "San Diego",
           3338330
          ],
          [
           "San Francisco",
           881549
          ],
          [
           "San Joaquin",
           762148
          ],
          [
           "San Luis Obispo",
           283111
          ],
          [
           "San Mateo",
           766573
          ],
          [
           "Santa Barbara",
           446499
          ],
          [
           "Santa Clara",
           1927852
          ],
          [
           "Santa Cruz",
           273213
          ],
          [
           "Shasta",
           180080
          ],
          [
           "Sierra",
           3005
          ],
          [
           "Siskiyou",
           43539
          ],
          [
           "Solano",
           447643
          ],
          [
           "Sonoma",
           494336
          ],
          [
           "Stanislaus",
           550660
          ],
          [
           "Sutter",
           96971
          ],
          [
           "Tehama",
           65084
          ],
          [
           "Trinity",
           12285
          ],
          [
           "Tulare",
           466195
          ],
          [
           "Tuolumne",
           54478
          ],
          [
           "Ventura",
           846006
          ],
          [
           "Yolo",
           220500
          ],
          [
           "Yuba",
           78668
          ]
         ],
         "hovertemplate": "<b>%{customdata[0]} County</b><br><br><i>Cases per 100k</i>: %{y}<br><i>Unemployment Rate</i>: %{x}%<br><i>Population</i>: %{customdata[1]}",
         "marker": {
          "color": "#004679",
          "line": {
           "color": "#ffffff",
           "width": 1
          },
          "opacity": 0.7,
          "size": [
           27.977756406240214,
           12.898301020978622,
           17.06008208184058,
           20.818653392763792,
           17.318717810163538,
           16.057824777980162,
           26.386147176923284,
           16.4569594572729,
           20.477820982680697,
           25.80783349268203,
           16.490420354348995,
           19.594034868108995,
           20.316171185912474,
           15.794595422147083,
           25.40121549931449,
           19.88781371553559,
           17.964671453448126,
           16.61156875202046,
           38.14451539051155,
           19.957970140315393,
           21.277737441239566,
           15.726259847844291,
           18.580964862647686,
           21.477733970450153,
           14.84836549734372,
           15.48140478118039,
           22.83387177822631,
           19.632481352907412,
           18.885946058843714,
           31.107150076595484,
           22.561181353570163,
           15.855309897986828,
           29.82294794355772,
           27.64806078809656,
           17.915416018002773,
           29.212698212216797,
           31.37235211348942,
           25.320806185858608,
           24.773378776943808,
           21.53344875389171,
           24.79477565478132,
           22.924838554305886,
           28.631096999424162,
           21.431292681126855,
           20.29997984394579,
           13.701954898923777,
           17.222534363771963,
           22.93310947427082,
           23.25792518992918,
           23.62043214445906,
           18.823288359130814,
           17.98617023429591,
           15.263974715257165,
           23.06507500110682,
           17.6388027042765,
           25.16398566208713,
           20.834831277815958,
           18.373741146328697
          ]
         },
         "mode": "markers",
         "name": "",
         "type": "scatter",
         "visible": false,
         "x": [
          13,
          19.6,
          12.1,
          11.6,
          10,
          16.2,
          12.9,
          11.6,
          12,
          13.5,
          10.5,
          11.5,
          26.5,
          10.4,
          15.7,
          13.3,
          12.3,
          8.3,
          17.9,
          12.9,
          10,
          14.2,
          12,
          14.4,
          8.7,
          21,
          12.1,
          12.4,
          11.2,
          13.3,
          10.5,
          10.8,
          13.7,
          12.9,
          12.7,
          13,
          13.5,
          12,
          14.5,
          11,
          10.5,
          10.7,
          10.3,
          12.2,
          10.6,
          9.5,
          10.9,
          12.9,
          11.4,
          13.7,
          12.8,
          10.7,
          8.9,
          15,
          13.9,
          11.9,
          9.8,
          12.7
         ],
         "y": [
          207.85853652991122,
          0,
          60.374320788891126,
          99.91514056554708,
          87.13647750789674,
          399.127488745533,
          209.87823421405324,
          50.33798360419962,
          90.74739554974772,
          664.2972031856639,
          510.6892543936886,
          35.40919753906077,
          2411.5001517534424,
          77.60962359332557,
          739.8339483804746,
          1001.7000130770236,
          97.84735812133071,
          771.9229385405423,
          568.4569354624869,
          470.3579169500467,
          982.1269887878343,
          104.63291286403535,
          66.8595603407532,
          523.2641889945261,
          11.310937676733401,
          69.23289947382996,
          360.7787845487155,
          247.56069229875715,
          108.2652498621623,
          466.57547394394675,
          175.23203181289838,
          42.53735311320253,
          609.096126929027,
          196.89985812385876,
          321.61508088141636,
          614.7008029503437,
          279.570923186144,
          159.03823837359013,
          581.3831434314595,
          179.43492128529093,
          184.7182199216513,
          477.0447414215933,
          131.1822691783394,
          92.96775775676852,
          88.8494002665482,
          0,
          52.826201796090864,
          292.42052260395,
          183.68073537027445,
          608.9056768241746,
          202.122283981809,
          145.9652141847459,
          8.14000814000814,
          648.2266004568904,
          82.60215132714123,
          339.8321052096557,
          234.9206349206349,
          95.33736716326842
         ]
        },
        {
         "customdata": [
          [
           "Alameda",
           1671329
          ],
          [
           "Alpine",
           1129
          ],
          [
           "Amador",
           39752
          ],
          [
           "Butte",
           219186
          ],
          [
           "Calaveras",
           45905
          ],
          [
           "Colusa",
           21547
          ],
          [
           "Contra Costa",
           1153526
          ],
          [
           "Del Norte",
           27812
          ],
          [
           "El Dorado",
           192843
          ],
          [
           "Fresno",
           999101
          ],
          [
           "Glenn",
           28393
          ],
          [
           "Humboldt",
           135558
          ],
          [
           "Imperial",
           181215
          ],
          [
           "Inyo",
           18039
          ],
          [
           "Kern",
           900202
          ],
          [
           "Kings",
           152940
          ],
          [
           "Lake",
           64386
          ],
          [
           "Lassen",
           30573
          ],
          [
           "Los Angeles",
           10039107
          ],
          [
           "Madera",
           157327
          ],
          [
           "Marin",
           258826
          ],
          [
           "Mariposa",
           17203
          ],
          [
           "Mendocino",
           86749
          ],
          [
           "Merced",
           277680
          ],
          [
           "Modoc",
           8841
          ],
          [
           "Mono",
           14444
          ],
          [
           "Monterey",
           434061
          ],
          [
           "Napa",
           137744
          ],
          [
           "Nevada",
           99755
          ],
          [
           "Orange",
           3175692
          ],
          [
           "Placer",
           398329
          ],
          [
           "Plumas",
           18807
          ],
          [
           "Riverside",
           2470546
          ],
          [
           "Sacramento",
           1552058
          ],
          [
           "San Benito",
           62808
          ],
          [
           "San Bernardino",
           2180085
          ],
          [
           "San Diego",
           3338330
          ],
          [
           "San Francisco",
           881549
          ],
          [
           "San Joaquin",
           762148
          ],
          [
           "San Luis Obispo",
           283111
          ],
          [
           "San Mateo",
           766573
          ],
          [
           "Santa Barbara",
           446499
          ],
          [
           "Santa Clara",
           1927852
          ],
          [
           "Santa Cruz",
           273213
          ],
          [
           "Shasta",
           180080
          ],
          [
           "Sierra",
           3005
          ],
          [
           "Siskiyou",
           43539
          ],
          [
           "Solano",
           447643
          ],
          [
           "Sonoma",
           494336
          ],
          [
           "Stanislaus",
           550660
          ],
          [
           "Sutter",
           96971
          ],
          [
           "Tehama",
           65084
          ],
          [
           "Trinity",
           12285
          ],
          [
           "Tulare",
           466195
          ],
          [
           "Tuolumne",
           54478
          ],
          [
           "Ventura",
           846006
          ],
          [
           "Yolo",
           220500
          ],
          [
           "Yuba",
           78668
          ]
         ],
         "hovertemplate": "<b>%{customdata[0]} County</b><br><br><i>Cases per 100k</i>: %{y}<br><i>Unemployment Rate</i>: %{x}%<br><i>Population</i>: %{customdata[1]}",
         "marker": {
          "color": "#004679",
          "line": {
           "color": "#ffffff",
           "width": 1
          },
          "opacity": 0.7,
          "size": [
           27.977756406240214,
           12.898301020978622,
           17.06008208184058,
           20.818653392763792,
           17.318717810163538,
           16.057824777980162,
           26.386147176923284,
           16.4569594572729,
           20.477820982680697,
           25.80783349268203,
           16.490420354348995,
           19.594034868108995,
           20.316171185912474,
           15.794595422147083,
           25.40121549931449,
           19.88781371553559,
           17.964671453448126,
           16.61156875202046,
           38.14451539051155,
           19.957970140315393,
           21.277737441239566,
           15.726259847844291,
           18.580964862647686,
           21.477733970450153,
           14.84836549734372,
           15.48140478118039,
           22.83387177822631,
           19.632481352907412,
           18.885946058843714,
           31.107150076595484,
           22.561181353570163,
           15.855309897986828,
           29.82294794355772,
           27.64806078809656,
           17.915416018002773,
           29.212698212216797,
           31.37235211348942,
           25.320806185858608,
           24.773378776943808,
           21.53344875389171,
           24.79477565478132,
           22.924838554305886,
           28.631096999424162,
           21.431292681126855,
           20.29997984394579,
           13.701954898923777,
           17.222534363771963,
           22.93310947427082,
           23.25792518992918,
           23.62043214445906,
           18.823288359130814,
           17.98617023429591,
           15.263974715257165,
           23.06507500110682,
           17.6388027042765,
           25.16398566208713,
           20.834831277815958,
           18.373741146328697
          ]
         },
         "mode": "markers",
         "name": "",
         "type": "scatter",
         "visible": false,
         "x": [
          12,
          14.5,
          11.6,
          11.1,
          9.1,
          13.5,
          11.9,
          11.1,
          9.9,
          13,
          10.1,
          10.6,
          27.5,
          9.3,
          15.2,
          12.4,
          11,
          8,
          18.2,
          12.4,
          9.1,
          11.3,
          10.9,
          13.9,
          7.8,
          13.7,
          10.4,
          10.7,
          10,
          12.3,
          9.4,
          10,
          13.2,
          12.1,
          11.3,
          12.7,
          12.3,
          11,
          13.8,
          9.9,
          9.4,
          9.6,
          9.3,
          10.6,
          10.1,
          8.6,
          10.3,
          12.1,
          10,
          12.9,
          11.7,
          10.3,
          8,
          15,
          12.2,
          11.2,
          9.1,
          12.2
         ],
         "y": [
          392.68151273627154,
          88.57395925597875,
          389.9174884282552,
          390.9921254094696,
          193.87866245507024,
          1313.4078990114633,
          552.913415042227,
          107.8671077232849,
          262.9081688212691,
          1193.1726622233389,
          760.7508893037017,
          78.93300284748963,
          1193.6098005132026,
          210.6546926104551,
          1706.728045483125,
          1309.663920491696,
          218.99170627154973,
          1269.0936447191968,
          834.7355994910703,
          1191.7852625423482,
          911.4231182338714,
          156.949369296053,
          261.67448616122374,
          1482.6418899452608,
          56.554688383667006,
          692.3289947382997,
          768.7859540479333,
          501.65524451155767,
          186.4568192070573,
          617.3142735504576,
          337.409528304492,
          116.97772106130697,
          832.5689948699599,
          548.6908350074547,
          670.2967774805758,
          936.7065963024378,
          438.75231028687995,
          373.5470178061571,
          1211.3132882327318,
          436.57787934767634,
          352.6082969267115,
          668.3105673248989,
          366.31442662611033,
          308.91648640438046,
          152.70990670812972,
          66.55574043261231,
          142.40106571120145,
          539.0456234097261,
          454.549132573796,
          1380.3435876947663,
          670.3034927968156,
          271.95624116526335,
          32.56003256003256,
          1207.4346571713552,
          192.73835309666288,
          515.4809776762813,
          512.9251700680272,
          522.448772054711
         ]
        },
        {
         "customdata": [
          [
           "Alameda",
           1671329
          ],
          [
           "Alpine",
           1129
          ],
          [
           "Amador",
           39752
          ],
          [
           "Butte",
           219186
          ],
          [
           "Calaveras",
           45905
          ],
          [
           "Colusa",
           21547
          ],
          [
           "Contra Costa",
           1153526
          ],
          [
           "Del Norte",
           27812
          ],
          [
           "El Dorado",
           192843
          ],
          [
           "Fresno",
           999101
          ],
          [
           "Glenn",
           28393
          ],
          [
           "Humboldt",
           135558
          ],
          [
           "Imperial",
           181215
          ],
          [
           "Inyo",
           18039
          ],
          [
           "Kern",
           900202
          ],
          [
           "Kings",
           152940
          ],
          [
           "Lake",
           64386
          ],
          [
           "Lassen",
           30573
          ],
          [
           "Los Angeles",
           10039107
          ],
          [
           "Madera",
           157327
          ],
          [
           "Marin",
           258826
          ],
          [
           "Mariposa",
           17203
          ],
          [
           "Mendocino",
           86749
          ],
          [
           "Merced",
           277680
          ],
          [
           "Modoc",
           8841
          ],
          [
           "Mono",
           14444
          ],
          [
           "Monterey",
           434061
          ],
          [
           "Napa",
           137744
          ],
          [
           "Nevada",
           99755
          ],
          [
           "Orange",
           3175692
          ],
          [
           "Placer",
           398329
          ],
          [
           "Plumas",
           18807
          ],
          [
           "Riverside",
           2470546
          ],
          [
           "Sacramento",
           1552058
          ],
          [
           "San Benito",
           62808
          ],
          [
           "San Bernardino",
           2180085
          ],
          [
           "San Diego",
           3338330
          ],
          [
           "San Francisco",
           881549
          ],
          [
           "San Joaquin",
           762148
          ],
          [
           "San Luis Obispo",
           283111
          ],
          [
           "San Mateo",
           766573
          ],
          [
           "Santa Barbara",
           446499
          ],
          [
           "Santa Clara",
           1927852
          ],
          [
           "Santa Cruz",
           273213
          ],
          [
           "Shasta",
           180080
          ],
          [
           "Sierra",
           3005
          ],
          [
           "Siskiyou",
           43539
          ],
          [
           "Solano",
           447643
          ],
          [
           "Sonoma",
           494336
          ],
          [
           "Stanislaus",
           550660
          ],
          [
           "Sutter",
           96971
          ],
          [
           "Tehama",
           65084
          ],
          [
           "Trinity",
           12285
          ],
          [
           "Tulare",
           466195
          ],
          [
           "Tuolumne",
           54478
          ],
          [
           "Ventura",
           846006
          ],
          [
           "Yolo",
           220500
          ],
          [
           "Yuba",
           78668
          ]
         ],
         "hovertemplate": "<b>%{customdata[0]} County</b><br><br><i>Cases per 100k</i>: %{y}<br><i>Unemployment Rate</i>: %{x}%<br><i>Population</i>: %{customdata[1]}",
         "marker": {
          "color": "#004679",
          "line": {
           "color": "#ffffff",
           "width": 1
          },
          "opacity": 0.7,
          "size": [
           27.977756406240214,
           12.898301020978622,
           17.06008208184058,
           20.818653392763792,
           17.318717810163538,
           16.057824777980162,
           26.386147176923284,
           16.4569594572729,
           20.477820982680697,
           25.80783349268203,
           16.490420354348995,
           19.594034868108995,
           20.316171185912474,
           15.794595422147083,
           25.40121549931449,
           19.88781371553559,
           17.964671453448126,
           16.61156875202046,
           38.14451539051155,
           19.957970140315393,
           21.277737441239566,
           15.726259847844291,
           18.580964862647686,
           21.477733970450153,
           14.84836549734372,
           15.48140478118039,
           22.83387177822631,
           19.632481352907412,
           18.885946058843714,
           31.107150076595484,
           22.561181353570163,
           15.855309897986828,
           29.82294794355772,
           27.64806078809656,
           17.915416018002773,
           29.212698212216797,
           31.37235211348942,
           25.320806185858608,
           24.773378776943808,
           21.53344875389171,
           24.79477565478132,
           22.924838554305886,
           28.631096999424162,
           21.431292681126855,
           20.29997984394579,
           13.701954898923777,
           17.222534363771963,
           22.93310947427082,
           23.25792518992918,
           23.62043214445906,
           18.823288359130814,
           17.98617023429591,
           15.263974715257165,
           23.06507500110682,
           17.6388027042765,
           25.16398566208713,
           20.834831277815958,
           18.373741146328697
          ]
         },
         "mode": "markers",
         "name": "",
         "type": "scatter",
         "visible": false,
         "x": [
          10.6,
          11.6,
          9.8,
          9.8,
          7.8,
          10.7,
          10.5,
          9.8,
          8.5,
          11.5,
          8.6,
          9.4,
          24.8,
          8,
          13,
          11,
          9.5,
          6.8,
          17.5,
          10.5,
          7.8,
          10,
          9.5,
          11.9,
          6.7,
          11,
          8.8,
          9.3,
          8.6,
          10.7,
          8.2,
          8.5,
          11.6,
          10.9,
          9.6,
          11.3,
          10.8,
          9.7,
          12.2,
          8.6,
          8.3,
          8.3,
          8.1,
          9.2,
          8.7,
          7.7,
          9.1,
          11,
          8.7,
          11.2,
          10.1,
          8.9,
          6.9,
          13.1,
          10.7,
          9.8,
          7.9,
          10.8
         ],
         "y": [
          323.3355012687508,
          0,
          216.34131616019317,
          563.4483954267153,
          272.3014922121773,
          459.46071378846244,
          378.40499477254957,
          100.67596720839924,
          116.67522284967565,
          615.0529325863952,
          348.67749093086326,
          118.76835007893301,
          529.205639709737,
          609.7898996618438,
          548.09920440079,
          1042.2387864522036,
          198.80098157984654,
          278.02309227095805,
          420.1170482593721,
          706.1724942317593,
          329.5650359701112,
          69.75527524269023,
          376.94959019700514,
          813.1662345145492,
          135.73125212080083,
          96.92605926336195,
          636.5464761865268,
          242.47880125450112,
          122.29963410355371,
          217.68483845410702,
          213.64249150827584,
          47.85452225235285,
          353.0798455078351,
          385.61703235317236,
          711.692777990065,
          428.19431352447265,
          238.08311341299392,
          281.54986279832434,
          517.0911686444102,
          368.4067379932253,
          285.55662670091436,
          340.87422368247184,
          306.1957038195878,
          225.4651132998796,
          79.96446023989337,
          99.83361064891847,
          96.46523806242679,
          295.1012302214041,
          479.8355774210254,
          653.94254167726,
          566.148642377618,
          245.83615020588775,
          73.26007326007326,
          745.6107422859533,
          102.7937883182202,
          308.62665276605605,
          311.5646258503402,
          507.194793308588
         ]
        },
        {
         "customdata": [
          [
           "Alameda",
           1671329
          ],
          [
           "Alpine",
           1129
          ],
          [
           "Amador",
           39752
          ],
          [
           "Butte",
           219186
          ],
          [
           "Calaveras",
           45905
          ],
          [
           "Colusa",
           21547
          ],
          [
           "Contra Costa",
           1153526
          ],
          [
           "Del Norte",
           27812
          ],
          [
           "El Dorado",
           192843
          ],
          [
           "Fresno",
           999101
          ],
          [
           "Glenn",
           28393
          ],
          [
           "Humboldt",
           135558
          ],
          [
           "Imperial",
           181215
          ],
          [
           "Inyo",
           18039
          ],
          [
           "Kern",
           900202
          ],
          [
           "Kings",
           152940
          ],
          [
           "Lake",
           64386
          ],
          [
           "Lassen",
           30573
          ],
          [
           "Los Angeles",
           10039107
          ],
          [
           "Madera",
           157327
          ],
          [
           "Marin",
           258826
          ],
          [
           "Mariposa",
           17203
          ],
          [
           "Mendocino",
           86749
          ],
          [
           "Merced",
           277680
          ],
          [
           "Modoc",
           8841
          ],
          [
           "Mono",
           14444
          ],
          [
           "Monterey",
           434061
          ],
          [
           "Napa",
           137744
          ],
          [
           "Nevada",
           99755
          ],
          [
           "Orange",
           3175692
          ],
          [
           "Placer",
           398329
          ],
          [
           "Plumas",
           18807
          ],
          [
           "Riverside",
           2470546
          ],
          [
           "Sacramento",
           1552058
          ],
          [
           "San Benito",
           62808
          ],
          [
           "San Bernardino",
           2180085
          ],
          [
           "San Diego",
           3338330
          ],
          [
           "San Francisco",
           881549
          ],
          [
           "San Joaquin",
           762148
          ],
          [
           "San Luis Obispo",
           283111
          ],
          [
           "San Mateo",
           766573
          ],
          [
           "Santa Barbara",
           446499
          ],
          [
           "Santa Clara",
           1927852
          ],
          [
           "Santa Cruz",
           273213
          ],
          [
           "Shasta",
           180080
          ],
          [
           "Sierra",
           3005
          ],
          [
           "Siskiyou",
           43539
          ],
          [
           "Solano",
           447643
          ],
          [
           "Sonoma",
           494336
          ],
          [
           "Stanislaus",
           550660
          ],
          [
           "Sutter",
           96971
          ],
          [
           "Tehama",
           65084
          ],
          [
           "Trinity",
           12285
          ],
          [
           "Tulare",
           466195
          ],
          [
           "Tuolumne",
           54478
          ],
          [
           "Ventura",
           846006
          ],
          [
           "Yolo",
           220500
          ],
          [
           "Yuba",
           78668
          ]
         ],
         "hovertemplate": "<b>%{customdata[0]} County</b><br><br><i>Cases per 100k</i>: %{y}<br><i>Unemployment Rate</i>: %{x}%<br><i>Population</i>: %{customdata[1]}",
         "marker": {
          "color": "#004679",
          "line": {
           "color": "#ffffff",
           "width": 1
          },
          "opacity": 0.7,
          "size": [
           27.977756406240214,
           12.898301020978622,
           17.06008208184058,
           20.818653392763792,
           17.318717810163538,
           16.057824777980162,
           26.386147176923284,
           16.4569594572729,
           20.477820982680697,
           25.80783349268203,
           16.490420354348995,
           19.594034868108995,
           20.316171185912474,
           15.794595422147083,
           25.40121549931449,
           19.88781371553559,
           17.964671453448126,
           16.61156875202046,
           38.14451539051155,
           19.957970140315393,
           21.277737441239566,
           15.726259847844291,
           18.580964862647686,
           21.477733970450153,
           14.84836549734372,
           15.48140478118039,
           22.83387177822631,
           19.632481352907412,
           18.885946058843714,
           31.107150076595484,
           22.561181353570163,
           15.855309897986828,
           29.82294794355772,
           27.64806078809656,
           17.915416018002773,
           29.212698212216797,
           31.37235211348942,
           25.320806185858608,
           24.773378776943808,
           21.53344875389171,
           24.79477565478132,
           22.924838554305886,
           28.631096999424162,
           21.431292681126855,
           20.29997984394579,
           13.701954898923777,
           17.222534363771963,
           22.93310947427082,
           23.25792518992918,
           23.62043214445906,
           18.823288359130814,
           17.98617023429591,
           15.263974715257165,
           23.06507500110682,
           17.6388027042765,
           25.16398566208713,
           20.834831277815958,
           18.373741146328697
          ]
         },
         "mode": "markers",
         "name": "",
         "type": "scatter",
         "visible": true,
         "x": [
          9.7,
          11,
          8.9,
          9,
          7.3,
          10,
          9.6,
          8.9,
          7.7,
          10.5,
          7.6,
          8.1,
          22.2,
          7.5,
          11.9,
          10.4,
          8.9,
          6.3,
          13.2,
          9.6,
          7,
          9.5,
          8.6,
          10.6,
          6.1,
          10,
          8.1,
          8.3,
          7.7,
          9.6,
          7.2,
          7.8,
          10.6,
          10,
          8.9,
          10.5,
          9.6,
          9,
          11.3,
          7.5,
          7.6,
          7.5,
          7.4,
          8.3,
          8,
          6.5,
          8,
          10.1,
          7.8,
          10.3,
          9.4,
          8.1,
          6.5,
          12.1,
          9.6,
          8.8,
          7.3,
          10.1
         ],
         "y": [
          155.62465558845685,
          88.57395925597875,
          62.88991748842825,
          251.84090224740632,
          93.671713320989,
          278.4610386596742,
          226.52285254081832,
          107.8671077232849,
          110.45254429769295,
          300.77039258293206,
          447.29334695171343,
          66.39224538573895,
          373.58938277736394,
          83.15316813570597,
          246.9445746621314,
          1049.4311494703804,
          358.7736464448793,
          85.04235763582246,
          278.33152888997,
          436.67012019551635,
          203.22533284909554,
          23.251758414230075,
          289.3405111298113,
          289.902045520023,
          124.42031444406742,
          41.53973968429798,
          421.83011143595024,
          194.56382855151585,
          93.22840960352865,
          165.19234233042752,
          136.82157211752096,
          42.53735311320253,
          268.4426843296988,
          276.2139043772849,
          304.10138835817094,
          290.4932605838763,
          255.90639631192843,
          184.10774670494777,
          230.92627678613604,
          222.5275598616797,
          222.80983024447772,
          206.27145861468895,
          189.79672713465555,
          218.14481741351983,
          388.7161261661484,
          0,
          52.826201796090864,
          195.24487147123935,
          368.37292853443813,
          238.25954309374205,
          279.46499468913385,
          316.5140433900805,
          32.56003256003256,
          383.7449994101181,
          40.38327398215793,
          241.72405396652033,
          150.11337868480726,
          246.60598972898765
         ]
        }
       ],
       "layout": {
        "height": 440,
        "sliders": [
         {
          "active": 6,
          "pad": {
           "t": 30
          },
          "steps": [
           {
            "args": [
             {
              "visible": [
               true,
               false,
               false,
               false,
               false,
               false,
               false
              ]
             },
             {
              "title.text": "COVID-19 Case Rate & Unemployment Rate of CA Counties, March 2020 (R = -0.309)"
             }
            ],
            "label": "March",
            "method": "update"
           },
           {
            "args": [
             {
              "visible": [
               false,
               true,
               false,
               false,
               false,
               false,
               false
              ]
             },
             {
              "title.text": "COVID-19 Case Rate & Unemployment Rate of CA Counties, April 2020 (R = 0.257)"
             }
            ],
            "label": "April",
            "method": "update"
           },
           {
            "args": [
             {
              "visible": [
               false,
               false,
               true,
               false,
               false,
               false,
               false
              ]
             },
             {
              "title.text": "COVID-19 Case Rate & Unemployment Rate of CA Counties, May 2020 (R = 0.525)"
             }
            ],
            "label": "May",
            "method": "update"
           },
           {
            "args": [
             {
              "visible": [
               false,
               false,
               false,
               true,
               false,
               false,
               false
              ]
             },
             {
              "title.text": "COVID-19 Case Rate & Unemployment Rate of CA Counties, June 2020 (R = 0.546)"
             }
            ],
            "label": "June",
            "method": "update"
           },
           {
            "args": [
             {
              "visible": [
               false,
               false,
               false,
               false,
               true,
               false,
               false
              ]
             },
             {
              "title.text": "COVID-19 Case Rate & Unemployment Rate of CA Counties, July 2020 (R = 0.501)"
             }
            ],
            "label": "July",
            "method": "update"
           },
           {
            "args": [
             {
              "visible": [
               false,
               false,
               false,
               false,
               false,
               true,
               false
              ]
             },
             {
              "title.text": "COVID-19 Case Rate & Unemployment Rate of CA Counties, August 2020 (R = 0.332)"
             }
            ],
            "label": "August",
            "method": "update"
           },
           {
            "args": [
             {
              "visible": [
               false,
               false,
               false,
               false,
               false,
               false,
               true
              ]
             },
             {
              "title.text": "COVID-19 Case Rate & Unemployment Rate of CA Counties, September 2020 (R = 0.303)"
             }
            ],
            "label": "September",
            "method": "update"
           }
          ]
         }
        ],
        "template": {
         "data": {
          "bar": [
           {
            "error_x": {
             "color": "#2a3f5f"
            },
            "error_y": {
             "color": "#2a3f5f"
            },
            "marker": {
             "line": {
              "color": "#E5ECF6",
              "width": 0.5
             }
            },
            "type": "bar"
           }
          ],
          "barpolar": [
           {
            "marker": {
             "line": {
              "color": "#E5ECF6",
              "width": 0.5
             }
            },
            "type": "barpolar"
           }
          ],
          "carpet": [
           {
            "aaxis": {
             "endlinecolor": "#2a3f5f",
             "gridcolor": "white",
             "linecolor": "white",
             "minorgridcolor": "white",
             "startlinecolor": "#2a3f5f"
            },
            "baxis": {
             "endlinecolor": "#2a3f5f",
             "gridcolor": "white",
             "linecolor": "white",
             "minorgridcolor": "white",
             "startlinecolor": "#2a3f5f"
            },
            "type": "carpet"
           }
          ],
          "choropleth": [
           {
            "colorbar": {
             "outlinewidth": 0,
             "ticks": ""
            },
            "type": "choropleth"
           }
          ],
          "contour": [
           {
            "colorbar": {
             "outlinewidth": 0,
             "ticks": ""
            },
            "colorscale": [
             [
              0,
              "#0d0887"
             ],
             [
              0.1111111111111111,
              "#46039f"
             ],
             [
              0.2222222222222222,
              "#7201a8"
             ],
             [
              0.3333333333333333,
              "#9c179e"
             ],
             [
              0.4444444444444444,
              "#bd3786"
             ],
             [
              0.5555555555555556,
              "#d8576b"
             ],
             [
              0.6666666666666666,
              "#ed7953"
             ],
             [
              0.7777777777777778,
              "#fb9f3a"
             ],
             [
              0.8888888888888888,
              "#fdca26"
             ],
             [
              1,
              "#f0f921"
             ]
            ],
            "type": "contour"
           }
          ],
          "contourcarpet": [
           {
            "colorbar": {
             "outlinewidth": 0,
             "ticks": ""
            },
            "type": "contourcarpet"
           }
          ],
          "heatmap": [
           {
            "colorbar": {
             "outlinewidth": 0,
             "ticks": ""
            },
            "colorscale": [
             [
              0,
              "#0d0887"
             ],
             [
              0.1111111111111111,
              "#46039f"
             ],
             [
              0.2222222222222222,
              "#7201a8"
             ],
             [
              0.3333333333333333,
              "#9c179e"
             ],
             [
              0.4444444444444444,
              "#bd3786"
             ],
             [
              0.5555555555555556,
              "#d8576b"
             ],
             [
              0.6666666666666666,
              "#ed7953"
             ],
             [
              0.7777777777777778,
              "#fb9f3a"
             ],
             [
              0.8888888888888888,
              "#fdca26"
             ],
             [
              1,
              "#f0f921"
             ]
            ],
            "type": "heatmap"
           }
          ],
          "heatmapgl": [
           {
            "colorbar": {
             "outlinewidth": 0,
             "ticks": ""
            },
            "colorscale": [
             [
              0,
              "#0d0887"
             ],
             [
              0.1111111111111111,
              "#46039f"
             ],
             [
              0.2222222222222222,
              "#7201a8"
             ],
             [
              0.3333333333333333,
              "#9c179e"
             ],
             [
              0.4444444444444444,
              "#bd3786"
             ],
             [
              0.5555555555555556,
              "#d8576b"
             ],
             [
              0.6666666666666666,
              "#ed7953"
             ],
             [
              0.7777777777777778,
              "#fb9f3a"
             ],
             [
              0.8888888888888888,
              "#fdca26"
             ],
             [
              1,
              "#f0f921"
             ]
            ],
            "type": "heatmapgl"
           }
          ],
          "histogram": [
           {
            "marker": {
             "colorbar": {
              "outlinewidth": 0,
              "ticks": ""
             }
            },
            "type": "histogram"
           }
          ],
          "histogram2d": [
           {
            "colorbar": {
             "outlinewidth": 0,
             "ticks": ""
            },
            "colorscale": [
             [
              0,
              "#0d0887"
             ],
             [
              0.1111111111111111,
              "#46039f"
             ],
             [
              0.2222222222222222,
              "#7201a8"
             ],
             [
              0.3333333333333333,
              "#9c179e"
             ],
             [
              0.4444444444444444,
              "#bd3786"
             ],
             [
              0.5555555555555556,
              "#d8576b"
             ],
             [
              0.6666666666666666,
              "#ed7953"
             ],
             [
              0.7777777777777778,
              "#fb9f3a"
             ],
             [
              0.8888888888888888,
              "#fdca26"
             ],
             [
              1,
              "#f0f921"
             ]
            ],
            "type": "histogram2d"
           }
          ],
          "histogram2dcontour": [
           {
            "colorbar": {
             "outlinewidth": 0,
             "ticks": ""
            },
            "colorscale": [
             [
              0,
              "#0d0887"
             ],
             [
              0.1111111111111111,
              "#46039f"
             ],
             [
              0.2222222222222222,
              "#7201a8"
             ],
             [
              0.3333333333333333,
              "#9c179e"
             ],
             [
              0.4444444444444444,
              "#bd3786"
             ],
             [
              0.5555555555555556,
              "#d8576b"
             ],
             [
              0.6666666666666666,
              "#ed7953"
             ],
             [
              0.7777777777777778,
              "#fb9f3a"
             ],
             [
              0.8888888888888888,
              "#fdca26"
             ],
             [
              1,
              "#f0f921"
             ]
            ],
            "type": "histogram2dcontour"
           }
          ],
          "mesh3d": [
           {
            "colorbar": {
             "outlinewidth": 0,
             "ticks": ""
            },
            "type": "mesh3d"
           }
          ],
          "parcoords": [
           {
            "line": {
             "colorbar": {
              "outlinewidth": 0,
              "ticks": ""
             }
            },
            "type": "parcoords"
           }
          ],
          "pie": [
           {
            "automargin": true,
            "type": "pie"
           }
          ],
          "scatter": [
           {
            "marker": {
             "colorbar": {
              "outlinewidth": 0,
              "ticks": ""
             }
            },
            "type": "scatter"
           }
          ],
          "scatter3d": [
           {
            "line": {
             "colorbar": {
              "outlinewidth": 0,
              "ticks": ""
             }
            },
            "marker": {
             "colorbar": {
              "outlinewidth": 0,
              "ticks": ""
             }
            },
            "type": "scatter3d"
           }
          ],
          "scattercarpet": [
           {
            "marker": {
             "colorbar": {
              "outlinewidth": 0,
              "ticks": ""
             }
            },
            "type": "scattercarpet"
           }
          ],
          "scattergeo": [
           {
            "marker": {
             "colorbar": {
              "outlinewidth": 0,
              "ticks": ""
             }
            },
            "type": "scattergeo"
           }
          ],
          "scattergl": [
           {
            "marker": {
             "colorbar": {
              "outlinewidth": 0,
              "ticks": ""
             }
            },
            "type": "scattergl"
           }
          ],
          "scattermapbox": [
           {
            "marker": {
             "colorbar": {
              "outlinewidth": 0,
              "ticks": ""
             }
            },
            "type": "scattermapbox"
           }
          ],
          "scatterpolar": [
           {
            "marker": {
             "colorbar": {
              "outlinewidth": 0,
              "ticks": ""
             }
            },
            "type": "scatterpolar"
           }
          ],
          "scatterpolargl": [
           {
            "marker": {
             "colorbar": {
              "outlinewidth": 0,
              "ticks": ""
             }
            },
            "type": "scatterpolargl"
           }
          ],
          "scatterternary": [
           {
            "marker": {
             "colorbar": {
              "outlinewidth": 0,
              "ticks": ""
             }
            },
            "type": "scatterternary"
           }
          ],
          "surface": [
           {
            "colorbar": {
             "outlinewidth": 0,
             "ticks": ""
            },
            "colorscale": [
             [
              0,
              "#0d0887"
             ],
             [
              0.1111111111111111,
              "#46039f"
             ],
             [
              0.2222222222222222,
              "#7201a8"
             ],
             [
              0.3333333333333333,
              "#9c179e"
             ],
             [
              0.4444444444444444,
              "#bd3786"
             ],
             [
              0.5555555555555556,
              "#d8576b"
             ],
             [
              0.6666666666666666,
              "#ed7953"
             ],
             [
              0.7777777777777778,
              "#fb9f3a"
             ],
             [
              0.8888888888888888,
              "#fdca26"
             ],
             [
              1,
              "#f0f921"
             ]
            ],
            "type": "surface"
           }
          ],
          "table": [
           {
            "cells": {
             "fill": {
              "color": "#EBF0F8"
             },
             "line": {
              "color": "white"
             }
            },
            "header": {
             "fill": {
              "color": "#C8D4E3"
             },
             "line": {
              "color": "white"
             }
            },
            "type": "table"
           }
          ]
         },
         "layout": {
          "annotationdefaults": {
           "arrowcolor": "#2a3f5f",
           "arrowhead": 0,
           "arrowwidth": 1
          },
          "coloraxis": {
           "colorbar": {
            "outlinewidth": 0,
            "ticks": ""
           }
          },
          "colorscale": {
           "diverging": [
            [
             0,
             "#8e0152"
            ],
            [
             0.1,
             "#c51b7d"
            ],
            [
             0.2,
             "#de77ae"
            ],
            [
             0.3,
             "#f1b6da"
            ],
            [
             0.4,
             "#fde0ef"
            ],
            [
             0.5,
             "#f7f7f7"
            ],
            [
             0.6,
             "#e6f5d0"
            ],
            [
             0.7,
             "#b8e186"
            ],
            [
             0.8,
             "#7fbc41"
            ],
            [
             0.9,
             "#4d9221"
            ],
            [
             1,
             "#276419"
            ]
           ],
           "sequential": [
            [
             0,
             "#0d0887"
            ],
            [
             0.1111111111111111,
             "#46039f"
            ],
            [
             0.2222222222222222,
             "#7201a8"
            ],
            [
             0.3333333333333333,
             "#9c179e"
            ],
            [
             0.4444444444444444,
             "#bd3786"
            ],
            [
             0.5555555555555556,
             "#d8576b"
            ],
            [
             0.6666666666666666,
             "#ed7953"
            ],
            [
             0.7777777777777778,
             "#fb9f3a"
            ],
            [
             0.8888888888888888,
             "#fdca26"
            ],
            [
             1,
             "#f0f921"
            ]
           ],
           "sequentialminus": [
            [
             0,
             "#0d0887"
            ],
            [
             0.1111111111111111,
             "#46039f"
            ],
            [
             0.2222222222222222,
             "#7201a8"
            ],
            [
             0.3333333333333333,
             "#9c179e"
            ],
            [
             0.4444444444444444,
             "#bd3786"
            ],
            [
             0.5555555555555556,
             "#d8576b"
            ],
            [
             0.6666666666666666,
             "#ed7953"
            ],
            [
             0.7777777777777778,
             "#fb9f3a"
            ],
            [
             0.8888888888888888,
             "#fdca26"
            ],
            [
             1,
             "#f0f921"
            ]
           ]
          },
          "colorway": [
           "#636efa",
           "#EF553B",
           "#00cc96",
           "#ab63fa",
           "#FFA15A",
           "#19d3f3",
           "#FF6692",
           "#B6E880",
           "#FF97FF",
           "#FECB52"
          ],
          "font": {
           "color": "#2a3f5f"
          },
          "geo": {
           "bgcolor": "white",
           "lakecolor": "white",
           "landcolor": "#E5ECF6",
           "showlakes": true,
           "showland": true,
           "subunitcolor": "white"
          },
          "hoverlabel": {
           "align": "left"
          },
          "hovermode": "closest",
          "mapbox": {
           "style": "light"
          },
          "paper_bgcolor": "white",
          "plot_bgcolor": "#E5ECF6",
          "polar": {
           "angularaxis": {
            "gridcolor": "white",
            "linecolor": "white",
            "ticks": ""
           },
           "bgcolor": "#E5ECF6",
           "radialaxis": {
            "gridcolor": "white",
            "linecolor": "white",
            "ticks": ""
           }
          },
          "scene": {
           "xaxis": {
            "backgroundcolor": "#E5ECF6",
            "gridcolor": "white",
            "gridwidth": 2,
            "linecolor": "white",
            "showbackground": true,
            "ticks": "",
            "zerolinecolor": "white"
           },
           "yaxis": {
            "backgroundcolor": "#E5ECF6",
            "gridcolor": "white",
            "gridwidth": 2,
            "linecolor": "white",
            "showbackground": true,
            "ticks": "",
            "zerolinecolor": "white"
           },
           "zaxis": {
            "backgroundcolor": "#E5ECF6",
            "gridcolor": "white",
            "gridwidth": 2,
            "linecolor": "white",
            "showbackground": true,
            "ticks": "",
            "zerolinecolor": "white"
           }
          },
          "shapedefaults": {
           "line": {
            "color": "#2a3f5f"
           }
          },
          "ternary": {
           "aaxis": {
            "gridcolor": "white",
            "linecolor": "white",
            "ticks": ""
           },
           "baxis": {
            "gridcolor": "white",
            "linecolor": "white",
            "ticks": ""
           },
           "bgcolor": "#E5ECF6",
           "caxis": {
            "gridcolor": "white",
            "linecolor": "white",
            "ticks": ""
           }
          },
          "title": {
           "x": 0.05
          },
          "xaxis": {
           "automargin": true,
           "gridcolor": "white",
           "linecolor": "white",
           "ticks": "",
           "title": {
            "standoff": 15
           },
           "zerolinecolor": "white",
           "zerolinewidth": 2
          },
          "yaxis": {
           "automargin": true,
           "gridcolor": "white",
           "linecolor": "white",
           "ticks": "",
           "title": {
            "standoff": 15
           },
           "zerolinecolor": "white",
           "zerolinewidth": 2
          }
         }
        },
        "title": {
         "text": "COVID-19 Case Rate & Unemployment Rate of CA Counties, September 2020 (R = 0.303)",
         "x": 0.5
        },
        "xaxis": {
         "range": [
          -0.5,
          30
         ],
         "title": {
          "text": "Unemployment Rate (%)"
         }
        },
        "yaxis": {
         "range": [
          -100,
          1350
         ],
         "title": {
          "text": "COVID-19 Cases per 100k"
         }
        }
       }
      },
      "text/html": [
       "<div>\n",
       "        \n",
       "        \n",
       "            <div id=\"aa787fa8-8bc1-4e2c-b410-8ed4f5538dde\" class=\"plotly-graph-div\" style=\"height:440px; width:100%;\"></div>\n",
       "            <script type=\"text/javascript\">\n",
       "                require([\"plotly\"], function(Plotly) {\n",
       "                    window.PLOTLYENV=window.PLOTLYENV || {};\n",
       "                    \n",
       "                if (document.getElementById(\"aa787fa8-8bc1-4e2c-b410-8ed4f5538dde\")) {\n",
       "                    Plotly.newPlot(\n",
       "                        'aa787fa8-8bc1-4e2c-b410-8ed4f5538dde',\n",
       "                        [{\"customdata\": [[\"Alameda\", 1671329.0], [\"Alpine\", 1129.0], [\"Amador\", 39752.0], [\"Butte\", 219186.0], [\"Calaveras\", 45905.0], [\"Colusa\", 21547.0], [\"Contra Costa\", 1153526.0], [\"Del Norte\", 27812.0], [\"El Dorado\", 192843.0], [\"Fresno\", 999101.0], [\"Glenn\", 28393.0], [\"Humboldt\", 135558.0], [\"Imperial\", 181215.0], [\"Inyo\", 18039.0], [\"Kern\", 900202.0], [\"Kings\", 152940.0], [\"Lake\", 64386.0], [\"Lassen\", 30573.0], [\"Los Angeles\", 10039107.0], [\"Madera\", 157327.0], [\"Marin\", 258826.0], [\"Mariposa\", 17203.0], [\"Mendocino\", 86749.0], [\"Merced\", 277680.0], [\"Modoc\", 8841.0], [\"Mono\", 14444.0], [\"Monterey\", 434061.0], [\"Napa\", 137744.0], [\"Nevada\", 99755.0], [\"Orange\", 3175692.0], [\"Placer\", 398329.0], [\"Plumas\", 18807.0], [\"Riverside\", 2470546.0], [\"Sacramento\", 1552058.0], [\"San Benito\", 62808.0], [\"San Bernardino\", 2180085.0], [\"San Diego\", 3338330.0], [\"San Francisco\", 881549.0], [\"San Joaquin\", 762148.0], [\"San Luis Obispo\", 283111.0], [\"San Mateo\", 766573.0], [\"Santa Barbara\", 446499.0], [\"Santa Clara\", 1927852.0], [\"Santa Cruz\", 273213.0], [\"Shasta\", 180080.0], [\"Sierra\", 3005.0], [\"Siskiyou\", 43539.0], [\"Solano\", 447643.0], [\"Sonoma\", 494336.0], [\"Stanislaus\", 550660.0], [\"Sutter\", 96971.0], [\"Tehama\", 65084.0], [\"Trinity\", 12285.0], [\"Tulare\", 466195.0], [\"Tuolumne\", 54478.0], [\"Ventura\", 846006.0], [\"Yolo\", 220500.0], [\"Yuba\", 78668.0]], \"hovertemplate\": \"<b>%{customdata[0]} County</b><br><br><i>Cases per 100k</i>: %{y}<br><i>Unemployment Rate</i>: %{x}%<br><i>Population</i>: %{customdata[1]}\", \"marker\": {\"color\": \"#004679\", \"line\": {\"color\": \"#ffffff\", \"width\": 1}, \"opacity\": 0.7, \"size\": [27.977756406240214, 12.898301020978622, 17.06008208184058, 20.818653392763792, 17.318717810163538, 16.057824777980162, 26.386147176923284, 16.4569594572729, 20.477820982680697, 25.80783349268203, 16.490420354348995, 19.594034868108995, 20.316171185912474, 15.794595422147083, 25.40121549931449, 19.88781371553559, 17.964671453448126, 16.61156875202046, 38.14451539051155, 19.957970140315393, 21.277737441239566, 15.726259847844291, 18.580964862647686, 21.477733970450153, 14.84836549734372, 15.48140478118039, 22.83387177822631, 19.632481352907412, 18.885946058843714, 31.107150076595484, 22.561181353570163, 15.855309897986828, 29.82294794355772, 27.64806078809656, 17.915416018002773, 29.212698212216797, 31.37235211348942, 25.320806185858608, 24.773378776943808, 21.53344875389171, 24.79477565478132, 22.924838554305886, 28.631096999424162, 21.431292681126855, 20.29997984394579, 13.701954898923777, 17.222534363771963, 22.93310947427082, 23.25792518992918, 23.62043214445906, 18.823288359130814, 17.98617023429591, 15.263974715257165, 23.06507500110682, 17.6388027042765, 25.16398566208713, 20.834831277815958, 18.373741146328697]}, \"mode\": \"markers\", \"name\": \"\", \"type\": \"scatter\", \"visible\": false, \"x\": [3.5, 5.5, 4.9, 6.1, 4.9, 21.4, 3.6, 6.9, 4.2, 9.8, 8.0, 4.4, 20.1, 4.4, 11.0, 11.3, 6.6, 6.6, 5.6, 9.6, 2.8, 6.7, 5.3, 11.6, 10.2, 4.4, 11.2, 3.7, 4.2, 3.3, 3.6, 11.9, 4.7, 4.3, 7.0, 4.4, 3.8, 2.8, 7.5, 3.5, 2.5, 4.9, 3.0, 7.4, 6.2, 7.8, 9.2, 4.6, 3.3, 7.6, 10.3, 6.9, 8.2, 13.2, 5.9, 4.2, 5.4, 7.9], \"y\": [40.626351843353405, 88.57395925597875, 12.57798349768565, 6.3872692598979866, 13.070471626184512, 13.923051932983709, 40.831329332845556, 3.5955702574428305, 15.556696379956753, 23.220875567134854, 10.565984573662522, 36.146889154457874, 51.32025494578264, 55.43544542380398, 30.770871426635356, 11.769321302471557, 1.553132668592551, 0.0, 68.44234253106377, 25.424752267570092, 50.99951318646504, 0.0, 4.611004161431256, 11.524056467876692, 0.0, 173.08224868457492, 17.278677420915493, 24.68347078638634, 35.08596060347852, 39.9283053898174, 28.36850944821994, 5.317169139150316, 46.75079921604374, 38.40062678070021, 47.76461597248758, 33.25558407126328, 46.8797272887941, 83.26252993310639, 29.91544949274944, 39.56045508652083, 83.09710882068634, 58.9027075088634, 69.24805431122306, 27.08509477953099, 11.106175033318525, 0.0, 9.187165529754932, 22.562622446905234, 29.736859140341792, 18.52322667344641, 21.655958998050963, 1.5364759387867983, 0.0, 25.311296774954684, 3.671206725650721, 35.57894388455874, 25.396825396825395, 11.44048405959221]}, {\"customdata\": [[\"Alameda\", 1671329.0], [\"Alpine\", 1129.0], [\"Amador\", 39752.0], [\"Butte\", 219186.0], [\"Calaveras\", 45905.0], [\"Colusa\", 21547.0], [\"Contra Costa\", 1153526.0], [\"Del Norte\", 27812.0], [\"El Dorado\", 192843.0], [\"Fresno\", 999101.0], [\"Glenn\", 28393.0], [\"Humboldt\", 135558.0], [\"Imperial\", 181215.0], [\"Inyo\", 18039.0], [\"Kern\", 900202.0], [\"Kings\", 152940.0], [\"Lake\", 64386.0], [\"Lassen\", 30573.0], [\"Los Angeles\", 10039107.0], [\"Madera\", 157327.0], [\"Marin\", 258826.0], [\"Mariposa\", 17203.0], [\"Mendocino\", 86749.0], [\"Merced\", 277680.0], [\"Modoc\", 8841.0], [\"Mono\", 14444.0], [\"Monterey\", 434061.0], [\"Napa\", 137744.0], [\"Nevada\", 99755.0], [\"Orange\", 3175692.0], [\"Placer\", 398329.0], [\"Plumas\", 18807.0], [\"Riverside\", 2470546.0], [\"Sacramento\", 1552058.0], [\"San Benito\", 62808.0], [\"San Bernardino\", 2180085.0], [\"San Diego\", 3338330.0], [\"San Francisco\", 881549.0], [\"San Joaquin\", 762148.0], [\"San Luis Obispo\", 283111.0], [\"San Mateo\", 766573.0], [\"Santa Barbara\", 446499.0], [\"Santa Clara\", 1927852.0], [\"Santa Cruz\", 273213.0], [\"Shasta\", 180080.0], [\"Sierra\", 3005.0], [\"Siskiyou\", 43539.0], [\"Solano\", 447643.0], [\"Sonoma\", 494336.0], [\"Stanislaus\", 550660.0], [\"Sutter\", 96971.0], [\"Tehama\", 65084.0], [\"Trinity\", 12285.0], [\"Tulare\", 466195.0], [\"Tuolumne\", 54478.0], [\"Ventura\", 846006.0], [\"Yolo\", 220500.0], [\"Yuba\", 78668.0]], \"hovertemplate\": \"<b>%{customdata[0]} County</b><br><br><i>Cases per 100k</i>: %{y}<br><i>Unemployment Rate</i>: %{x}%<br><i>Population</i>: %{customdata[1]}\", \"marker\": {\"color\": \"#004679\", \"line\": {\"color\": \"#ffffff\", \"width\": 1}, \"opacity\": 0.7, \"size\": [27.977756406240214, 12.898301020978622, 17.06008208184058, 20.818653392763792, 17.318717810163538, 16.057824777980162, 26.386147176923284, 16.4569594572729, 20.477820982680697, 25.80783349268203, 16.490420354348995, 19.594034868108995, 20.316171185912474, 15.794595422147083, 25.40121549931449, 19.88781371553559, 17.964671453448126, 16.61156875202046, 38.14451539051155, 19.957970140315393, 21.277737441239566, 15.726259847844291, 18.580964862647686, 21.477733970450153, 14.84836549734372, 15.48140478118039, 22.83387177822631, 19.632481352907412, 18.885946058843714, 31.107150076595484, 22.561181353570163, 15.855309897986828, 29.82294794355772, 27.64806078809656, 17.915416018002773, 29.212698212216797, 31.37235211348942, 25.320806185858608, 24.773378776943808, 21.53344875389171, 24.79477565478132, 22.924838554305886, 28.631096999424162, 21.431292681126855, 20.29997984394579, 13.701954898923777, 17.222534363771963, 22.93310947427082, 23.25792518992918, 23.62043214445906, 18.823288359130814, 17.98617023429591, 15.263974715257165, 23.06507500110682, 17.6388027042765, 25.16398566208713, 20.834831277815958, 18.373741146328697]}, \"mode\": \"markers\", \"name\": \"\", \"type\": \"scatter\", \"visible\": false, \"x\": [14.6, 22.9, 15.2, 15.9, 13.7, 25.7, 15.1, 14.5, 15.5, 17.1, 14.4, 15.2, 28.6, 14.9, 18.6, 16.9, 16.0, 11.5, 18.2, 17.4, 12.1, 20.4, 15.6, 18.5, 13.2, 28.2, 19.1, 17.8, 15.4, 14.4, 13.2, 18.7, 16.0, 14.9, 18.8, 14.2, 15.9, 13.0, 17.9, 14.8, 11.8, 14.0, 12.2, 17.6, 15.7, 14.3, 15.6, 15.7, 15.4, 17.2, 17.8, 14.7, 13.2, 18.6, 19.9, 14.5, 11.8, 16.4], \"y\": [75.68826963452437, 0.0, 7.546790098611391, 2.7374011113848513, 15.24888356388193, 0.0, 45.07917463498872, 10.78671077232849, 14.001026741961077, 85.77711362514901, 14.087979431550028, 6.639224538573894, 268.1897193940899, 49.89190088142358, 105.9762142274734, 146.4626650974238, 12.425061348740408, 0.0, 232.27165523786127, 20.97542062074533, 44.431394063965755, 87.19409405336279, 8.069257282504697, 59.06078939786805, 0.0, 34.61644973691498, 43.08150236948263, 34.12126844000465, 6.014736103453461, 80.48639477631963, 13.305584077483688, 15.95150741745095, 147.7001440167477, 34.59922245173827, 39.80384664373965, 88.43691874399393, 90.37452858165611, 125.46097834607039, 47.62854458714055, 40.973328482468006, 95.4899272476333, 84.43467958494867, 55.76154186109722, 21.228858070443206, 8.329631274988895, 0.0, 2.296791382438733, 49.1463063199916, 28.118526670119113, 66.28409544909745, 9.281125284878984, 0.0, 0.0, 198.2003238987977, 0.0, 46.21716630851318, 55.78231292517006, 12.711648955102456]}, {\"customdata\": [[\"Alameda\", 1671329.0], [\"Alpine\", 1129.0], [\"Amador\", 39752.0], [\"Butte\", 219186.0], [\"Calaveras\", 45905.0], [\"Colusa\", 21547.0], [\"Contra Costa\", 1153526.0], [\"Del Norte\", 27812.0], [\"El Dorado\", 192843.0], [\"Fresno\", 999101.0], [\"Glenn\", 28393.0], [\"Humboldt\", 135558.0], [\"Imperial\", 181215.0], [\"Inyo\", 18039.0], [\"Kern\", 900202.0], [\"Kings\", 152940.0], [\"Lake\", 64386.0], [\"Lassen\", 30573.0], [\"Los Angeles\", 10039107.0], [\"Madera\", 157327.0], [\"Marin\", 258826.0], [\"Mariposa\", 17203.0], [\"Mendocino\", 86749.0], [\"Merced\", 277680.0], [\"Modoc\", 8841.0], [\"Mono\", 14444.0], [\"Monterey\", 434061.0], [\"Napa\", 137744.0], [\"Nevada\", 99755.0], [\"Orange\", 3175692.0], [\"Placer\", 398329.0], [\"Plumas\", 18807.0], [\"Riverside\", 2470546.0], [\"Sacramento\", 1552058.0], [\"San Benito\", 62808.0], [\"San Bernardino\", 2180085.0], [\"San Diego\", 3338330.0], [\"San Francisco\", 881549.0], [\"San Joaquin\", 762148.0], [\"San Luis Obispo\", 283111.0], [\"San Mateo\", 766573.0], [\"Santa Barbara\", 446499.0], [\"Santa Clara\", 1927852.0], [\"Santa Cruz\", 273213.0], [\"Shasta\", 180080.0], [\"Sierra\", 3005.0], [\"Siskiyou\", 43539.0], [\"Solano\", 447643.0], [\"Sonoma\", 494336.0], [\"Stanislaus\", 550660.0], [\"Sutter\", 96971.0], [\"Tehama\", 65084.0], [\"Trinity\", 12285.0], [\"Tulare\", 466195.0], [\"Tuolumne\", 54478.0], [\"Ventura\", 846006.0], [\"Yolo\", 220500.0], [\"Yuba\", 78668.0]], \"hovertemplate\": \"<b>%{customdata[0]} County</b><br><br><i>Cases per 100k</i>: %{y}<br><i>Unemployment Rate</i>: %{x}%<br><i>Population</i>: %{customdata[1]}\", \"marker\": {\"color\": \"#004679\", \"line\": {\"color\": \"#ffffff\", \"width\": 1}, \"opacity\": 0.7, \"size\": [27.977756406240214, 12.898301020978622, 17.06008208184058, 20.818653392763792, 17.318717810163538, 16.057824777980162, 26.386147176923284, 16.4569594572729, 20.477820982680697, 25.80783349268203, 16.490420354348995, 19.594034868108995, 20.316171185912474, 15.794595422147083, 25.40121549931449, 19.88781371553559, 17.964671453448126, 16.61156875202046, 38.14451539051155, 19.957970140315393, 21.277737441239566, 15.726259847844291, 18.580964862647686, 21.477733970450153, 14.84836549734372, 15.48140478118039, 22.83387177822631, 19.632481352907412, 18.885946058843714, 31.107150076595484, 22.561181353570163, 15.855309897986828, 29.82294794355772, 27.64806078809656, 17.915416018002773, 29.212698212216797, 31.37235211348942, 25.320806185858608, 24.773378776943808, 21.53344875389171, 24.79477565478132, 22.924838554305886, 28.631096999424162, 21.431292681126855, 20.29997984394579, 13.701954898923777, 17.222534363771963, 22.93310947427082, 23.25792518992918, 23.62043214445906, 18.823288359130814, 17.98617023429591, 15.263974715257165, 23.06507500110682, 17.6388027042765, 25.16398566208713, 20.834831277815958, 18.373741146328697]}, \"mode\": \"markers\", \"name\": \"\", \"type\": \"scatter\", \"visible\": false, \"x\": [13.8, 22.8, 15.3, 13.3, 11.6, 19.4, 14.0, 13.4, 14.9, 15.2, 11.7, 12.9, 27.5, 12.5, 16.9, 14.9, 14.2, 9.5, 18.8, 14.8, 11.0, 19.1, 13.6, 15.7, 10.1, 26.5, 14.8, 15.2, 13.1, 14.9, 12.4, 13.6, 15.7, 14.3, 14.9, 14.1, 15.6, 12.8, 15.8, 13.1, 11.3, 12.4, 11.3, 14.3, 12.8, 11.4, 12.6, 14.5, 13.4, 15.6, 14.7, 12.4, 10.5, 16.5, 17.7, 13.6, 10.5, 14.6], \"y\": [111.70750941316761, 88.57395925597875, 5.03119339907426, 20.530508335386386, 10.892059688487093, 27.846103865967418, 59.98997855271576, 147.41838055515606, 28.002053483922154, 204.1835610213582, 45.785933152537595, 38.35996400064917, 1774.1356951687221, 5.543544542380398, 183.40328059702156, 647.3126716359357, 34.16891870903613, 19.625159454420565, 317.20948885194673, 108.05519713717291, 107.02170570190012, 5.812939603557519, 23.05502080715628, 70.2247191011236, 0.0, 55.38631957906397, 103.44168215988074, 46.46300383319782, 9.022104155180191, 166.54637792329987, 22.845436812283314, 0.0, 198.25577018197598, 25.25678808395047, 70.05477009298178, 173.25012556849848, 120.41949118271711, 98.91679305404463, 77.28157785626938, 32.496088106784974, 121.71052202464736, 312.8786402657117, 38.644045289783655, 32.57531669430078, 11.106175033318525, 33.277870216306155, 13.780748294632398, 66.57090583344316, 71.20662868979804, 80.6305161079432, 17.53101442699364, 13.828283449081185, 8.14000814000814, 309.52712920559, 3.671206725650721, 96.68962158660814, 24.03628117913832, 13.982813850612702]}, {\"customdata\": [[\"Alameda\", 1671329.0], [\"Alpine\", 1129.0], [\"Amador\", 39752.0], [\"Butte\", 219186.0], [\"Calaveras\", 45905.0], [\"Colusa\", 21547.0], [\"Contra Costa\", 1153526.0], [\"Del Norte\", 27812.0], [\"El Dorado\", 192843.0], [\"Fresno\", 999101.0], [\"Glenn\", 28393.0], [\"Humboldt\", 135558.0], [\"Imperial\", 181215.0], [\"Inyo\", 18039.0], [\"Kern\", 900202.0], [\"Kings\", 152940.0], [\"Lake\", 64386.0], [\"Lassen\", 30573.0], [\"Los Angeles\", 10039107.0], [\"Madera\", 157327.0], [\"Marin\", 258826.0], [\"Mariposa\", 17203.0], [\"Mendocino\", 86749.0], [\"Merced\", 277680.0], [\"Modoc\", 8841.0], [\"Mono\", 14444.0], [\"Monterey\", 434061.0], [\"Napa\", 137744.0], [\"Nevada\", 99755.0], [\"Orange\", 3175692.0], [\"Placer\", 398329.0], [\"Plumas\", 18807.0], [\"Riverside\", 2470546.0], [\"Sacramento\", 1552058.0], [\"San Benito\", 62808.0], [\"San Bernardino\", 2180085.0], [\"San Diego\", 3338330.0], [\"San Francisco\", 881549.0], [\"San Joaquin\", 762148.0], [\"San Luis Obispo\", 283111.0], [\"San Mateo\", 766573.0], [\"Santa Barbara\", 446499.0], [\"Santa Clara\", 1927852.0], [\"Santa Cruz\", 273213.0], [\"Shasta\", 180080.0], [\"Sierra\", 3005.0], [\"Siskiyou\", 43539.0], [\"Solano\", 447643.0], [\"Sonoma\", 494336.0], [\"Stanislaus\", 550660.0], [\"Sutter\", 96971.0], [\"Tehama\", 65084.0], [\"Trinity\", 12285.0], [\"Tulare\", 466195.0], [\"Tuolumne\", 54478.0], [\"Ventura\", 846006.0], [\"Yolo\", 220500.0], [\"Yuba\", 78668.0]], \"hovertemplate\": \"<b>%{customdata[0]} County</b><br><br><i>Cases per 100k</i>: %{y}<br><i>Unemployment Rate</i>: %{x}%<br><i>Population</i>: %{customdata[1]}\", \"marker\": {\"color\": \"#004679\", \"line\": {\"color\": \"#ffffff\", \"width\": 1}, \"opacity\": 0.7, \"size\": [27.977756406240214, 12.898301020978622, 17.06008208184058, 20.818653392763792, 17.318717810163538, 16.057824777980162, 26.386147176923284, 16.4569594572729, 20.477820982680697, 25.80783349268203, 16.490420354348995, 19.594034868108995, 20.316171185912474, 15.794595422147083, 25.40121549931449, 19.88781371553559, 17.964671453448126, 16.61156875202046, 38.14451539051155, 19.957970140315393, 21.277737441239566, 15.726259847844291, 18.580964862647686, 21.477733970450153, 14.84836549734372, 15.48140478118039, 22.83387177822631, 19.632481352907412, 18.885946058843714, 31.107150076595484, 22.561181353570163, 15.855309897986828, 29.82294794355772, 27.64806078809656, 17.915416018002773, 29.212698212216797, 31.37235211348942, 25.320806185858608, 24.773378776943808, 21.53344875389171, 24.79477565478132, 22.924838554305886, 28.631096999424162, 21.431292681126855, 20.29997984394579, 13.701954898923777, 17.222534363771963, 22.93310947427082, 23.25792518992918, 23.62043214445906, 18.823288359130814, 17.98617023429591, 15.263974715257165, 23.06507500110682, 17.6388027042765, 25.16398566208713, 20.834831277815958, 18.373741146328697]}, \"mode\": \"markers\", \"name\": \"\", \"type\": \"scatter\", \"visible\": false, \"x\": [13.0, 19.6, 12.1, 11.6, 10.0, 16.2, 12.9, 11.6, 12.0, 13.5, 10.5, 11.5, 26.5, 10.4, 15.7, 13.3, 12.3, 8.3, 17.9, 12.9, 10.0, 14.2, 12.0, 14.4, 8.7, 21.0, 12.1, 12.4, 11.2, 13.3, 10.5, 10.8, 13.7, 12.9, 12.7, 13.0, 13.5, 12.0, 14.5, 11.0, 10.5, 10.7, 10.3, 12.2, 10.6, 9.5, 10.9, 12.9, 11.4, 13.7, 12.8, 10.7, 8.9, 15.0, 13.9, 11.9, 9.8, 12.7], \"y\": [207.85853652991122, 0.0, 60.374320788891126, 99.91514056554708, 87.13647750789674, 399.127488745533, 209.87823421405324, 50.33798360419962, 90.74739554974772, 664.2972031856639, 510.6892543936886, 35.40919753906077, 2411.5001517534424, 77.60962359332557, 739.8339483804746, 1001.7000130770236, 97.84735812133071, 771.9229385405423, 568.4569354624869, 470.3579169500467, 982.1269887878343, 104.63291286403535, 66.8595603407532, 523.2641889945261, 11.310937676733401, 69.23289947382996, 360.7787845487155, 247.56069229875715, 108.2652498621623, 466.57547394394675, 175.23203181289838, 42.53735311320253, 609.096126929027, 196.89985812385876, 321.61508088141636, 614.7008029503437, 279.570923186144, 159.03823837359013, 581.3831434314595, 179.43492128529093, 184.7182199216513, 477.0447414215933, 131.1822691783394, 92.96775775676852, 88.8494002665482, 0.0, 52.826201796090864, 292.42052260395, 183.68073537027445, 608.9056768241746, 202.122283981809, 145.9652141847459, 8.14000814000814, 648.2266004568904, 82.60215132714123, 339.8321052096557, 234.9206349206349, 95.33736716326842]}, {\"customdata\": [[\"Alameda\", 1671329.0], [\"Alpine\", 1129.0], [\"Amador\", 39752.0], [\"Butte\", 219186.0], [\"Calaveras\", 45905.0], [\"Colusa\", 21547.0], [\"Contra Costa\", 1153526.0], [\"Del Norte\", 27812.0], [\"El Dorado\", 192843.0], [\"Fresno\", 999101.0], [\"Glenn\", 28393.0], [\"Humboldt\", 135558.0], [\"Imperial\", 181215.0], [\"Inyo\", 18039.0], [\"Kern\", 900202.0], [\"Kings\", 152940.0], [\"Lake\", 64386.0], [\"Lassen\", 30573.0], [\"Los Angeles\", 10039107.0], [\"Madera\", 157327.0], [\"Marin\", 258826.0], [\"Mariposa\", 17203.0], [\"Mendocino\", 86749.0], [\"Merced\", 277680.0], [\"Modoc\", 8841.0], [\"Mono\", 14444.0], [\"Monterey\", 434061.0], [\"Napa\", 137744.0], [\"Nevada\", 99755.0], [\"Orange\", 3175692.0], [\"Placer\", 398329.0], [\"Plumas\", 18807.0], [\"Riverside\", 2470546.0], [\"Sacramento\", 1552058.0], [\"San Benito\", 62808.0], [\"San Bernardino\", 2180085.0], [\"San Diego\", 3338330.0], [\"San Francisco\", 881549.0], [\"San Joaquin\", 762148.0], [\"San Luis Obispo\", 283111.0], [\"San Mateo\", 766573.0], [\"Santa Barbara\", 446499.0], [\"Santa Clara\", 1927852.0], [\"Santa Cruz\", 273213.0], [\"Shasta\", 180080.0], [\"Sierra\", 3005.0], [\"Siskiyou\", 43539.0], [\"Solano\", 447643.0], [\"Sonoma\", 494336.0], [\"Stanislaus\", 550660.0], [\"Sutter\", 96971.0], [\"Tehama\", 65084.0], [\"Trinity\", 12285.0], [\"Tulare\", 466195.0], [\"Tuolumne\", 54478.0], [\"Ventura\", 846006.0], [\"Yolo\", 220500.0], [\"Yuba\", 78668.0]], \"hovertemplate\": \"<b>%{customdata[0]} County</b><br><br><i>Cases per 100k</i>: %{y}<br><i>Unemployment Rate</i>: %{x}%<br><i>Population</i>: %{customdata[1]}\", \"marker\": {\"color\": \"#004679\", \"line\": {\"color\": \"#ffffff\", \"width\": 1}, \"opacity\": 0.7, \"size\": [27.977756406240214, 12.898301020978622, 17.06008208184058, 20.818653392763792, 17.318717810163538, 16.057824777980162, 26.386147176923284, 16.4569594572729, 20.477820982680697, 25.80783349268203, 16.490420354348995, 19.594034868108995, 20.316171185912474, 15.794595422147083, 25.40121549931449, 19.88781371553559, 17.964671453448126, 16.61156875202046, 38.14451539051155, 19.957970140315393, 21.277737441239566, 15.726259847844291, 18.580964862647686, 21.477733970450153, 14.84836549734372, 15.48140478118039, 22.83387177822631, 19.632481352907412, 18.885946058843714, 31.107150076595484, 22.561181353570163, 15.855309897986828, 29.82294794355772, 27.64806078809656, 17.915416018002773, 29.212698212216797, 31.37235211348942, 25.320806185858608, 24.773378776943808, 21.53344875389171, 24.79477565478132, 22.924838554305886, 28.631096999424162, 21.431292681126855, 20.29997984394579, 13.701954898923777, 17.222534363771963, 22.93310947427082, 23.25792518992918, 23.62043214445906, 18.823288359130814, 17.98617023429591, 15.263974715257165, 23.06507500110682, 17.6388027042765, 25.16398566208713, 20.834831277815958, 18.373741146328697]}, \"mode\": \"markers\", \"name\": \"\", \"type\": \"scatter\", \"visible\": false, \"x\": [12.0, 14.5, 11.6, 11.1, 9.1, 13.5, 11.9, 11.1, 9.9, 13.0, 10.1, 10.6, 27.5, 9.3, 15.2, 12.4, 11.0, 8.0, 18.2, 12.4, 9.1, 11.3, 10.9, 13.9, 7.8, 13.7, 10.4, 10.7, 10.0, 12.3, 9.4, 10.0, 13.2, 12.1, 11.3, 12.7, 12.3, 11.0, 13.8, 9.9, 9.4, 9.6, 9.3, 10.6, 10.1, 8.6, 10.3, 12.1, 10.0, 12.9, 11.7, 10.3, 8.0, 15.0, 12.2, 11.2, 9.1, 12.2], \"y\": [392.68151273627154, 88.57395925597875, 389.9174884282552, 390.9921254094696, 193.87866245507024, 1313.4078990114633, 552.913415042227, 107.8671077232849, 262.9081688212691, 1193.1726622233389, 760.7508893037017, 78.93300284748963, 1193.6098005132026, 210.6546926104551, 1706.728045483125, 1309.663920491696, 218.99170627154973, 1269.0936447191968, 834.7355994910703, 1191.7852625423482, 911.4231182338714, 156.949369296053, 261.67448616122374, 1482.6418899452608, 56.554688383667006, 692.3289947382997, 768.7859540479333, 501.65524451155767, 186.4568192070573, 617.3142735504576, 337.409528304492, 116.97772106130697, 832.5689948699599, 548.6908350074547, 670.2967774805758, 936.7065963024378, 438.75231028687995, 373.5470178061571, 1211.3132882327318, 436.57787934767634, 352.6082969267115, 668.3105673248989, 366.31442662611033, 308.91648640438046, 152.70990670812972, 66.55574043261231, 142.40106571120145, 539.0456234097261, 454.549132573796, 1380.3435876947663, 670.3034927968156, 271.95624116526335, 32.56003256003256, 1207.4346571713552, 192.73835309666288, 515.4809776762813, 512.9251700680272, 522.448772054711]}, {\"customdata\": [[\"Alameda\", 1671329.0], [\"Alpine\", 1129.0], [\"Amador\", 39752.0], [\"Butte\", 219186.0], [\"Calaveras\", 45905.0], [\"Colusa\", 21547.0], [\"Contra Costa\", 1153526.0], [\"Del Norte\", 27812.0], [\"El Dorado\", 192843.0], [\"Fresno\", 999101.0], [\"Glenn\", 28393.0], [\"Humboldt\", 135558.0], [\"Imperial\", 181215.0], [\"Inyo\", 18039.0], [\"Kern\", 900202.0], [\"Kings\", 152940.0], [\"Lake\", 64386.0], [\"Lassen\", 30573.0], [\"Los Angeles\", 10039107.0], [\"Madera\", 157327.0], [\"Marin\", 258826.0], [\"Mariposa\", 17203.0], [\"Mendocino\", 86749.0], [\"Merced\", 277680.0], [\"Modoc\", 8841.0], [\"Mono\", 14444.0], [\"Monterey\", 434061.0], [\"Napa\", 137744.0], [\"Nevada\", 99755.0], [\"Orange\", 3175692.0], [\"Placer\", 398329.0], [\"Plumas\", 18807.0], [\"Riverside\", 2470546.0], [\"Sacramento\", 1552058.0], [\"San Benito\", 62808.0], [\"San Bernardino\", 2180085.0], [\"San Diego\", 3338330.0], [\"San Francisco\", 881549.0], [\"San Joaquin\", 762148.0], [\"San Luis Obispo\", 283111.0], [\"San Mateo\", 766573.0], [\"Santa Barbara\", 446499.0], [\"Santa Clara\", 1927852.0], [\"Santa Cruz\", 273213.0], [\"Shasta\", 180080.0], [\"Sierra\", 3005.0], [\"Siskiyou\", 43539.0], [\"Solano\", 447643.0], [\"Sonoma\", 494336.0], [\"Stanislaus\", 550660.0], [\"Sutter\", 96971.0], [\"Tehama\", 65084.0], [\"Trinity\", 12285.0], [\"Tulare\", 466195.0], [\"Tuolumne\", 54478.0], [\"Ventura\", 846006.0], [\"Yolo\", 220500.0], [\"Yuba\", 78668.0]], \"hovertemplate\": \"<b>%{customdata[0]} County</b><br><br><i>Cases per 100k</i>: %{y}<br><i>Unemployment Rate</i>: %{x}%<br><i>Population</i>: %{customdata[1]}\", \"marker\": {\"color\": \"#004679\", \"line\": {\"color\": \"#ffffff\", \"width\": 1}, \"opacity\": 0.7, \"size\": [27.977756406240214, 12.898301020978622, 17.06008208184058, 20.818653392763792, 17.318717810163538, 16.057824777980162, 26.386147176923284, 16.4569594572729, 20.477820982680697, 25.80783349268203, 16.490420354348995, 19.594034868108995, 20.316171185912474, 15.794595422147083, 25.40121549931449, 19.88781371553559, 17.964671453448126, 16.61156875202046, 38.14451539051155, 19.957970140315393, 21.277737441239566, 15.726259847844291, 18.580964862647686, 21.477733970450153, 14.84836549734372, 15.48140478118039, 22.83387177822631, 19.632481352907412, 18.885946058843714, 31.107150076595484, 22.561181353570163, 15.855309897986828, 29.82294794355772, 27.64806078809656, 17.915416018002773, 29.212698212216797, 31.37235211348942, 25.320806185858608, 24.773378776943808, 21.53344875389171, 24.79477565478132, 22.924838554305886, 28.631096999424162, 21.431292681126855, 20.29997984394579, 13.701954898923777, 17.222534363771963, 22.93310947427082, 23.25792518992918, 23.62043214445906, 18.823288359130814, 17.98617023429591, 15.263974715257165, 23.06507500110682, 17.6388027042765, 25.16398566208713, 20.834831277815958, 18.373741146328697]}, \"mode\": \"markers\", \"name\": \"\", \"type\": \"scatter\", \"visible\": false, \"x\": [10.6, 11.6, 9.8, 9.8, 7.8, 10.7, 10.5, 9.8, 8.5, 11.5, 8.6, 9.4, 24.8, 8.0, 13.0, 11.0, 9.5, 6.8, 17.5, 10.5, 7.8, 10.0, 9.5, 11.9, 6.7, 11.0, 8.8, 9.3, 8.6, 10.7, 8.2, 8.5, 11.6, 10.9, 9.6, 11.3, 10.8, 9.7, 12.2, 8.6, 8.3, 8.3, 8.1, 9.2, 8.7, 7.7, 9.1, 11.0, 8.7, 11.2, 10.1, 8.9, 6.9, 13.1, 10.7, 9.8, 7.9, 10.8], \"y\": [323.3355012687508, 0.0, 216.34131616019317, 563.4483954267153, 272.3014922121773, 459.46071378846244, 378.40499477254957, 100.67596720839924, 116.67522284967565, 615.0529325863952, 348.67749093086326, 118.76835007893301, 529.205639709737, 609.7898996618438, 548.09920440079, 1042.2387864522036, 198.80098157984654, 278.02309227095805, 420.1170482593721, 706.1724942317593, 329.5650359701112, 69.75527524269023, 376.94959019700514, 813.1662345145492, 135.73125212080083, 96.92605926336195, 636.5464761865268, 242.47880125450112, 122.29963410355371, 217.68483845410702, 213.64249150827584, 47.85452225235285, 353.0798455078351, 385.61703235317236, 711.692777990065, 428.19431352447265, 238.08311341299392, 281.54986279832434, 517.0911686444102, 368.4067379932253, 285.55662670091436, 340.87422368247184, 306.1957038195878, 225.4651132998796, 79.96446023989337, 99.83361064891847, 96.46523806242679, 295.1012302214041, 479.8355774210254, 653.94254167726, 566.148642377618, 245.83615020588775, 73.26007326007326, 745.6107422859533, 102.7937883182202, 308.62665276605605, 311.5646258503402, 507.194793308588]}, {\"customdata\": [[\"Alameda\", 1671329.0], [\"Alpine\", 1129.0], [\"Amador\", 39752.0], [\"Butte\", 219186.0], [\"Calaveras\", 45905.0], [\"Colusa\", 21547.0], [\"Contra Costa\", 1153526.0], [\"Del Norte\", 27812.0], [\"El Dorado\", 192843.0], [\"Fresno\", 999101.0], [\"Glenn\", 28393.0], [\"Humboldt\", 135558.0], [\"Imperial\", 181215.0], [\"Inyo\", 18039.0], [\"Kern\", 900202.0], [\"Kings\", 152940.0], [\"Lake\", 64386.0], [\"Lassen\", 30573.0], [\"Los Angeles\", 10039107.0], [\"Madera\", 157327.0], [\"Marin\", 258826.0], [\"Mariposa\", 17203.0], [\"Mendocino\", 86749.0], [\"Merced\", 277680.0], [\"Modoc\", 8841.0], [\"Mono\", 14444.0], [\"Monterey\", 434061.0], [\"Napa\", 137744.0], [\"Nevada\", 99755.0], [\"Orange\", 3175692.0], [\"Placer\", 398329.0], [\"Plumas\", 18807.0], [\"Riverside\", 2470546.0], [\"Sacramento\", 1552058.0], [\"San Benito\", 62808.0], [\"San Bernardino\", 2180085.0], [\"San Diego\", 3338330.0], [\"San Francisco\", 881549.0], [\"San Joaquin\", 762148.0], [\"San Luis Obispo\", 283111.0], [\"San Mateo\", 766573.0], [\"Santa Barbara\", 446499.0], [\"Santa Clara\", 1927852.0], [\"Santa Cruz\", 273213.0], [\"Shasta\", 180080.0], [\"Sierra\", 3005.0], [\"Siskiyou\", 43539.0], [\"Solano\", 447643.0], [\"Sonoma\", 494336.0], [\"Stanislaus\", 550660.0], [\"Sutter\", 96971.0], [\"Tehama\", 65084.0], [\"Trinity\", 12285.0], [\"Tulare\", 466195.0], [\"Tuolumne\", 54478.0], [\"Ventura\", 846006.0], [\"Yolo\", 220500.0], [\"Yuba\", 78668.0]], \"hovertemplate\": \"<b>%{customdata[0]} County</b><br><br><i>Cases per 100k</i>: %{y}<br><i>Unemployment Rate</i>: %{x}%<br><i>Population</i>: %{customdata[1]}\", \"marker\": {\"color\": \"#004679\", \"line\": {\"color\": \"#ffffff\", \"width\": 1}, \"opacity\": 0.7, \"size\": [27.977756406240214, 12.898301020978622, 17.06008208184058, 20.818653392763792, 17.318717810163538, 16.057824777980162, 26.386147176923284, 16.4569594572729, 20.477820982680697, 25.80783349268203, 16.490420354348995, 19.594034868108995, 20.316171185912474, 15.794595422147083, 25.40121549931449, 19.88781371553559, 17.964671453448126, 16.61156875202046, 38.14451539051155, 19.957970140315393, 21.277737441239566, 15.726259847844291, 18.580964862647686, 21.477733970450153, 14.84836549734372, 15.48140478118039, 22.83387177822631, 19.632481352907412, 18.885946058843714, 31.107150076595484, 22.561181353570163, 15.855309897986828, 29.82294794355772, 27.64806078809656, 17.915416018002773, 29.212698212216797, 31.37235211348942, 25.320806185858608, 24.773378776943808, 21.53344875389171, 24.79477565478132, 22.924838554305886, 28.631096999424162, 21.431292681126855, 20.29997984394579, 13.701954898923777, 17.222534363771963, 22.93310947427082, 23.25792518992918, 23.62043214445906, 18.823288359130814, 17.98617023429591, 15.263974715257165, 23.06507500110682, 17.6388027042765, 25.16398566208713, 20.834831277815958, 18.373741146328697]}, \"mode\": \"markers\", \"name\": \"\", \"type\": \"scatter\", \"visible\": true, \"x\": [9.7, 11.0, 8.9, 9.0, 7.3, 10.0, 9.6, 8.9, 7.7, 10.5, 7.6, 8.1, 22.2, 7.5, 11.9, 10.4, 8.9, 6.3, 13.2, 9.6, 7.0, 9.5, 8.6, 10.6, 6.1, 10.0, 8.1, 8.3, 7.7, 9.6, 7.2, 7.8, 10.6, 10.0, 8.9, 10.5, 9.6, 9.0, 11.3, 7.5, 7.6, 7.5, 7.4, 8.3, 8.0, 6.5, 8.0, 10.1, 7.8, 10.3, 9.4, 8.1, 6.5, 12.1, 9.6, 8.8, 7.3, 10.1], \"y\": [155.62465558845685, 88.57395925597875, 62.88991748842825, 251.84090224740632, 93.671713320989, 278.4610386596742, 226.52285254081832, 107.8671077232849, 110.45254429769295, 300.77039258293206, 447.29334695171343, 66.39224538573895, 373.58938277736394, 83.15316813570597, 246.9445746621314, 1049.4311494703804, 358.7736464448793, 85.04235763582246, 278.33152888997, 436.67012019551635, 203.22533284909554, 23.251758414230075, 289.3405111298113, 289.902045520023, 124.42031444406742, 41.53973968429798, 421.83011143595024, 194.56382855151585, 93.22840960352865, 165.19234233042752, 136.82157211752096, 42.53735311320253, 268.4426843296988, 276.2139043772849, 304.10138835817094, 290.4932605838763, 255.90639631192843, 184.10774670494777, 230.92627678613604, 222.5275598616797, 222.80983024447772, 206.27145861468895, 189.79672713465555, 218.14481741351983, 388.7161261661484, 0.0, 52.826201796090864, 195.24487147123935, 368.37292853443813, 238.25954309374205, 279.46499468913385, 316.5140433900805, 32.56003256003256, 383.7449994101181, 40.38327398215793, 241.72405396652033, 150.11337868480726, 246.60598972898765]}],\n",
       "                        {\"height\": 440, \"sliders\": [{\"active\": 6, \"pad\": {\"t\": 30}, \"steps\": [{\"args\": [{\"visible\": [true, false, false, false, false, false, false]}, {\"title.text\": \"COVID-19 Case Rate & Unemployment Rate of CA Counties, March 2020 (R = -0.309)\"}], \"label\": \"March\", \"method\": \"update\"}, {\"args\": [{\"visible\": [false, true, false, false, false, false, false]}, {\"title.text\": \"COVID-19 Case Rate & Unemployment Rate of CA Counties, April 2020 (R = 0.257)\"}], \"label\": \"April\", \"method\": \"update\"}, {\"args\": [{\"visible\": [false, false, true, false, false, false, false]}, {\"title.text\": \"COVID-19 Case Rate & Unemployment Rate of CA Counties, May 2020 (R = 0.525)\"}], \"label\": \"May\", \"method\": \"update\"}, {\"args\": [{\"visible\": [false, false, false, true, false, false, false]}, {\"title.text\": \"COVID-19 Case Rate & Unemployment Rate of CA Counties, June 2020 (R = 0.546)\"}], \"label\": \"June\", \"method\": \"update\"}, {\"args\": [{\"visible\": [false, false, false, false, true, false, false]}, {\"title.text\": \"COVID-19 Case Rate & Unemployment Rate of CA Counties, July 2020 (R = 0.501)\"}], \"label\": \"July\", \"method\": \"update\"}, {\"args\": [{\"visible\": [false, false, false, false, false, true, false]}, {\"title.text\": \"COVID-19 Case Rate & Unemployment Rate of CA Counties, August 2020 (R = 0.332)\"}], \"label\": \"August\", \"method\": \"update\"}, {\"args\": [{\"visible\": [false, false, false, false, false, false, true]}, {\"title.text\": \"COVID-19 Case Rate & Unemployment Rate of CA Counties, September 2020 (R = 0.303)\"}], \"label\": \"September\", \"method\": \"update\"}]}], \"template\": {\"data\": {\"bar\": [{\"error_x\": {\"color\": \"#2a3f5f\"}, \"error_y\": {\"color\": \"#2a3f5f\"}, \"marker\": {\"line\": {\"color\": \"#E5ECF6\", \"width\": 0.5}}, \"type\": \"bar\"}], \"barpolar\": [{\"marker\": {\"line\": {\"color\": \"#E5ECF6\", \"width\": 0.5}}, \"type\": \"barpolar\"}], \"carpet\": [{\"aaxis\": {\"endlinecolor\": \"#2a3f5f\", \"gridcolor\": \"white\", \"linecolor\": \"white\", \"minorgridcolor\": \"white\", \"startlinecolor\": \"#2a3f5f\"}, \"baxis\": {\"endlinecolor\": \"#2a3f5f\", \"gridcolor\": \"white\", \"linecolor\": \"white\", \"minorgridcolor\": \"white\", \"startlinecolor\": \"#2a3f5f\"}, \"type\": \"carpet\"}], \"choropleth\": [{\"colorbar\": {\"outlinewidth\": 0, \"ticks\": \"\"}, \"type\": \"choropleth\"}], \"contour\": [{\"colorbar\": {\"outlinewidth\": 0, \"ticks\": \"\"}, \"colorscale\": [[0.0, \"#0d0887\"], [0.1111111111111111, \"#46039f\"], [0.2222222222222222, \"#7201a8\"], [0.3333333333333333, \"#9c179e\"], [0.4444444444444444, \"#bd3786\"], [0.5555555555555556, \"#d8576b\"], [0.6666666666666666, \"#ed7953\"], [0.7777777777777778, \"#fb9f3a\"], [0.8888888888888888, \"#fdca26\"], [1.0, \"#f0f921\"]], \"type\": \"contour\"}], \"contourcarpet\": [{\"colorbar\": {\"outlinewidth\": 0, \"ticks\": \"\"}, \"type\": \"contourcarpet\"}], \"heatmap\": [{\"colorbar\": {\"outlinewidth\": 0, \"ticks\": \"\"}, \"colorscale\": [[0.0, \"#0d0887\"], [0.1111111111111111, \"#46039f\"], [0.2222222222222222, \"#7201a8\"], [0.3333333333333333, \"#9c179e\"], [0.4444444444444444, \"#bd3786\"], [0.5555555555555556, \"#d8576b\"], [0.6666666666666666, \"#ed7953\"], [0.7777777777777778, \"#fb9f3a\"], [0.8888888888888888, \"#fdca26\"], [1.0, \"#f0f921\"]], \"type\": \"heatmap\"}], \"heatmapgl\": [{\"colorbar\": {\"outlinewidth\": 0, \"ticks\": \"\"}, \"colorscale\": [[0.0, \"#0d0887\"], [0.1111111111111111, \"#46039f\"], [0.2222222222222222, \"#7201a8\"], [0.3333333333333333, \"#9c179e\"], [0.4444444444444444, \"#bd3786\"], [0.5555555555555556, \"#d8576b\"], [0.6666666666666666, \"#ed7953\"], [0.7777777777777778, \"#fb9f3a\"], [0.8888888888888888, \"#fdca26\"], [1.0, \"#f0f921\"]], \"type\": \"heatmapgl\"}], \"histogram\": [{\"marker\": {\"colorbar\": {\"outlinewidth\": 0, \"ticks\": \"\"}}, \"type\": \"histogram\"}], \"histogram2d\": [{\"colorbar\": {\"outlinewidth\": 0, \"ticks\": \"\"}, \"colorscale\": [[0.0, \"#0d0887\"], [0.1111111111111111, \"#46039f\"], [0.2222222222222222, \"#7201a8\"], [0.3333333333333333, \"#9c179e\"], [0.4444444444444444, \"#bd3786\"], [0.5555555555555556, \"#d8576b\"], [0.6666666666666666, \"#ed7953\"], [0.7777777777777778, \"#fb9f3a\"], [0.8888888888888888, \"#fdca26\"], [1.0, \"#f0f921\"]], \"type\": \"histogram2d\"}], \"histogram2dcontour\": [{\"colorbar\": {\"outlinewidth\": 0, \"ticks\": \"\"}, \"colorscale\": [[0.0, \"#0d0887\"], [0.1111111111111111, \"#46039f\"], [0.2222222222222222, \"#7201a8\"], [0.3333333333333333, \"#9c179e\"], [0.4444444444444444, \"#bd3786\"], [0.5555555555555556, \"#d8576b\"], [0.6666666666666666, \"#ed7953\"], [0.7777777777777778, \"#fb9f3a\"], [0.8888888888888888, \"#fdca26\"], [1.0, \"#f0f921\"]], \"type\": \"histogram2dcontour\"}], \"mesh3d\": [{\"colorbar\": {\"outlinewidth\": 0, \"ticks\": \"\"}, \"type\": \"mesh3d\"}], \"parcoords\": [{\"line\": {\"colorbar\": {\"outlinewidth\": 0, \"ticks\": \"\"}}, \"type\": \"parcoords\"}], \"pie\": [{\"automargin\": true, \"type\": \"pie\"}], \"scatter\": [{\"marker\": {\"colorbar\": {\"outlinewidth\": 0, \"ticks\": \"\"}}, \"type\": \"scatter\"}], \"scatter3d\": [{\"line\": {\"colorbar\": {\"outlinewidth\": 0, \"ticks\": \"\"}}, \"marker\": {\"colorbar\": {\"outlinewidth\": 0, \"ticks\": \"\"}}, \"type\": \"scatter3d\"}], \"scattercarpet\": [{\"marker\": {\"colorbar\": {\"outlinewidth\": 0, \"ticks\": \"\"}}, \"type\": \"scattercarpet\"}], \"scattergeo\": [{\"marker\": {\"colorbar\": {\"outlinewidth\": 0, \"ticks\": \"\"}}, \"type\": \"scattergeo\"}], \"scattergl\": [{\"marker\": {\"colorbar\": {\"outlinewidth\": 0, \"ticks\": \"\"}}, \"type\": \"scattergl\"}], \"scattermapbox\": [{\"marker\": {\"colorbar\": {\"outlinewidth\": 0, \"ticks\": \"\"}}, \"type\": \"scattermapbox\"}], \"scatterpolar\": [{\"marker\": {\"colorbar\": {\"outlinewidth\": 0, \"ticks\": \"\"}}, \"type\": \"scatterpolar\"}], \"scatterpolargl\": [{\"marker\": {\"colorbar\": {\"outlinewidth\": 0, \"ticks\": \"\"}}, \"type\": \"scatterpolargl\"}], \"scatterternary\": [{\"marker\": {\"colorbar\": {\"outlinewidth\": 0, \"ticks\": \"\"}}, \"type\": \"scatterternary\"}], \"surface\": [{\"colorbar\": {\"outlinewidth\": 0, \"ticks\": \"\"}, \"colorscale\": [[0.0, \"#0d0887\"], [0.1111111111111111, \"#46039f\"], [0.2222222222222222, \"#7201a8\"], [0.3333333333333333, \"#9c179e\"], [0.4444444444444444, \"#bd3786\"], [0.5555555555555556, \"#d8576b\"], [0.6666666666666666, \"#ed7953\"], [0.7777777777777778, \"#fb9f3a\"], [0.8888888888888888, \"#fdca26\"], [1.0, \"#f0f921\"]], \"type\": \"surface\"}], \"table\": [{\"cells\": {\"fill\": {\"color\": \"#EBF0F8\"}, \"line\": {\"color\": \"white\"}}, \"header\": {\"fill\": {\"color\": \"#C8D4E3\"}, \"line\": {\"color\": \"white\"}}, \"type\": \"table\"}]}, \"layout\": {\"annotationdefaults\": {\"arrowcolor\": \"#2a3f5f\", \"arrowhead\": 0, \"arrowwidth\": 1}, \"coloraxis\": {\"colorbar\": {\"outlinewidth\": 0, \"ticks\": \"\"}}, \"colorscale\": {\"diverging\": [[0, \"#8e0152\"], [0.1, \"#c51b7d\"], [0.2, \"#de77ae\"], [0.3, \"#f1b6da\"], [0.4, \"#fde0ef\"], [0.5, \"#f7f7f7\"], [0.6, \"#e6f5d0\"], [0.7, \"#b8e186\"], [0.8, \"#7fbc41\"], [0.9, \"#4d9221\"], [1, \"#276419\"]], \"sequential\": [[0.0, \"#0d0887\"], [0.1111111111111111, \"#46039f\"], [0.2222222222222222, \"#7201a8\"], [0.3333333333333333, \"#9c179e\"], [0.4444444444444444, \"#bd3786\"], [0.5555555555555556, \"#d8576b\"], [0.6666666666666666, \"#ed7953\"], [0.7777777777777778, \"#fb9f3a\"], [0.8888888888888888, \"#fdca26\"], [1.0, \"#f0f921\"]], \"sequentialminus\": [[0.0, \"#0d0887\"], [0.1111111111111111, \"#46039f\"], [0.2222222222222222, \"#7201a8\"], [0.3333333333333333, \"#9c179e\"], [0.4444444444444444, \"#bd3786\"], [0.5555555555555556, \"#d8576b\"], [0.6666666666666666, \"#ed7953\"], [0.7777777777777778, \"#fb9f3a\"], [0.8888888888888888, \"#fdca26\"], [1.0, \"#f0f921\"]]}, \"colorway\": [\"#636efa\", \"#EF553B\", \"#00cc96\", \"#ab63fa\", \"#FFA15A\", \"#19d3f3\", \"#FF6692\", \"#B6E880\", \"#FF97FF\", \"#FECB52\"], \"font\": {\"color\": \"#2a3f5f\"}, \"geo\": {\"bgcolor\": \"white\", \"lakecolor\": \"white\", \"landcolor\": \"#E5ECF6\", \"showlakes\": true, \"showland\": true, \"subunitcolor\": \"white\"}, \"hoverlabel\": {\"align\": \"left\"}, \"hovermode\": \"closest\", \"mapbox\": {\"style\": \"light\"}, \"paper_bgcolor\": \"white\", \"plot_bgcolor\": \"#E5ECF6\", \"polar\": {\"angularaxis\": {\"gridcolor\": \"white\", \"linecolor\": \"white\", \"ticks\": \"\"}, \"bgcolor\": \"#E5ECF6\", \"radialaxis\": {\"gridcolor\": \"white\", \"linecolor\": \"white\", \"ticks\": \"\"}}, \"scene\": {\"xaxis\": {\"backgroundcolor\": \"#E5ECF6\", \"gridcolor\": \"white\", \"gridwidth\": 2, \"linecolor\": \"white\", \"showbackground\": true, \"ticks\": \"\", \"zerolinecolor\": \"white\"}, \"yaxis\": {\"backgroundcolor\": \"#E5ECF6\", \"gridcolor\": \"white\", \"gridwidth\": 2, \"linecolor\": \"white\", \"showbackground\": true, \"ticks\": \"\", \"zerolinecolor\": \"white\"}, \"zaxis\": {\"backgroundcolor\": \"#E5ECF6\", \"gridcolor\": \"white\", \"gridwidth\": 2, \"linecolor\": \"white\", \"showbackground\": true, \"ticks\": \"\", \"zerolinecolor\": \"white\"}}, \"shapedefaults\": {\"line\": {\"color\": \"#2a3f5f\"}}, \"ternary\": {\"aaxis\": {\"gridcolor\": \"white\", \"linecolor\": \"white\", \"ticks\": \"\"}, \"baxis\": {\"gridcolor\": \"white\", \"linecolor\": \"white\", \"ticks\": \"\"}, \"bgcolor\": \"#E5ECF6\", \"caxis\": {\"gridcolor\": \"white\", \"linecolor\": \"white\", \"ticks\": \"\"}}, \"title\": {\"x\": 0.05}, \"xaxis\": {\"automargin\": true, \"gridcolor\": \"white\", \"linecolor\": \"white\", \"ticks\": \"\", \"title\": {\"standoff\": 15}, \"zerolinecolor\": \"white\", \"zerolinewidth\": 2}, \"yaxis\": {\"automargin\": true, \"gridcolor\": \"white\", \"linecolor\": \"white\", \"ticks\": \"\", \"title\": {\"standoff\": 15}, \"zerolinecolor\": \"white\", \"zerolinewidth\": 2}}}, \"title\": {\"text\": \"COVID-19 Case Rate & Unemployment Rate of CA Counties, September 2020 (R = 0.303)\", \"x\": 0.5}, \"xaxis\": {\"range\": [-0.5, 30], \"title\": {\"text\": \"Unemployment Rate (%)\"}}, \"yaxis\": {\"range\": [-100, 1350], \"title\": {\"text\": \"COVID-19 Cases per 100k\"}}},\n",
       "                        {\"responsive\": true}\n",
       "                    ).then(function(){\n",
       "                            \n",
       "var gd = document.getElementById('aa787fa8-8bc1-4e2c-b410-8ed4f5538dde');\n",
       "var x = new MutationObserver(function (mutations, observer) {{\n",
       "        var display = window.getComputedStyle(gd).display;\n",
       "        if (!display || display === 'none') {{\n",
       "            console.log([gd, 'removed!']);\n",
       "            Plotly.purge(gd);\n",
       "            observer.disconnect();\n",
       "        }}\n",
       "}});\n",
       "\n",
       "// Listen for the removal of the full notebook cells\n",
       "var notebookContainer = gd.closest('#notebook-container');\n",
       "if (notebookContainer) {{\n",
       "    x.observe(notebookContainer, {childList: true});\n",
       "}}\n",
       "\n",
       "// Listen for the clearing of the current output cell\n",
       "var outputEl = gd.closest('.output');\n",
       "if (outputEl) {{\n",
       "    x.observe(outputEl, {childList: true});\n",
       "}}\n",
       "\n",
       "                        })\n",
       "                };\n",
       "                });\n",
       "            </script>\n",
       "        </div>"
      ]
     },
     "metadata": {},
     "output_type": "display_data"
    }
   ],
   "source": [
    "# make scatter\n",
    "df = unemployment_gdf.reset_index().rename(columns={'period':'Month'})\n",
    "\n",
    "# Create a list of Plotly Go objects and r values (Pearsons) to dynamically update graph with slider\n",
    "slider_data=[]\n",
    "r_values=[]\n",
    "for month in df['Month'].unique():\n",
    "    if len(df[(df['Month']==month) & (df['covid_per_100k'].isnull())])>0: # remove null value for calculation (Modoc County has no covid reporting for march)\n",
    "        null_index=int(df[(df['Month']==month) & (df['covid_per_100k'].isnull())].index.values[0])\n",
    "        r_values.append((pearsonr(df[(df['Month']==month)]['unemprate'].values, df[(df['Month']==month)]['covid_per_100k'].fillna(0).values))[0])\n",
    "    else:\n",
    "        r_values.append((pearsonr(df[(df['Month']==month)]['unemprate'].values, df[(df['Month']==month)]['covid_per_100k'].values))[0])\n",
    "    slider_data.append(go.Scatter({\n",
    "        'mode':'markers',\n",
    "        'marker': dict(color='#004679',size=(df[df['Month']==month]['pop'].values)** (1. / 4)/2+10,opacity=0.7,line=dict(width=1,color=\"#ffffff\")),\n",
    "        'name': '',\n",
    "        'visible': False,\n",
    "        'x': df[df['Month']==month]['unemprate'].values,\n",
    "        'y': df[df['Month']==month]['covid_per_100k'].values,\n",
    "        'customdata':df[(df['Month']==month)][[\"index\",\"pop\"]],\n",
    "        'hovertemplate': (('<b>%{customdata[0]} County</b><br><br>'+\\\n",
    "                  '<i>Cases per 100k</i>: %{y}<br>'+\\\n",
    "                          '<i>Unemployment Rate</i>: %{x}%<br>'+\\\n",
    "                          '<i>Population</i>: %{customdata[1]}')) }))\n",
    "    \n",
    "# Set initial slider/title index\n",
    "start_index = (period[-1]-3)\n",
    "\n",
    "# Make initial trace visible\n",
    "slider_data[start_index]['visible'] = True\n",
    "\n",
    "# Build slider steps\n",
    "steps = []\n",
    "for i in range(len(slider_data)):\n",
    "    step = dict(\n",
    "        # Update method allows us to update both trace and layout properties\n",
    "        method = 'update', \n",
    "        label = calendar.month_name[i+3],\n",
    "        args = [\n",
    "            # Make the ith trace visible\n",
    "            {'visible': [t == i for t in range(len(slider_data))]},\n",
    "            \n",
    "            # Set the title for the ith trace\n",
    "            {'title.text': 'COVID-19 Case Rate & Unemployment Rate of CA Counties, %s 2020 (R = %.3f)' % (calendar.month_name[i+3],r_values[i])}],\n",
    "    )\n",
    "    steps.append(step)\n",
    "\n",
    "# Build sliders\n",
    "sliders = [go.layout.Slider(\n",
    "    active = (period[-1]-3),\n",
    "    pad = {\"t\": 30},\n",
    "    steps = steps\n",
    ")]\n",
    "\n",
    "layout = go.Layout(\n",
    "    sliders=sliders,\n",
    "    title={'text':'COVID-19 Case Rate & Unemployment Rate of CA Counties, %s 2020 (R = %.3f)' % (calendar.month_name[i+3],r_values[i])},\n",
    "    xaxis=dict(range=(-0.5,30),title=\"Unemployment Rate (%)\"),\n",
    "    yaxis=dict(range=(-100,1350),title=\"COVID-19 Cases per 100k\"),\n",
    "    height=440,title_x=0.5,\n",
    ")\n",
    "\n",
    "fig = go.Figure(data=slider_data, layout=layout)\n",
    "\n",
    "fig.show()\n",
    "\n",
    "if export:\n",
    "    fig.write_html(\"../figures/6a_covid_unemployment.html\")\n",
    "#fig.write_image(\"../figures/6a_covid_unemployment.png\")"
   ]
  },
  {
   "cell_type": "markdown",
   "metadata": {},
   "source": [
    "### Choropleth maps"
   ]
  },
  {
   "cell_type": "code",
   "execution_count": 54,
   "metadata": {},
   "outputs": [],
   "source": [
    "# Cases and Farm Employment\n",
    "from folium.plugins import DualMap\n",
    "# left map\n",
    "unemployment_gdf_sorted = unemployment_gdf[unemployment_gdf['period']==9].reset_index().sort_values(by='covid_per_100k', ascending=False)\n",
    "unemployment_gdf_sorted.head(5).append(unemployment_gdf_sorted.tail(5))[['index','covid_per_100k']]\n",
    "min, max = unemployment_gdf_sorted['covid_per_100k'].quantile([0.02,0.99]).apply(lambda x: round(x, 2))\n",
    "mean = round(unemployment_gdf_sorted['covid_per_100k'].mean(),2)\n",
    "\n",
    "colormap = branca.colormap.LinearColormap(\n",
    "    colors=['#f0f3f7','#cad2e3','#BBC7DD','#839BBF','#49729E','#004679','#002c4d'],\n",
    "    index=unemployment_gdf_sorted['covid_per_100k'].quantile([0,0.2,0.4,0.6,0.8,0.9,0.99]),\n",
    "    vmin=min,\n",
    "    vmax=max)\n",
    "\n",
    "colormap.caption=\"COVID-19 Case Rate in CA, September 2020\"\n",
    "\n",
    "DualMap=DualMap(location=[37.5,-119], zoom_start=6)\n",
    "ca_covid_map = DualMap.m1\n",
    "\n",
    "style_function = lambda x: {\n",
    "    'fillColor': colormap(x['properties']['covid_per_100k']),\n",
    "    'color': 'black',\n",
    "    'weight':1,\n",
    "    'fillOpacity':0.8\n",
    "}\n",
    "\n",
    "stategeo = folium.GeoJson(\n",
    "    unemployment_gdf_sorted,\n",
    "    name='COVID-19 Case Rate',\n",
    "    style_function=style_function,\n",
    "    tooltip=folium.GeoJsonTooltip(\n",
    "        fields=['index', 'covid_per_100k'],\n",
    "        aliases=['County', 'Cases per 100k'], \n",
    "        localize=True\n",
    "    )\n",
    ").add_to(ca_covid_map)\n",
    "\n",
    "statesearch = Search(\n",
    "    layer=stategeo,\n",
    "    geom_type='Polygon',\n",
    "    placeholder='Search for a County',\n",
    "    collapsed=True,\n",
    "    search_label='index',\n",
    "    weight=3\n",
    ").add_to(ca_covid_map)\n",
    "\n",
    "colormap.add_to(ca_covid_map)\n",
    "\n",
    "# right map\n",
    "\n",
    "farm_gdf=unemployment_gdf_sorted.sort_index().set_index('index',drop=True)\n",
    "farm_gdf['Total Farm Employment Proportion']=(pd.Series(monthlyemployment_df[monthlyemployment_df.index.get_level_values('Month') =='September'].droplevel('Month')['Total Farm']/(unemployment_gdf[(unemployment_gdf['period']==9) & \n",
    "        (unemployment_gdf.index.isin(county_index))]['laborforce'])).round(2)*100).reindex(counties_gdf.index, fill_value=-0.1)\n",
    "farm_gdf=farm_gdf.rename(columns={0:'Total Farm Employment Proportion'}).sort_values(by='Total Farm Employment Proportion', ascending=False).reset_index()\n",
    "farm_gdf.head(5).append(farm_gdf.tail(5))[['index','Total Farm Employment Proportion']]\n",
    "min, max = farm_gdf['Total Farm Employment Proportion'].quantile([0.02,0.99]).apply(lambda x: round(x, 2))\n",
    "mean = round(farm_gdf['Total Farm Employment Proportion'].mean(),2)\n",
    "\n",
    "colormap2 = branca.colormap.LinearColormap(\n",
    "    colors=['#feedde','#fdd0a2','#fdae6b','#fd8d3c','#f16913','#d94801','#8c2d04'],\n",
    "    index=farm_gdf['Total Farm Employment Proportion'].quantile([0.25,0.3,0.4,0.6,0.8,0.9,0.99]),\n",
    "    vmin=min,\n",
    "    vmax=max\n",
    ")\n",
    "\n",
    "colormap2.caption=\"Farm Laborforce (%) in CA, September 2020\"\n",
    "\n",
    "ca_farm_map = DualMap.m2\n",
    "map_dict = farm_gdf.set_index('index')['Total Farm Employment Proportion'].to_dict()\n",
    "\n",
    "def get_color(x):\n",
    "    value = map_dict.get(x['properties']['index'])\n",
    "    if value <0:\n",
    "        return '#bababa' # MISSING -> gray\n",
    "    else:\n",
    "        return colormap2(value)\n",
    "\n",
    "style_function = lambda x: {\n",
    "    'fillColor': get_color(x),\n",
    "    'color': 'black',\n",
    "    'weight':1,\n",
    "    'fillOpacity':0.8\n",
    "}\n",
    "farm_gdf['Total Farm Employment Proportion'].replace(-0.1,'No Data Reported',inplace=True)\n",
    "stategeo2 = folium.GeoJson(\n",
    "    farm_gdf,\n",
    "    name='Total Farm Employment Proportion',\n",
    "    style_function=style_function,\n",
    "    tooltip=folium.GeoJsonTooltip(\n",
    "        fields=['index', 'Total Farm Employment Proportion'],\n",
    "        aliases=['County', 'Farm Laborforce (%)'], \n",
    "        localize=True\n",
    "    )\n",
    ").add_to(ca_farm_map)\n",
    "\n",
    "colormap2.add_to(ca_farm_map)\n",
    "output='../figures/5b_ca_covid_farm_map.html'\n",
    "DualMap.save(output)\n",
    "\n",
    "#fix legend\n",
    "with open(output, 'r') as file:\n",
    "    filedata=file.read()\n",
    "filedata=filedata.replace('''.append(\"svg\")\n",
    "        .attr(\"id\", 'legend')\n",
    "        .attr(\"width\", 450)''','''.append(\"svg\")\n",
    "        .attr(\"id\", 'legend')\n",
    "        .attr(\"width\", 294)''')\n",
    "filedata=filedata.replace('''.legend.leaflet-control\").append(\"svg\")\n",
    "        .attr(\"id\", 'legend')''','''.legend2.leaflet-control\").append(\"svg\")\n",
    "        .attr(\"id\", 'legend2')''',1)\n",
    "filedata=filedata.replace('''legend = L.control({position: 'topright'});''','''legend2 = L.control({position: 'topright'});''',1)\n",
    "filedata=filedata.replace('''.legend.onAdd = function (map) {var div = L.DomUtil.create('div', 'legend'); return div};''','''.legend2.onAdd = function (map) {var div = L.DomUtil.create('div', 'legend2'); return div};''',1)\n",
    "filedata=filedata.replace('''legend.addTo''','''legend2.addTo''',1)\n",
    "filedata=filedata.replace('''zoom: 6,''','''zoom: 5.5,\n",
    "                    zoomDelta: 0.5,\n",
    "                    zoomSnap: 0.25,\n",
    "                    minZoom: 5.5,\n",
    "                    maxZoom: 7,''')\n",
    "\n",
    "with open(output, 'w') as file:\n",
    "    file.write(filedata)\n",
    "#DualMap"
   ]
  },
  {
   "cell_type": "code",
   "execution_count": 65,
   "metadata": {},
   "outputs": [],
   "source": [
    "# Cases and Unemployment\n",
    "from folium.plugins import DualMap\n",
    "# left map\n",
    "unemployment_gdf_sorted = unemployment_gdf[unemployment_gdf['period']==7].reset_index().sort_values(by='covid_per_100k', ascending=False)\n",
    "unemployment_gdf_sorted.head(5).append(unemployment_gdf_sorted.tail(5))[['index','covid_per_100k']]\n",
    "min, max = unemployment_gdf_sorted['covid_per_100k'].quantile([0.02,0.99]).apply(lambda x: round(x, 2))\n",
    "mean = round(unemployment_gdf_sorted['covid_per_100k'].mean(),2)\n",
    "\n",
    "colormap = branca.colormap.LinearColormap(\n",
    "    colors=['#f0f3f7','#cad2e3','#BBC7DD','#839BBF','#49729E','#004679','#002c4d'],\n",
    "    index=unemployment_gdf_sorted['covid_per_100k'].quantile([0,0.2,0.4,0.6,0.8,0.9,0.99]),\n",
    "    vmin=min,\n",
    "    vmax=max)\n",
    "\n",
    "colormap.caption=\"COVID-19 Case Rate in CA, July 2020\"\n",
    "\n",
    "DualMap=DualMap(location=[37.5,-119], zoom_start=6)\n",
    "ca_covid_map = DualMap.m1\n",
    "\n",
    "style_function = lambda x: {\n",
    "    'fillColor': colormap(x['properties']['covid_per_100k']),\n",
    "    'color': 'black',\n",
    "    'weight':1,\n",
    "    'fillOpacity':0.8\n",
    "}\n",
    "\n",
    "stategeo = folium.GeoJson(\n",
    "    unemployment_gdf_sorted,\n",
    "    name='COVID-19 Case Rate',\n",
    "    style_function=style_function,\n",
    "    tooltip=folium.GeoJsonTooltip(\n",
    "        fields=['index', 'covid_per_100k'],\n",
    "        aliases=['County', 'Cases per 100k'], \n",
    "        localize=True\n",
    "    )\n",
    ").add_to(ca_covid_map)\n",
    "\n",
    "statesearch = Search(\n",
    "    layer=stategeo,\n",
    "    geom_type='Polygon',\n",
    "    placeholder='Search for a County',\n",
    "    collapsed=True,\n",
    "    search_label='index',\n",
    "    weight=3\n",
    ").add_to(ca_covid_map)\n",
    "\n",
    "colormap.add_to(ca_covid_map)\n",
    "\n",
    "# right map\n",
    "unemployment_gdf_sorted = unemployment_gdf[unemployment_gdf['period']==7].reset_index().sort_values(by='unemprate', ascending=False)\n",
    "unemployment_gdf_sorted.head(5).append(unemployment_gdf_sorted.tail(5))[['index','unemprate']]\n",
    "min, max = unemployment_gdf_sorted['unemprate'].quantile([0.02,0.99]).apply(lambda x: round(x, 2))\n",
    "mean = round(unemployment_gdf_sorted['unemprate'].mean(),2)\n",
    "\n",
    "colormap2 = branca.colormap.LinearColormap(\n",
    "    colors=['#feedde','#fdd0a2','#fdae6b','#fd8d3c','#f16913','#d94801','#8c2d04'],\n",
    "    index=unemployment_gdf_sorted['unemprate'].quantile([0,0.2,0.4,0.6,0.8,0.9,0.99]),\n",
    "    vmin=min,\n",
    "    vmax=max\n",
    ")\n",
    "\n",
    "colormap2.caption=\"Unemployment Rate (%) in CA, July 2020\"\n",
    "\n",
    "ca_unemployment_map = DualMap.m2\n",
    "\n",
    "style_function = lambda x: {\n",
    "    'fillColor': colormap2(x['properties']['unemprate']),\n",
    "    'color': 'black',\n",
    "    'weight':1,\n",
    "    'fillOpacity':0.8\n",
    "}\n",
    "\n",
    "stategeo2 = folium.GeoJson(\n",
    "    unemployment_gdf_sorted,\n",
    "    name='Unemployment Rate',\n",
    "    style_function=style_function,\n",
    "    tooltip=folium.GeoJsonTooltip(\n",
    "        fields=['index', 'unemprate'],\n",
    "        aliases=['County', 'Unemployment (%)'], \n",
    "        localize=True\n",
    "    )\n",
    ").add_to(ca_unemployment_map)\n",
    "\n",
    "colormap2.add_to(ca_unemployment_map)\n",
    "output='../figures/6b_ca_covid_unemployment_map.html'\n",
    "DualMap.save(output)\n",
    "\n",
    "#fix legend\n",
    "with open(output, 'r') as file:\n",
    "    filedata=file.read()\n",
    "filedata=filedata.replace('''.append(\"svg\")\n",
    "        .attr(\"id\", 'legend')\n",
    "        .attr(\"width\", 450)''','''.append(\"svg\")\n",
    "        .attr(\"id\", 'legend')\n",
    "        .attr(\"width\", 294)''')\n",
    "filedata=filedata.replace('''.legend.leaflet-control\").append(\"svg\")\n",
    "        .attr(\"id\", 'legend')''','''.legend2.leaflet-control\").append(\"svg\")\n",
    "        .attr(\"id\", 'legend2')''',1)\n",
    "filedata=filedata.replace('''legend = L.control({position: 'topright'});''','''legend2 = L.control({position: 'topright'});''',1)\n",
    "filedata=filedata.replace('''.legend.onAdd = function (map) {var div = L.DomUtil.create('div', 'legend'); return div};''','''.legend2.onAdd = function (map) {var div = L.DomUtil.create('div', 'legend2'); return div};''',1)\n",
    "filedata=filedata.replace('''legend.addTo''','''legend2.addTo''',1)\n",
    "filedata=filedata.replace('''zoom: 6,''','''zoom: 5.5,\n",
    "                    zoomDelta: 0.5,\n",
    "                    zoomSnap: 0.25,\n",
    "                    minZoom: 5.5,\n",
    "                    maxZoom: 7,''')\n",
    "\n",
    "with open(output, 'w') as file:\n",
    "    file.write(filedata)\n",
    "#DualMap"
   ]
  }
 ],
 "metadata": {
  "kernelspec": {
   "display_name": "Python 3",
   "language": "python",
   "name": "python3"
  },
  "language_info": {
   "codemirror_mode": {
    "name": "ipython",
    "version": 3
   },
   "file_extension": ".py",
   "mimetype": "text/x-python",
   "name": "python",
   "nbconvert_exporter": "python",
   "pygments_lexer": "ipython3",
   "version": "3.7.3"
  }
 },
 "nbformat": 4,
 "nbformat_minor": 4
}
